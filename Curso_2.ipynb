{
 "cells": [
  {
   "cell_type": "markdown",
   "metadata": {
    "colab_type": "text",
    "id": "view-in-github"
   },
   "source": [
    "<a href=\"https://colab.research.google.com/github/joaquinmenendez/curso_phyton/blob/master/Propuesta_curso.ipynb\" target=\"_parent\"><img src=\"https://colab.research.google.com/assets/colab-badge.svg\" alt=\"Open In Colab\"/></a>"
   ]
  },
  {
   "cell_type": "markdown",
   "metadata": {
    "colab_type": "text",
    "id": "OY4hYTN96B0t"
   },
   "source": [
    "#  Exploración y visualización de datos en Python\n",
    "Docentes a cargo: [Joaquín Menéndez](https://www.linkedin.com/in/joaquin-menendez/)\n",
    "\n",
    "Tanto este curso como el curso `Introducción a Python para ciencia de datos e IA` pueden accederse en el siguiente repositorio [JIS-2020](https://github.com/joaquinmenendez/JIS-2020)"
   ]
  },
  {
   "cell_type": "markdown",
   "metadata": {
    "colab_type": "text",
    "id": "OY4hYTN96B0t"
   },
   "source": [
    "## Temas\n",
    "\n",
    "1. Introducción a Numpy y Pandas\n",
    "    - `array`, matrices, `Series` y `DataFrames`\n",
    "    - Leer archivos  \n",
    "    - Interactuar con nuestro dataset (indexing, filtering, merge)\n",
    "2. Análisis Exploratorio de Datos\n",
    "    - Análisis descriptivo (none values, media, percentiles, outliers) \n",
    "    - Plotear los graficos mas comunes (barras, boxplot, lineplot, matrix de correlaciones) \n",
    "4. Introducción a la Estadística inferencial\n",
    "    - Evaluar normalidad de nuestros datos\n",
    "    - Comparar Hipotesis\n",
    "    - Regresion Lineal usando `statsmodels`"
   ]
  },
  {
   "cell_type": "markdown",
   "metadata": {
    "colab_type": "text",
    "id": "IyLi10hw4Me1"
   },
   "source": [
    "## Links útiles\n",
    "- [Anaconda](https://www.anaconda.com/products/individual)\n",
    "- [Google Colab](https://colab.research.google.com/)\n",
    "- [2 meses grátis de Datacamp](https://docs.microsoft.com/en-us/visualstudio/subscriptions/vs-datacamp)\n",
    "- [StackOverflow](https://stackoverflow.com/)\n",
    "- [Python (documentación)](https://python-reference.readthedocs.io/en/latest/index.html#)\n",
    "- [Slicing](https://python-reference.readthedocs.io/en/latest/docs/brackets/slicing.html)\n",
    "\n"
   ]
  },
  {
   "cell_type": "markdown",
   "metadata": {
    "colab_type": "text",
    "id": "z8a8A0uTVCI2"
   },
   "source": [
    "# ¿Qué es el Análisis Exploratorio de Datos?"
   ]
  },
  {
   "cell_type": "markdown",
   "metadata": {},
   "source": [
    "Hemos visto en el primer curso algo de Pandas y sus diferentes funciones. En este módulo, indagaremos más acerca de cómo usarlo para realizar un 'Analisis Exploratorio de los Datos' o `EDA` (en ingles, 'Exploratory Data Analysis'). El EDA es un paso previo e imprescindible a la hora de comprender los datos con los que se va a trabajar y altamente recomendable para una correcta metodología de investigación.\n",
    "\n",
    "El objetivo de este análisis es explorar, describir, resumir y visualizar la naturaleza de los datos recogidos en las variables del proyecto o investigación de interés, mediante la aplicación de técnicas simples de resumen de datos y métodos gráficos sin asumir asunciones para su interpretación. Luego de la `Adquisicion` de los datos, el `EDA` es el tercer paso en todo proyecto de Analisis de Datos. <br>\n",
    "\n",
    "![Ciclo de vida de los datos](https://www.eduliticas.com/wp-content/uploads/2017/05/pasos-clave-ciclo-analitico.png)"
   ]
  },
  {
   "cell_type": "markdown",
   "metadata": {},
   "source": [
    "Podemos decir de una manera general que los pasos en la exploración y preprocesamiento de datos son:\n",
    "1. Identificación de variables y tipos de datos\n",
    "2. Analizando las métricas básicas\n",
    "3. Análisis univariante no gráfico\n",
    "4. Análisis gráfico univariado\n",
    "5. Análisis bivariado\n",
    "6. Transformaciones variables\n",
    "7. Tratamiento de valor perdido\n",
    "8. Tratamiento de valores atípicos\n",
    "9. Análisis de correlación\n",
    "10. Reducción de dimensionalidad\n",
    "\n",
    "En este curso no vamos a ver en profundidad los puntos `[7,8,10]` dado que ameritan un curso en si mismos y usualmente son herramientas o pasos mas orientados a la creación de modelos estadísticos o de Machine Learning."
   ]
  },
  {
   "cell_type": "markdown",
   "metadata": {
    "colab_type": "text",
    "id": "Unk_XuEYaAi4"
   },
   "source": [
    "## 1. Introducción a Numpy y Pandas\n",
    "\n",
    "Antes de empezar con el EDA propiamente repasamos las dos principales librerías que usaremos."
   ]
  },
  {
   "cell_type": "markdown",
   "metadata": {},
   "source": [
    "### Numpy\n",
    "**Arrays y Matrices**"
   ]
  },
  {
   "cell_type": "markdown",
   "metadata": {
    "colab_type": "text",
    "id": "-qzvN_uOQ8EI"
   },
   "source": [
    "La programación gráfica se fundamenta sobre la idea de manipular información almacenada en unas estructuras conocidas como vectores y matrices. En Python (nativo) la única forma de simular estas estructuras es usando listas y lo malo es que son muy limitadas respecto a las funciones matemáticas que permiten. Numpy viene a solucionar esa carencia ofreciéndonos un nuevo tipo de dato llamado array.\n",
    "\n",
    "Un array es parecido a una lista en Python y de hecho se pueden crear a partir de ellas:"
   ]
  },
  {
   "cell_type": "code",
   "execution_count": 21,
   "metadata": {
    "colab": {},
    "colab_type": "code",
    "id": "-NBlZrPiTJxT",
    "jupyter": {
     "outputs_hidden": true
    }
   },
   "outputs": [],
   "source": [
    "import numpy as np \n",
    "from IPython import display\n",
    "# Vamos a importa la libreria Numpy y vamos a abreviarla para no escribir tanto en el futuro"
   ]
  },
  {
   "cell_type": "code",
   "execution_count": 2,
   "metadata": {
    "colab": {
     "base_uri": "https://localhost:8080/",
     "height": 34
    },
    "colab_type": "code",
    "id": "G8xDrqPaTLJC",
    "jupyter": {
     "outputs_hidden": true
    },
    "outputId": "9e368ecb-03ac-4e06-8d3e-5d4d746bd28b"
   },
   "outputs": [
    {
     "data": {
      "text/plain": [
       "array([1, 2, 3, 4, 5])"
      ]
     },
     "execution_count": 2,
     "metadata": {},
     "output_type": "execute_result"
    }
   ],
   "source": [
    "array = np.array([1,2,3,4,5])\n",
    "array"
   ]
  },
  {
   "cell_type": "code",
   "execution_count": 3,
   "metadata": {
    "jupyter": {
     "outputs_hidden": true
    }
   },
   "outputs": [
    {
     "name": "stdout",
     "output_type": "stream",
     "text": [
      "Dimensiones: (5,)\n",
      "Tipo de datos: int64\n"
     ]
    }
   ],
   "source": [
    "# Propiedades importantes de los arrays\n",
    "print( 'Dimensiones:', array.shape)\n",
    "print( 'Tipo de datos:', array.dtype)"
   ]
  },
  {
   "cell_type": "code",
   "execution_count": 4,
   "metadata": {
    "jupyter": {
     "outputs_hidden": true
    }
   },
   "outputs": [
    {
     "name": "stdout",
     "output_type": "stream",
     "text": [
      "Valor Mínimo 1\n",
      "Valor Máximo 5\n",
      "Media 3.0\n",
      "Desvío Standard 1.4142135623730951\n",
      "Indice que contiene el valor máximo 4\n"
     ]
    }
   ],
   "source": [
    "# Funciones que operan sobre los arrays\n",
    "print( 'Valor Mínimo', array.min())\n",
    "print( 'Valor Máximo', array.max())\n",
    "print( 'Media', array.mean())\n",
    "print( 'Desvío Standard', array.std())\n",
    "print( 'Indice que contiene el valor máximo', array.argmax())\n"
   ]
  },
  {
   "cell_type": "code",
   "execution_count": 5,
   "metadata": {
    "colab": {
     "base_uri": "https://localhost:8080/",
     "height": 34
    },
    "colab_type": "code",
    "id": "BUBfA6ybTPl9",
    "jupyter": {
     "outputs_hidden": true
    },
    "outputId": "10541473-b22f-41aa-b676-d9b0dc8be05f"
   },
   "outputs": [
    {
     "data": {
      "text/plain": [
       "dtype('<U21')"
      ]
     },
     "execution_count": 5,
     "metadata": {},
     "output_type": "execute_result"
    }
   ],
   "source": [
    "array2 = np.array([1,2,3, \"cuatro\"])\n",
    "array2.dtype"
   ]
  },
  {
   "cell_type": "code",
   "execution_count": 6,
   "metadata": {
    "colab": {
     "base_uri": "https://localhost:8080/",
     "height": 282
    },
    "colab_type": "code",
    "id": "9nfDS9z8TTfS",
    "jupyter": {
     "outputs_hidden": true
    },
    "outputId": "dcd41b85-782f-4658-de77-0c9722829324"
   },
   "outputs": [
    {
     "ename": "TypeError",
     "evalue": "cannot perform reduce with flexible type",
     "output_type": "error",
     "traceback": [
      "\u001b[0;31m---------------------------------------------------------------------------\u001b[0m",
      "\u001b[0;31mTypeError\u001b[0m                                 Traceback (most recent call last)",
      "\u001b[0;32m<ipython-input-6-807214d4b55e>\u001b[0m in \u001b[0;36m<module>\u001b[0;34m\u001b[0m\n\u001b[0;32m----> 1\u001b[0;31m \u001b[0marray2\u001b[0m\u001b[0;34m.\u001b[0m\u001b[0mmean\u001b[0m\u001b[0;34m(\u001b[0m\u001b[0;34m)\u001b[0m\u001b[0;34m\u001b[0m\u001b[0m\n\u001b[0m",
      "\u001b[0;32m~/opt/anaconda3/envs/DS/lib/python3.6/site-packages/numpy/core/_methods.py\u001b[0m in \u001b[0;36m_mean\u001b[0;34m(a, axis, dtype, out, keepdims)\u001b[0m\n\u001b[1;32m    158\u001b[0m             \u001b[0mis_float16_result\u001b[0m \u001b[0;34m=\u001b[0m \u001b[0;32mTrue\u001b[0m\u001b[0;34m\u001b[0m\u001b[0m\n\u001b[1;32m    159\u001b[0m \u001b[0;34m\u001b[0m\u001b[0m\n\u001b[0;32m--> 160\u001b[0;31m     \u001b[0mret\u001b[0m \u001b[0;34m=\u001b[0m \u001b[0mumr_sum\u001b[0m\u001b[0;34m(\u001b[0m\u001b[0marr\u001b[0m\u001b[0;34m,\u001b[0m \u001b[0maxis\u001b[0m\u001b[0;34m,\u001b[0m \u001b[0mdtype\u001b[0m\u001b[0;34m,\u001b[0m \u001b[0mout\u001b[0m\u001b[0;34m,\u001b[0m \u001b[0mkeepdims\u001b[0m\u001b[0;34m)\u001b[0m\u001b[0;34m\u001b[0m\u001b[0m\n\u001b[0m\u001b[1;32m    161\u001b[0m     \u001b[0;32mif\u001b[0m \u001b[0misinstance\u001b[0m\u001b[0;34m(\u001b[0m\u001b[0mret\u001b[0m\u001b[0;34m,\u001b[0m \u001b[0mmu\u001b[0m\u001b[0;34m.\u001b[0m\u001b[0mndarray\u001b[0m\u001b[0;34m)\u001b[0m\u001b[0;34m:\u001b[0m\u001b[0;34m\u001b[0m\u001b[0m\n\u001b[1;32m    162\u001b[0m         ret = um.true_divide(\n",
      "\u001b[0;31mTypeError\u001b[0m: cannot perform reduce with flexible type"
     ]
    }
   ],
   "source": [
    "array2.mean()"
   ]
  },
  {
   "cell_type": "markdown",
   "metadata": {
    "colab_type": "text",
    "id": "Dvq6KEBOTklN"
   },
   "source": [
    "Si bien es posible incluir mas de un tipo de data en un Array, esto nos va a impedir realizar ciertas operaciones. Esto es importante para cuando trabajemos con columnas.\n"
   ]
  },
  {
   "cell_type": "markdown",
   "metadata": {
    "colab_type": "text",
    "id": "cX93jJGUUWJr"
   },
   "source": [
    "**Indexing**\n",
    "\n",
    "Al igual que en las listas, vamos a poder indexar o \"llamar\"a un o varios elementos de nuestro array.\n",
    "La siguiente imagen muestra como \"Seleccionabamos\" elementos de una lista.<br>\n",
    "![Slicing](https://user-images.githubusercontent.com/43391630/94975818-dc4ab100-04e0-11eb-85ab-b58939445f1b.png)\n",
    "\n",
    "Ahora bien, en el caso de los arrays veremos que tenemos una pequeña diferencia. Estos pueden tener la forma de una lista, pero pueden tener dos dimensiones (filas y columnas), hasta las N dimensiones que queramos.<br>\n",
    "![Indexing](https://user-images.githubusercontent.com/43391630/94975755-a3aad780-04e0-11eb-8eab-37d8e205a888.png)"
   ]
  },
  {
   "cell_type": "code",
   "execution_count": 22,
   "metadata": {
    "colab": {
     "base_uri": "https://localhost:8080/",
     "height": 34
    },
    "colab_type": "code",
    "id": "IZG5g9E6UGlp",
    "jupyter": {
     "outputs_hidden": true
    },
    "outputId": "7a2a48ad-62cd-45c8-bb44-7a01bea19c9c"
   },
   "outputs": [
    {
     "data": {
      "text/plain": [
       "(1, 5)"
      ]
     },
     "execution_count": 22,
     "metadata": {},
     "output_type": "execute_result"
    }
   ],
   "source": [
    "# Ejemplo de como indexar un array de una dimension\n",
    "var = np.array([1,2,3,4,5])\n",
    "var[0], var[-1]"
   ]
  },
  {
   "cell_type": "code",
   "execution_count": 23,
   "metadata": {
    "colab": {
     "base_uri": "https://localhost:8080/",
     "height": 68
    },
    "colab_type": "code",
    "id": "cwG3LuT5UQUm",
    "jupyter": {
     "outputs_hidden": true
    },
    "outputId": "7487b995-2adc-4f9a-b01f-07ab010a9d98"
   },
   "outputs": [
    {
     "name": "stdout",
     "output_type": "stream",
     "text": [
      "Dimensión: (3, 3)\n"
     ]
    },
    {
     "data": {
      "text/plain": [
       "array([[1, 2, 3],\n",
       "       [4, 5, 6],\n",
       "       [7, 8, 9]])"
      ]
     },
     "execution_count": 23,
     "metadata": {},
     "output_type": "execute_result"
    }
   ],
   "source": [
    "#Como mencionamos anteriormente un array puede tener mas de una diemnsión\n",
    "matrix_var = np.array([\n",
    "                       [1,2,3],\n",
    "                       [4,5,6],\n",
    "                       [7,8,9]\n",
    "])\n",
    "print(\"Dimensión:\", matrix_var.shape)\n",
    "matrix_var"
   ]
  },
  {
   "cell_type": "code",
   "execution_count": 24,
   "metadata": {
    "colab": {
     "base_uri": "https://localhost:8080/",
     "height": 34
    },
    "colab_type": "code",
    "id": "SGkb8JCGUf5x",
    "jupyter": {
     "outputs_hidden": true
    },
    "outputId": "cab8a52d-e6b3-466b-8fdb-8b4441644623"
   },
   "outputs": [
    {
     "data": {
      "text/plain": [
       "array([1, 2, 3])"
      ]
     },
     "execution_count": 24,
     "metadata": {},
     "output_type": "execute_result"
    }
   ],
   "source": [
    "matrix_var[0]"
   ]
  },
  {
   "cell_type": "code",
   "execution_count": 25,
   "metadata": {
    "colab": {
     "base_uri": "https://localhost:8080/",
     "height": 34
    },
    "colab_type": "code",
    "id": "TPBG7iBFUhC7",
    "jupyter": {
     "outputs_hidden": true
    },
    "outputId": "cc76294f-2295-46a8-8994-994eb11f39c4"
   },
   "outputs": [
    {
     "data": {
      "text/plain": [
       "6"
      ]
     },
     "execution_count": 25,
     "metadata": {},
     "output_type": "execute_result"
    }
   ],
   "source": [
    "matrix_var[1,-1]  # Primer elementos las filas, segundo elemento las columnas"
   ]
  },
  {
   "cell_type": "code",
   "execution_count": 26,
   "metadata": {
    "colab": {
     "base_uri": "https://localhost:8080/",
     "height": 68
    },
    "colab_type": "code",
    "id": "ZxwOA-UwUubn",
    "jupyter": {
     "outputs_hidden": true
    },
    "outputId": "9e7001a4-b424-4a73-9417-5cf095aea887"
   },
   "outputs": [
    {
     "data": {
      "text/plain": [
       "array([[2, 3],\n",
       "       [5, 6],\n",
       "       [8, 9]])"
      ]
     },
     "execution_count": 26,
     "metadata": {},
     "output_type": "execute_result"
    }
   ],
   "source": [
    "matrix_var[:,1:] # Dame de todas las filas, los valores de la segunda columna hasta la ultima columna"
   ]
  },
  {
   "cell_type": "markdown",
   "metadata": {
    "colab_type": "text",
    "id": "gVQvL2esVgbN"
   },
   "source": [
    "Para mas informacion de como usar los indices para seleccionar datos, consultar la [documentacion](https://numpy.org/doc/stable/reference/arrays.indexing.html) de Numpy."
   ]
  },
  {
   "cell_type": "markdown",
   "metadata": {},
   "source": [
    "**Operaciones** \n",
    "\n",
    "Otra de las ventajas de numpy es que nos permite realizar operaciones entre arrays y escalares y arrays y otros arrays."
   ]
  },
  {
   "cell_type": "code",
   "execution_count": 27,
   "metadata": {
    "colab": {
     "base_uri": "https://localhost:8080/",
     "height": 34
    },
    "colab_type": "code",
    "id": "QakFIOYCTUfv",
    "jupyter": {
     "outputs_hidden": true
    },
    "outputId": "798edd72-ebe2-4fc7-e6f3-06617d54a051"
   },
   "outputs": [
    {
     "data": {
      "text/plain": [
       "array([4, 5, 6])"
      ]
     },
     "execution_count": 27,
     "metadata": {},
     "output_type": "execute_result"
    }
   ],
   "source": [
    "# Sumar un escalar a todos los elementos de un array\n",
    "np.array([1,2,3]) + 3"
   ]
  },
  {
   "cell_type": "code",
   "execution_count": 28,
   "metadata": {
    "colab": {
     "base_uri": "https://localhost:8080/",
     "height": 34
    },
    "colab_type": "code",
    "id": "QakFIOYCTUfv",
    "jupyter": {
     "outputs_hidden": true
    },
    "outputId": "798edd72-ebe2-4fc7-e6f3-06617d54a051"
   },
   "outputs": [
    {
     "data": {
      "text/plain": [
       "array([10, 11, 12, 13, 14])"
      ]
     },
     "execution_count": 28,
     "metadata": {},
     "output_type": "execute_result"
    }
   ],
   "source": [
    "# Sumar un array con otro array\n",
    "np.array([1,2,3,4,5]) + np.array([9,9,9,9,9])"
   ]
  },
  {
   "cell_type": "markdown",
   "metadata": {},
   "source": [
    "Cuando realicemos operaciones entre arrays es importante que ambos tengan las mismas dimensiones, sino Numpy no sabra como operar y tendremos un errror como el siguiente:"
   ]
  },
  {
   "cell_type": "code",
   "execution_count": 29,
   "metadata": {
    "jupyter": {
     "outputs_hidden": true
    }
   },
   "outputs": [
    {
     "ename": "ValueError",
     "evalue": "operands could not be broadcast together with shapes (5,) (2,) ",
     "output_type": "error",
     "traceback": [
      "\u001b[0;31m---------------------------------------------------------------------------\u001b[0m",
      "\u001b[0;31mValueError\u001b[0m                                Traceback (most recent call last)",
      "\u001b[0;32m<ipython-input-29-af43324585bd>\u001b[0m in \u001b[0;36m<module>\u001b[0;34m\u001b[0m\n\u001b[0;32m----> 1\u001b[0;31m \u001b[0mnp\u001b[0m\u001b[0;34m.\u001b[0m\u001b[0marray\u001b[0m\u001b[0;34m(\u001b[0m\u001b[0;34m[\u001b[0m\u001b[0;36m1\u001b[0m\u001b[0;34m,\u001b[0m\u001b[0;36m2\u001b[0m\u001b[0;34m,\u001b[0m\u001b[0;36m3\u001b[0m\u001b[0;34m,\u001b[0m\u001b[0;36m4\u001b[0m\u001b[0;34m,\u001b[0m\u001b[0;36m5\u001b[0m\u001b[0;34m]\u001b[0m\u001b[0;34m)\u001b[0m \u001b[0;34m+\u001b[0m \u001b[0mnp\u001b[0m\u001b[0;34m.\u001b[0m\u001b[0marray\u001b[0m\u001b[0;34m(\u001b[0m\u001b[0;34m[\u001b[0m\u001b[0;36m9\u001b[0m\u001b[0;34m,\u001b[0m\u001b[0;36m5\u001b[0m\u001b[0;34m]\u001b[0m\u001b[0;34m)\u001b[0m\u001b[0;34m\u001b[0m\u001b[0m\n\u001b[0m",
      "\u001b[0;31mValueError\u001b[0m: operands could not be broadcast together with shapes (5,) (2,) "
     ]
    }
   ],
   "source": [
    "np.array([1,2,3,4,5]) + np.array([9,5])"
   ]
  },
  {
   "cell_type": "code",
   "execution_count": 30,
   "metadata": {},
   "outputs": [
    {
     "data": {
      "text/plain": [
       "array([-8, -7, -6, -5, -4])"
      ]
     },
     "execution_count": 30,
     "metadata": {},
     "output_type": "execute_result"
    }
   ],
   "source": [
    "# Restas\n",
    "np.array([1,2,3,4,5]) - np.array([9,9,9,9,9])"
   ]
  },
  {
   "cell_type": "code",
   "execution_count": 31,
   "metadata": {
    "colab": {
     "base_uri": "https://localhost:8080/",
     "height": 34
    },
    "colab_type": "code",
    "id": "eHky5cIzUDZO",
    "jupyter": {
     "outputs_hidden": true
    },
    "outputId": "05bf5fc6-52e5-4dcf-ae98-6672f92f14d1"
   },
   "outputs": [
    {
     "data": {
      "text/plain": [
       "array([ 2,  4,  6,  8, 10])"
      ]
     },
     "execution_count": 31,
     "metadata": {},
     "output_type": "execute_result"
    }
   ],
   "source": [
    "# Multiplicar un array o vector por un escalar\n",
    "np.array([1,2,3,4,5]) * 2"
   ]
  },
  {
   "cell_type": "code",
   "execution_count": 34,
   "metadata": {
    "colab": {
     "base_uri": "https://localhost:8080/",
     "height": 68
    },
    "colab_type": "code",
    "id": "5KHtqxIgWdWX",
    "jupyter": {
     "outputs_hidden": true
    },
    "outputId": "18d403f1-30ac-43be-a5de-08e681c68c9b"
   },
   "outputs": [
    {
     "data": {
      "text/plain": [
       "array([[1, 2, 3],\n",
       "       [4, 5, 6],\n",
       "       [7, 8, 9]])"
      ]
     },
     "metadata": {},
     "output_type": "display_data"
    },
    {
     "data": {
      "text/plain": [
       "array([[ 2,  4,  6],\n",
       "       [ 8, 10, 12],\n",
       "       [14, 16, 18]])"
      ]
     },
     "execution_count": 34,
     "metadata": {},
     "output_type": "execute_result"
    }
   ],
   "source": [
    "# Las mismas operaciones pueden realizarse con arrays de mas dimensiones, o comunmente denominados matrices\n",
    "display.display(matrix_var)\n",
    "matrix_var * 2"
   ]
  },
  {
   "cell_type": "code",
   "execution_count": 18,
   "metadata": {
    "colab": {
     "base_uri": "https://localhost:8080/",
     "height": 68
    },
    "colab_type": "code",
    "id": "VjpAefEGWf8m",
    "jupyter": {
     "outputs_hidden": true
    },
    "outputId": "4fc54c69-e206-40b2-b7b0-08430576979b"
   },
   "outputs": [
    {
     "data": {
      "text/plain": [
       "array([[ 1,  4,  9],\n",
       "       [16, 25, 36],\n",
       "       [49, 64, 81]])"
      ]
     },
     "execution_count": 18,
     "metadata": {},
     "output_type": "execute_result"
    }
   ],
   "source": [
    "matrix_var * matrix_var # Multiplicacion pair-wise"
   ]
  },
  {
   "cell_type": "code",
   "execution_count": 19,
   "metadata": {
    "colab": {
     "base_uri": "https://localhost:8080/",
     "height": 34
    },
    "colab_type": "code",
    "id": "OOGZR2ukWkv6",
    "jupyter": {
     "outputs_hidden": true
    },
    "outputId": "9d00b717-1548-4e7a-8570-ce311cb3593a"
   },
   "outputs": [
    {
     "data": {
      "text/plain": [
       "array([ 6, 15, 24])"
      ]
     },
     "execution_count": 19,
     "metadata": {},
     "output_type": "execute_result"
    }
   ],
   "source": [
    "matrix_var @ np.array([1,1,1]) # Multiplicacion de matrices"
   ]
  },
  {
   "cell_type": "markdown",
   "metadata": {
    "colab_type": "text",
    "id": "Njw1DUjYZ6F3"
   },
   "source": [
    "Para mas informacion acerca de las principales operaciones algebraicas utilizando Numpy consultar este [link](https://cmdlinetips.com/2019/06/9-basic-linear-algebra-operations-with-numpy/)"
   ]
  },
  {
   "cell_type": "markdown",
   "metadata": {
    "colab_type": "text",
    "id": "uDGvFo0uV0B4"
   },
   "source": [
    "### Pandas\n",
    "\n",
    "Pandas es una de las librerías de Python más usadas para análisis de datos. El nombre pandas viene de \"Panel Data Analysis\" y su funcionalidad permite hacer operaciones sobre datos que se encuentran en memoria de manera eficiente.\n",
    "\n",
    "Pandas es útil para trabajar sobre datos tabulares, con dos condiciones importantes:\n",
    "\n",
    "    I. Los datos se encuentran enteramente en la memoria RAM. Con lo cual, el tamaño de los datos que podemos manipular está limitado por el hardware. Como regla de pulgar, es una buena práctica no ocupar más de 1/3 de la memoria RAM de nuestro dispositivo con el dataset.\n",
    "\n",
    "    II. En pandas, las operaciones sobre filas y columnas son, en general, eficientes porque se hacen de forma \"vectorizada\". En realidad esta optimización, se hace desde numpy, una librería para realizar operaciones matemáticas que se utilizó a su vez para escribir pandas."
   ]
  },
  {
   "cell_type": "code",
   "execution_count": 36,
   "metadata": {
    "colab": {},
    "colab_type": "code",
    "id": "owyD0GI9V2oi",
    "jupyter": {
     "outputs_hidden": true
    }
   },
   "outputs": [],
   "source": [
    "import pandas as pd  #Importamos la libreria"
   ]
  },
  {
   "cell_type": "markdown",
   "metadata": {},
   "source": [
    "**Series**"
   ]
  },
  {
   "cell_type": "code",
   "execution_count": 37,
   "metadata": {
    "colab": {},
    "colab_type": "code",
    "id": "Xj7OcxYuV30e",
    "jupyter": {
     "outputs_hidden": true
    }
   },
   "outputs": [
    {
     "data": {
      "text/plain": [
       "0    1\n",
       "1    2\n",
       "2    2\n",
       "3    3\n",
       "4    4\n",
       "5    5\n",
       "6    5\n",
       "7    5\n",
       "8    5\n",
       "dtype: int64"
      ]
     },
     "execution_count": 37,
     "metadata": {},
     "output_type": "execute_result"
    }
   ],
   "source": [
    "# Series\n",
    "serie = pd.Series(data = [1,2,2,3,4,5,5,5,5])\n",
    "serie"
   ]
  },
  {
   "cell_type": "code",
   "execution_count": 39,
   "metadata": {
    "jupyter": {
     "outputs_hidden": true
    }
   },
   "outputs": [
    {
     "name": "stdout",
     "output_type": "stream",
     "text": [
      "Tipo de objetos que tiene: int64\n",
      "Nombre: None\n",
      "Index: RangeIndex(start=0, stop=9, step=1)\n",
      "Valores: [1 2 2 3 4 5 5 5 5]\n"
     ]
    }
   ],
   "source": [
    "# Propiedades importantes de las series\n",
    "print('Tipo de objetos que tiene:', serie.dtype)\n",
    "print('Nombre:', serie.name)\n",
    "print('Index:',serie.index)\n",
    "print('Valores:',serie.values)"
   ]
  },
  {
   "cell_type": "code",
   "execution_count": 40,
   "metadata": {
    "colab": {
     "base_uri": "https://localhost:8080/",
     "height": 34
    },
    "colab_type": "code",
    "id": "Iv7ryEBqV6DQ",
    "jupyter": {
     "outputs_hidden": true
    },
    "outputId": "064b0d71-bae8-4bd9-e291-746a6c5e956a"
   },
   "outputs": [
    {
     "data": {
      "text/plain": [
       "1"
      ]
     },
     "execution_count": 40,
     "metadata": {},
     "output_type": "execute_result"
    }
   ],
   "source": [
    "serie.min()"
   ]
  },
  {
   "cell_type": "code",
   "execution_count": 41,
   "metadata": {
    "colab": {
     "base_uri": "https://localhost:8080/",
     "height": 34
    },
    "colab_type": "code",
    "id": "GaXopaiBWHw6",
    "jupyter": {
     "outputs_hidden": true
    },
    "outputId": "1276dda2-dde7-4a4c-ef95-67e9eb8cf5b6"
   },
   "outputs": [
    {
     "data": {
      "text/plain": [
       "5"
      ]
     },
     "execution_count": 41,
     "metadata": {},
     "output_type": "execute_result"
    }
   ],
   "source": [
    "serie.max()"
   ]
  },
  {
   "cell_type": "code",
   "execution_count": 42,
   "metadata": {
    "colab": {
     "base_uri": "https://localhost:8080/",
     "height": 34
    },
    "colab_type": "code",
    "id": "6738zBwYWI_y",
    "jupyter": {
     "outputs_hidden": true
    },
    "outputId": "9a496690-cf3f-45c1-c115-d191e2193c0b"
   },
   "outputs": [
    {
     "data": {
      "text/plain": [
       "5"
      ]
     },
     "execution_count": 42,
     "metadata": {},
     "output_type": "execute_result"
    }
   ],
   "source": [
    "serie.idxmax()  # Devuelve el indice donde se encuentra el maximo valor de mi serie."
   ]
  },
  {
   "cell_type": "code",
   "execution_count": 43,
   "metadata": {
    "colab": {
     "base_uri": "https://localhost:8080/",
     "height": 34
    },
    "colab_type": "code",
    "id": "lXLEvJC9WKrk",
    "jupyter": {
     "outputs_hidden": true
    },
    "outputId": "bc9af5fc-0d3c-4ca1-bf7e-360e479ff614"
   },
   "outputs": [
    {
     "data": {
      "text/plain": [
       "5"
      ]
     },
     "execution_count": 43,
     "metadata": {},
     "output_type": "execute_result"
    }
   ],
   "source": [
    "serie[serie.idxmax()]"
   ]
  },
  {
   "cell_type": "code",
   "execution_count": 44,
   "metadata": {
    "colab": {
     "base_uri": "https://localhost:8080/",
     "height": 34
    },
    "colab_type": "code",
    "id": "N1rnEJvgWXsh",
    "jupyter": {
     "outputs_hidden": true
    },
    "outputId": "ef30c0eb-e090-43df-bc76-b38d4402221c"
   },
   "outputs": [
    {
     "name": "stdout",
     "output_type": "stream",
     "text": [
      "Media 3.5555555555555554\n",
      "Mediana 4.0\n",
      "Moda [5]\n",
      "Desvio Standard 1.5898986690282426\n"
     ]
    }
   ],
   "source": [
    "## Funciones que operan sobre los arrays\n",
    "# Similares a las que usamos anteriomente con nuestros arrays. Esto no es una sorpresa dado que Pandas esta montado sobre Numpy\n",
    "print('Media',serie.mean())\n",
    "print('Mediana',serie.median())\n",
    "print('Moda', serie.mode().values)\n",
    "print('Desvio Standard',serie.std())"
   ]
  },
  {
   "cell_type": "markdown",
   "metadata": {},
   "source": [
    "Al mismo tiempo podemos aplicar metodos propios de las Series"
   ]
  },
  {
   "cell_type": "code",
   "execution_count": null,
   "metadata": {
    "colab": {
     "base_uri": "https://localhost:8080/",
     "height": 34
    },
    "colab_type": "code",
    "id": "00N3gId4X0iS",
    "jupyter": {
     "outputs_hidden": true
    },
    "outputId": "b92e9b77-3538-4aec-a437-1fd149bf120a"
   },
   "outputs": [],
   "source": [
    "serie.astype(str).mean()  #Podemos pedir el valor promedio pero no va a tener ningun sentido para nosotros"
   ]
  },
  {
   "cell_type": "code",
   "execution_count": null,
   "metadata": {
    "jupyter": {
     "outputs_hidden": true
    }
   },
   "outputs": [],
   "source": [
    "serie.count()"
   ]
  },
  {
   "cell_type": "code",
   "execution_count": null,
   "metadata": {
    "jupyter": {
     "outputs_hidden": true
    }
   },
   "outputs": [],
   "source": [
    "serie.unique()"
   ]
  },
  {
   "cell_type": "code",
   "execution_count": null,
   "metadata": {
    "jupyter": {
     "outputs_hidden": true
    }
   },
   "outputs": [],
   "source": [
    "serie.nunique()"
   ]
  },
  {
   "cell_type": "markdown",
   "metadata": {},
   "source": [
    "**Masking**\n",
    "\n",
    "Llamamos `masking`cuando sometemos a un `array` o una `Series` a una evaluación lógica, para filtrar los datos que coincidan con dicha evaluación. Una mascara es un array de booleanos, con  True en los valores que cumplen la condición y False donde no. Una vez que creamos la máscara, podemos usarla para seleccionar de nuestro arreglo aquellos elementos que queremos filtrar.\n",
    "\n",
    "\n"
   ]
  },
  {
   "cell_type": "code",
   "execution_count": 45,
   "metadata": {
    "jupyter": {
     "outputs_hidden": true
    }
   },
   "outputs": [
    {
     "data": {
      "text/plain": [
       "0    False\n",
       "1    False\n",
       "2    False\n",
       "3    False\n",
       "4    False\n",
       "5     True\n",
       "6     True\n",
       "7     True\n",
       "8     True\n",
       "dtype: bool"
      ]
     },
     "execution_count": 45,
     "metadata": {},
     "output_type": "execute_result"
    }
   ],
   "source": [
    "mask = serie > 4\n",
    "mask"
   ]
  },
  {
   "cell_type": "code",
   "execution_count": null,
   "metadata": {
    "jupyter": {
     "outputs_hidden": true
    }
   },
   "outputs": [],
   "source": [
    "serie[mask] # Solo debería seleccionar los valores mayores a 4"
   ]
  },
  {
   "cell_type": "markdown",
   "metadata": {},
   "source": [
    "**Dataframes**"
   ]
  },
  {
   "cell_type": "code",
   "execution_count": 46,
   "metadata": {
    "colab": {
     "base_uri": "https://localhost:8080/",
     "height": 142
    },
    "colab_type": "code",
    "id": "t30gkfRhX3jn",
    "jupyter": {
     "outputs_hidden": true
    },
    "outputId": "e9562732-1648-4f49-8d8a-63a2cb6d4eae"
   },
   "outputs": [
    {
     "data": {
      "text/html": [
       "<div>\n",
       "<style scoped>\n",
       "    .dataframe tbody tr th:only-of-type {\n",
       "        vertical-align: middle;\n",
       "    }\n",
       "\n",
       "    .dataframe tbody tr th {\n",
       "        vertical-align: top;\n",
       "    }\n",
       "\n",
       "    .dataframe thead th {\n",
       "        text-align: right;\n",
       "    }\n",
       "</style>\n",
       "<table border=\"1\" class=\"dataframe\">\n",
       "  <thead>\n",
       "    <tr style=\"text-align: right;\">\n",
       "      <th></th>\n",
       "      <th>columna1</th>\n",
       "      <th>columna2</th>\n",
       "    </tr>\n",
       "  </thead>\n",
       "  <tbody>\n",
       "    <tr>\n",
       "      <th>0</th>\n",
       "      <td>1</td>\n",
       "      <td>uno</td>\n",
       "    </tr>\n",
       "    <tr>\n",
       "      <th>1</th>\n",
       "      <td>2</td>\n",
       "      <td>dos</td>\n",
       "    </tr>\n",
       "    <tr>\n",
       "      <th>2</th>\n",
       "      <td>3</td>\n",
       "      <td>tres</td>\n",
       "    </tr>\n",
       "  </tbody>\n",
       "</table>\n",
       "</div>"
      ],
      "text/plain": [
       "   columna1 columna2\n",
       "0         1      uno\n",
       "1         2      dos\n",
       "2         3     tres"
      ]
     },
     "execution_count": 46,
     "metadata": {},
     "output_type": "execute_result"
    }
   ],
   "source": [
    "## DataFrame\n",
    "df = pd.DataFrame(data = {'columna1' : [1,2,3],\n",
    "                          'columna2' : [\"uno\", \"dos\", \"tres\"]\n",
    "                         })\n",
    "df"
   ]
  },
  {
   "cell_type": "code",
   "execution_count": 48,
   "metadata": {
    "jupyter": {
     "outputs_hidden": true
    }
   },
   "outputs": [
    {
     "name": "stdout",
     "output_type": "stream",
     "text": [
      "Columnas:  Index(['columna1', 'columna2'], dtype='object')\n",
      "Index:  RangeIndex(start=0, stop=3, step=1)\n",
      "Dimensiones:  (3, 2)\n"
     ]
    }
   ],
   "source": [
    "# Propiedades importantes de los dataframes\n",
    "print('Columnas: ', df.columns)\n",
    "print('Index: ', df.index)\n",
    "print('Dimensiones: ',df.shape)"
   ]
  },
  {
   "cell_type": "code",
   "execution_count": 49,
   "metadata": {
    "colab": {
     "base_uri": "https://localhost:8080/",
     "height": 297
    },
    "colab_type": "code",
    "id": "O7A5kXREYA6R",
    "jupyter": {
     "outputs_hidden": true
    },
    "outputId": "52a3dbfa-59c7-4c1d-8bb0-f8eed1c0f93b"
   },
   "outputs": [
    {
     "data": {
      "text/html": [
       "<div>\n",
       "<style scoped>\n",
       "    .dataframe tbody tr th:only-of-type {\n",
       "        vertical-align: middle;\n",
       "    }\n",
       "\n",
       "    .dataframe tbody tr th {\n",
       "        vertical-align: top;\n",
       "    }\n",
       "\n",
       "    .dataframe thead th {\n",
       "        text-align: right;\n",
       "    }\n",
       "</style>\n",
       "<table border=\"1\" class=\"dataframe\">\n",
       "  <thead>\n",
       "    <tr style=\"text-align: right;\">\n",
       "      <th></th>\n",
       "      <th>columna1</th>\n",
       "    </tr>\n",
       "  </thead>\n",
       "  <tbody>\n",
       "    <tr>\n",
       "      <th>count</th>\n",
       "      <td>3.0</td>\n",
       "    </tr>\n",
       "    <tr>\n",
       "      <th>mean</th>\n",
       "      <td>2.0</td>\n",
       "    </tr>\n",
       "    <tr>\n",
       "      <th>std</th>\n",
       "      <td>1.0</td>\n",
       "    </tr>\n",
       "    <tr>\n",
       "      <th>min</th>\n",
       "      <td>1.0</td>\n",
       "    </tr>\n",
       "    <tr>\n",
       "      <th>25%</th>\n",
       "      <td>1.5</td>\n",
       "    </tr>\n",
       "    <tr>\n",
       "      <th>50%</th>\n",
       "      <td>2.0</td>\n",
       "    </tr>\n",
       "    <tr>\n",
       "      <th>75%</th>\n",
       "      <td>2.5</td>\n",
       "    </tr>\n",
       "    <tr>\n",
       "      <th>max</th>\n",
       "      <td>3.0</td>\n",
       "    </tr>\n",
       "  </tbody>\n",
       "</table>\n",
       "</div>"
      ],
      "text/plain": [
       "       columna1\n",
       "count       3.0\n",
       "mean        2.0\n",
       "std         1.0\n",
       "min         1.0\n",
       "25%         1.5\n",
       "50%         2.0\n",
       "75%         2.5\n",
       "max         3.0"
      ]
     },
     "execution_count": 49,
     "metadata": {},
     "output_type": "execute_result"
    }
   ],
   "source": [
    "df.describe() #Nuevamente vemos que el typo de data nos va a permitir ciertas operaciones"
   ]
  },
  {
   "cell_type": "code",
   "execution_count": 50,
   "metadata": {
    "colab": {
     "base_uri": "https://localhost:8080/",
     "height": 68
    },
    "colab_type": "code",
    "id": "TfbFhZGFZETe",
    "jupyter": {
     "outputs_hidden": true
    },
    "outputId": "5736ec62-ca6b-4427-d1ce-c61d76188aec"
   },
   "outputs": [
    {
     "data": {
      "text/plain": [
       "columna1     int64\n",
       "columna2    object\n",
       "dtype: object"
      ]
     },
     "execution_count": 50,
     "metadata": {},
     "output_type": "execute_result"
    }
   ],
   "source": [
    "df.dtypes"
   ]
  },
  {
   "cell_type": "code",
   "execution_count": 51,
   "metadata": {
    "jupyter": {
     "outputs_hidden": true
    }
   },
   "outputs": [
    {
     "name": "stdout",
     "output_type": "stream",
     "text": [
      "<class 'pandas.core.frame.DataFrame'>\n",
      "RangeIndex: 3 entries, 0 to 2\n",
      "Data columns (total 2 columns):\n",
      " #   Column    Non-Null Count  Dtype \n",
      "---  ------    --------------  ----- \n",
      " 0   columna1  3 non-null      int64 \n",
      " 1   columna2  3 non-null      object\n",
      "dtypes: int64(1), object(1)\n",
      "memory usage: 176.0+ bytes\n"
     ]
    }
   ],
   "source": [
    "df.info() # si queremos tener un pantallazo mas completo"
   ]
  },
  {
   "cell_type": "markdown",
   "metadata": {},
   "source": [
    "### Actividad práctica\n",
    "Pandas puede crear dataframes si les pasamos una URL. \n",
    "Proba de ver el siguiente dataset: https://raw.githubusercontent.com/joaquinmenendez/JIS-2020/main/data/admision_universidad.csv"
   ]
  },
  {
   "cell_type": "markdown",
   "metadata": {},
   "source": [
    "La idea es que cargues este dataset y uses el método describe para ver un pantallazo rápido de los datos.\n",
    "Pandas te permite leer archivos usando los métodos `.read_...`. Fijate cuál es la extensión del archivo y eso te dará una pista de que método usar.\n",
    "- Queremos saber cual es la mediana para el GPA\n",
    "- Vamos a usar un filtro para hacer dos grupos unos con un GPA < a la mediana y otro con un GPA >=\n",
    "- Para cada una de estas grupos vamos a calcular la media del GMAT.\n"
   ]
  },
  {
   "cell_type": "markdown",
   "metadata": {},
   "source": [
    "## 2. Exploracion y Análisis de datos"
   ]
  },
  {
   "cell_type": "markdown",
   "metadata": {},
   "source": [
    "Podemos decir de una manera general que los pasos en la exploración y preprocesamiento de datos son:\n",
    "1. Identificación de variables y tipos de datos\n",
    "2. Analizando las métricas básicas\n",
    "3. Análisis univariante no gráfico\n",
    "4. Análisis gráfico univariado\n",
    "5. Análisis bivariado\n",
    "6. Transformaciones de variables\n",
    "7. Tratamiento de valor perdido\n",
    "8. Tratamiento de valores atípicos\n",
    "9. Análisis de correlación\n",
    "10. Reducción de dimensionalidad\n",
    "\n",
    "En este curso no vamos a ver en profundidad los puntos `[7,8,10]` dado que ameritan un curso en si mismos y usualmente son herramientas o pasos mas orientados a la creación de modelos estadísticos o de Machine Learning."
   ]
  },
  {
   "cell_type": "markdown",
   "metadata": {},
   "source": [
    "Vamos a descargar un dataset con datos mas similares a la vida real.<br>\n",
    "Este conjunto de datos contiene información sobre bebés recién nacidos y sus padres. Contiene principalmente variables continuas (aunque algunas tienen solo unos pocos valores, por ejemplo, el número de cigarrillos fumados por día) y es más útil para la correlación y regresión. El peso al nacer de los bebés que las madres fumaron se ha ajustado ligeramente para exagerar las diferencias entre las madres que fumaban y las que no fumaban.<br>\n",
    "Puedes encontrar mas información de este dataset [aquí](https://rdrr.io/cran/UsingR/man/babies.html).\n"
   ]
  },
  {
   "cell_type": "code",
   "execution_count": 59,
   "metadata": {
    "jupyter": {
     "outputs_hidden": true
    }
   },
   "outputs": [],
   "source": [
    "import pandas as pd"
   ]
  },
  {
   "cell_type": "code",
   "execution_count": 60,
   "metadata": {
    "jupyter": {
     "outputs_hidden": true
    }
   },
   "outputs": [
    {
     "data": {
      "text/html": [
       "<div>\n",
       "<style scoped>\n",
       "    .dataframe tbody tr th:only-of-type {\n",
       "        vertical-align: middle;\n",
       "    }\n",
       "\n",
       "    .dataframe tbody tr th {\n",
       "        vertical-align: top;\n",
       "    }\n",
       "\n",
       "    .dataframe thead th {\n",
       "        text-align: right;\n",
       "    }\n",
       "</style>\n",
       "<table border=\"1\" class=\"dataframe\">\n",
       "  <thead>\n",
       "    <tr style=\"text-align: right;\">\n",
       "      <th></th>\n",
       "      <th>id</th>\n",
       "      <th>date</th>\n",
       "      <th>gestation</th>\n",
       "      <th>bwt/oz</th>\n",
       "      <th>parity</th>\n",
       "      <th>mrace</th>\n",
       "      <th>mage</th>\n",
       "      <th>med</th>\n",
       "      <th>mht</th>\n",
       "      <th>mpregwt</th>\n",
       "      <th>...</th>\n",
       "      <th>dage</th>\n",
       "      <th>ded</th>\n",
       "      <th>dht</th>\n",
       "      <th>dwt</th>\n",
       "      <th>marital</th>\n",
       "      <th>inc</th>\n",
       "      <th>smoke</th>\n",
       "      <th>time</th>\n",
       "      <th>number</th>\n",
       "      <th>Premature</th>\n",
       "    </tr>\n",
       "  </thead>\n",
       "  <tbody>\n",
       "    <tr>\n",
       "      <th>0</th>\n",
       "      <td>6114</td>\n",
       "      <td>1404</td>\n",
       "      <td>269.0</td>\n",
       "      <td>115</td>\n",
       "      <td>2</td>\n",
       "      <td>6.0</td>\n",
       "      <td>30.0</td>\n",
       "      <td>2.0</td>\n",
       "      <td>62.0</td>\n",
       "      <td>115.0</td>\n",
       "      <td>...</td>\n",
       "      <td>29.0</td>\n",
       "      <td>1.0</td>\n",
       "      <td>67.0</td>\n",
       "      <td>130.0</td>\n",
       "      <td>1</td>\n",
       "      <td>1.0</td>\n",
       "      <td>NaN</td>\n",
       "      <td>NaN</td>\n",
       "      <td>NaN</td>\n",
       "      <td>1.0</td>\n",
       "    </tr>\n",
       "    <tr>\n",
       "      <th>1</th>\n",
       "      <td>3558</td>\n",
       "      <td>1631</td>\n",
       "      <td>269.0</td>\n",
       "      <td>90</td>\n",
       "      <td>4</td>\n",
       "      <td>0.0</td>\n",
       "      <td>26.0</td>\n",
       "      <td>2.0</td>\n",
       "      <td>67.0</td>\n",
       "      <td>125.0</td>\n",
       "      <td>...</td>\n",
       "      <td>27.0</td>\n",
       "      <td>5.0</td>\n",
       "      <td>75.0</td>\n",
       "      <td>220.0</td>\n",
       "      <td>1</td>\n",
       "      <td>8.0</td>\n",
       "      <td>NaN</td>\n",
       "      <td>NaN</td>\n",
       "      <td>NaN</td>\n",
       "      <td>1.0</td>\n",
       "    </tr>\n",
       "    <tr>\n",
       "      <th>2</th>\n",
       "      <td>7570</td>\n",
       "      <td>1420</td>\n",
       "      <td>274.0</td>\n",
       "      <td>108</td>\n",
       "      <td>3</td>\n",
       "      <td>7.0</td>\n",
       "      <td>28.0</td>\n",
       "      <td>1.0</td>\n",
       "      <td>66.0</td>\n",
       "      <td>175.0</td>\n",
       "      <td>...</td>\n",
       "      <td>36.0</td>\n",
       "      <td>4.0</td>\n",
       "      <td>NaN</td>\n",
       "      <td>NaN</td>\n",
       "      <td>1</td>\n",
       "      <td>1.0</td>\n",
       "      <td>NaN</td>\n",
       "      <td>NaN</td>\n",
       "      <td>NaN</td>\n",
       "      <td>0.0</td>\n",
       "    </tr>\n",
       "    <tr>\n",
       "      <th>3</th>\n",
       "      <td>4396</td>\n",
       "      <td>1631</td>\n",
       "      <td>274.0</td>\n",
       "      <td>130</td>\n",
       "      <td>4</td>\n",
       "      <td>7.0</td>\n",
       "      <td>26.0</td>\n",
       "      <td>3.0</td>\n",
       "      <td>64.0</td>\n",
       "      <td>185.0</td>\n",
       "      <td>...</td>\n",
       "      <td>26.0</td>\n",
       "      <td>2.0</td>\n",
       "      <td>74.0</td>\n",
       "      <td>225.0</td>\n",
       "      <td>1</td>\n",
       "      <td>3.0</td>\n",
       "      <td>NaN</td>\n",
       "      <td>NaN</td>\n",
       "      <td>NaN</td>\n",
       "      <td>0.0</td>\n",
       "    </tr>\n",
       "    <tr>\n",
       "      <th>4</th>\n",
       "      <td>4401</td>\n",
       "      <td>1606</td>\n",
       "      <td>275.0</td>\n",
       "      <td>106</td>\n",
       "      <td>3</td>\n",
       "      <td>4.0</td>\n",
       "      <td>31.0</td>\n",
       "      <td>4.0</td>\n",
       "      <td>65.0</td>\n",
       "      <td>142.0</td>\n",
       "      <td>...</td>\n",
       "      <td>38.0</td>\n",
       "      <td>5.0</td>\n",
       "      <td>69.0</td>\n",
       "      <td>212.0</td>\n",
       "      <td>1</td>\n",
       "      <td>8.0</td>\n",
       "      <td>NaN</td>\n",
       "      <td>NaN</td>\n",
       "      <td>NaN</td>\n",
       "      <td>0.0</td>\n",
       "    </tr>\n",
       "  </tbody>\n",
       "</table>\n",
       "<p>5 rows × 21 columns</p>\n",
       "</div>"
      ],
      "text/plain": [
       "     id  date  gestation  bwt/oz  parity  mrace  mage  med   mht  mpregwt  \\\n",
       "0  6114  1404      269.0     115       2    6.0  30.0  2.0  62.0    115.0   \n",
       "1  3558  1631      269.0      90       4    0.0  26.0  2.0  67.0    125.0   \n",
       "2  7570  1420      274.0     108       3    7.0  28.0  1.0  66.0    175.0   \n",
       "3  4396  1631      274.0     130       4    7.0  26.0  3.0  64.0    185.0   \n",
       "4  4401  1606      275.0     106       3    4.0  31.0  4.0  65.0    142.0   \n",
       "\n",
       "   ...  dage  ded   dht    dwt  marital  inc  smoke  time  number  Premature  \n",
       "0  ...  29.0  1.0  67.0  130.0        1  1.0    NaN   NaN     NaN        1.0  \n",
       "1  ...  27.0  5.0  75.0  220.0        1  8.0    NaN   NaN     NaN        1.0  \n",
       "2  ...  36.0  4.0   NaN    NaN        1  1.0    NaN   NaN     NaN        0.0  \n",
       "3  ...  26.0  2.0  74.0  225.0        1  3.0    NaN   NaN     NaN        0.0  \n",
       "4  ...  38.0  5.0  69.0  212.0        1  8.0    NaN   NaN     NaN        0.0  \n",
       "\n",
       "[5 rows x 21 columns]"
      ]
     },
     "execution_count": 60,
     "metadata": {},
     "output_type": "execute_result"
    }
   ],
   "source": [
    "df = pd.read_csv('./data/babiesdata.csv')  # Leo un archivo en mi filesystem\n",
    "df.head(5)  # Mostrame las primeras 5 filas"
   ]
  },
  {
   "cell_type": "markdown",
   "metadata": {},
   "source": [
    "### 1. Identificación de variables y tipos de datos"
   ]
  },
  {
   "cell_type": "code",
   "execution_count": 61,
   "metadata": {
    "jupyter": {
     "outputs_hidden": true
    }
   },
   "outputs": [
    {
     "data": {
      "text/plain": [
       "(1038, 21)"
      ]
     },
     "execution_count": 61,
     "metadata": {},
     "output_type": "execute_result"
    }
   ],
   "source": [
    "df.shape"
   ]
  },
  {
   "cell_type": "code",
   "execution_count": 62,
   "metadata": {
    "jupyter": {
     "outputs_hidden": true
    }
   },
   "outputs": [
    {
     "data": {
      "text/plain": [
       "id             int64\n",
       "date           int64\n",
       "gestation    float64\n",
       "bwt/oz         int64\n",
       "parity         int64\n",
       "mrace        float64\n",
       "mage         float64\n",
       "med          float64\n",
       "mht          float64\n",
       "mpregwt      float64\n",
       "drace        float64\n",
       "dage         float64\n",
       "ded          float64\n",
       "dht          float64\n",
       "dwt          float64\n",
       "marital        int64\n",
       "inc          float64\n",
       "smoke        float64\n",
       "time         float64\n",
       "number       float64\n",
       "Premature    float64\n",
       "dtype: object"
      ]
     },
     "execution_count": 62,
     "metadata": {},
     "output_type": "execute_result"
    }
   ],
   "source": [
    "df.dtypes"
   ]
  },
  {
   "cell_type": "code",
   "execution_count": 63,
   "metadata": {
    "jupyter": {
     "outputs_hidden": true
    }
   },
   "outputs": [
    {
     "data": {
      "text/plain": [
       "id             0\n",
       "date           0\n",
       "gestation     10\n",
       "bwt/oz         0\n",
       "parity         0\n",
       "mrace          1\n",
       "mage           1\n",
       "med            1\n",
       "mht           20\n",
       "mpregwt       32\n",
       "drace          4\n",
       "dage           5\n",
       "ded           12\n",
       "dht          425\n",
       "dwt          430\n",
       "marital        0\n",
       "inc          106\n",
       "smoke         10\n",
       "time          10\n",
       "number        10\n",
       "Premature     10\n",
       "dtype: int64"
      ]
     },
     "execution_count": 63,
     "metadata": {},
     "output_type": "execute_result"
    }
   ],
   "source": [
    "# Verificar si hay datos faltantes\n",
    "df.isna().sum()"
   ]
  },
  {
   "cell_type": "code",
   "execution_count": null,
   "metadata": {
    "jupyter": {
     "outputs_hidden": true
    }
   },
   "outputs": [],
   "source": [
    "round(df.isna().sum() / df.shape[0] * 100, 2)"
   ]
  },
  {
   "cell_type": "markdown",
   "metadata": {},
   "source": [
    "Ojo! Miramos el porcentaje de datos faltante del padre. Esto nos puede dar cuenta de que el padre no estaba presente al momento de la evaluación o quizas que no estuvo presente durante el embarazo."
   ]
  },
  {
   "cell_type": "markdown",
   "metadata": {},
   "source": [
    "**Removiendo valores faltantes**"
   ]
  },
  {
   "cell_type": "code",
   "execution_count": null,
   "metadata": {
    "jupyter": {
     "outputs_hidden": true
    }
   },
   "outputs": [],
   "source": [
    "df_notna = df.copy()\n",
    "df_notna = df_notna.dropna()"
   ]
  },
  {
   "cell_type": "markdown",
   "metadata": {},
   "source": [
    "Notaras que usamos un comando llamado `copy`, lo que hace es otorgarnos una copia de los valores, en vez de el mismo objeto. Esto es un tema un poco complejo, pero la explicación breve es que cuando asignamos valores a una variable Python los guarda de manera diferenciada. Por una parte tenemos el nombre de la variable, y por otro el contenido. En vez de duplicar los datos, python asigna `punteros` señalando donde estan los datos. Esto es comodo ya que Python hace todo el trabajo, pero si hacemos modificaciones en nuestros datos, esto repercutira en todas las variables que apuntaban a los mismos. Una discusión acerca de este tema puede encontrarse [aquí](https://es.stackoverflow.com/questions/397/entendiendo-la-ausencia-de-punteros-en-python)"
   ]
  },
  {
   "cell_type": "markdown",
   "metadata": {},
   "source": [
    "**Removiendo columnas que no son de nuestro interes**"
   ]
  },
  {
   "cell_type": "code",
   "execution_count": null,
   "metadata": {
    "jupyter": {
     "outputs_hidden": true
    }
   },
   "outputs": [],
   "source": [
    "df_notna.drop(columns=[\"drace\",\"dage\",\"ded\",\"dht\",\"dwt\",\"marital\",\"inc\"])"
   ]
  },
  {
   "cell_type": "code",
   "execution_count": null,
   "metadata": {
    "jupyter": {
     "outputs_hidden": true
    }
   },
   "outputs": [],
   "source": [
    "df_notna.drop(columns=[\"drace\",\"dage\",\"ded\",\"dht\",\"dwt\",\"marital\",\"inc\"], inplace = True)"
   ]
  },
  {
   "cell_type": "markdown",
   "metadata": {},
   "source": [
    "El argumento `inplace` opera sobre nuestro DataFrame evitando la necesidad de asignar el DF modificado a una nueva variable. **Usar con precaución!!**"
   ]
  },
  {
   "cell_type": "markdown",
   "metadata": {},
   "source": [
    "<p style=\"background-color:red; text-align:center\">Descargando un nuevo dataset</p>"
   ]
  },
  {
   "cell_type": "markdown",
   "metadata": {},
   "source": [
    "Pandas me permite leer el archivo directamente desde una URL si así lo quisieras.\n",
    "Si el usuario lo desea puede acceder a un dataset mas acotado y ya limpio en el siguiente [enlace](https://www.sheffield.ac.uk/mash/statistics/datasets).\n",
    "\n",
    "Vamos a usar ese para simular que ya elegimos las variables que nos resultaron interesantes y ya limpiamos los datos. En nuestro caso vamos a centrarnos exclusivamente en variables relacionadas a la madre."
   ]
  },
  {
   "cell_type": "code",
   "execution_count": 64,
   "metadata": {
    "jupyter": {
     "outputs_hidden": true
    }
   },
   "outputs": [
    {
     "data": {
      "text/html": [
       "<div>\n",
       "<style scoped>\n",
       "    .dataframe tbody tr th:only-of-type {\n",
       "        vertical-align: middle;\n",
       "    }\n",
       "\n",
       "    .dataframe tbody tr th {\n",
       "        vertical-align: top;\n",
       "    }\n",
       "\n",
       "    .dataframe thead th {\n",
       "        text-align: right;\n",
       "    }\n",
       "</style>\n",
       "<table border=\"1\" class=\"dataframe\">\n",
       "  <thead>\n",
       "    <tr style=\"text-align: right;\">\n",
       "      <th></th>\n",
       "      <th>id</th>\n",
       "      <th>headcirumference</th>\n",
       "      <th>length</th>\n",
       "      <th>Birthweight</th>\n",
       "      <th>Gestation</th>\n",
       "      <th>smoker</th>\n",
       "      <th>motherage</th>\n",
       "      <th>mnocig</th>\n",
       "      <th>mheight</th>\n",
       "      <th>mppwt</th>\n",
       "      <th>fage</th>\n",
       "      <th>fedyrs</th>\n",
       "      <th>fnocig</th>\n",
       "      <th>fheight</th>\n",
       "      <th>lowbwt</th>\n",
       "      <th>mage35</th>\n",
       "      <th>LowBirthWeight</th>\n",
       "    </tr>\n",
       "  </thead>\n",
       "  <tbody>\n",
       "    <tr>\n",
       "      <th>0</th>\n",
       "      <td>1313</td>\n",
       "      <td>12</td>\n",
       "      <td>17</td>\n",
       "      <td>5.8</td>\n",
       "      <td>33</td>\n",
       "      <td>0</td>\n",
       "      <td>24</td>\n",
       "      <td>0</td>\n",
       "      <td>58</td>\n",
       "      <td>99</td>\n",
       "      <td>26</td>\n",
       "      <td>16</td>\n",
       "      <td>0</td>\n",
       "      <td>66</td>\n",
       "      <td>1</td>\n",
       "      <td>0</td>\n",
       "      <td>Low</td>\n",
       "    </tr>\n",
       "    <tr>\n",
       "      <th>1</th>\n",
       "      <td>431</td>\n",
       "      <td>12</td>\n",
       "      <td>19</td>\n",
       "      <td>4.2</td>\n",
       "      <td>33</td>\n",
       "      <td>1</td>\n",
       "      <td>20</td>\n",
       "      <td>7</td>\n",
       "      <td>63</td>\n",
       "      <td>109</td>\n",
       "      <td>20</td>\n",
       "      <td>10</td>\n",
       "      <td>35</td>\n",
       "      <td>71</td>\n",
       "      <td>1</td>\n",
       "      <td>0</td>\n",
       "      <td>Low</td>\n",
       "    </tr>\n",
       "    <tr>\n",
       "      <th>2</th>\n",
       "      <td>808</td>\n",
       "      <td>13</td>\n",
       "      <td>19</td>\n",
       "      <td>6.4</td>\n",
       "      <td>34</td>\n",
       "      <td>0</td>\n",
       "      <td>26</td>\n",
       "      <td>0</td>\n",
       "      <td>65</td>\n",
       "      <td>140</td>\n",
       "      <td>25</td>\n",
       "      <td>12</td>\n",
       "      <td>25</td>\n",
       "      <td>69</td>\n",
       "      <td>0</td>\n",
       "      <td>0</td>\n",
       "      <td>Normal</td>\n",
       "    </tr>\n",
       "    <tr>\n",
       "      <th>3</th>\n",
       "      <td>300</td>\n",
       "      <td>12</td>\n",
       "      <td>18</td>\n",
       "      <td>4.5</td>\n",
       "      <td>35</td>\n",
       "      <td>1</td>\n",
       "      <td>41</td>\n",
       "      <td>7</td>\n",
       "      <td>65</td>\n",
       "      <td>125</td>\n",
       "      <td>37</td>\n",
       "      <td>14</td>\n",
       "      <td>25</td>\n",
       "      <td>68</td>\n",
       "      <td>1</td>\n",
       "      <td>1</td>\n",
       "      <td>Low</td>\n",
       "    </tr>\n",
       "    <tr>\n",
       "      <th>4</th>\n",
       "      <td>516</td>\n",
       "      <td>13</td>\n",
       "      <td>18</td>\n",
       "      <td>5.8</td>\n",
       "      <td>35</td>\n",
       "      <td>1</td>\n",
       "      <td>20</td>\n",
       "      <td>35</td>\n",
       "      <td>67</td>\n",
       "      <td>125</td>\n",
       "      <td>23</td>\n",
       "      <td>12</td>\n",
       "      <td>50</td>\n",
       "      <td>73</td>\n",
       "      <td>1</td>\n",
       "      <td>0</td>\n",
       "      <td>Low</td>\n",
       "    </tr>\n",
       "  </tbody>\n",
       "</table>\n",
       "</div>"
      ],
      "text/plain": [
       "     id  headcirumference  length  Birthweight  Gestation  smoker  motherage  \\\n",
       "0  1313                12      17          5.8         33       0         24   \n",
       "1   431                12      19          4.2         33       1         20   \n",
       "2   808                13      19          6.4         34       0         26   \n",
       "3   300                12      18          4.5         35       1         41   \n",
       "4   516                13      18          5.8         35       1         20   \n",
       "\n",
       "   mnocig  mheight  mppwt  fage  fedyrs  fnocig  fheight  lowbwt  mage35  \\\n",
       "0       0       58     99    26      16       0       66       1       0   \n",
       "1       7       63    109    20      10      35       71       1       0   \n",
       "2       0       65    140    25      12      25       69       0       0   \n",
       "3       7       65    125    37      14      25       68       1       1   \n",
       "4      35       67    125    23      12      50       73       1       0   \n",
       "\n",
       "  LowBirthWeight  \n",
       "0            Low  \n",
       "1            Low  \n",
       "2         Normal  \n",
       "3            Low  \n",
       "4            Low  "
      ]
     },
     "execution_count": 64,
     "metadata": {},
     "output_type": "execute_result"
    }
   ],
   "source": [
    "df = pd.read_csv('https://www.sheffield.ac.uk/polopoly_fs/1.886038!/file/Birthweight_reduced_R.csv')\n",
    "df.head()"
   ]
  },
  {
   "cell_type": "code",
   "execution_count": 65,
   "metadata": {
    "jupyter": {
     "outputs_hidden": true
    }
   },
   "outputs": [
    {
     "data": {
      "text/plain": [
       "(42, 17)"
      ]
     },
     "execution_count": 65,
     "metadata": {},
     "output_type": "execute_result"
    }
   ],
   "source": [
    "df.shape"
   ]
  },
  {
   "cell_type": "code",
   "execution_count": 66,
   "metadata": {
    "jupyter": {
     "outputs_hidden": true
    }
   },
   "outputs": [
    {
     "data": {
      "text/plain": [
       "id                    int64\n",
       "headcirumference      int64\n",
       "length                int64\n",
       "Birthweight         float64\n",
       "Gestation             int64\n",
       "smoker                int64\n",
       "motherage             int64\n",
       "mnocig                int64\n",
       "mheight               int64\n",
       "mppwt                 int64\n",
       "fage                  int64\n",
       "fedyrs                int64\n",
       "fnocig                int64\n",
       "fheight               int64\n",
       "lowbwt                int64\n",
       "mage35                int64\n",
       "LowBirthWeight       object\n",
       "dtype: object"
      ]
     },
     "execution_count": 66,
     "metadata": {},
     "output_type": "execute_result"
    }
   ],
   "source": [
    "df.dtypes"
   ]
  },
  {
   "cell_type": "code",
   "execution_count": 67,
   "metadata": {
    "jupyter": {
     "outputs_hidden": true
    }
   },
   "outputs": [
    {
     "data": {
      "text/plain": [
       "id                  0\n",
       "headcirumference    0\n",
       "length              0\n",
       "Birthweight         0\n",
       "Gestation           0\n",
       "smoker              0\n",
       "motherage           0\n",
       "mnocig              0\n",
       "mheight             0\n",
       "mppwt               0\n",
       "fage                0\n",
       "fedyrs              0\n",
       "fnocig              0\n",
       "fheight             0\n",
       "lowbwt              0\n",
       "mage35              0\n",
       "LowBirthWeight      0\n",
       "dtype: int64"
      ]
     },
     "execution_count": 67,
     "metadata": {},
     "output_type": "execute_result"
    }
   ],
   "source": [
    "# Verificar si hay datos faltantes\n",
    "df.isna().sum()"
   ]
  },
  {
   "cell_type": "markdown",
   "metadata": {},
   "source": [
    "### 2. Analizando las métricas básicas"
   ]
  },
  {
   "cell_type": "code",
   "execution_count": 68,
   "metadata": {
    "jupyter": {
     "outputs_hidden": true
    }
   },
   "outputs": [
    {
     "data": {
      "text/html": [
       "<div>\n",
       "<style scoped>\n",
       "    .dataframe tbody tr th:only-of-type {\n",
       "        vertical-align: middle;\n",
       "    }\n",
       "\n",
       "    .dataframe tbody tr th {\n",
       "        vertical-align: top;\n",
       "    }\n",
       "\n",
       "    .dataframe thead th {\n",
       "        text-align: right;\n",
       "    }\n",
       "</style>\n",
       "<table border=\"1\" class=\"dataframe\">\n",
       "  <thead>\n",
       "    <tr style=\"text-align: right;\">\n",
       "      <th></th>\n",
       "      <th>id</th>\n",
       "      <th>headcirumference</th>\n",
       "      <th>length</th>\n",
       "      <th>Birthweight</th>\n",
       "      <th>Gestation</th>\n",
       "      <th>smoker</th>\n",
       "      <th>motherage</th>\n",
       "      <th>mnocig</th>\n",
       "      <th>mheight</th>\n",
       "      <th>mppwt</th>\n",
       "      <th>fage</th>\n",
       "      <th>fedyrs</th>\n",
       "      <th>fnocig</th>\n",
       "      <th>fheight</th>\n",
       "      <th>lowbwt</th>\n",
       "      <th>mage35</th>\n",
       "    </tr>\n",
       "  </thead>\n",
       "  <tbody>\n",
       "    <tr>\n",
       "      <th>count</th>\n",
       "      <td>42.00</td>\n",
       "      <td>42.00</td>\n",
       "      <td>42.00</td>\n",
       "      <td>42.00</td>\n",
       "      <td>42.00</td>\n",
       "      <td>42.00</td>\n",
       "      <td>42.00</td>\n",
       "      <td>42.00</td>\n",
       "      <td>42.00</td>\n",
       "      <td>42.00</td>\n",
       "      <td>42.00</td>\n",
       "      <td>42.00</td>\n",
       "      <td>42.00</td>\n",
       "      <td>42.00</td>\n",
       "      <td>42.00</td>\n",
       "      <td>42.0</td>\n",
       "    </tr>\n",
       "    <tr>\n",
       "      <th>mean</th>\n",
       "      <td>894.07</td>\n",
       "      <td>13.26</td>\n",
       "      <td>19.93</td>\n",
       "      <td>7.26</td>\n",
       "      <td>39.19</td>\n",
       "      <td>0.52</td>\n",
       "      <td>25.55</td>\n",
       "      <td>9.43</td>\n",
       "      <td>64.40</td>\n",
       "      <td>125.86</td>\n",
       "      <td>28.90</td>\n",
       "      <td>13.67</td>\n",
       "      <td>17.19</td>\n",
       "      <td>70.76</td>\n",
       "      <td>0.14</td>\n",
       "      <td>0.1</td>\n",
       "    </tr>\n",
       "    <tr>\n",
       "      <th>std</th>\n",
       "      <td>467.62</td>\n",
       "      <td>0.77</td>\n",
       "      <td>1.11</td>\n",
       "      <td>1.33</td>\n",
       "      <td>2.64</td>\n",
       "      <td>0.51</td>\n",
       "      <td>5.67</td>\n",
       "      <td>12.51</td>\n",
       "      <td>2.55</td>\n",
       "      <td>15.88</td>\n",
       "      <td>6.86</td>\n",
       "      <td>2.16</td>\n",
       "      <td>17.31</td>\n",
       "      <td>2.84</td>\n",
       "      <td>0.35</td>\n",
       "      <td>0.3</td>\n",
       "    </tr>\n",
       "    <tr>\n",
       "      <th>min</th>\n",
       "      <td>27.00</td>\n",
       "      <td>12.00</td>\n",
       "      <td>17.00</td>\n",
       "      <td>4.20</td>\n",
       "      <td>33.00</td>\n",
       "      <td>0.00</td>\n",
       "      <td>18.00</td>\n",
       "      <td>0.00</td>\n",
       "      <td>58.00</td>\n",
       "      <td>99.00</td>\n",
       "      <td>19.00</td>\n",
       "      <td>10.00</td>\n",
       "      <td>0.00</td>\n",
       "      <td>66.00</td>\n",
       "      <td>0.00</td>\n",
       "      <td>0.0</td>\n",
       "    </tr>\n",
       "    <tr>\n",
       "      <th>25%</th>\n",
       "      <td>537.25</td>\n",
       "      <td>13.00</td>\n",
       "      <td>19.00</td>\n",
       "      <td>6.45</td>\n",
       "      <td>38.00</td>\n",
       "      <td>0.00</td>\n",
       "      <td>20.25</td>\n",
       "      <td>0.00</td>\n",
       "      <td>63.00</td>\n",
       "      <td>115.00</td>\n",
       "      <td>23.00</td>\n",
       "      <td>12.00</td>\n",
       "      <td>0.00</td>\n",
       "      <td>69.00</td>\n",
       "      <td>0.00</td>\n",
       "      <td>0.0</td>\n",
       "    </tr>\n",
       "    <tr>\n",
       "      <th>50%</th>\n",
       "      <td>821.00</td>\n",
       "      <td>13.00</td>\n",
       "      <td>20.00</td>\n",
       "      <td>7.25</td>\n",
       "      <td>39.50</td>\n",
       "      <td>1.00</td>\n",
       "      <td>24.00</td>\n",
       "      <td>4.50</td>\n",
       "      <td>64.00</td>\n",
       "      <td>125.00</td>\n",
       "      <td>29.50</td>\n",
       "      <td>14.00</td>\n",
       "      <td>18.50</td>\n",
       "      <td>71.00</td>\n",
       "      <td>0.00</td>\n",
       "      <td>0.0</td>\n",
       "    </tr>\n",
       "    <tr>\n",
       "      <th>75%</th>\n",
       "      <td>1269.50</td>\n",
       "      <td>14.00</td>\n",
       "      <td>21.00</td>\n",
       "      <td>8.00</td>\n",
       "      <td>41.00</td>\n",
       "      <td>1.00</td>\n",
       "      <td>29.00</td>\n",
       "      <td>15.75</td>\n",
       "      <td>66.00</td>\n",
       "      <td>135.00</td>\n",
       "      <td>32.00</td>\n",
       "      <td>16.00</td>\n",
       "      <td>25.00</td>\n",
       "      <td>72.00</td>\n",
       "      <td>0.00</td>\n",
       "      <td>0.0</td>\n",
       "    </tr>\n",
       "    <tr>\n",
       "      <th>max</th>\n",
       "      <td>1764.00</td>\n",
       "      <td>15.00</td>\n",
       "      <td>22.00</td>\n",
       "      <td>10.00</td>\n",
       "      <td>45.00</td>\n",
       "      <td>1.00</td>\n",
       "      <td>41.00</td>\n",
       "      <td>50.00</td>\n",
       "      <td>71.00</td>\n",
       "      <td>170.00</td>\n",
       "      <td>46.00</td>\n",
       "      <td>16.00</td>\n",
       "      <td>50.00</td>\n",
       "      <td>78.00</td>\n",
       "      <td>1.00</td>\n",
       "      <td>1.0</td>\n",
       "    </tr>\n",
       "  </tbody>\n",
       "</table>\n",
       "</div>"
      ],
      "text/plain": [
       "            id  headcirumference  length  Birthweight  Gestation  smoker  \\\n",
       "count    42.00             42.00   42.00        42.00      42.00   42.00   \n",
       "mean    894.07             13.26   19.93         7.26      39.19    0.52   \n",
       "std     467.62              0.77    1.11         1.33       2.64    0.51   \n",
       "min      27.00             12.00   17.00         4.20      33.00    0.00   \n",
       "25%     537.25             13.00   19.00         6.45      38.00    0.00   \n",
       "50%     821.00             13.00   20.00         7.25      39.50    1.00   \n",
       "75%    1269.50             14.00   21.00         8.00      41.00    1.00   \n",
       "max    1764.00             15.00   22.00        10.00      45.00    1.00   \n",
       "\n",
       "       motherage  mnocig  mheight   mppwt   fage  fedyrs  fnocig  fheight  \\\n",
       "count      42.00   42.00    42.00   42.00  42.00   42.00   42.00    42.00   \n",
       "mean       25.55    9.43    64.40  125.86  28.90   13.67   17.19    70.76   \n",
       "std         5.67   12.51     2.55   15.88   6.86    2.16   17.31     2.84   \n",
       "min        18.00    0.00    58.00   99.00  19.00   10.00    0.00    66.00   \n",
       "25%        20.25    0.00    63.00  115.00  23.00   12.00    0.00    69.00   \n",
       "50%        24.00    4.50    64.00  125.00  29.50   14.00   18.50    71.00   \n",
       "75%        29.00   15.75    66.00  135.00  32.00   16.00   25.00    72.00   \n",
       "max        41.00   50.00    71.00  170.00  46.00   16.00   50.00    78.00   \n",
       "\n",
       "       lowbwt  mage35  \n",
       "count   42.00    42.0  \n",
       "mean     0.14     0.1  \n",
       "std      0.35     0.3  \n",
       "min      0.00     0.0  \n",
       "25%      0.00     0.0  \n",
       "50%      0.00     0.0  \n",
       "75%      0.00     0.0  \n",
       "max      1.00     1.0  "
      ]
     },
     "execution_count": 68,
     "metadata": {},
     "output_type": "execute_result"
    }
   ],
   "source": [
    "round(df.describe(),2)"
   ]
  },
  {
   "cell_type": "markdown",
   "metadata": {},
   "source": [
    "`describe` solo muestra las columnas cuyo tipo es númerico. En este caso, la información que se nos brinda es es solo de las variables que son númericas, otro tipo de variables pierden su significado al intentar asignarles métricas por lo cual no son tenidas en cuenta.\n",
    "\n",
    "Algunos elementos que si nos llaman la atención:\n",
    "- smoker : Mother smokes\n",
    "```text\n",
    "    1 = smoker \n",
    "    0 = non-smoker\n",
    "```\n",
    "- lowbwt : Low birth weight\n",
    "```text\n",
    "    1 = No\n",
    "    0 = Yes\n",
    "```\n",
    "- mage35 : Mother over 35\n",
    "```text\n",
    "    1 = No \n",
    "    0 = Yes\n",
    "```"
   ]
  },
  {
   "cell_type": "markdown",
   "metadata": {},
   "source": [
    "### 3.\tAnálisis univariante (no gráfico)"
   ]
  },
  {
   "cell_type": "markdown",
   "metadata": {},
   "source": [
    "**Contar casos**\n",
    "\n",
    "Cuando observamos as columnas que no fueron descriptas usando el metodo `decribe` notamos algunas que pueden sernos de interes a la hora de construir un modelo."
   ]
  },
  {
   "cell_type": "code",
   "execution_count": 69,
   "metadata": {
    "jupyter": {
     "outputs_hidden": true
    }
   },
   "outputs": [
    {
     "data": {
      "text/plain": [
       "Normal    36\n",
       "Low        6\n",
       "Name: LowBirthWeight, dtype: int64"
      ]
     },
     "execution_count": 69,
     "metadata": {},
     "output_type": "execute_result"
    }
   ],
   "source": [
    "df.LowBirthWeight.value_counts()"
   ]
  },
  {
   "cell_type": "code",
   "execution_count": 70,
   "metadata": {
    "jupyter": {
     "outputs_hidden": true
    }
   },
   "outputs": [
    {
     "data": {
      "text/plain": [
       "Normal    0.857143\n",
       "Low       0.142857\n",
       "Name: LowBirthWeight, dtype: float64"
      ]
     },
     "execution_count": 70,
     "metadata": {},
     "output_type": "execute_result"
    }
   ],
   "source": [
    "df.LowBirthWeight.value_counts() / df.shape[0] "
   ]
  },
  {
   "cell_type": "markdown",
   "metadata": {},
   "source": [
    "Al mismo tiempo nos puede interesar contar cuantos casos tenemos para nuestras variables dicotómicas (binarias)"
   ]
  },
  {
   "cell_type": "code",
   "execution_count": 71,
   "metadata": {
    "jupyter": {
     "outputs_hidden": true
    }
   },
   "outputs": [],
   "source": [
    "binarias = [\"smoker\", \"lowbwt\",\"mage35\"]"
   ]
  },
  {
   "cell_type": "code",
   "execution_count": 80,
   "metadata": {
    "jupyter": {
     "outputs_hidden": true
    }
   },
   "outputs": [
    {
     "name": "stdout",
     "output_type": "stream",
     "text": [
      "1    52.38\n",
      "0    47.62\n",
      "Name: smoker, dtype: float64\n",
      "0    85.71\n",
      "1    14.29\n",
      "Name: lowbwt, dtype: float64\n",
      "0    90.48\n",
      "1     9.52\n",
      "Name: mage35, dtype: float64\n"
     ]
    }
   ],
   "source": [
    "for col in binarias:\n",
    "    print(round(df[col].value_counts(normalize = True) * 100, 2))"
   ]
  },
  {
   "cell_type": "markdown",
   "metadata": {},
   "source": [
    "**Filtrando según una condición**"
   ]
  },
  {
   "cell_type": "code",
   "execution_count": 81,
   "metadata": {
    "jupyter": {
     "outputs_hidden": true
    }
   },
   "outputs": [
    {
     "data": {
      "text/plain": [
       "(22, 17)"
      ]
     },
     "execution_count": 81,
     "metadata": {},
     "output_type": "execute_result"
    }
   ],
   "source": [
    "df[df.smoker == 1].shape"
   ]
  },
  {
   "cell_type": "code",
   "execution_count": 82,
   "metadata": {
    "jupyter": {
     "outputs_hidden": true
    }
   },
   "outputs": [
    {
     "data": {
      "text/plain": [
       "(5, 17)"
      ]
     },
     "execution_count": 82,
     "metadata": {},
     "output_type": "execute_result"
    }
   ],
   "source": [
    "df[(df.smoker == 1) & (df.lowbwt == 1)].shape"
   ]
  },
  {
   "cell_type": "markdown",
   "metadata": {},
   "source": [
    "Que pasa si por ejemplo nos interesaria ver estadisticos descriptivos o contar casos de una variable en relación a otra?\n",
    "\n",
    "Esto es muy similar a como usamos las tablas Pivot en Excel.<br>\n",
    "La función de `DataFrame.pivot_table` permite crear una tabla dinámica fácilmente, eligiendo qué columnas se quieren mostrar en:\n",
    "\n",
    "- **índice** (index): la variable elegida para organizar los casos en filas.\n",
    "- **columnas** (columns): lla variable elegida para organizar los casos en columnas.\n",
    "- **valores** (values): las variables que se quieren observar dependiendo de los valores de las filas y columnas.\n",
    "\n",
    "Y se puede elegir una o más funciones de agregación para aplicar a los valores cuando son agregados."
   ]
  },
  {
   "cell_type": "code",
   "execution_count": 89,
   "metadata": {
    "jupyter": {
     "outputs_hidden": true
    }
   },
   "outputs": [
    {
     "data": {
      "text/html": [
       "<div>\n",
       "<style scoped>\n",
       "    .dataframe tbody tr th:only-of-type {\n",
       "        vertical-align: middle;\n",
       "    }\n",
       "\n",
       "    .dataframe tbody tr th {\n",
       "        vertical-align: top;\n",
       "    }\n",
       "\n",
       "    .dataframe thead tr th {\n",
       "        text-align: left;\n",
       "    }\n",
       "\n",
       "    .dataframe thead tr:last-of-type th {\n",
       "        text-align: right;\n",
       "    }\n",
       "</style>\n",
       "<table border=\"1\" class=\"dataframe\">\n",
       "  <thead>\n",
       "    <tr>\n",
       "      <th></th>\n",
       "      <th colspan=\"3\" halign=\"left\">Birthweight</th>\n",
       "    </tr>\n",
       "    <tr>\n",
       "      <th>LowBirthWeight</th>\n",
       "      <th>Low</th>\n",
       "      <th>Normal</th>\n",
       "      <th>Medias totales</th>\n",
       "    </tr>\n",
       "    <tr>\n",
       "      <th>smoker</th>\n",
       "      <th></th>\n",
       "      <th></th>\n",
       "      <th></th>\n",
       "    </tr>\n",
       "  </thead>\n",
       "  <tbody>\n",
       "    <tr>\n",
       "      <th>0</th>\n",
       "      <td>5.80</td>\n",
       "      <td>7.5</td>\n",
       "      <td>7.40</td>\n",
       "    </tr>\n",
       "    <tr>\n",
       "      <th>1</th>\n",
       "      <td>5.20</td>\n",
       "      <td>7.3</td>\n",
       "      <td>7.00</td>\n",
       "    </tr>\n",
       "    <tr>\n",
       "      <th>Medias totales</th>\n",
       "      <td>5.35</td>\n",
       "      <td>7.4</td>\n",
       "      <td>7.25</td>\n",
       "    </tr>\n",
       "  </tbody>\n",
       "</table>\n",
       "</div>"
      ],
      "text/plain": [
       "               Birthweight                      \n",
       "LowBirthWeight         Low Normal Medias totales\n",
       "smoker                                          \n",
       "0                     5.80    7.5           7.40\n",
       "1                     5.20    7.3           7.00\n",
       "Medias totales        5.35    7.4           7.25"
      ]
     },
     "execution_count": 89,
     "metadata": {},
     "output_type": "execute_result"
    }
   ],
   "source": [
    "df.pivot_table(\n",
    "    index=['smoker'],\n",
    "    columns = ['LowBirthWeight'],\n",
    "    values=['Birthweight'],\n",
    "#   aggfunc='median',\n",
    "#   margins = True,\n",
    "#   margins_name='Medias totales'\n",
    ")"
   ]
  },
  {
   "cell_type": "code",
   "execution_count": 96,
   "metadata": {
    "jupyter": {
     "outputs_hidden": true
    }
   },
   "outputs": [
    {
     "data": {
      "text/html": [
       "<div>\n",
       "<style scoped>\n",
       "    .dataframe tbody tr th:only-of-type {\n",
       "        vertical-align: middle;\n",
       "    }\n",
       "\n",
       "    .dataframe tbody tr th {\n",
       "        vertical-align: top;\n",
       "    }\n",
       "\n",
       "    .dataframe thead th {\n",
       "        text-align: right;\n",
       "    }\n",
       "</style>\n",
       "<table border=\"1\" class=\"dataframe\">\n",
       "  <thead>\n",
       "    <tr style=\"text-align: right;\">\n",
       "      <th></th>\n",
       "      <th></th>\n",
       "      <th>Birthweight</th>\n",
       "    </tr>\n",
       "    <tr>\n",
       "      <th>mage35</th>\n",
       "      <th>smoker</th>\n",
       "      <th></th>\n",
       "    </tr>\n",
       "  </thead>\n",
       "  <tbody>\n",
       "    <tr>\n",
       "      <th rowspan=\"2\" valign=\"top\">0</th>\n",
       "      <th>0</th>\n",
       "      <td>7.30</td>\n",
       "    </tr>\n",
       "    <tr>\n",
       "      <th>1</th>\n",
       "      <td>7.00</td>\n",
       "    </tr>\n",
       "    <tr>\n",
       "      <th rowspan=\"2\" valign=\"top\">1</th>\n",
       "      <th>0</th>\n",
       "      <td>9.00</td>\n",
       "    </tr>\n",
       "    <tr>\n",
       "      <th>1</th>\n",
       "      <td>6.00</td>\n",
       "    </tr>\n",
       "    <tr>\n",
       "      <th>Media total</th>\n",
       "      <th></th>\n",
       "      <td>7.25</td>\n",
       "    </tr>\n",
       "  </tbody>\n",
       "</table>\n",
       "</div>"
      ],
      "text/plain": [
       "                    Birthweight\n",
       "mage35      smoker             \n",
       "0           0              7.30\n",
       "            1              7.00\n",
       "1           0              9.00\n",
       "            1              6.00\n",
       "Media total                7.25"
      ]
     },
     "execution_count": 96,
     "metadata": {},
     "output_type": "execute_result"
    }
   ],
   "source": [
    "df.pivot_table(\n",
    "    index=['mage35', \"smoker\"],\n",
    "    values=['Birthweight'],\n",
    "    aggfunc='median',\n",
    "    margins = True,\n",
    "    margins_name='Media total'\n",
    ")"
   ]
  },
  {
   "cell_type": "markdown",
   "metadata": {},
   "source": [
    "Pandas nos permite realizar analisis para grupos escpicificos. En otras palabras, nos permite segmentar nuestro dataset en X grupos, donde X corresponde con los niveles de una o varias varibles. Ejemplo:"
   ]
  },
  {
   "cell_type": "code",
   "execution_count": 103,
   "metadata": {
    "jupyter": {
     "outputs_hidden": true
    }
   },
   "outputs": [
    {
     "data": {
      "text/html": [
       "<div>\n",
       "<style scoped>\n",
       "    .dataframe tbody tr th:only-of-type {\n",
       "        vertical-align: middle;\n",
       "    }\n",
       "\n",
       "    .dataframe tbody tr th {\n",
       "        vertical-align: top;\n",
       "    }\n",
       "\n",
       "    .dataframe thead th {\n",
       "        text-align: right;\n",
       "    }\n",
       "</style>\n",
       "<table border=\"1\" class=\"dataframe\">\n",
       "  <thead>\n",
       "    <tr style=\"text-align: right;\">\n",
       "      <th></th>\n",
       "      <th></th>\n",
       "      <th>id</th>\n",
       "      <th>headcirumference</th>\n",
       "      <th>length</th>\n",
       "      <th>Birthweight</th>\n",
       "      <th>Gestation</th>\n",
       "      <th>motherage</th>\n",
       "      <th>mnocig</th>\n",
       "      <th>mheight</th>\n",
       "      <th>mppwt</th>\n",
       "      <th>fage</th>\n",
       "      <th>fedyrs</th>\n",
       "      <th>fnocig</th>\n",
       "      <th>fheight</th>\n",
       "      <th>lowbwt</th>\n",
       "      <th>LowBirthWeight</th>\n",
       "    </tr>\n",
       "    <tr>\n",
       "      <th>smoker</th>\n",
       "      <th>mage35</th>\n",
       "      <th></th>\n",
       "      <th></th>\n",
       "      <th></th>\n",
       "      <th></th>\n",
       "      <th></th>\n",
       "      <th></th>\n",
       "      <th></th>\n",
       "      <th></th>\n",
       "      <th></th>\n",
       "      <th></th>\n",
       "      <th></th>\n",
       "      <th></th>\n",
       "      <th></th>\n",
       "      <th></th>\n",
       "      <th></th>\n",
       "    </tr>\n",
       "  </thead>\n",
       "  <tbody>\n",
       "    <tr>\n",
       "      <th rowspan=\"2\" valign=\"top\">0</th>\n",
       "      <th>0</th>\n",
       "      <td>19</td>\n",
       "      <td>19</td>\n",
       "      <td>19</td>\n",
       "      <td>19</td>\n",
       "      <td>19</td>\n",
       "      <td>19</td>\n",
       "      <td>19</td>\n",
       "      <td>19</td>\n",
       "      <td>19</td>\n",
       "      <td>19</td>\n",
       "      <td>19</td>\n",
       "      <td>19</td>\n",
       "      <td>19</td>\n",
       "      <td>19</td>\n",
       "      <td>19</td>\n",
       "    </tr>\n",
       "    <tr>\n",
       "      <th>1</th>\n",
       "      <td>1</td>\n",
       "      <td>1</td>\n",
       "      <td>1</td>\n",
       "      <td>1</td>\n",
       "      <td>1</td>\n",
       "      <td>1</td>\n",
       "      <td>1</td>\n",
       "      <td>1</td>\n",
       "      <td>1</td>\n",
       "      <td>1</td>\n",
       "      <td>1</td>\n",
       "      <td>1</td>\n",
       "      <td>1</td>\n",
       "      <td>1</td>\n",
       "      <td>1</td>\n",
       "    </tr>\n",
       "    <tr>\n",
       "      <th rowspan=\"2\" valign=\"top\">1</th>\n",
       "      <th>0</th>\n",
       "      <td>19</td>\n",
       "      <td>19</td>\n",
       "      <td>19</td>\n",
       "      <td>19</td>\n",
       "      <td>19</td>\n",
       "      <td>19</td>\n",
       "      <td>19</td>\n",
       "      <td>19</td>\n",
       "      <td>19</td>\n",
       "      <td>19</td>\n",
       "      <td>19</td>\n",
       "      <td>19</td>\n",
       "      <td>19</td>\n",
       "      <td>19</td>\n",
       "      <td>19</td>\n",
       "    </tr>\n",
       "    <tr>\n",
       "      <th>1</th>\n",
       "      <td>3</td>\n",
       "      <td>3</td>\n",
       "      <td>3</td>\n",
       "      <td>3</td>\n",
       "      <td>3</td>\n",
       "      <td>3</td>\n",
       "      <td>3</td>\n",
       "      <td>3</td>\n",
       "      <td>3</td>\n",
       "      <td>3</td>\n",
       "      <td>3</td>\n",
       "      <td>3</td>\n",
       "      <td>3</td>\n",
       "      <td>3</td>\n",
       "      <td>3</td>\n",
       "    </tr>\n",
       "  </tbody>\n",
       "</table>\n",
       "</div>"
      ],
      "text/plain": [
       "               id  headcirumference  length  Birthweight  Gestation  \\\n",
       "smoker mage35                                                         \n",
       "0      0       19                19      19           19         19   \n",
       "       1        1                 1       1            1          1   \n",
       "1      0       19                19      19           19         19   \n",
       "       1        3                 3       3            3          3   \n",
       "\n",
       "               motherage  mnocig  mheight  mppwt  fage  fedyrs  fnocig  \\\n",
       "smoker mage35                                                            \n",
       "0      0              19      19       19     19    19      19      19   \n",
       "       1               1       1        1      1     1       1       1   \n",
       "1      0              19      19       19     19    19      19      19   \n",
       "       1               3       3        3      3     3       3       3   \n",
       "\n",
       "               fheight  lowbwt  LowBirthWeight  \n",
       "smoker mage35                                   \n",
       "0      0            19      19              19  \n",
       "       1             1       1               1  \n",
       "1      0            19      19              19  \n",
       "       1             3       3               3  "
      ]
     },
     "execution_count": 103,
     "metadata": {},
     "output_type": "execute_result"
    }
   ],
   "source": [
    "df.groupby(by=['smoker', 'mage35']).count()"
   ]
  },
  {
   "cell_type": "code",
   "execution_count": 105,
   "metadata": {
    "jupyter": {
     "outputs_hidden": true
    }
   },
   "outputs": [
    {
     "data": {
      "text/plain": [
       "LowBirthWeight  smoker\n",
       "Low             0          1\n",
       "                1          5\n",
       "Normal          0         19\n",
       "                1         17\n",
       "Name: id, dtype: int64"
      ]
     },
     "execution_count": 105,
     "metadata": {},
     "output_type": "execute_result"
    }
   ],
   "source": [
    "df.groupby(by=['LowBirthWeight', 'smoker']).count()['id']"
   ]
  },
  {
   "cell_type": "code",
   "execution_count": 106,
   "metadata": {},
   "outputs": [
    {
     "data": {
      "text/plain": [
       "LowBirthWeight  smoker\n",
       "Low             0         33\n",
       "                1         35\n",
       "Normal          0         40\n",
       "                1         40\n",
       "Name: Gestation, dtype: int64"
      ]
     },
     "execution_count": 106,
     "metadata": {},
     "output_type": "execute_result"
    }
   ],
   "source": [
    "df.groupby(by=['LowBirthWeight', 'smoker'])['Gestation'].agg('median')"
   ]
  },
  {
   "cell_type": "markdown",
   "metadata": {},
   "source": [
    "### Actividad práctica\n",
    "Para la siguiente actividad vamos a usar el dataset del Titanic ([link](https://web.stanford.edu/class/archive/cs/cs109/cs109.1166/problem12.html)). \n",
    "Usa el link en la página para descargar el dataset y veamos:\n",
    "- Si hay datos faltantes\n",
    "- Cuantos gente sobrevivio \n",
    "- El promedio ('mean') del precio pagado por el ticket según si sobrevivieron o no."
   ]
  },
  {
   "cell_type": "markdown",
   "metadata": {},
   "source": [
    "### 4.\tAnálisis gráfico univariado"
   ]
  },
  {
   "cell_type": "markdown",
   "metadata": {},
   "source": [
    "#### Matplotlib"
   ]
  },
  {
   "cell_type": "markdown",
   "metadata": {},
   "source": [
    "Python ofrece una gran cantidad de librerias externas (es decir que las puede instalar usando `pip install`) para plotear datos. Dentro de las mas destacadas se encuentran [Seaborn](https://seaborn.pydata.org/), [Bokeh](https://docs.bokeh.org/en/latest/index.html), [Plotly](https://plotly.com/), entre otras. Sin embargo, Python ofrece una libreria por defecto llamada `matplotlib` que es muy versatil y siempre es una buena primera opción al momento de hacer nuestros primeros ploteos exploratorios.\n",
    "Por ejemplo, el gráfico que acabamos de realizar fue hecho tambien con `matplotlib`, Pandas lo usa por defecto en su función `plot()`.\n",
    "\n",
    "Exploremos un poco esta libreria:"
   ]
  },
  {
   "cell_type": "code",
   "execution_count": null,
   "metadata": {
    "jupyter": {
     "outputs_hidden": true
    }
   },
   "outputs": [],
   "source": [
    "import  matplotlib.pyplot as plt\n",
    "plt.plot(np.array([1,2,3,4]),\n",
    "         np.array([3,3,4,3]))"
   ]
  },
  {
   "cell_type": "markdown",
   "metadata": {},
   "source": [
    "Pasan varias cosas aquí.\n",
    "Primero observamos una leyenda que dice `[<matplotlib.lines.Line2D at ...>]`. Por qué sucede esto? Porque por defecto `plot()` produce un objeto gráfico.\n",
    "El usuario posee una gran capacidad para customizar estos gráficos y agregar detalles. Es aquí donde tanta flexibilidad puede volverse medio incomodo, ya que debemos recordar el nombre de todos los diferentes argumentos que queremos modificar. Una lista de estos puede consultarse [aquí](https://matplotlib.org/api/_as_gen/matplotlib.pyplot.html) y [aquí](https://matplotlib.org/api/_as_gen/matplotlib.pyplot.plot.html?highlight=matplotlib%20pyplot%20plot#matplotlib.pyplot.plot)."
   ]
  },
  {
   "cell_type": "markdown",
   "metadata": {},
   "source": [
    "#### Histograma\n",
    "En estadística, un histograma es una representación gráfica de una variable en forma de barras, donde la superficie de cada barra es proporcional a la frecuencia de los valores representados. Link a la [documentación](https://matplotlib.org/3.3.1/api/_as_gen/matplotlib.pyplot.hist.html) de matplotlib"
   ]
  },
  {
   "cell_type": "code",
   "execution_count": null,
   "metadata": {
    "jupyter": {
     "outputs_hidden": true
    }
   },
   "outputs": [],
   "source": [
    "plt.hist(df.motherage)"
   ]
  },
  {
   "cell_type": "markdown",
   "metadata": {},
   "source": [
    "Pandas va a utilizar Marplotlib para plotear los valores de cada columna. "
   ]
  },
  {
   "cell_type": "code",
   "execution_count": null,
   "metadata": {
    "jupyter": {
     "outputs_hidden": true
    }
   },
   "outputs": [],
   "source": [
    "df.motherage.plot(kind='hist')"
   ]
  },
  {
   "cell_type": "markdown",
   "metadata": {},
   "source": [
    "Si bien Pandas nos va a permitir realizar ciertos gráficos sobre nuestras columnas, vamos a ver como podemos hacer todo esto directamente usando `matplotlib`. Esto nos va a permitir mucha flexibilidad. A su vez, no siempre vamos a plotear datos provenientes de un dataframe por lo cual es importante aprender como hacer esto."
   ]
  },
  {
   "cell_type": "code",
   "execution_count": null,
   "metadata": {
    "jupyter": {
     "outputs_hidden": true
    }
   },
   "outputs": [],
   "source": [
    "plt.hist(df.motherage, edgecolor = 'black')\n",
    "plt.xlabel('Edad'), plt.ylabel('Frecuencia')\n",
    "plt.title('Frecuencia de edad de la madre')\n",
    "plt.show()"
   ]
  },
  {
   "cell_type": "markdown",
   "metadata": {},
   "source": [
    "`matplotlib` nos va a permitir plotear diferentes datos en un mismo par de ejes x,y. Para esto creamos un par de ejes iniciales, en este caso lo haremos directamente con la función `plot.hist()`. Luego plotearemos un nuevo grafico con nueva información sobre etos mismos ejes.\n",
    "Vamos a hacer dos histogramas, uno con los distribución de edad para Fumadores y otro para no Fumadores."
   ]
  },
  {
   "cell_type": "code",
   "execution_count": null,
   "metadata": {
    "jupyter": {
     "outputs_hidden": true
    }
   },
   "outputs": [],
   "source": [
    "#Fuman\n",
    "plt.hist(df[df.smoker == 1].motherage, \n",
    "         color = 'red',\n",
    "         edgecolor = 'k',\n",
    "         #histtype='step',\n",
    "         label= 'Fumador',\n",
    "         alpha = 0.4\n",
    "        )\n",
    "#Nofuman\n",
    "plt.hist(df[df.smoker == 0].motherage, \n",
    "         color = 'blue',\n",
    "         edgecolor = 'k',\n",
    "         #histtype='step',\n",
    "         label= 'No Fumador',\n",
    "         alpha = 0.4\n",
    "        )"
   ]
  },
  {
   "cell_type": "markdown",
   "metadata": {},
   "source": [
    "Vemos que ambos gráficos comparten los mismos ejes. Sin embargo, vemos que en este caso los 'bins' difieren en su localización lo cual vuelven la comparación un poco más difícil.\n",
    "A su vez vemos que la función `plot.hist()` devielve tres elementos antes de devolver el objeto gráfico. Estos son la frecuencia para cada bin, las coordenadas en el eje X de los bins, y los poligonos o barras."
   ]
  },
  {
   "cell_type": "code",
   "execution_count": null,
   "metadata": {
    "jupyter": {
     "outputs_hidden": true
    }
   },
   "outputs": [],
   "source": [
    "plt.figure(figsize=(8,5)) # creamos una figura, la vamos a hacer mas grande.\n",
    "valores, ticks , polygon = plt.hist(df[df.smoker == 1].motherage, \n",
    "                                     range= (16,46), # Seteamos el rango de datos que vamos a mostrar\n",
    "                                     bins = 10,  # Seteamos la cantidad de bins\n",
    "                                     edgecolor = 'red',\n",
    "                                     color = 'red',\n",
    "                                     label= 'Fumador',\n",
    "                                     alpha = 0.4\n",
    "                                    )\n",
    "plt.hist(df[df.smoker == 0].motherage,\n",
    "         range= (16,46),\n",
    "         bins = 10,\n",
    "         edgecolor = 'blue',\n",
    "         color = 'blue',\n",
    "         #histtype='step',\n",
    "         label= 'No fumador',\n",
    "         alpha = 0.4,\n",
    "        )\n",
    "\n",
    "plt.xlabel('Edad'), plt.ylabel('Frecuencia') # Nombramos nuestros ejes\n",
    "plt.xticks(ticks=ticks) # seteamos que los ticks sean los del primer grafico\n",
    "plt.legend()\n",
    "plt.show()"
   ]
  },
  {
   "cell_type": "markdown",
   "metadata": {},
   "source": [
    "#### Boxplot\n",
    "Los diagramas de Caja-Bigotes (boxplots o box and whiskers) son una presentación visual que describe varias características importantes, al mismo tiempo, tales como la dispersión y simetría.<br>\n",
    "Para su realización se representan los tres cuartiles y los valores mínimo y máximo de los datos, sobre un rectángulo, alineado horizontal o verticalmente.<br>\n",
    "Link a la [documentación](https://matplotlib.org/3.3.1/api/_as_gen/matplotlib.pyplot.boxplot.html) de matplotlib.\n"
   ]
  },
  {
   "cell_type": "markdown",
   "metadata": {},
   "source": [
    "![Boxplot](https://user-images.githubusercontent.com/43391630/97821719-70936980-1c81-11eb-8fa3-4ac05ecf07a2.png)\n"
   ]
  },
  {
   "cell_type": "code",
   "execution_count": null,
   "metadata": {
    "jupyter": {
     "outputs_hidden": true
    }
   },
   "outputs": [],
   "source": [
    "plt.boxplot(df.length)"
   ]
  },
  {
   "cell_type": "markdown",
   "metadata": {},
   "source": [
    "Vemos que la funcion `plt.boxplot` arroja como output un diccionario, en donde cada key corresponde a un elemento del gráfico. Vamos a utilizar este diccionario para modificar ciertas propiedades del grafico."
   ]
  },
  {
   "cell_type": "code",
   "execution_count": null,
   "metadata": {
    "jupyter": {
     "outputs_hidden": true
    }
   },
   "outputs": [],
   "source": [
    "# plt.figure(figsize=(10,5))\n",
    "dic = plt.boxplot(x = [\n",
    "                      df[df.smoker == 1].length,\n",
    "                      df[df.smoker == 0].length\n",
    "                      ],\n",
    "                  meanline=True,\n",
    "                  showmeans=True,\n",
    "                  widths=[0.7,0.7],\n",
    "                  labels=['Fumador','No Fumador']\n",
    "                 )\n",
    "[i.set_linewidth(0.3) for i in dic['boxes']] # Esto es una lista por comprension! \n",
    "#Si te cuesta entender que esta haciendo pensalo asi:\n",
    "    # Para cada elemento en dic['boxes'] va a aplicar el metodo .set_linewidth (dado que YA SE que ambos seran objetos con este metodo)\n",
    "dic['medians'][0].set_label('Mediana') # Como ambos objetos tienen media y mediana le colocare nombre a uno solo y luego ploteare la leyenda\n",
    "dic['means'][0].set_label('Media')\n",
    "\n",
    "plt.title('Largo del bebe al nacer')\n",
    "plt.legend()\n",
    "plt.show()"
   ]
  },
  {
   "cell_type": "markdown",
   "metadata": {},
   "source": [
    "#### Subplots\n",
    "`matplotlib` nos permite crear plots que contengan plots mas pequeños dentro, o mejor dicho subplots. \n",
    "Esto nos sera útil al momento de traducir metricas como las que vimos cuando usamos `pd.describe` de una manera gráfica para cada variable de interes."
   ]
  },
  {
   "cell_type": "code",
   "execution_count": null,
   "metadata": {
    "jupyter": {
     "outputs_hidden": true
    }
   },
   "outputs": [],
   "source": [
    "df.shape"
   ]
  },
  {
   "cell_type": "code",
   "execution_count": null,
   "metadata": {
    "jupyter": {
     "outputs_hidden": true
    }
   },
   "outputs": [],
   "source": [
    "df.columns"
   ]
  },
  {
   "cell_type": "code",
   "execution_count": null,
   "metadata": {
    "jupyter": {
     "outputs_hidden": true
    }
   },
   "outputs": [],
   "source": [
    "plt.subplots(nrows=4,ncols=3)"
   ]
  },
  {
   "cell_type": "markdown",
   "metadata": {},
   "source": [
    "Vemos que el output de `subplots` es una tupla con dos elementos una Figura y un array con Ejes (Axes). [Documentación](https://matplotlib.org/api/_as_gen/matplotlib.pyplot.subplots.html)<br>\n",
    "A modo breve, podemos decir que la Figura es el \"marco\" y los ejes los \"elementos\" de nuestro cuadro o imagen. \n",
    "Cada elemento tendra sus propios `atributos` y `metodos`. \n",
    "Sobre los ejes plotearemos nuestros gráficos individuales, en cada eje plotearemos un grafico puntual, epero como ya vimos tambien podemos superponer los graficos.<br> Usaremos la Figura solamente para modificar aspectos estéticos de la imagen como tal."
   ]
  },
  {
   "cell_type": "code",
   "execution_count": null,
   "metadata": {
    "jupyter": {
     "outputs_hidden": true
    }
   },
   "outputs": [],
   "source": [
    "fig, axs = plt.subplots(nrows=3,ncols=3)\n",
    "axs[0,0].boxplot(df.length) # Ploteo nuestro histograma en el primer eje\n",
    "axs[0,0].set_title('Largo al nacer') # Tambien puedo setear los mismo elementos que con un solo plot\n",
    "axs[0,0].set_ylabel('Lenght')\n",
    "fig.set_size_inches(10,8) # cambio el tamaño de TODA la figura\n",
    "plt.show()"
   ]
  },
  {
   "cell_type": "code",
   "execution_count": null,
   "metadata": {
    "jupyter": {
     "outputs_hidden": true
    }
   },
   "outputs": [],
   "source": [
    "vars_interesante = ['headcirumference', 'length', 'Birthweight', 'Gestation',\n",
    "        'motherage', 'mheight', 'mppwt','mnocig', 'fheight']\n",
    "fig, axs = plt.subplots(nrows=3,ncols=3)\n",
    "\n",
    "for idx, ax in enumerate(axs.ravel()):\n",
    "    ax.boxplot(df[vars_interesante[idx]])\n",
    "    ax.set_title(vars_interesante[idx]) \n",
    "    ax.set_xticklabels('') # Saquemos los labels ya que es una sola variable\n",
    "fig.set_size_inches(10,8)"
   ]
  },
  {
   "cell_type": "markdown",
   "metadata": {},
   "source": [
    "A simple vista podemos ver que nuestro dataset esta bastante bien curado. Hay muy poco valores outliers (aquellos por fuera de este rango interquartil, o 95% de los valores). En caso de tener muchos outliers en un caso deberiamos inspeccionar a que se puede deber esto. Cada dataset es un mundo, y entre mejor sepamos como los datos fueron recolectados mejor podremos entender a que se puede deber estos outliers. "
   ]
  },
  {
   "cell_type": "code",
   "execution_count": null,
   "metadata": {
    "jupyter": {
     "outputs_hidden": true
    }
   },
   "outputs": [],
   "source": [
    "axs.ravel()"
   ]
  },
  {
   "cell_type": "markdown",
   "metadata": {},
   "source": [
    "#### Barplot\n",
    "\n",
    "Un diagrama de barras, también conocido como gráfico de barras o gráfico de columnas, es una forma de representar gráficamente un conjunto de datos o valores mediante barras rectangulares de longitud proporcional a los valores representados. Los gráficos de barras pueden ser usados para comparar cantidades de una variable en diferentes momentos o diferentes variables para el mismo momento. Las barras pueden orientarse horizontal y verticalmente.\n",
    "\n",
    "Si bien `matplotlib` ofrece la posibilidad de generar estos gráficos, considero mas recomendable usar `Seaborn`. Esta librería nos ofrece funcionalidades muy buenas para poder hacer plots segmentando nuestras variables principales (x,y) por alguna variable secundaria mediante la opción `hue`.\n",
    "[Seaborn (Documentación)](https://seaborn.pydata.org/)\n",
    "\n",
    "En este caso vamos a usar un tipo de barplot específico denominado `countplot` el cual se utiliza para contar la cantidad de casos por categoría de variable"
   ]
  },
  {
   "cell_type": "code",
   "execution_count": null,
   "metadata": {
    "jupyter": {
     "outputs_hidden": true
    }
   },
   "outputs": [],
   "source": [
    "import seaborn as sns # Importo la librería"
   ]
  },
  {
   "cell_type": "code",
   "execution_count": null,
   "metadata": {
    "jupyter": {
     "outputs_hidden": true
    }
   },
   "outputs": [],
   "source": [
    "ax = sns.countplot(data = df,\n",
    "                   x='smoker')"
   ]
  },
  {
   "cell_type": "code",
   "execution_count": null,
   "metadata": {
    "jupyter": {
     "outputs_hidden": true
    }
   },
   "outputs": [],
   "source": [
    "ax = sns.catplot(data=df,\n",
    "                 x='smoker',\n",
    "                 kind='count')"
   ]
  },
  {
   "cell_type": "markdown",
   "metadata": {},
   "source": [
    "Seaborn es incluso más cómodo al momento de plotear subplots. Seaborn acepta como argumento `ax` un objeto de tipo Axes."
   ]
  },
  {
   "cell_type": "code",
   "execution_count": null,
   "metadata": {
    "jupyter": {
     "outputs_hidden": true
    }
   },
   "outputs": [],
   "source": [
    "fig, axs = plt.subplots(1,3)\n",
    "categoricas = ['smoker', 'mage35', 'LowBirthWeight']\n",
    "\n",
    "for idx, ax in enumerate(axs.ravel()):\n",
    "    sns.countplot(data = df,\n",
    "                  x = categoricas[idx],\n",
    "                  ax=ax\n",
    "                 )\n",
    "fig.set_size_inches(10,5)"
   ]
  },
  {
   "cell_type": "markdown",
   "metadata": {},
   "source": [
    "### 5. Análisis bivariado"
   ]
  },
  {
   "cell_type": "markdown",
   "metadata": {},
   "source": [
    "Hasta ahora hemos puesto enfasis en los graficos univariados, pero ya hemos visto como hemos incluido otras variables en nuestros gráficos (ej largo dividido por fumanod/no fumador). \n",
    "No solo nos interesa saber como se \"ve\" una variable particular, sino como interactua con otras variables de nuestro dataset. Esto nos va a permitir empezar a dilucidar ciertas hipotesis, problemas, etc."
   ]
  },
  {
   "cell_type": "code",
   "execution_count": null,
   "metadata": {
    "jupyter": {
     "outputs_hidden": true
    }
   },
   "outputs": [],
   "source": [
    "# Seaborn nos ofrece un comando simple en el cual vamos a poder plotear todos las variables de nuestro dataset\n",
    "# contra todas las demas. Si bien puede ser útil veremos que cuando tenemos muchos datos esto puede ser confuso\n",
    "sns.pairplot(df)"
   ]
  },
  {
   "cell_type": "code",
   "execution_count": null,
   "metadata": {
    "jupyter": {
     "outputs_hidden": true
    }
   },
   "outputs": [],
   "source": [
    "sns.pairplot(df.loc[:,['Birthweight','headcirumference', 'length', \n",
    "                       'Gestation','mnocig', 'mheight', 'mppwt','smoker']],)\n",
    "            #hue='smoker')"
   ]
  },
  {
   "cell_type": "code",
   "execution_count": null,
   "metadata": {
    "jupyter": {
     "outputs_hidden": true
    }
   },
   "outputs": [],
   "source": [
    "sns.scatterplot(data=df, x='mppwt', y='Birthweight', hue='smoker')"
   ]
  },
  {
   "cell_type": "markdown",
   "metadata": {
    "colab_type": "text",
    "id": "_Xe9c8HnHMbp"
   },
   "source": [
    "En este dataset contamos con varias columnas. Cuando tenemos demasiada información puede ser confuso entender qué está pasando. En esos casos es bueno representar la información gráficamente. Vamos a crear una [matrix de correlacion](https://es.wikipedia.org/wiki/Matriz_de_correlaci%C3%B3n#:~:text=Estas%20variables%20independientes%20o%20explicativas,la%20relaci%C3%B3n%20entre%20cada%20pareja)"
   ]
  },
  {
   "cell_type": "markdown",
   "metadata": {},
   "source": [
    "#### Correlation plot"
   ]
  },
  {
   "cell_type": "code",
   "execution_count": null,
   "metadata": {
    "colab": {
     "base_uri": "https://localhost:8080/",
     "height": 565
    },
    "colab_type": "code",
    "id": "DQ3VRg9aeQRk",
    "jupyter": {
     "outputs_hidden": true
    },
    "outputId": "9099e82a-110e-4ece-e42f-9ac3320d001e"
   },
   "outputs": [],
   "source": [
    "# Correlacion\n",
    "# Pandas viene por defecto con una función que calcula la matriz por nosotros --> corr \n",
    "df.corr()"
   ]
  },
  {
   "cell_type": "code",
   "execution_count": null,
   "metadata": {
    "colab": {
     "base_uri": "https://localhost:8080/",
     "height": 368
    },
    "colab_type": "code",
    "id": "WXGgZhiaepBp",
    "jupyter": {
     "outputs_hidden": true
    },
    "outputId": "b71944d8-4f90-4d04-9d16-ccdba85c1198"
   },
   "outputs": [],
   "source": [
    "# Vamos a usar seabron para plotear esta matriz\n",
    "import seaborn as sbn # Libreria para plotear, mas linda que matplotlib y con graficos útiles\n",
    "sbn.heatmap(df.corr())"
   ]
  },
  {
   "cell_type": "markdown",
   "metadata": {
    "colab_type": "text",
    "id": "c5vJnGHIH3mh"
   },
   "source": [
    " Baia baia, si bien ahora podemos ver toda la información al mismo tiempo, aún no es muy claro.  Vamos a hacer una matriz mas bonita y facil de entender usando numpy y seaborn"
   ]
  },
  {
   "cell_type": "code",
   "execution_count": null,
   "metadata": {
    "colab": {
     "base_uri": "https://localhost:8080/",
     "height": 592
    },
    "colab_type": "code",
    "id": "KYLqD1aojsmj",
    "jupyter": {
     "outputs_hidden": true
    },
    "outputId": "d1ffc20f-2ff9-4b55-ec1c-0afc4a1034a2"
   },
   "outputs": [],
   "source": [
    "mask = np.triu(np.ones_like(df.corr(), dtype=np.bool)) # vamos a quedarnos solo con el triangulo inferior de la matriz\n",
    "# np.triu devuelve una matriz triangular, en este caso populada con booleans (True) para el triangulo inferior.\n",
    "\n",
    "plt.figure(figsize = (10,10)) # creo una figura con un tamañ de 10*10\n",
    "sbn.heatmap(df.corr(),\n",
    "            mask=mask, #seaborn viene con la opcion de alimentar a nuestro plot con una mascara\n",
    "            center=0,  #centramos el valor de correlacion 0 como el punto medio de nuestra barra\n",
    "            cmap = 'RdBu',\n",
    "            # Elegimos un mapa de colores mas intuitivo (https://seaborn.pydata.org/generated/seaborn.color_palette.html#seaborn.color_palette)\n",
    "            square=True, \n",
    "            linewidths=.5,\n",
    "            cbar_kws={\"shrink\": .7})\n",
    "plt.title('Matriz de correlación')\n",
    "plt.show()"
   ]
  },
  {
   "cell_type": "markdown",
   "metadata": {
    "colab_type": "text",
    "id": "JQNV4zxOyVua"
   },
   "source": [
    "**Esto se ve mucho mejor!**\n",
    "Si observamos el grafico automáticamente se observan 3 lineas rojas:\n",
    "\n",
    "`smoker` : Codifica si la madre fumó o no durante el embarazo (nominal)<br>\n",
    "`mnocig` : Numero de cigarrillos fumados por la madre por día<br>\n",
    "`lowbwt` : Bajo peso al nacer (nominal)<br>\n",
    "\n",
    "Para este curso vamos a concentrarnos en una sola variable para hacer nuestros análisis. Utilizaremos una variable similar a `lowbwt ` pero expresada de una manera cuantitativa: `Birthweight`. Esta variable indica el peso del recien nacido en libras.\n",
    "\n",
    "Dada nuestra matriz de correlación, podemos suponer que el peso de un recien nacido puede estar influenciado por el consumo de tabaco da la madre durante el embarazo.\n",
    "\n",
    " *Pequeña aclaración, si bien podemos hacer análisis inferencial sobre estos datos, esto no implica que se realizo un diseño experimental para poder corroborar causalidad entre estas variables.*"
   ]
  },
  {
   "cell_type": "markdown",
   "metadata": {},
   "source": [
    "---"
   ]
  },
  {
   "cell_type": "markdown",
   "metadata": {
    "colab_type": "text",
    "id": "N9VSgkVGcLgV"
   },
   "source": [
    "## 4. Introducción a la estadística inferencial"
   ]
  },
  {
   "cell_type": "markdown",
   "metadata": {
    "colab_type": "text",
    "id": "EsyENebyH5_-"
   },
   "source": [
    "**Que veremos en esta unidad:**\n",
    "\n",
    "- [Contraste de hipotesis][Modeling]\n",
    "- Introduccion a [Statsmodels][Statsmodels]\n",
    "- Test de normalidad de variables [Shapiro-Wilk][Shapiro-Wilk]\n",
    "- [QQplots][QQplots]\n",
    "- Distintos [datasets][Datasets] disponibles\n",
    "\n",
    "[Modeling]:http://conceptosclaros.com/contraste-hipotesis/\n",
    "[Statsmodels]:https://www.statsmodels.org/stable/index.html\n",
    "[Shapiro-Wilk]:https://machinelearningmastery.com/a-gentle-introduction-to-normality-tests-in-python/\n",
    "[QQplots]:https://www.geeksforgeeks.org/qqplot-quantile-quantile-plot-in-python/\n",
    "[Datasets]:https://www.sheffield.ac.uk/mash/statistics/datasets"
   ]
  },
  {
   "cell_type": "code",
   "execution_count": null,
   "metadata": {
    "colab": {},
    "colab_type": "code",
    "id": "I4LSyKxbdG3Q",
    "jupyter": {
     "outputs_hidden": true
    }
   },
   "outputs": [],
   "source": [
    "# Importamos librerias que nos seran útiles \n",
    "import scipy.stats as stat  # Libreria con diversos test estadísticos\n",
    "import seaborn as sbn  # Libreria para plotear, mas linda que matplotlib y con graficos útiles"
   ]
  },
  {
   "cell_type": "markdown",
   "metadata": {},
   "source": [
    "### Distribution plot"
   ]
  },
  {
   "cell_type": "code",
   "execution_count": null,
   "metadata": {
    "colab": {
     "base_uri": "https://localhost:8080/",
     "height": 279
    },
    "colab_type": "code",
    "id": "VKdYrx5e0bwE",
    "jupyter": {
     "outputs_hidden": true
    },
    "outputId": "540d1dab-7a6d-4cde-949b-1a5b0cd74ea7"
   },
   "outputs": [],
   "source": [
    "# Seaborn nos permite no solo plotear el histograma, sino tambien la distribucion de la variable\n",
    "sbn.distplot(df.Birthweight,\n",
    "             bins = 10,\n",
    "             color = 'purple',\n",
    "             hist_kws={'edgecolor':'k'})\n",
    "plt.show()"
   ]
  },
  {
   "cell_type": "code",
   "execution_count": null,
   "metadata": {
    "colab": {
     "base_uri": "https://localhost:8080/",
     "height": 370
    },
    "colab_type": "code",
    "id": "aJ4sQ0g60kUo",
    "jupyter": {
     "outputs_hidden": true
    },
    "outputId": "b620f91f-0f31-41fe-f68e-53c8bc5a9361"
   },
   "outputs": [],
   "source": [
    "peso_fumador = df[df.smoker == 1].Birthweight # vamos a aislar nuestras variables dependiendo si la madre fumó o no durante el embarazo\n",
    "peso_no_fumador = df[df.smoker == 0].Birthweight"
   ]
  },
  {
   "cell_type": "code",
   "execution_count": null,
   "metadata": {
    "colab": {
     "base_uri": "https://localhost:8080/",
     "height": 370
    },
    "colab_type": "code",
    "id": "aJ4sQ0g60kUo",
    "jupyter": {
     "outputs_hidden": true
    },
    "outputId": "b620f91f-0f31-41fe-f68e-53c8bc5a9361"
   },
   "outputs": [],
   "source": [
    "# Plots\n",
    "fig, axs = plt.subplots(1,2,figsize = (10,5)) # Dado que tengo dos grupos vamos a plotearlos uno al lado del otro\n",
    "# plt.subplots() nos va a devolver en este caso una figura y unos ejes, mas precisamente devolverá 2 ejes.\n",
    "# los dos primeros numeros (1,2) significa 1 fila ,  2 columnas\n",
    "\n",
    "sbn.distplot(peso_no_fumador,\n",
    "             bins = 8,\n",
    "             color = 'green',\n",
    "             hist_kws={'edgecolor':'k'},\n",
    "             label = 'No fumador',\n",
    "             ax=axs[0])\n",
    "axs[0].legend(bbox_to_anchor=(2.7,1)) # Modifico la ubicacion de la leyenda\n",
    "axs[0].set_ylabel('Density') # Le pongo un nombre al eje y\n",
    "\n",
    "sbn.distplot(peso_fumador,\n",
    "             bins = 8,\n",
    "             color = 'red',\n",
    "             hist_kws={'edgecolor':'k'},\n",
    "             label = 'Fumador',\n",
    "             ax=axs[1])\n",
    "axs[1].legend(bbox_to_anchor=(1.45,.9)) # Modifico la ubicacion de la leyenda\n",
    "plt.suptitle('Distribucion de mis dos variables') # Titulo de toda la figura\n",
    "plt.show()"
   ]
  },
  {
   "cell_type": "markdown",
   "metadata": {
    "colab_type": "text",
    "id": "oFBWjM6NSzh6"
   },
   "source": [
    "### Graficos de cajas y bigotes ('Boxplot')"
   ]
  },
  {
   "cell_type": "code",
   "execution_count": null,
   "metadata": {
    "colab": {
     "base_uri": "https://localhost:8080/",
     "height": 0
    },
    "colab_type": "code",
    "id": "NzYq2KzIO533",
    "jupyter": {
     "outputs_hidden": true
    },
    "outputId": "7e8495ab-3856-4593-f4e6-9fa0eea40ca1"
   },
   "outputs": [],
   "source": [
    "fig = plt.boxplot([peso_no_fumador,peso_fumador],\n",
    "            labels=['No fumador', 'Fumador'],\n",
    "            patch_artist=True)\n",
    "\n",
    "fig['boxes'][0].set(facecolor = 'green')\n",
    "fig['boxes'][1].set(facecolor = 'red')\n",
    "plt.ylabel('Peso al nacer (libras)')\n",
    "plt.show()"
   ]
  },
  {
   "cell_type": "code",
   "execution_count": null,
   "metadata": {
    "colab": {
     "base_uri": "https://localhost:8080/",
     "height": 0
    },
    "colab_type": "code",
    "id": "yNBe6pJ7UIyM",
    "jupyter": {
     "outputs_hidden": true
    },
    "outputId": "208e4f24-6874-4630-de25-5675080ebe65"
   },
   "outputs": [],
   "source": [
    "# Podemos usar Seaborn en lugar de lib. Observe las diferencias entre una libreria y otra\n",
    "ax = sbn.boxplot(data = df, y = 'Birthweight', x = 'smoker',  hue='smoker', palette={0:'green', 1:'red'})\n",
    "ax.set_xticklabels(['No fumador','Fumador'])\n",
    "plt.show()"
   ]
  },
  {
   "cell_type": "markdown",
   "metadata": {
    "colab_type": "text",
    "id": "2LhI46mzx26w"
   },
   "source": [
    "A primera vista hay una diferencia en el peso al nacer y el hecho de fumar o no. El primer paso antes de realizar cualquier tipo de test estadístico es corroborar los supuestos de los test que queremos emplear. En este caso, usaremos test paramétricos los cuales tienen diversos supuestos, siendo los principales la normalidad de nuestras variables y la igualdad de varianza\n",
    "\n",
    " Para mas información consultar el siguiente [link](https://www.scientific-european-federation-osteopaths.org/wp-content/uploads/2019/01/Estad%C3%ADstica-param%C3%A9trica.pdf)\n",
    "\n",
    " Vamos a plotear la distribución de nuestra variable `peso al nacer`, para ver si luce normalmente distribuída."
   ]
  },
  {
   "cell_type": "code",
   "execution_count": null,
   "metadata": {
    "colab": {
     "base_uri": "https://localhost:8080/",
     "height": 0
    },
    "colab_type": "code",
    "id": "wrF2OM5E8Ntj",
    "jupyter": {
     "outputs_hidden": true
    },
    "outputId": "59c69871-f51e-43af-dcd1-7dde070f79bd"
   },
   "outputs": [],
   "source": [
    "sbn.distplot(peso_no_fumador,\n",
    "             bins = 8,\n",
    "             color = 'green',\n",
    "             hist_kws={'edgecolor':'k'},\n",
    "             label = 'No fumador',\n",
    "             hist = False) \n",
    "\n",
    "sbn.distplot(peso_fumador,\n",
    "             bins = 8,\n",
    "             color = 'red',\n",
    "             hist_kws={'edgecolor':'k'},\n",
    "             label = 'Fumador',\n",
    "             hist = False)\n",
    "plt.legend()\n",
    "plt.show()"
   ]
  },
  {
   "cell_type": "markdown",
   "metadata": {
    "colab_type": "text",
    "id": "H9TN0egh8vj2"
   },
   "source": [
    "Las distribuciones se ven normales, estando la distribucion para los `No fumadores` corrida a la derecha. Los valores para los `No fumadores` parecerían estar mas concentrado alrededor de la media. Esto nos daria una idea de la varianza de los datos. \n",
    "Para indagar más detalladamente sobre la normalidad de nuestros datos, podemos plotear un [QQ-plot](https://www.geeksforgeeks.org/qqplot-quantile-quantile-plot-in-python/)"
   ]
  },
  {
   "cell_type": "markdown",
   "metadata": {},
   "source": [
    "### QQ plot"
   ]
  },
  {
   "cell_type": "code",
   "execution_count": null,
   "metadata": {
    "colab": {
     "base_uri": "https://localhost:8080/",
     "height": 0
    },
    "colab_type": "code",
    "id": "Z5O5x9hm38tE",
    "jupyter": {
     "outputs_hidden": true
    },
    "outputId": "3bfc545c-2266-42cb-bd4f-74960497ec0a"
   },
   "outputs": [],
   "source": [
    "import statsmodels.api as sm  # Esta libreria cuenta con diferentes pruebas estadisticas.\n",
    "\n",
    "fig, axs = plt.subplots(1,2, figsize = (10,5))\n",
    "_ = sm.qqplot(peso_fumador, line ='s', ax = axs[1], label = 'Fumador')  # Por que el _? porque la funcion sm.qqplot por defecto plotea el grafico\n",
    "_ = sm.qqplot(peso_no_fumador, line ='s', ax = axs[0], label = 'No fumador')  # y como queremos plotearlos juntos no nos importa el output\n",
    "axs[1].set_title('Fumador')\n",
    "axs[0].set_title('No fumador')\n",
    "plt.show()"
   ]
  },
  {
   "cell_type": "markdown",
   "metadata": {
    "colab_type": "text",
    "id": "FektPMgY9h0D"
   },
   "source": [
    "Si bien los datos lucen normalmente distribuidos, podemos corroborar esto realizando un test de normalidad. Para eso usaremos el test de normalidad [Shapiro-Wilk](https://machinelearningmastery.com/a-gentle-introduction-to-normality-tests-in-python/)"
   ]
  },
  {
   "cell_type": "code",
   "execution_count": null,
   "metadata": {
    "colab": {
     "base_uri": "https://localhost:8080/",
     "height": 0
    },
    "colab_type": "code",
    "id": "tugYyUOdDqnX",
    "jupyter": {
     "outputs_hidden": true
    },
    "outputId": "da08cc18-b0b9-4004-92b6-6557356b6aad"
   },
   "outputs": [],
   "source": [
    "s, p = stat.shapiro(peso_fumador)\n",
    "print('Fumadores', f'Shapiro Wilk = {s:.2f}',f'p-value = {p:.2f}', sep='\\n')"
   ]
  },
  {
   "cell_type": "code",
   "execution_count": null,
   "metadata": {
    "colab": {
     "base_uri": "https://localhost:8080/",
     "height": 0
    },
    "colab_type": "code",
    "id": "7UUFH0JfF9k8",
    "jupyter": {
     "outputs_hidden": true
    },
    "outputId": "3ee7057f-e87a-4517-f589-9f22ffb7efe2"
   },
   "outputs": [],
   "source": [
    "s, p = stat.shapiro(peso_no_fumador)\n",
    "print('No fumadores', f'Shapiro Wilk = {s:.2f}',f'p-value = {p:.2f}', sep='\\n')"
   ]
  },
  {
   "cell_type": "markdown",
   "metadata": {
    "colab_type": "text",
    "id": "PF5Cf6bW-2dP"
   },
   "source": [
    "Testeemos la homoceasticidad (o igualdad de varianzas) de las variables solo para estar seguros. Para eso usaremos el test de homoceasticidad de [Bartlett](https://docs.scipy.org/doc/scipy/reference/generated/scipy.stats.bartlett.html?highlight=bartlett#scipy.stats.bartlett)"
   ]
  },
  {
   "cell_type": "code",
   "execution_count": null,
   "metadata": {
    "colab": {
     "base_uri": "https://localhost:8080/",
     "height": 0
    },
    "colab_type": "code",
    "id": "hXWy97df-mu_",
    "jupyter": {
     "outputs_hidden": true
    },
    "outputId": "8805a7d6-3aa8-4cb0-bb06-7abdd6a79fcb"
   },
   "outputs": [],
   "source": [
    "s, p = stat.bartlett(peso_fumador,peso_no_fumador)\n",
    "print('Homoceasticidad de varianza',\n",
    "      f'Bartlet (T) = {s:.2f}',\n",
    "      f'p-value = {p:.2f}', sep = '\\n')"
   ]
  },
  {
   "cell_type": "markdown",
   "metadata": {
    "colab_type": "text",
    "id": "A4BwcURc_d7H"
   },
   "source": [
    "### Test de Student \n",
    "Ralizamos un test de student para observar si hay o no diferencias entre las medias de la población de nuestras variables"
   ]
  },
  {
   "cell_type": "code",
   "execution_count": null,
   "metadata": {
    "colab": {},
    "colab_type": "code",
    "id": "IKE0Ed_jG3bP",
    "jupyter": {
     "outputs_hidden": true
    }
   },
   "outputs": [],
   "source": [
    "t,p,dg = sm.stats.ttest_ind(peso_fumador,peso_no_fumador)\n",
    "# Esto se llama unpacking. Dado que la funcion devuelve tres valores yo puedo elegir guardarlo como una lista\n",
    "# o puedo asignarlo a tres variables diferentes."
   ]
  },
  {
   "cell_type": "code",
   "execution_count": null,
   "metadata": {
    "colab": {
     "base_uri": "https://localhost:8080/",
     "height": 0
    },
    "colab_type": "code",
    "id": "sVwYSJLJOjie",
    "jupyter": {
     "outputs_hidden": true
    },
    "outputId": "6e66a9b6-1119-43c3-fd88-4a5c3399dd3c"
   },
   "outputs": [],
   "source": [
    "print(f'Se rechaza la hipotesis nula (H0) de que las dos distribuciones son iguales.',\n",
    "      f'Hay una diferencia estadísticamente significativa entre las medias (T={t:.2f} , p={p:.3f})',\n",
    "      'Se puede afirmar que los niños recien nacidos de madres fumadores, pesan menos al nacer que los niños' \\\n",
    "      'de madres que no fumaron durante el embarazo',\n",
    "      sep = '\\n')"
   ]
  },
  {
   "cell_type": "markdown",
   "metadata": {},
   "source": [
    "**Importante** A pesar de que podemos afirmar una diferencia entre las medias de estas poblaciónes no podemos afirmar causalidad debido a que este es un análisis retrospectivo. "
   ]
  },
  {
   "cell_type": "markdown",
   "metadata": {
    "colab_type": "text",
    "id": "VXxeOrK1NN3D"
   },
   "source": [
    "### Aproximación al modelado estadístico usando Python "
   ]
  },
  {
   "cell_type": "markdown",
   "metadata": {},
   "source": [
    "Si bien, el modelado estadístico en Python per se amerita un curso por si mismo, no quería terminar sin mostrar una breve aproximación. \n",
    "Si bien R es por defecto la primera opción cuando hablamos de modelados estadístico cláasico, librerías como Statsmodels nos ofrece los principales test estadísticos de una manera amigable. \n",
    "Para esta breve demostración queria utilizar nuesto ya conocido dataset y emplear una [Regresion líneal](https://www.statsmodels.org/stable/regression.html)\n",
    "\n",
    "Ahora bien, si realizamos una regresión lineal usando `smoker` como factor, no va a ser diferente (o no deberia al menos!) del T-Test que realizamos anteriormente. \n",
    "Para recapitular, esta es la formula empleada en la regresión líneal:\n",
    "\n",
    "$$ y = Xβ + μ , \\text{donde}\\, μ ∼ N(0,Σ)$$\n",
    "\n",
    "En nuestro caso intentaremos predecir **y** (`Birthweight`), usando como covariables unicamente una sola variable: `smoker`. Por ende mas que una matriz, usaremos un vector."
   ]
  },
  {
   "cell_type": "code",
   "execution_count": null,
   "metadata": {
    "colab": {},
    "colab_type": "code",
    "id": "pN1WFDOqW8r9",
    "jupyter": {
     "outputs_hidden": true
    }
   },
   "outputs": [],
   "source": [
    "import statsmodels.api as sm # Importamos la libreria \n",
    "X = sm.add_constant(df[['smoker']]) # Definimos nuestra matriz de covariables X y le agregamos nuestro vector de coeficientes 𝛽 utilizando la función add_constant\n",
    "y = df.Birthweight \n",
    "model = sm.OLS(y,X)\n",
    "result = model.fit()"
   ]
  },
  {
   "cell_type": "code",
   "execution_count": null,
   "metadata": {
    "jupyter": {
     "outputs_hidden": true
    }
   },
   "outputs": [],
   "source": [
    "#Si quieres ver como se ve esta matriz descomenta la línea de abajo\n",
    "#X  "
   ]
  },
  {
   "cell_type": "code",
   "execution_count": null,
   "metadata": {
    "jupyter": {
     "outputs_hidden": true
    }
   },
   "outputs": [],
   "source": [
    "print(result.summary())  # Printeamos nuestros resultado."
   ]
  },
  {
   "cell_type": "markdown",
   "metadata": {},
   "source": [
    "Nuevamente vemos que nuestro valor $T = -2.054$ y $p=0.047$. Esto nos permite nuevamente rechazar la $H_O$ de que los dos grupos tienen iguales medias.  \n",
    "\n",
    "Y si estas acostumbrado a R y te gusta escribir las formulas puede sencillamente usar el modulo `formula`. <br>\n",
    "Tambien es más cómodo para escribir interacciones entre variables. Para indagar mas acerca de esto consultar el siguiente [link](https://www.statsmodels.org/devel/example_formulas.html)<br>\n",
    "Veamos un ejemplo"
   ]
  },
  {
   "cell_type": "code",
   "execution_count": null,
   "metadata": {
    "jupyter": {
     "outputs_hidden": true
    }
   },
   "outputs": [],
   "source": [
    "from statsmodels.formula.api import ols  # Importo el modelo `ols` de otro modulo, en este caso el modulo `formula`\n",
    "model_formula=\"Birthweight ~ smoker\"   # Identica sintaxis que en R\n",
    "r_model = ols(formula=model_formula, data = df).fit()\n",
    "print(r_model.summary())"
   ]
  },
  {
   "cell_type": "markdown",
   "metadata": {},
   "source": [
    "**Ambos resultados coinciden!!**\n",
    "\n",
    "Veamos un poco mas de cerca que predijo nuestro modelo, para eso usaremos nuestras habilidades con matplotlib!\n"
   ]
  },
  {
   "cell_type": "code",
   "execution_count": null,
   "metadata": {
    "jupyter": {
     "outputs_hidden": true
    }
   },
   "outputs": [],
   "source": [
    "import matplotlib.pyplot as plt\n",
    "import seaborn as sbn\n",
    "\n",
    "plt.figure(figsize=(15,5)) # Establezco un tamaño grande para trabajar mas cómodo\n",
    "plt.plot(result.predict(X)[result.predict(X) > 7], marker = 'd',markersize = 5, linewidth = 0, color = 'lightgreen') # El modelo solo predice dos valores, es decir, un valor para fumadores y otro para no fumadores\n",
    "plt.plot(result.predict(X)[result.predict(X) < 7], marker = 'd',markersize = 5, linewidth = 0, color = 'tomato') # Puedes observar los diferentes valores printeando `result.predict(X)`\n",
    "plt.ylim(df.Birthweight.min(),df.Birthweight.max()) # Seteo límites para que coincida con nuestro próximo gráfico\n",
    "plt.show()"
   ]
  },
  {
   "cell_type": "code",
   "execution_count": null,
   "metadata": {
    "jupyter": {
     "outputs_hidden": true
    }
   },
   "outputs": [],
   "source": [
    "plt.figure(figsize=(15,5))\n",
    "plt.plot(result.predict(X)[result.predict(X) > 7], marker = 'd', markersize = 5, linewidth = 0, color = 'lightgreen')\n",
    "plt.plot(result.predict(X)[result.predict(X) < 7], marker = 'd', markersize = 5, linewidth = 0, color = 'tomato') \n",
    "plt.plot(df[df.smoker == 1].Birthweight,  marker = '.', linewidth = 0, markersize = 10, color = 'red', label = 'Fumador') # Agreguemos nuestros valores ya conocidos para ver que tal le fue a nuestro modelo!\n",
    "plt.plot(df[df.smoker == 0].Birthweight,  marker = '.', linewidth = 0, markersize = 10, color = 'green', label = 'No fumador')\n",
    "\n",
    "plt.ylabel('Peso al nacer (en libras)')\n",
    "plt.xlabel('N de observación')\n",
    "plt.legend()\n",
    "plt.show()"
   ]
  },
  {
   "cell_type": "markdown",
   "metadata": {},
   "source": [
    "A simple vista no es muy sorprendente, pero recordemos que estamos usando una regresión para emular una simple comparacion entre grupos. \n",
    "\n",
    "Intentemos un modelo un poco más complejo que tenga en cuenta variables la altura de la madre, dado que estaa variable puede estar influenciando el peso del recien nacido."
   ]
  },
  {
   "cell_type": "code",
   "execution_count": null,
   "metadata": {
    "jupyter": {
     "outputs_hidden": true
    }
   },
   "outputs": [],
   "source": [
    "model_formula=\"Birthweight ~ smoker + mheight\" \n",
    "model_complex = ols(formula=model_formula, data = df).fit()\n",
    "print(model_complex.summary())"
   ]
  },
  {
   "cell_type": "code",
   "execution_count": null,
   "metadata": {
    "jupyter": {
     "outputs_hidden": true
    }
   },
   "outputs": [],
   "source": [
    "from statsmodels.stats.anova import anova_lm # importamos un test para comparar ambos modelos, el inicial mas simple y nuestro modelo mas complejo\n",
    "anova_lm(result,model_complex)"
   ]
  },
  {
   "cell_type": "markdown",
   "metadata": {},
   "source": [
    "Si el lector lo deseá puede consular el siguiente [post](https://medium.com/@rrfd/f-tests-and-anovas-examples-with-the-iris-dataset-fe7caa3e21d0) explicando mas acerca de este F-Test.\n",
    "En resumen, nuestro modelo más complejo es mejor para explicar la variabilidad de nuestra variable de interes.\n",
    "\n",
    "Veamos que predijo"
   ]
  },
  {
   "cell_type": "code",
   "execution_count": null,
   "metadata": {
    "jupyter": {
     "outputs_hidden": true
    }
   },
   "outputs": [],
   "source": [
    "plt.figure(figsize=(15,5))\n",
    "plt.plot(model_complex.predict(df[['smoker','mheight']]), marker = 'd', markersize = 5, linewidth = 0, color = 'gray')\n",
    "plt.plot(df[df.smoker == 1].Birthweight,  marker = '.', linewidth = 0, markersize = 10, color = 'red', label = 'Fumador')\n",
    "plt.plot(df[df.smoker == 0].Birthweight,  marker = '.', linewidth = 0, markersize = 10, color = 'green', label = 'No fumador')\n",
    "\n",
    "plt.ylabel('Peso al nacer (en libras)')\n",
    "plt.xlabel('N de observación')\n",
    "plt.legend()\n",
    "plt.show()"
   ]
  },
  {
   "cell_type": "code",
   "execution_count": null,
   "metadata": {
    "jupyter": {
     "outputs_hidden": true
    }
   },
   "outputs": [],
   "source": []
  }
 ],
 "metadata": {
  "colab": {
   "authorship_tag": "ABX9TyN7NHwadcJqQPYXRH/yt9K/",
   "collapsed_sections": [
    "VZjiJwOeK2Ut",
    "bdMMEBheOBBv"
   ],
   "include_colab_link": true,
   "mount_file_id": "1ictXWIHYhvhYn83Rw_4_N_FcLK71Ut2W",
   "name": "Propuesta_curso.ipynb",
   "provenance": [],
   "toc_visible": true
  },
  "kernelspec": {
   "display_name": "Python 3",
   "language": "python",
   "name": "python3"
  },
  "language_info": {
   "codemirror_mode": {
    "name": "ipython",
    "version": 3
   },
   "file_extension": ".py",
   "mimetype": "text/x-python",
   "name": "python",
   "nbconvert_exporter": "python",
   "pygments_lexer": "ipython3",
   "version": "3.6.2"
  },
  "toc-autonumbering": false,
  "toc-showcode": false,
  "toc-showmarkdowntxt": false
 },
 "nbformat": 4,
 "nbformat_minor": 4
}
