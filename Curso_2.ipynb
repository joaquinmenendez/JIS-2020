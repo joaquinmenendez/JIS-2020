{
  "nbformat": 4,
  "nbformat_minor": 0,
  "metadata": {
    "colab": {
      "name": "Curso_2.ipynb",
      "provenance": [],
      "collapsed_sections": [],
      "toc_visible": true,
      "include_colab_link": true
    },
    "kernelspec": {
      "display_name": "Python 3",
      "language": "python",
      "name": "python3"
    },
    "language_info": {
      "codemirror_mode": {
        "name": "ipython",
        "version": 3
      },
      "file_extension": ".py",
      "mimetype": "text/x-python",
      "name": "python",
      "nbconvert_exporter": "python",
      "pygments_lexer": "ipython3",
      "version": "3.6.2"
    },
    "toc-autonumbering": false,
    "toc-showcode": false,
    "toc-showmarkdowntxt": false
  },
  "cells": [
    {
      "cell_type": "markdown",
      "metadata": {
        "id": "view-in-github",
        "colab_type": "text"
      },
      "source": [
        "<a href=\"https://colab.research.google.com/github/joaquinmenendez/JIS-2020/blob/main/Curso_2.ipynb\" target=\"_parent\"><img src=\"https://colab.research.google.com/assets/colab-badge.svg\" alt=\"Open In Colab\"/></a>"
      ]
    },
    {
      "cell_type": "markdown",
      "metadata": {
        "id": "OY4hYTN96B0t"
      },
      "source": [
        "#  Exploración y visualización de datos en Python\n",
        "Docentes a cargo: [Joaquín Menéndez](https://www.linkedin.com/in/joaquin-menendez/)\n",
        "\n",
        "Tanto este curso como el curso `Introducción a Python para ciencia de datos e IA` pueden accederse en el siguiente repositorio [JIS-2020](https://github.com/joaquinmenendez/JIS-2020)"
      ]
    },
    {
      "cell_type": "markdown",
      "metadata": {
        "id": "gs64cTKqz4kk"
      },
      "source": [
        "## Temas\n",
        "\n",
        "1. Introducción a Numpy y Pandas\n",
        "    - `array`, matrices, `Series` y `DataFrames`\n",
        "    - Leer archivos  \n",
        "    - Interactuar con nuestro dataset (indexing, filtering, merge)\n",
        "2. Análisis Exploratorio de Datos\n",
        "    - Análisis descriptivo (none values, media, percentiles, outliers) \n",
        "    - Plotear los graficos mas comunes (barras, boxplot, lineplot, matrix de correlaciones) \n",
        "4. Introducción a la Estadística inferencial\n",
        "    - Evaluar normalidad de nuestros datos\n",
        "    - Comparar Hipotesis\n",
        "    - Regresion Lineal usando `statsmodels`"
      ]
    },
    {
      "cell_type": "markdown",
      "metadata": {
        "id": "IyLi10hw4Me1"
      },
      "source": [
        "## Links útiles\n",
        "- [Anaconda](https://www.anaconda.com/products/individual)\n",
        "- [Google Colab](https://colab.research.google.com/)\n",
        "- [2 meses grátis de Datacamp](https://docs.microsoft.com/en-us/visualstudio/subscriptions/vs-datacamp)\n",
        "- [StackOverflow](https://stackoverflow.com/)\n",
        "- [Python (documentación)](https://python-reference.readthedocs.io/en/latest/index.html#)\n",
        "- [Slicing](https://python-reference.readthedocs.io/en/latest/docs/brackets/slicing.html)\n",
        "\n"
      ]
    },
    {
      "cell_type": "markdown",
      "metadata": {
        "id": "z8a8A0uTVCI2"
      },
      "source": [
        "# ¿Qué es el Análisis Exploratorio de Datos?"
      ]
    },
    {
      "cell_type": "markdown",
      "metadata": {
        "id": "053qtm0jz4kl"
      },
      "source": [
        "Hemos visto en el primer curso algo de Pandas y sus diferentes funciones. En este módulo, indagaremos más acerca de cómo usarlo para realizar un 'Analisis Exploratorio de los Datos' o `EDA` (en ingles, 'Exploratory Data Analysis'). El EDA es un paso previo e imprescindible a la hora de comprender los datos con los que se va a trabajar y altamente recomendable para una correcta metodología de investigación.\n",
        "\n",
        "El objetivo de este análisis es explorar, describir, resumir y visualizar la naturaleza de los datos recogidos en las variables del proyecto o investigación de interés, mediante la aplicación de técnicas simples de resumen de datos y métodos gráficos sin asumir asunciones para su interpretación. Luego de la `Adquisicion` de los datos, el `EDA` es el tercer paso en todo proyecto de Analisis de Datos. <br>\n",
        "\n",
        "![Ciclo de vida de los datos](https://www.eduliticas.com/wp-content/uploads/2017/05/pasos-clave-ciclo-analitico.png)"
      ]
    },
    {
      "cell_type": "markdown",
      "metadata": {
        "id": "74XprDOYz4km"
      },
      "source": [
        "Podemos decir de una manera general que los pasos en la exploración y preprocesamiento de datos son:\n",
        "1. Identificación de variables y tipos de datos\n",
        "2. Analizando las métricas básicas\n",
        "3. Análisis univariante no gráfico\n",
        "4. Análisis gráfico univariado\n",
        "5. Análisis bivariado\n",
        "6. Transformaciones variables\n",
        "7. Tratamiento de valor perdido\n",
        "8. Tratamiento de valores atípicos\n",
        "9. Análisis de correlación\n",
        "10. Reducción de dimensionalidad\n",
        "\n",
        "En este curso no vamos a ver en profundidad los puntos `[7,8,10]` dado que ameritan un curso en si mismos y usualmente son herramientas o pasos mas orientados a la creación de modelos estadísticos o de Machine Learning."
      ]
    },
    {
      "cell_type": "markdown",
      "metadata": {
        "id": "Unk_XuEYaAi4"
      },
      "source": [
        "## 1. Introducción a Numpy y Pandas\n",
        "\n",
        "Antes de empezar con el EDA propiamente repasamos las dos principales librerías que usaremos."
      ]
    },
    {
      "cell_type": "markdown",
      "metadata": {
        "id": "NAO6bDH8z4km"
      },
      "source": [
        "### Numpy\n",
        "**Arrays y Matrices**"
      ]
    },
    {
      "cell_type": "markdown",
      "metadata": {
        "id": "-qzvN_uOQ8EI"
      },
      "source": [
        "La programación gráfica se fundamenta sobre la idea de manipular información almacenada en unas estructuras conocidas como vectores y matrices. En Python (nativo) la única forma de simular estas estructuras es usando listas y lo malo es que son muy limitadas respecto a las funciones matemáticas que permiten. Numpy viene a solucionar esa carencia ofreciéndonos un nuevo tipo de dato llamado array.\n",
        "\n",
        "Un array es parecido a una lista en Python y de hecho se pueden crear a partir de ellas:"
      ]
    },
    {
      "cell_type": "code",
      "metadata": {
        "id": "-NBlZrPiTJxT",
        "jupyter": {
          "outputs_hidden": true
        }
      },
      "source": [
        "import numpy as np \n",
        "from IPython import display\n",
        "# Vamos a importa la libreria Numpy y vamos a abreviarla para no escribir tanto en el futuro"
      ],
      "execution_count": null,
      "outputs": []
    },
    {
      "cell_type": "code",
      "metadata": {
        "id": "G8xDrqPaTLJC",
        "jupyter": {
          "outputs_hidden": true
        }
      },
      "source": [
        "array = np.array([1,2,3,4,5])\n",
        "array"
      ],
      "execution_count": null,
      "outputs": []
    },
    {
      "cell_type": "code",
      "metadata": {
        "jupyter": {
          "outputs_hidden": true
        },
        "id": "3m60gGBBz4ko"
      },
      "source": [
        "# Propiedades importantes de los arrays\n",
        "print( 'Dimensiones:', array.shape)\n",
        "print( 'Tipo de datos:', array.dtype)"
      ],
      "execution_count": null,
      "outputs": []
    },
    {
      "cell_type": "code",
      "metadata": {
        "jupyter": {
          "outputs_hidden": true
        },
        "id": "HpKA1Mziz4kp"
      },
      "source": [
        "# Funciones que operan sobre los arrays\n",
        "print( 'Valor Mínimo', array.min())\n",
        "print( 'Valor Máximo', array.max())\n",
        "print( 'Media', array.mean())\n",
        "print( 'Desvío Standard', array.std())\n",
        "print( 'Indice que contiene el valor máximo', array.argmax())\n"
      ],
      "execution_count": null,
      "outputs": []
    },
    {
      "cell_type": "code",
      "metadata": {
        "id": "BUBfA6ybTPl9",
        "jupyter": {
          "outputs_hidden": true
        }
      },
      "source": [
        "array2 = np.array([1,2,3, \"cuatro\"])\n",
        "array2.dtype"
      ],
      "execution_count": null,
      "outputs": []
    },
    {
      "cell_type": "code",
      "metadata": {
        "id": "9nfDS9z8TTfS",
        "jupyter": {
          "outputs_hidden": true
        }
      },
      "source": [
        "array2.mean()"
      ],
      "execution_count": null,
      "outputs": []
    },
    {
      "cell_type": "markdown",
      "metadata": {
        "id": "Dvq6KEBOTklN"
      },
      "source": [
        "Si bien es posible incluir mas de un tipo de data en un Array, esto nos va a impedir realizar ciertas operaciones. Esto es importante para cuando trabajemos con columnas.\n"
      ]
    },
    {
      "cell_type": "markdown",
      "metadata": {
        "id": "cX93jJGUUWJr"
      },
      "source": [
        "**Indexing**\n",
        "\n",
        "Al igual que en las listas, vamos a poder indexar o \"llamar\"a un o varios elementos de nuestro array.\n",
        "La siguiente imagen muestra como \"Seleccionabamos\" elementos de una lista.<br>\n",
        "![Slicing](https://user-images.githubusercontent.com/43391630/94975818-dc4ab100-04e0-11eb-85ab-b58939445f1b.png)\n",
        "\n",
        "Ahora bien, en el caso de los arrays veremos que tenemos una pequeña diferencia. Estos pueden tener la forma de una lista, pero pueden tener dos dimensiones (filas y columnas), hasta las N dimensiones que queramos.<br>\n",
        "![Indexing](https://user-images.githubusercontent.com/43391630/94975755-a3aad780-04e0-11eb-8eab-37d8e205a888.png)"
      ]
    },
    {
      "cell_type": "code",
      "metadata": {
        "id": "IZG5g9E6UGlp",
        "jupyter": {
          "outputs_hidden": true
        }
      },
      "source": [
        "# Ejemplo de como indexar un array de una dimension\n",
        "var = np.array([1,2,3,4,5])\n",
        "var[0], var[-1]"
      ],
      "execution_count": null,
      "outputs": []
    },
    {
      "cell_type": "code",
      "metadata": {
        "id": "cwG3LuT5UQUm",
        "jupyter": {
          "outputs_hidden": true
        }
      },
      "source": [
        "#Como mencionamos anteriormente un array puede tener mas de una diemnsión\n",
        "matrix_var = np.array([\n",
        "                       [1,2,3],\n",
        "                       [4,5,6],\n",
        "                       [7,8,9]\n",
        "])\n",
        "print(\"Dimensión:\", matrix_var.shape)\n",
        "matrix_var"
      ],
      "execution_count": null,
      "outputs": []
    },
    {
      "cell_type": "code",
      "metadata": {
        "id": "SGkb8JCGUf5x",
        "jupyter": {
          "outputs_hidden": true
        }
      },
      "source": [
        "matrix_var[0]"
      ],
      "execution_count": null,
      "outputs": []
    },
    {
      "cell_type": "code",
      "metadata": {
        "id": "TPBG7iBFUhC7",
        "jupyter": {
          "outputs_hidden": true
        }
      },
      "source": [
        "matrix_var[1,-1]  # Primer elementos las filas, segundo elemento las columnas"
      ],
      "execution_count": null,
      "outputs": []
    },
    {
      "cell_type": "code",
      "metadata": {
        "id": "ZxwOA-UwUubn",
        "jupyter": {
          "outputs_hidden": true
        }
      },
      "source": [
        "matrix_var[:,1:] # Dame de todas las filas, los valores de la segunda columna hasta la ultima columna"
      ],
      "execution_count": null,
      "outputs": []
    },
    {
      "cell_type": "markdown",
      "metadata": {
        "id": "gVQvL2esVgbN"
      },
      "source": [
        "Para mas informacion de como usar los indices para seleccionar datos, consultar la [documentacion](https://numpy.org/doc/stable/reference/arrays.indexing.html) de Numpy."
      ]
    },
    {
      "cell_type": "markdown",
      "metadata": {
        "id": "muYWM1wmz4ks"
      },
      "source": [
        "**Operaciones** \n",
        "\n",
        "Otra de las ventajas de numpy es que nos permite realizar operaciones entre arrays y escalares y arrays y otros arrays."
      ]
    },
    {
      "cell_type": "code",
      "metadata": {
        "id": "QakFIOYCTUfv",
        "jupyter": {
          "outputs_hidden": true
        }
      },
      "source": [
        "# Sumar un escalar a todos los elementos de un array\n",
        "np.array([1,2,3]) + 3"
      ],
      "execution_count": null,
      "outputs": []
    },
    {
      "cell_type": "code",
      "metadata": {
        "jupyter": {
          "outputs_hidden": true
        },
        "id": "60pdxp37z4ks"
      },
      "source": [
        "# Sumar un array con otro array\n",
        "np.array([1,2,3,4,5]) + np.array([9,9,9,9,9])"
      ],
      "execution_count": null,
      "outputs": []
    },
    {
      "cell_type": "markdown",
      "metadata": {
        "id": "SRfoFT-mz4kt"
      },
      "source": [
        "Cuando realicemos operaciones entre arrays es importante que ambos tengan las mismas dimensiones, sino Numpy no sabra como operar y tendremos un errror como el siguiente:"
      ]
    },
    {
      "cell_type": "code",
      "metadata": {
        "jupyter": {
          "outputs_hidden": true
        },
        "id": "scqvIoGuz4kt"
      },
      "source": [
        "np.array([1,2,3,4,5]) + np.array([9,5])"
      ],
      "execution_count": null,
      "outputs": []
    },
    {
      "cell_type": "code",
      "metadata": {
        "id": "uoyTGxVnz4kt"
      },
      "source": [
        "# Restas\n",
        "np.array([1,2,3,4,5]) - np.array([9,9,9,9,9])"
      ],
      "execution_count": null,
      "outputs": []
    },
    {
      "cell_type": "code",
      "metadata": {
        "id": "eHky5cIzUDZO",
        "jupyter": {
          "outputs_hidden": true
        }
      },
      "source": [
        "# Multiplicar un array o vector por un escalar\n",
        "np.array([1,2,3,4,5]) * 2"
      ],
      "execution_count": null,
      "outputs": []
    },
    {
      "cell_type": "code",
      "metadata": {
        "id": "5KHtqxIgWdWX",
        "jupyter": {
          "outputs_hidden": true
        }
      },
      "source": [
        "# Las mismas operaciones pueden realizarse con arrays de mas dimensiones, o comunmente denominados matrices\n",
        "display.display(matrix_var)\n",
        "matrix_var * 2"
      ],
      "execution_count": null,
      "outputs": []
    },
    {
      "cell_type": "code",
      "metadata": {
        "id": "VjpAefEGWf8m",
        "jupyter": {
          "outputs_hidden": true
        }
      },
      "source": [
        "matrix_var * matrix_var # Multiplicacion pair-wise"
      ],
      "execution_count": null,
      "outputs": []
    },
    {
      "cell_type": "code",
      "metadata": {
        "id": "OOGZR2ukWkv6",
        "jupyter": {
          "outputs_hidden": true
        }
      },
      "source": [
        "matrix_var @ np.array([1,1,1]) # Multiplicacion de matrices"
      ],
      "execution_count": null,
      "outputs": []
    },
    {
      "cell_type": "markdown",
      "metadata": {
        "id": "Njw1DUjYZ6F3"
      },
      "source": [
        "Para mas informacion acerca de las principales operaciones algebraicas utilizando Numpy consultar este [link](https://cmdlinetips.com/2019/06/9-basic-linear-algebra-operations-with-numpy/)"
      ]
    },
    {
      "cell_type": "markdown",
      "metadata": {
        "id": "uDGvFo0uV0B4"
      },
      "source": [
        "### Pandas\n",
        "\n",
        "Pandas es una de las librerías de Python más usadas para análisis de datos. El nombre pandas viene de \"Panel Data Analysis\" y su funcionalidad permite hacer operaciones sobre datos que se encuentran en memoria de manera eficiente.\n",
        "\n",
        "Pandas es útil para trabajar sobre datos tabulares, con dos condiciones importantes:\n",
        "\n",
        "    I. Los datos se encuentran enteramente en la memoria RAM. Con lo cual, el tamaño de los datos que podemos manipular está limitado por el hardware. Como regla de pulgar, es una buena práctica no ocupar más de 1/3 de la memoria RAM de nuestro dispositivo con el dataset.\n",
        "\n",
        "    II. En pandas, las operaciones sobre filas y columnas son, en general, eficientes porque se hacen de forma \"vectorizada\". En realidad esta optimización, se hace desde numpy, una librería para realizar operaciones matemáticas que se utilizó a su vez para escribir pandas."
      ]
    },
    {
      "cell_type": "code",
      "metadata": {
        "id": "owyD0GI9V2oi",
        "jupyter": {
          "outputs_hidden": true
        }
      },
      "source": [
        "import pandas as pd  #Importamos la libreria"
      ],
      "execution_count": null,
      "outputs": []
    },
    {
      "cell_type": "markdown",
      "metadata": {
        "id": "Cb2KyxkYz4kv"
      },
      "source": [
        "**Series**"
      ]
    },
    {
      "cell_type": "code",
      "metadata": {
        "id": "Xj7OcxYuV30e",
        "jupyter": {
          "outputs_hidden": true
        }
      },
      "source": [
        "# Series\n",
        "serie = pd.Series(data = [1,2,2,3,4,5,5,5,5])\n",
        "serie"
      ],
      "execution_count": null,
      "outputs": []
    },
    {
      "cell_type": "code",
      "metadata": {
        "jupyter": {
          "outputs_hidden": true
        },
        "id": "o37RGmIDz4kv"
      },
      "source": [
        "# Propiedades importantes de las series\n",
        "print('Tipo de objetos que tiene:', serie.dtype)\n",
        "print('Nombre:', serie.name)\n",
        "print('Index:',serie.index)\n",
        "print('Valores:',serie.values)"
      ],
      "execution_count": null,
      "outputs": []
    },
    {
      "cell_type": "code",
      "metadata": {
        "id": "Iv7ryEBqV6DQ",
        "jupyter": {
          "outputs_hidden": true
        }
      },
      "source": [
        "serie.min()"
      ],
      "execution_count": null,
      "outputs": []
    },
    {
      "cell_type": "code",
      "metadata": {
        "id": "GaXopaiBWHw6",
        "jupyter": {
          "outputs_hidden": true
        }
      },
      "source": [
        "serie.max()"
      ],
      "execution_count": null,
      "outputs": []
    },
    {
      "cell_type": "code",
      "metadata": {
        "id": "6738zBwYWI_y",
        "jupyter": {
          "outputs_hidden": true
        }
      },
      "source": [
        "serie.idxmax()  # Devuelve el indice donde se encuentra el maximo valor de mi serie."
      ],
      "execution_count": null,
      "outputs": []
    },
    {
      "cell_type": "code",
      "metadata": {
        "id": "lXLEvJC9WKrk",
        "jupyter": {
          "outputs_hidden": true
        }
      },
      "source": [
        "serie[serie.idxmax()]"
      ],
      "execution_count": null,
      "outputs": []
    },
    {
      "cell_type": "code",
      "metadata": {
        "id": "N1rnEJvgWXsh",
        "jupyter": {
          "outputs_hidden": true
        }
      },
      "source": [
        "## Funciones que operan sobre los arrays\n",
        "# Similares a las que usamos anteriomente con nuestros arrays. Esto no es una sorpresa dado que Pandas esta montado sobre Numpy\n",
        "print('Media',serie.mean())\n",
        "print('Mediana',serie.median())\n",
        "print('Moda', serie.mode().values)\n",
        "print('Desvio Standard',serie.std())"
      ],
      "execution_count": null,
      "outputs": []
    },
    {
      "cell_type": "markdown",
      "metadata": {
        "id": "yQYuggYGz4kw"
      },
      "source": [
        "Al mismo tiempo podemos aplicar metodos propios de las Series"
      ]
    },
    {
      "cell_type": "code",
      "metadata": {
        "id": "00N3gId4X0iS",
        "jupyter": {
          "outputs_hidden": true
        }
      },
      "source": [
        "serie.astype(str).mean()  #Podemos pedir el valor promedio pero no va a tener ningun sentido para nosotros"
      ],
      "execution_count": null,
      "outputs": []
    },
    {
      "cell_type": "code",
      "metadata": {
        "jupyter": {
          "outputs_hidden": true
        },
        "id": "zz-JqHsFz4kw"
      },
      "source": [
        "serie.count()"
      ],
      "execution_count": null,
      "outputs": []
    },
    {
      "cell_type": "code",
      "metadata": {
        "jupyter": {
          "outputs_hidden": true
        },
        "id": "gSwskScGz4kx"
      },
      "source": [
        "serie.unique()"
      ],
      "execution_count": null,
      "outputs": []
    },
    {
      "cell_type": "code",
      "metadata": {
        "jupyter": {
          "outputs_hidden": true
        },
        "id": "jt8W45Wnz4kx"
      },
      "source": [
        "serie.nunique()"
      ],
      "execution_count": null,
      "outputs": []
    },
    {
      "cell_type": "markdown",
      "metadata": {
        "id": "FoPo1uGpz4kx"
      },
      "source": [
        "**Masking**\n",
        "\n",
        "Llamamos `masking`cuando sometemos a un `array` o una `Series` a una evaluación lógica, para filtrar los datos que coincidan con dicha evaluación. Una mascara es un array de booleanos, con  True en los valores que cumplen la condición y False donde no. Una vez que creamos la máscara, podemos usarla para seleccionar de nuestro arreglo aquellos elementos que queremos filtrar.\n",
        "\n",
        "\n"
      ]
    },
    {
      "cell_type": "code",
      "metadata": {
        "jupyter": {
          "outputs_hidden": true
        },
        "id": "T3eWYlydz4kx"
      },
      "source": [
        "mask = serie > 4\n",
        "mask"
      ],
      "execution_count": null,
      "outputs": []
    },
    {
      "cell_type": "code",
      "metadata": {
        "jupyter": {
          "outputs_hidden": true
        },
        "id": "gQRAEs-Zz4kx"
      },
      "source": [
        "serie[mask] # Solo debería seleccionar los valores mayores a 4"
      ],
      "execution_count": null,
      "outputs": []
    },
    {
      "cell_type": "markdown",
      "metadata": {
        "id": "q3Pnu2kSz4kx"
      },
      "source": [
        "**Dataframes**"
      ]
    },
    {
      "cell_type": "code",
      "metadata": {
        "id": "t30gkfRhX3jn",
        "jupyter": {
          "outputs_hidden": true
        }
      },
      "source": [
        "## DataFrame\n",
        "df = pd.DataFrame(data = {'columna1' : [1,2,3],\n",
        "                          'columna2' : [\"uno\", \"dos\", \"tres\"]\n",
        "                         })\n",
        "df"
      ],
      "execution_count": null,
      "outputs": []
    },
    {
      "cell_type": "code",
      "metadata": {
        "jupyter": {
          "outputs_hidden": true
        },
        "id": "EwvdVno5z4ky"
      },
      "source": [
        "# Propiedades importantes de los dataframes\n",
        "print('Columnas: ', df.columns)\n",
        "print('Index: ', df.index)\n",
        "print('Dimensiones: ',df.shape)"
      ],
      "execution_count": null,
      "outputs": []
    },
    {
      "cell_type": "code",
      "metadata": {
        "id": "O7A5kXREYA6R",
        "jupyter": {
          "outputs_hidden": true
        }
      },
      "source": [
        "df.describe() #Nuevamente vemos que el typo de data nos va a permitir ciertas operaciones"
      ],
      "execution_count": null,
      "outputs": []
    },
    {
      "cell_type": "code",
      "metadata": {
        "id": "TfbFhZGFZETe",
        "jupyter": {
          "outputs_hidden": true
        }
      },
      "source": [
        "df.dtypes"
      ],
      "execution_count": null,
      "outputs": []
    },
    {
      "cell_type": "code",
      "metadata": {
        "jupyter": {
          "outputs_hidden": true
        },
        "id": "AYbGiv0Uz4ky"
      },
      "source": [
        "df.info() # si queremos tener un pantallazo mas completo"
      ],
      "execution_count": null,
      "outputs": []
    },
    {
      "cell_type": "markdown",
      "metadata": {
        "id": "lHYLGqMdz4kz"
      },
      "source": [
        "### Actividad práctica\n",
        "Pandas puede crear dataframes si les pasamos una URL. \n",
        "Proba de ver el siguiente dataset: https://raw.githubusercontent.com/joaquinmenendez/JIS-2020/main/data/admision_universidad.csv"
      ]
    },
    {
      "cell_type": "markdown",
      "metadata": {
        "id": "b4114JKwz4kz"
      },
      "source": [
        "La idea es que cargues este dataset y uses el método describe para ver un pantallazo rápido de los datos.\n",
        "Pandas te permite leer archivos usando los métodos `.read_...`. Fijate cuál es la extensión del archivo y eso te dará una pista de que método usar.\n",
        "- Queremos saber cual es la mediana para el GPA\n",
        "- Vamos a usar un filtro para hacer dos grupos unos con un GPA < a la mediana y otro con un GPA >=\n",
        "- Para cada una de estas grupos vamos a calcular la media del GMAT.\n"
      ]
    },
    {
      "cell_type": "markdown",
      "metadata": {
        "id": "LAu-C6K_z4kz"
      },
      "source": [
        "## 2. Exploracion y Análisis de datos"
      ]
    },
    {
      "cell_type": "markdown",
      "metadata": {
        "id": "iyllQWHnz4kz"
      },
      "source": [
        "Podemos decir de una manera general que los pasos en la exploración y preprocesamiento de datos son:\n",
        "1. Identificación de variables y tipos de datos\n",
        "2. Analizando las métricas básicas\n",
        "3. Análisis univariante no gráfico\n",
        "4. Análisis gráfico univariado\n",
        "5. Análisis bivariado\n",
        "6. Transformaciones de variables\n",
        "7. Tratamiento de valor perdido\n",
        "8. Tratamiento de valores atípicos\n",
        "9. Análisis de correlación\n",
        "10. Reducción de dimensionalidad\n",
        "\n",
        "En este curso no vamos a ver en profundidad los puntos `[7,8,10]` dado que ameritan un curso en si mismos y usualmente son herramientas o pasos mas orientados a la creación de modelos estadísticos o de Machine Learning."
      ]
    },
    {
      "cell_type": "markdown",
      "metadata": {
        "id": "Vf4uyXgWz4kz"
      },
      "source": [
        "Vamos a descargar un dataset con datos mas similares a la vida real.<br>\n",
        "Este conjunto de datos contiene información sobre bebés recién nacidos y sus padres. Contiene principalmente variables continuas (aunque algunas tienen solo unos pocos valores, por ejemplo, el número de cigarrillos fumados por día) y es más útil para la correlación y regresión. El peso al nacer de los bebés que las madres fumaron se ha ajustado ligeramente para exagerar las diferencias entre las madres que fumaban y las que no fumaban.<br>\n",
        "Puedes encontrar mas información de este dataset [aquí](https://rdrr.io/cran/UsingR/man/babies.html).\n"
      ]
    },
    {
      "cell_type": "code",
      "metadata": {
        "jupyter": {
          "outputs_hidden": true
        },
        "id": "oKTU0J4Bz4kz"
      },
      "source": [
        "import pandas as pd"
      ],
      "execution_count": null,
      "outputs": []
    },
    {
      "cell_type": "code",
      "metadata": {
        "jupyter": {
          "outputs_hidden": true
        },
        "id": "dbPZCkr2z4k0"
      },
      "source": [
        "df = pd.read_csv('./data/babiesdata.csv')  # Leo un archivo en mi filesystem\n",
        "df.head(5)  # Mostrame las primeras 5 filas"
      ],
      "execution_count": null,
      "outputs": []
    },
    {
      "cell_type": "markdown",
      "metadata": {
        "id": "6_mxc_Srz4k0"
      },
      "source": [
        "### 1. Identificación de variables y tipos de datos"
      ]
    },
    {
      "cell_type": "code",
      "metadata": {
        "jupyter": {
          "outputs_hidden": true
        },
        "id": "q6DkYhZMz4k0"
      },
      "source": [
        "df.shape"
      ],
      "execution_count": null,
      "outputs": []
    },
    {
      "cell_type": "code",
      "metadata": {
        "jupyter": {
          "outputs_hidden": true
        },
        "id": "RNMFNW3Zz4k0"
      },
      "source": [
        "df.dtypes"
      ],
      "execution_count": null,
      "outputs": []
    },
    {
      "cell_type": "code",
      "metadata": {
        "jupyter": {
          "outputs_hidden": true
        },
        "id": "zTIUcwEtz4k0"
      },
      "source": [
        "# Verificar si hay datos faltantes\n",
        "df.isna().sum()"
      ],
      "execution_count": null,
      "outputs": []
    },
    {
      "cell_type": "code",
      "metadata": {
        "jupyter": {
          "outputs_hidden": true
        },
        "id": "cuMN_Wf2z4k1"
      },
      "source": [
        "round(df.isna().sum() / df.shape[0] * 100, 2)"
      ],
      "execution_count": null,
      "outputs": []
    },
    {
      "cell_type": "markdown",
      "metadata": {
        "id": "LYBlHkinz4k1"
      },
      "source": [
        "Ojo! Miramos el porcentaje de datos faltante del padre. Esto nos puede dar cuenta de que el padre no estaba presente al momento de la evaluación o quizas que no estuvo presente durante el embarazo."
      ]
    },
    {
      "cell_type": "markdown",
      "metadata": {
        "id": "1TL80C4Yz4k1"
      },
      "source": [
        "**Removiendo valores faltantes**"
      ]
    },
    {
      "cell_type": "code",
      "metadata": {
        "jupyter": {
          "outputs_hidden": true
        },
        "id": "bD8EsaVaz4k1"
      },
      "source": [
        "df_notna = df.copy()\n",
        "df_notna = df_notna.dropna()"
      ],
      "execution_count": null,
      "outputs": []
    },
    {
      "cell_type": "markdown",
      "metadata": {
        "id": "gyr2-_1qz4k1"
      },
      "source": [
        "Notaras que usamos un comando llamado `copy`, lo que hace es otorgarnos una copia de los valores, en vez de el mismo objeto. Esto es un tema un poco complejo, pero la explicación breve es que cuando asignamos valores a una variable Python los guarda de manera diferenciada. Por una parte tenemos el nombre de la variable, y por otro el contenido. En vez de duplicar los datos, python asigna `punteros` señalando donde estan los datos. Esto es comodo ya que Python hace todo el trabajo, pero si hacemos modificaciones en nuestros datos, esto repercutira en todas las variables que apuntaban a los mismos. Una discusión acerca de este tema puede encontrarse [aquí](https://es.stackoverflow.com/questions/397/entendiendo-la-ausencia-de-punteros-en-python)"
      ]
    },
    {
      "cell_type": "markdown",
      "metadata": {
        "id": "g5m5htu2z4k1"
      },
      "source": [
        "**Removiendo columnas que no son de nuestro interes**"
      ]
    },
    {
      "cell_type": "code",
      "metadata": {
        "jupyter": {
          "outputs_hidden": true
        },
        "id": "Odv3_bemz4k1"
      },
      "source": [
        "df_notna.drop(columns=[\"drace\",\"dage\",\"ded\",\"dht\",\"dwt\",\"marital\",\"inc\"])"
      ],
      "execution_count": null,
      "outputs": []
    },
    {
      "cell_type": "code",
      "metadata": {
        "jupyter": {
          "outputs_hidden": true
        },
        "id": "qlgBAmdpz4k2"
      },
      "source": [
        "df_notna.drop(columns=[\"drace\",\"dage\",\"ded\",\"dht\",\"dwt\",\"marital\",\"inc\"], inplace = True)"
      ],
      "execution_count": null,
      "outputs": []
    },
    {
      "cell_type": "markdown",
      "metadata": {
        "id": "EX0GySQDz4k2"
      },
      "source": [
        "El argumento `inplace` opera sobre nuestro DataFrame evitando la necesidad de asignar el DF modificado a una nueva variable. **Usar con precaución!!**"
      ]
    },
    {
      "cell_type": "markdown",
      "metadata": {
        "id": "MWMdxpBWz4k2"
      },
      "source": [
        "<p style=\"background-color:red; text-align:center\">Descargando un nuevo dataset</p>"
      ]
    },
    {
      "cell_type": "markdown",
      "metadata": {
        "id": "D9vc4kimz4k2"
      },
      "source": [
        "Pandas me permite leer el archivo directamente desde una URL si así lo quisieras.\n",
        "Si el usuario lo desea puede acceder a un dataset mas acotado y ya limpio en el siguiente [enlace](https://www.sheffield.ac.uk/mash/statistics/datasets).\n",
        "\n",
        "Vamos a usar ese para simular que ya elegimos las variables que nos resultaron interesantes y ya limpiamos los datos. En nuestro caso vamos a centrarnos exclusivamente en variables relacionadas a la madre."
      ]
    },
    {
      "cell_type": "code",
      "metadata": {
        "jupyter": {
          "outputs_hidden": true
        },
        "id": "EDZ9QLYRz4k2"
      },
      "source": [
        "df = pd.read_csv('https://www.sheffield.ac.uk/polopoly_fs/1.886038!/file/Birthweight_reduced_R.csv')\n",
        "df.head()"
      ],
      "execution_count": null,
      "outputs": []
    },
    {
      "cell_type": "code",
      "metadata": {
        "jupyter": {
          "outputs_hidden": true
        },
        "id": "nG1NhVpZz4k2"
      },
      "source": [
        "df.shape"
      ],
      "execution_count": null,
      "outputs": []
    },
    {
      "cell_type": "code",
      "metadata": {
        "jupyter": {
          "outputs_hidden": true
        },
        "id": "g3C6POkMz4k3"
      },
      "source": [
        "df.dtypes"
      ],
      "execution_count": null,
      "outputs": []
    },
    {
      "cell_type": "code",
      "metadata": {
        "jupyter": {
          "outputs_hidden": true
        },
        "id": "xrGc32RLz4k3"
      },
      "source": [
        "# Verificar si hay datos faltantes\n",
        "df.isna().sum()"
      ],
      "execution_count": null,
      "outputs": []
    },
    {
      "cell_type": "markdown",
      "metadata": {
        "id": "hhwCbr3Jz4k3"
      },
      "source": [
        "### 2. Analizando las métricas básicas"
      ]
    },
    {
      "cell_type": "code",
      "metadata": {
        "jupyter": {
          "outputs_hidden": true
        },
        "id": "lHYpcaaAz4k3"
      },
      "source": [
        "round(df.describe(),2)"
      ],
      "execution_count": null,
      "outputs": []
    },
    {
      "cell_type": "markdown",
      "metadata": {
        "id": "cE4IPUTZz4k3"
      },
      "source": [
        "`describe` solo muestra las columnas cuyo tipo es númerico. En este caso, la información que se nos brinda es es solo de las variables que son númericas, otro tipo de variables pierden su significado al intentar asignarles métricas por lo cual no son tenidas en cuenta.\n",
        "\n",
        "Algunos elementos que si nos llaman la atención:\n",
        "- smoker : Mother smokes\n",
        "```text\n",
        "    1 = smoker \n",
        "    0 = non-smoker\n",
        "```\n",
        "- lowbwt : Low birth weight\n",
        "```text\n",
        "    1 = No\n",
        "    0 = Yes\n",
        "```\n",
        "- mage35 : Mother over 35\n",
        "```text\n",
        "    1 = No \n",
        "    0 = Yes\n",
        "```"
      ]
    },
    {
      "cell_type": "markdown",
      "metadata": {
        "id": "91rfZqXWz4k4"
      },
      "source": [
        "### 3.\tAnálisis univariante (no gráfico)"
      ]
    },
    {
      "cell_type": "markdown",
      "metadata": {
        "id": "DLSQy_9Yz4k4"
      },
      "source": [
        "**Contar casos**\n",
        "\n",
        "Cuando observamos as columnas que no fueron descriptas usando el metodo `decribe` notamos algunas que pueden sernos de interes a la hora de construir un modelo."
      ]
    },
    {
      "cell_type": "code",
      "metadata": {
        "jupyter": {
          "outputs_hidden": true
        },
        "id": "iyCmpSuoz4k4"
      },
      "source": [
        "df.LowBirthWeight.value_counts()"
      ],
      "execution_count": null,
      "outputs": []
    },
    {
      "cell_type": "code",
      "metadata": {
        "jupyter": {
          "outputs_hidden": true
        },
        "id": "Wyp9yRHMz4k4"
      },
      "source": [
        "df.LowBirthWeight.value_counts() / df.shape[0] "
      ],
      "execution_count": null,
      "outputs": []
    },
    {
      "cell_type": "markdown",
      "metadata": {
        "id": "wlHrQ087z4k4"
      },
      "source": [
        "Al mismo tiempo nos puede interesar contar cuantos casos tenemos para nuestras variables dicotómicas (binarias)"
      ]
    },
    {
      "cell_type": "code",
      "metadata": {
        "jupyter": {
          "outputs_hidden": true
        },
        "id": "RvpfOqVZz4k5"
      },
      "source": [
        "binarias = [\"smoker\", \"lowbwt\",\"mage35\"]"
      ],
      "execution_count": null,
      "outputs": []
    },
    {
      "cell_type": "code",
      "metadata": {
        "jupyter": {
          "outputs_hidden": true
        },
        "id": "pr8pxJf2z4k5"
      },
      "source": [
        "for col in binarias:\n",
        "    print(round(df[col].value_counts(normalize = True) * 100, 2))"
      ],
      "execution_count": null,
      "outputs": []
    },
    {
      "cell_type": "markdown",
      "metadata": {
        "id": "rN4jiCsSz4k5"
      },
      "source": [
        "**Filtrando según una condición**"
      ]
    },
    {
      "cell_type": "code",
      "metadata": {
        "jupyter": {
          "outputs_hidden": true
        },
        "id": "RfkTNdJ8z4k5"
      },
      "source": [
        "df[df.smoker == 1].shape"
      ],
      "execution_count": null,
      "outputs": []
    },
    {
      "cell_type": "code",
      "metadata": {
        "jupyter": {
          "outputs_hidden": true
        },
        "id": "ulZGJ-4Cz4k5"
      },
      "source": [
        "df[(df.smoker == 1) & (df.lowbwt == 1)].shape"
      ],
      "execution_count": null,
      "outputs": []
    },
    {
      "cell_type": "markdown",
      "metadata": {
        "id": "RO_bP0_nz4k6"
      },
      "source": [
        "Que pasa si por ejemplo nos interesaria ver estadisticos descriptivos o contar casos de una variable en relación a otra?\n",
        "\n",
        "Esto es muy similar a como usamos las tablas Pivot en Excel.<br>\n",
        "La función de `DataFrame.pivot_table` permite crear una tabla dinámica fácilmente, eligiendo qué columnas se quieren mostrar en:\n",
        "\n",
        "- **índice** (index): la variable elegida para organizar los casos en filas.\n",
        "- **columnas** (columns): lla variable elegida para organizar los casos en columnas.\n",
        "- **valores** (values): las variables que se quieren observar dependiendo de los valores de las filas y columnas.\n",
        "\n",
        "Y se puede elegir una o más funciones de agregación para aplicar a los valores cuando son agregados."
      ]
    },
    {
      "cell_type": "code",
      "metadata": {
        "jupyter": {
          "outputs_hidden": true
        },
        "id": "3LJUE1K5z4k6"
      },
      "source": [
        "df.pivot_table(\n",
        "    index=['smoker'],\n",
        "    columns = ['LowBirthWeight'],\n",
        "    values=['Birthweight'],\n",
        "#   aggfunc='median',\n",
        "#   margins = True,\n",
        "#   margins_name='Medias totales'\n",
        ")"
      ],
      "execution_count": null,
      "outputs": []
    },
    {
      "cell_type": "code",
      "metadata": {
        "jupyter": {
          "outputs_hidden": true
        },
        "id": "7Vtei3Hlz4k6"
      },
      "source": [
        "df.pivot_table(\n",
        "    index=['mage35', \"smoker\"],\n",
        "    values=['Birthweight'],\n",
        "    aggfunc='median',\n",
        "    margins = True,\n",
        "    margins_name='Media total'\n",
        ")"
      ],
      "execution_count": null,
      "outputs": []
    },
    {
      "cell_type": "markdown",
      "metadata": {
        "id": "ZIB9Gtblz4k6"
      },
      "source": [
        "Pandas nos permite realizar analisis para grupos escpicificos. En otras palabras, nos permite segmentar nuestro dataset en X grupos, donde X corresponde con los niveles de una o varias varibles. Ejemplo:"
      ]
    },
    {
      "cell_type": "code",
      "metadata": {
        "jupyter": {
          "outputs_hidden": true
        },
        "id": "N90QK12yz4k6"
      },
      "source": [
        "df.groupby(by=['smoker', 'mage35']).count()"
      ],
      "execution_count": null,
      "outputs": []
    },
    {
      "cell_type": "code",
      "metadata": {
        "jupyter": {
          "outputs_hidden": true
        },
        "id": "tDy9wtWlz4k7"
      },
      "source": [
        "df.groupby(by=['LowBirthWeight', 'smoker']).count()['id']"
      ],
      "execution_count": null,
      "outputs": []
    },
    {
      "cell_type": "code",
      "metadata": {
        "id": "WPDVRIDnz4k7"
      },
      "source": [
        "df.groupby(by=['LowBirthWeight', 'smoker'])['Gestation'].agg('median')"
      ],
      "execution_count": null,
      "outputs": []
    },
    {
      "cell_type": "markdown",
      "metadata": {
        "id": "XKe5qaZlz4k7"
      },
      "source": [
        "### Actividad práctica\n",
        "Para la siguiente actividad vamos a usar el dataset del Titanic ([link](https://web.stanford.edu/class/archive/cs/cs109/cs109.1166/problem12.html)). \n",
        "Usa el link en la página para descargar el dataset y veamos:\n",
        "- Si hay datos faltantes\n",
        "- Cuantos gente sobrevivio \n",
        "- El promedio ('mean') del precio pagado por el ticket según si sobrevivieron o no."
      ]
    },
    {
      "cell_type": "markdown",
      "metadata": {
        "id": "kSkQG15-z4k7"
      },
      "source": [
        "### 4.\tAnálisis gráfico univariado"
      ]
    },
    {
      "cell_type": "markdown",
      "metadata": {
        "id": "5Y7l46o3z4k7"
      },
      "source": [
        "#### Matplotlib"
      ]
    },
    {
      "cell_type": "markdown",
      "metadata": {
        "id": "8VZcvlzWz4k7"
      },
      "source": [
        "Python ofrece una gran cantidad de librerias externas (es decir que las puede instalar usando `pip install`) para plotear datos. Dentro de las mas destacadas se encuentran [Seaborn](https://seaborn.pydata.org/), [Bokeh](https://docs.bokeh.org/en/latest/index.html), [Plotly](https://plotly.com/), entre otras. Sin embargo, Python ofrece una libreria por defecto llamada `matplotlib` que es muy versatil y siempre es una buena primera opción al momento de hacer nuestros primeros ploteos exploratorios.\n",
        "Por ejemplo, el gráfico que acabamos de realizar fue hecho tambien con `matplotlib`, Pandas lo usa por defecto en su función `plot()`.\n",
        "\n",
        "Exploremos un poco esta libreria:"
      ]
    },
    {
      "cell_type": "code",
      "metadata": {
        "jupyter": {
          "outputs_hidden": true
        },
        "id": "0eFgAmnmz4k7"
      },
      "source": [
        "import matplotlib.pyplot as plt\n",
        "plt.plot(np.array([1,2,3,4]),\n",
        "         np.array([3,3,4,3]))"
      ],
      "execution_count": null,
      "outputs": []
    },
    {
      "cell_type": "markdown",
      "metadata": {
        "id": "NjVHKBe7z4k8"
      },
      "source": [
        "Pasan varias cosas aquí.\n",
        "Primero observamos una leyenda que dice `[<matplotlib.lines.Line2D at ...>]`.<br>\n",
        "Por qué sucede esto? Porque por defecto `plot()` produce un objeto gráfico.\n",
        "El usuario posee una gran capacidad para customizar estos gráficos y agregar detalles. Es aquí donde tanta flexibilidad puede volverse media incomoda, ya que debemos recordar el nombre de todos los diferentes argumentos que queremos modificar. \n",
        "\n",
        "Una lista de estos puede consultarse [aquí](https://matplotlib.org/api/_as_gen/matplotlib.pyplot.html) y [aquí](https://matplotlib.org/api/_as_gen/matplotlib.pyplot.plot.html?highlight=matplotlib%20pyplot%20plot#matplotlib.pyplot.plot)."
      ]
    },
    {
      "cell_type": "markdown",
      "metadata": {
        "id": "EyOpdpETz4k8"
      },
      "source": [
        "#### Histograma\n",
        "En estadística, un histograma es una representación gráfica de una variable en forma de barras, donde la superficie de cada barra es proporcional a la frecuencia de los valores representados. Link a la [documentación](https://matplotlib.org/3.3.1/api/_as_gen/matplotlib.pyplot.hist.html) de matplotlib"
      ]
    },
    {
      "cell_type": "code",
      "metadata": {
        "jupyter": {
          "outputs_hidden": true
        },
        "id": "N4oAVZ7iz4k8"
      },
      "source": [
        "plt.hist(df.motherage)"
      ],
      "execution_count": null,
      "outputs": []
    },
    {
      "cell_type": "markdown",
      "metadata": {
        "id": "Py4Z9wX6z4k8"
      },
      "source": [
        "Pandas va a utilizar Marplotlib para plotear los valores de cada columna. "
      ]
    },
    {
      "cell_type": "code",
      "metadata": {
        "jupyter": {
          "outputs_hidden": true
        },
        "id": "tfPe83RNz4k8"
      },
      "source": [
        "df.motherage.plot(kind='hist')"
      ],
      "execution_count": null,
      "outputs": []
    },
    {
      "cell_type": "markdown",
      "metadata": {
        "id": "DXq1g5Vuz4k9"
      },
      "source": [
        "Si bien Pandas nos va a permitir realizar ciertos gráficos sobre nuestras columnas, vamos a ver como podemos hacer todo esto directamente usando `matplotlib`. Esto nos va a permitir mucha flexibilidad. A su vez, no siempre vamos a plotear datos provenientes de un dataframe por lo cual es importante aprender como hacer esto."
      ]
    },
    {
      "cell_type": "code",
      "metadata": {
        "jupyter": {
          "outputs_hidden": true
        },
        "id": "GYXzOAgcz4k9"
      },
      "source": [
        "plt.hist(df.motherage, edgecolor = 'black')\n",
        "plt.xlabel('Edad'), plt.ylabel('Frecuencia')\n",
        "plt.title('Frecuencia de edad de la madre')\n",
        "plt.show()"
      ],
      "execution_count": null,
      "outputs": []
    },
    {
      "cell_type": "markdown",
      "metadata": {
        "id": "tBh0icCrz4k9"
      },
      "source": [
        "`matplotlib` nos va a permitir plotear diferentes datos en un mismo par de ejes x,y. Para esto creamos un par de ejes iniciales, en este caso lo haremos directamente con la función `plot.hist()`. Luego plotearemos un nuevo grafico con nueva información sobre etos mismos ejes.\n",
        "Vamos a hacer dos histogramas, uno con los distribución de edad para Fumadores y otro para no Fumadores."
      ]
    },
    {
      "cell_type": "code",
      "metadata": {
        "jupyter": {
          "outputs_hidden": true
        },
        "id": "w8WksON6z4k9"
      },
      "source": [
        "#Fuman\n",
        "plt.hist(df[df.smoker == 1].motherage, \n",
        "         color = 'red',\n",
        "         edgecolor = 'k',\n",
        "         #histtype='step',\n",
        "         label= 'Fumador',\n",
        "         alpha = 0.4\n",
        "        )\n",
        "#Nofuman\n",
        "plt.hist(df[df.smoker == 0].motherage, \n",
        "         color = 'blue',\n",
        "         edgecolor = 'k',\n",
        "         #histtype='step',\n",
        "         label= 'No Fumador',\n",
        "         alpha = 0.4\n",
        "        )"
      ],
      "execution_count": null,
      "outputs": []
    },
    {
      "cell_type": "markdown",
      "metadata": {
        "id": "KQJNOGjNz4k9"
      },
      "source": [
        "Vemos que ambos gráficos comparten los mismos ejes. Sin embargo, vemos que en este caso los 'bins' difieren en su localización lo cual vuelven la comparación un poco más difícil.\n",
        "A su vez vemos que la función `plot.hist()` devielve tres elementos antes de devolver el objeto gráfico. Estos son la frecuencia para cada bin, las coordenadas en el eje X de los bins, y los poligonos o barras."
      ]
    },
    {
      "cell_type": "code",
      "metadata": {
        "jupyter": {
          "outputs_hidden": true
        },
        "id": "u81G9zvtz4k9"
      },
      "source": [
        "plt.figure(figsize=(8,5)) # creamos una figura, la vamos a hacer mas grande.\n",
        "BINS = 12\n",
        "RANGO = (18,42)\n",
        "\n",
        "valores, ticks , polygon = plt.hist(df[df.smoker == 1].motherage, \n",
        "                                     range= RANGO, # Seteamos el rango de datos que vamos a mostrar\n",
        "                                     bins = BINS,  # Seteamos la cantidad de bins\n",
        "                                     edgecolor = 'red',\n",
        "                                     color = 'red',\n",
        "                                     label= 'Fumador',\n",
        "                                     alpha = 0.4\n",
        "                                    )\n",
        "\n",
        "plt.hist(df[df.smoker == 0].motherage,\n",
        "         range= RANGO,\n",
        "         bins = BINS,\n",
        "         edgecolor = 'blue',\n",
        "         color = 'blue',\n",
        "         label= 'No fumador',\n",
        "         alpha = 0.4,\n",
        "        )\n",
        "\n",
        "plt.xlabel('Edad'), plt.ylabel('Frecuencia') # Nombramos nuestros ejes\n",
        "plt.xticks(ticks=ticks) # seteamos que los ticks sean los del primer grafico\n",
        "plt.legend()\n",
        "plt.show()"
      ],
      "execution_count": null,
      "outputs": []
    },
    {
      "cell_type": "markdown",
      "metadata": {
        "id": "UOHKnWIJz4k-"
      },
      "source": [
        "#### Boxplot\n",
        "Los diagramas de Caja-Bigotes (boxplots o box and whiskers) son una presentación visual que describe varias características importantes, al mismo tiempo, tales como la dispersión y simetría.<br>\n",
        "Para su realización se representan los tres cuartiles y los valores mínimo y máximo de los datos, sobre un rectángulo, alineado horizontal o verticalmente.<br>\n",
        "Link a la [documentación](https://matplotlib.org/3.3.1/api/_as_gen/matplotlib.pyplot.boxplot.html) de matplotlib.\n"
      ]
    },
    {
      "cell_type": "markdown",
      "metadata": {
        "id": "BMb_oli7z4k-"
      },
      "source": [
        "![Boxplot](https://user-images.githubusercontent.com/43391630/97821719-70936980-1c81-11eb-8fa3-4ac05ecf07a2.png)\n"
      ]
    },
    {
      "cell_type": "code",
      "metadata": {
        "jupyter": {
          "outputs_hidden": true
        },
        "id": "ADyRJKP4z4k-"
      },
      "source": [
        "plt.boxplot(df.length)"
      ],
      "execution_count": null,
      "outputs": []
    },
    {
      "cell_type": "markdown",
      "metadata": {
        "id": "3onEHFPxz4k-"
      },
      "source": [
        "Vemos que la funcion `plt.boxplot` arroja como output un diccionario, en donde cada key corresponde a un elemento del gráfico. Vamos a utilizar este diccionario para modificar ciertas propiedades del grafico."
      ]
    },
    {
      "cell_type": "code",
      "metadata": {
        "jupyter": {
          "outputs_hidden": true
        },
        "id": "WPEwAJkLz4k-"
      },
      "source": [
        "# plt.figure(figsize=(10,5))\n",
        "dic = plt.boxplot(x = [\n",
        "                      df[df.smoker == 0].length,\n",
        "                      df[df.smoker == 1].length\n",
        "                      ],\n",
        "                  meanline=True,\n",
        "                  showmeans=True,\n",
        "                  widths=[0.7,0.7],\n",
        "                  labels=['No Fumador','Fumador',]\n",
        "                 )\n",
        "\n",
        "[i.set_linewidth(0.3) for i in dic['boxes']] # Esto es una lista por comprension! \n",
        "#Si te cuesta entender que esta haciendo pensalo asi:\n",
        "# Para cada elemento en dic['boxes'] va a aplicar el metodo .set_linewidth (dado que YA SE que ambos seran objetos\n",
        "# con este metodo)\n",
        "\n",
        "dic['medians'][0].set_label('Mediana') \n",
        "# Como ambos objetos tienen media y mediana le colocare nombre a uno solo y luego ploteare la leyenda\n",
        "dic['means'][0].set_label('Media')\n",
        "\n",
        "plt.title('Largo del bebe al nacer')\n",
        "plt.ylabel('cm')\n",
        "plt.legend()\n",
        "plt.show()"
      ],
      "execution_count": null,
      "outputs": []
    },
    {
      "cell_type": "markdown",
      "metadata": {
        "id": "4BW7wbrLz4k_"
      },
      "source": [
        "#### Subplots\n",
        "`matplotlib` nos permite crear plots que contengan plots mas pequeños dentro, o mejor dicho subplots. \n",
        "Esto nos sera útil al momento de traducir metricas como las que vimos cuando usamos `pd.describe` de una manera gráfica para cada variable de interes."
      ]
    },
    {
      "cell_type": "code",
      "metadata": {
        "jupyter": {
          "outputs_hidden": true
        },
        "id": "kZUtjdptz4k_"
      },
      "source": [
        "df.shape"
      ],
      "execution_count": null,
      "outputs": []
    },
    {
      "cell_type": "code",
      "metadata": {
        "jupyter": {
          "outputs_hidden": true
        },
        "id": "t3yZ2JFvz4k_"
      },
      "source": [
        "df.columns"
      ],
      "execution_count": null,
      "outputs": []
    },
    {
      "cell_type": "code",
      "metadata": {
        "jupyter": {
          "outputs_hidden": true
        },
        "id": "sspkocshz4k_"
      },
      "source": [
        "plt.subplots(nrows=4,ncols=3)"
      ],
      "execution_count": null,
      "outputs": []
    },
    {
      "cell_type": "markdown",
      "metadata": {
        "id": "9Cx-hdliz4k_"
      },
      "source": [
        "Vemos que el output de `subplots` es una tupla con dos elementos una Figura y un array con Ejes (Axes). [Documentación](https://matplotlib.org/api/_as_gen/matplotlib.pyplot.subplots.html)<br>\n",
        "A modo breve, podemos decir que la Figura es el \"marco\" y los ejes los \"elementos\" de nuestro cuadro o imagen. \n",
        "Cada elemento tendra sus propios `atributos` y `metodos`. \n",
        "Sobre los ejes plotearemos nuestros gráficos individuales, en cada eje plotearemos un grafico puntual, epero como ya vimos tambien podemos superponer los graficos.<br>\n",
        "Usaremos la Figura solamente para modificar aspectos estéticos de la imagen como tal."
      ]
    },
    {
      "cell_type": "code",
      "metadata": {
        "jupyter": {
          "outputs_hidden": true
        },
        "id": "VYi7ssAcz4k_"
      },
      "source": [
        "fig, axs = plt.subplots(nrows=3,ncols=3)\n",
        "axs[0,0].boxplot(df.length) # Ploteo nuestro histograma en el primer eje\n",
        "axs[0,0].set_title('Largo al nacer') # Tambien puedo setear los mismo elementos que con un solo plot\n",
        "axs[0,0].set_ylabel('Lenght')\n",
        "fig.set_size_inches(10,8) # cambio el tamaño de TODA la figura\n",
        "plt.show()"
      ],
      "execution_count": null,
      "outputs": []
    },
    {
      "cell_type": "code",
      "metadata": {
        "jupyter": {
          "outputs_hidden": true
        },
        "id": "jYu4GQO8z4lA"
      },
      "source": [
        "vars_interesante = ['headcirumference', 'length', 'Birthweight', 'Gestation',\n",
        "        'motherage', 'mheight', 'mppwt','mnocig', 'fheight']\n",
        "fig, axs = plt.subplots(nrows=3,ncols=3)\n",
        "\n",
        "for idx, ax in enumerate(axs.ravel()):\n",
        "    ax.boxplot(df[vars_interesante[idx]])\n",
        "    ax.set_title(vars_interesante[idx]) \n",
        "    ax.set_xticklabels('') # Saquemos los labels ya que es una sola variable\n",
        "fig.set_size_inches(10,8)"
      ],
      "execution_count": null,
      "outputs": []
    },
    {
      "cell_type": "markdown",
      "metadata": {
        "id": "Ws33qB3Sz4lA"
      },
      "source": [
        "A simple vista podemos ver que nuestro dataset esta bastante bien curado. Hay muy poco valores outliers (aquellos por fuera de este rango interquartil, o 95% de los valores). En caso de tener muchos outliers en un caso deberiamos inspeccionar a que se puede deber esto. Cada dataset es un mundo, y entre mejor sepamos como los datos fueron recolectados mejor podremos entender a que se puede deber estos outliers. "
      ]
    },
    {
      "cell_type": "code",
      "metadata": {
        "jupyter": {
          "outputs_hidden": true
        },
        "id": "9Xht-f-Xz4lA"
      },
      "source": [
        "#axs.ravel()"
      ],
      "execution_count": null,
      "outputs": []
    },
    {
      "cell_type": "markdown",
      "metadata": {
        "id": "HgZWKJcOz4lA"
      },
      "source": [
        "#### Barplot\n",
        "\n",
        "Un diagrama de barras, también conocido como gráfico de barras o gráfico de columnas, es una forma de representar gráficamente un conjunto de datos o valores mediante barras rectangulares de longitud proporcional a los valores representados. Los gráficos de barras pueden ser usados para comparar cantidades de una variable en diferentes momentos o diferentes variables para el mismo momento. Las barras pueden orientarse horizontal y verticalmente.\n",
        "\n",
        "Si bien `matplotlib` ofrece la posibilidad de generar estos gráficos, considero mas recomendable usar `Seaborn`. Esta librería nos ofrece funcionalidades muy buenas para poder hacer plots segmentando nuestras variables principales (x,y) por alguna variable secundaria mediante la opción `hue`.\n",
        "[Seaborn (Documentación)](https://seaborn.pydata.org/)\n",
        "\n",
        "En este caso vamos a usar un tipo de barplot específico denominado `countplot` el cual se utiliza para contar la cantidad de casos por categoría de variable"
      ]
    },
    {
      "cell_type": "code",
      "metadata": {
        "jupyter": {
          "outputs_hidden": true
        },
        "id": "GHaQm-drz4lA"
      },
      "source": [
        "import seaborn as sns # Importo la librería"
      ],
      "execution_count": null,
      "outputs": []
    },
    {
      "cell_type": "code",
      "metadata": {
        "jupyter": {
          "outputs_hidden": true
        },
        "id": "tz4xzxGhz4lB"
      },
      "source": [
        "ax = sns.countplot(data = df,\n",
        "                   x='smoker')"
      ],
      "execution_count": null,
      "outputs": []
    },
    {
      "cell_type": "code",
      "metadata": {
        "jupyter": {
          "outputs_hidden": true
        },
        "id": "p0qgeXc9z4lB"
      },
      "source": [
        "ax = sns.catplot(data=df,\n",
        "                 x='smoker',\n",
        "                 kind='count')"
      ],
      "execution_count": null,
      "outputs": []
    },
    {
      "cell_type": "markdown",
      "metadata": {
        "id": "azFL5EiFz4lB"
      },
      "source": [
        "Seaborn es incluso más cómodo al momento de plotear subplots. Seaborn acepta como argumento `ax` un objeto de tipo Axes."
      ]
    },
    {
      "cell_type": "code",
      "metadata": {
        "jupyter": {
          "outputs_hidden": true
        },
        "id": "nEKeJti6z4lB"
      },
      "source": [
        "fig, axs = plt.subplots(1,3)\n",
        "categoricas = ['smoker', 'mage35', 'LowBirthWeight']\n",
        "\n",
        "for idx, ax in enumerate(axs.ravel()):\n",
        "    sns.countplot(data = df,\n",
        "                  x = categoricas[idx],\n",
        "                  ax=ax\n",
        "                 )\n",
        "fig.set_size_inches(10,5)"
      ],
      "execution_count": null,
      "outputs": []
    },
    {
      "cell_type": "markdown",
      "metadata": {
        "id": "QH_3Y0UIz4lB"
      },
      "source": [
        "### 5. Análisis bivariado"
      ]
    },
    {
      "cell_type": "markdown",
      "metadata": {
        "id": "UbeB4IPRz4lB"
      },
      "source": [
        "Hasta ahora hemos puesto enfasis en los graficos univariados, pero ya hemos visto como hemos incluido otras variables en nuestros gráficos (ej largo dividido por fumador/no fumador). <br>\n",
        "No solo nos interesa saber como se \"ve\" una variable particular, sino como interactua con otras variables de nuestro dataset. Esto nos va a permitir empezar a dilucidar ciertas hipotesis, problemas, etc."
      ]
    },
    {
      "cell_type": "code",
      "metadata": {
        "jupyter": {
          "outputs_hidden": true
        },
        "id": "hwWEAQ70z4lC"
      },
      "source": [
        "# Seaborn nos ofrece un comando simple en el cual vamos a poder plotear todos las variables de nuestro dataset\n",
        "# contra todas las demas. Si bien puede ser útil veremos que cuando tenemos muchos datos esto puede ser confuso\n",
        "sns.pairplot(df)"
      ],
      "execution_count": null,
      "outputs": []
    },
    {
      "cell_type": "code",
      "metadata": {
        "jupyter": {
          "outputs_hidden": true
        },
        "id": "ro4I9bRaz4lC"
      },
      "source": [
        "sns.pairplot(df.loc[:,['Birthweight','length', \n",
        "                       'Gestation','mnocig', 'mppwt','smoker']],)\n",
        "            #hue='smoker')"
      ],
      "execution_count": null,
      "outputs": []
    },
    {
      "cell_type": "markdown",
      "metadata": {
        "id": "upbuxSNXz4lC"
      },
      "source": [
        "### Scatterplot\n",
        "Si bien no hablamos mucho de este gráfico, nos es múy util para plotear cada uno de nuestros data points. Esto nos permite ver con mas detalle como es la distribución de nuestros datos. Seaborn nos permite no solo usarlo como un grafico de dos variables, sino tambien aprovechar la posibilidad de segmentar nuestros datos según una variable categórica (tambien numérica) utilizando `hue`."
      ]
    },
    {
      "cell_type": "code",
      "metadata": {
        "jupyter": {
          "outputs_hidden": true
        },
        "id": "SltbkCt0z4lC"
      },
      "source": [
        "sns.scatterplot(data=df, x='mppwt', y='Birthweight')\n",
        "plt.show()"
      ],
      "execution_count": null,
      "outputs": []
    },
    {
      "cell_type": "code",
      "metadata": {
        "id": "OBxMf9Rgz4lC"
      },
      "source": [
        "sns.scatterplot(data=df, x='mppwt', y='Birthweight', hue='smoker')\n",
        "plt.show()"
      ],
      "execution_count": null,
      "outputs": []
    },
    {
      "cell_type": "markdown",
      "metadata": {
        "id": "_Xe9c8HnHMbp"
      },
      "source": [
        "En este dataset contamos con varias columnas. Cuando tenemos demasiada información puede ser confuso entender qué está pasando. En esos casos es bueno representar la información gráficamente. Vamos a crear una [matrix de correlacion](https://es.wikipedia.org/wiki/Matriz_de_correlaci%C3%B3n#:~:text=Estas%20variables%20independientes%20o%20explicativas,la%20relaci%C3%B3n%20entre%20cada%20pareja)"
      ]
    },
    {
      "cell_type": "markdown",
      "metadata": {
        "id": "6Vbbp29nz4lD"
      },
      "source": [
        "#### Correlation plot"
      ]
    },
    {
      "cell_type": "code",
      "metadata": {
        "id": "DQ3VRg9aeQRk",
        "jupyter": {
          "outputs_hidden": true
        }
      },
      "source": [
        "# Correlacion\n",
        "# Pandas viene por defecto con una función que calcula la matriz por nosotros --> corr \n",
        "df.drop(columns= [\"id\"], inplace = True) # Eliminamos la column ID\n",
        "df.corr()"
      ],
      "execution_count": null,
      "outputs": []
    },
    {
      "cell_type": "code",
      "metadata": {
        "id": "WXGgZhiaepBp",
        "jupyter": {
          "outputs_hidden": true
        }
      },
      "source": [
        "# Vamos a usar seabron para plotear esta matriz\n",
        "import seaborn as sbn # Libreria para plotear, mas linda que matplotlib y con graficos útiles\n",
        "sbn.heatmap(df.corr())"
      ],
      "execution_count": null,
      "outputs": []
    },
    {
      "cell_type": "markdown",
      "metadata": {
        "id": "c5vJnGHIH3mh"
      },
      "source": [
        " Baia baia, si bien ahora podemos ver toda la información al mismo tiempo, aún no es muy claro.  Vamos a hacer una matriz mas bonita y facil de entender usando numpy y seaborn"
      ]
    },
    {
      "cell_type": "code",
      "metadata": {
        "id": "KYLqD1aojsmj",
        "jupyter": {
          "outputs_hidden": true
        }
      },
      "source": [
        "mask = np.triu(np.ones_like(df.corr(), dtype=np.bool)) # vamos a quedarnos solo con el triangulo inferior de la matriz\n",
        "# np.triu devuelve una matriz triangular, en este caso populada con booleans (True) para el triangulo inferior.\n",
        "\n",
        "plt.figure(figsize = (10,10)) # creo una figura con un tamañ de 10*10\n",
        "sbn.heatmap(df.corr(),\n",
        "            mask=mask, #seaborn viene con la opcion de alimentar a nuestro plot con una mascara\n",
        "            center=0,  #centramos el valor de correlacion 0 como el punto medio de nuestra barra\n",
        "            cmap = 'RdBu',\n",
        "            # Elegimos un mapa de colores mas intuitivo (https://seaborn.pydata.org/generated/seaborn.color_palette.html#seaborn.color_palette)\n",
        "            square=True, \n",
        "            linewidths=.5,\n",
        "            cbar_kws={\"shrink\": .7})\n",
        "plt.title('Matriz de correlación')\n",
        "plt.show()"
      ],
      "execution_count": null,
      "outputs": []
    },
    {
      "cell_type": "markdown",
      "metadata": {
        "id": "JQNV4zxOyVua"
      },
      "source": [
        "**Esto se ve mucho mejor!**\n",
        "Si observamos el grafico automáticamente se observan 3 lineas rojas:\n",
        "\n",
        "`smoker` : Codifica si la madre fumó o no durante el embarazo (nominal)<br>\n",
        "`mnocig` : Numero de cigarrillos fumados por la madre por día<br>\n",
        "`lowbwt` : Bajo peso al nacer (nominal)<br>\n",
        "\n",
        "Para este curso vamos a concentrarnos en una sola variable para hacer nuestros análisis. Utilizaremos una variable similar a `lowbwt ` pero expresada de una manera cuantitativa: `Birthweight`. Esta variable indica el peso del recien nacido en libras.\n",
        "\n",
        "Dada nuestra matriz de correlación, podemos suponer que el peso de un recien nacido puede estar influenciado por el consumo de tabaco da la madre durante el embarazo.\n",
        "\n",
        " *Pequeña aclaración, si bien podemos hacer análisis inferencial sobre estos datos, esto no implica que se realizo un diseño experimental para poder corroborar causalidad entre estas variables.*"
      ]
    },
    {
      "cell_type": "markdown",
      "metadata": {
        "id": "IxUlcUg-z4lE"
      },
      "source": [
        "### Actividad práctica \n",
        "Usar alguno de los dataset trabajado y explorar sus datos. \n",
        "- Hacer un gráficos univariado\n",
        "- Hacer un gráfico bivariado\n",
        "- Escribir una conclusión sencilla de lo observado"
      ]
    },
    {
      "cell_type": "markdown",
      "metadata": {
        "id": "d-6zmW5Yz4lE"
      },
      "source": [
        "---"
      ]
    },
    {
      "cell_type": "markdown",
      "metadata": {
        "id": "N9VSgkVGcLgV"
      },
      "source": [
        "## 4. Introducción a la estadística inferencial"
      ]
    },
    {
      "cell_type": "markdown",
      "metadata": {
        "id": "EsyENebyH5_-"
      },
      "source": [
        "**Que veremos en esta unidad:**\n",
        "\n",
        "- [Contraste de hipotesis][Modeling]\n",
        "- Introduccion a [Statsmodels][Statsmodels]\n",
        "- Test de normalidad de variables [Shapiro-Wilk][Shapiro-Wilk]\n",
        "- [QQplots][QQplots]\n",
        "- Distintos [datasets][Datasets] disponibles\n",
        "\n",
        "[Modeling]:http://conceptosclaros.com/contraste-hipotesis/\n",
        "[Statsmodels]:https://www.statsmodels.org/stable/index.html\n",
        "[Shapiro-Wilk]:https://machinelearningmastery.com/a-gentle-introduction-to-normality-tests-in-python/\n",
        "[QQplots]:https://www.geeksforgeeks.org/qqplot-quantile-quantile-plot-in-python/\n",
        "[Datasets]:https://www.sheffield.ac.uk/mash/statistics/datasets"
      ]
    },
    {
      "cell_type": "code",
      "metadata": {
        "id": "I4LSyKxbdG3Q",
        "jupyter": {
          "outputs_hidden": true
        }
      },
      "source": [
        "# Importamos librerias que nos seran útiles \n",
        "import scipy.stats as stat  # Libreria con diversos test estadísticos\n",
        "import seaborn as sbn  # Libreria para plotear, más linda que matplotlib y con graficos útiles"
      ],
      "execution_count": null,
      "outputs": []
    },
    {
      "cell_type": "markdown",
      "metadata": {
        "id": "0N1j5pYiz4lF"
      },
      "source": [
        "### Distribution plot"
      ]
    },
    {
      "cell_type": "code",
      "metadata": {
        "id": "VKdYrx5e0bwE",
        "jupyter": {
          "outputs_hidden": true
        }
      },
      "source": [
        "# Seaborn nos permite no solo plotear el histograma, sino tambien la distribucion de la variable\n",
        "sbn.distplot(df.Birthweight,\n",
        "             bins = 10,\n",
        "             color = 'purple',\n",
        "             hist_kws={'edgecolor':'k'})\n",
        "plt.show()"
      ],
      "execution_count": null,
      "outputs": []
    },
    {
      "cell_type": "code",
      "metadata": {
        "id": "aJ4sQ0g60kUo",
        "jupyter": {
          "outputs_hidden": true
        }
      },
      "source": [
        "# vamos a aislar nuestras variables dependiendo si la madre fumó o no durante el embarazo\n",
        "peso_fumador = df[df.smoker == 1].Birthweight \n",
        "peso_no_fumador = df[df.smoker == 0].Birthweight"
      ],
      "execution_count": null,
      "outputs": []
    },
    {
      "cell_type": "code",
      "metadata": {
        "jupyter": {
          "outputs_hidden": true
        },
        "id": "4Jc_n0hZz4lG"
      },
      "source": [
        "# Plots\n",
        "\n",
        "fig, axs = plt.subplots(1,2,figsize = (10,5)) # Dado que tengo dos grupos vamos a plotearlos uno al lado del otro\n",
        "# plt.subplots() nos va a devolver en este caso una figura y unos ejes, mas precisamente devolverá 2 ejes.\n",
        "# los dos primeros numeros (1,2) significa 1 fila ,  2 columnas\n",
        "\n",
        "sbn.distplot(peso_no_fumador,\n",
        "             bins = 8,\n",
        "             color = 'green',\n",
        "             hist_kws={'edgecolor':'k'},\n",
        "             label = 'No fumador',\n",
        "             ax=axs[0])\n",
        "\n",
        "axs[0].legend(bbox_to_anchor=(2.7,1)) # Modifico la ubicacion de la leyenda\n",
        "axs[0].set_ylabel('Density') # Le pongo un nombre al eje y\n",
        "\n",
        "sbn.distplot(peso_fumador,\n",
        "             bins = 8,\n",
        "             color = 'red',\n",
        "             hist_kws={'edgecolor':'k'},\n",
        "             label = 'Fumador',\n",
        "             ax=axs[1]\n",
        "            )\n",
        "\n",
        "axs[1].legend(bbox_to_anchor=(1.45,.9)) # Modifico la ubicacion de la leyenda\n",
        "plt.suptitle('Distribucion de mis dos variables') # Titulo de toda la figura\n",
        "plt.show()"
      ],
      "execution_count": null,
      "outputs": []
    },
    {
      "cell_type": "markdown",
      "metadata": {
        "id": "oFBWjM6NSzh6"
      },
      "source": [
        "### Graficos de cajas y bigotes ('Boxplot')"
      ]
    },
    {
      "cell_type": "code",
      "metadata": {
        "id": "NzYq2KzIO533",
        "jupyter": {
          "outputs_hidden": true
        }
      },
      "source": [
        "fig = plt.boxplot([peso_no_fumador,peso_fumador],\n",
        "            labels=['No fumador', 'Fumador'],\n",
        "            patch_artist=True)\n",
        "\n",
        "fig['boxes'][0].set(facecolor = 'green')\n",
        "fig['boxes'][1].set(facecolor = 'red')\n",
        "plt.ylabel('Peso al nacer (libras)')\n",
        "plt.show()"
      ],
      "execution_count": null,
      "outputs": []
    },
    {
      "cell_type": "code",
      "metadata": {
        "id": "yNBe6pJ7UIyM",
        "jupyter": {
          "outputs_hidden": true
        }
      },
      "source": [
        "# Podemos usar Seaborn en lugar de lib. Observe las diferencias entre una libreria y otra\n",
        "ax = sbn.boxplot(data = df, y = 'Birthweight', x = 'smoker', palette={0:'green', 1:'red'})\n",
        "ax.set_xticklabels(['No fumador','Fumador'])\n",
        "plt.show()"
      ],
      "execution_count": null,
      "outputs": []
    },
    {
      "cell_type": "markdown",
      "metadata": {
        "id": "2LhI46mzx26w"
      },
      "source": [
        "A primera vista hay una diferencia en el peso al nacer y el hecho de fumar o no. El primer paso antes de realizar cualquier tipo de test estadístico es corroborar los supuestos de los test que queremos emplear. En este caso, usaremos test paramétricos los cuales tienen diversos supuestos, siendo los principales la normalidad de nuestras variables y la igualdad de varianza\n",
        "\n",
        " Para mas información consultar el siguiente [link](https://www.scientific-european-federation-osteopaths.org/wp-content/uploads/2019/01/Estad%C3%ADstica-param%C3%A9trica.pdf)\n",
        "\n",
        " Vamos a plotear la distribución de nuestra variable `peso al nacer`, para ver si luce normalmente distribuída."
      ]
    },
    {
      "cell_type": "code",
      "metadata": {
        "id": "wrF2OM5E8Ntj",
        "jupyter": {
          "outputs_hidden": true
        }
      },
      "source": [
        "sbn.distplot(peso_no_fumador,\n",
        "             bins = 8,\n",
        "             color = 'green',\n",
        "             hist_kws={'edgecolor':'k'},\n",
        "             label = 'No fumador',\n",
        "             hist = False) \n",
        "\n",
        "sbn.distplot(peso_fumador,\n",
        "             bins = 8,\n",
        "             color = 'red',\n",
        "             hist_kws={'edgecolor':'k'},\n",
        "             label = 'Fumador',\n",
        "             hist = False)\n",
        "plt.legend()\n",
        "plt.show()"
      ],
      "execution_count": null,
      "outputs": []
    },
    {
      "cell_type": "markdown",
      "metadata": {
        "id": "H9TN0egh8vj2"
      },
      "source": [
        "Las distribuciones se ven normales, estando la distribucion para los `No fumadores` corrida a la derecha. Los valores para los `No fumadores` parecerían estar mas concentrado alrededor de la media. Esto nos daria una idea de la varianza de los datos. \n",
        "Para indagar más detalladamente sobre la normalidad de nuestros datos, podemos plotear un [QQ-plot](https://www.geeksforgeeks.org/qqplot-quantile-quantile-plot-in-python/)"
      ]
    },
    {
      "cell_type": "markdown",
      "metadata": {
        "id": "mr76yb22z4lH"
      },
      "source": [
        "### QQ plot"
      ]
    },
    {
      "cell_type": "code",
      "metadata": {
        "id": "Z5O5x9hm38tE",
        "jupyter": {
          "outputs_hidden": true
        }
      },
      "source": [
        "import statsmodels.api as sm  # Esta libreria cuenta con diferentes pruebas estadisticas.\n",
        "\n",
        "fig, axs = plt.subplots(1,2, figsize = (10,5))\n",
        "_ = sm.qqplot(peso_fumador, line ='s', ax = axs[1])  \n",
        "_ = sm.qqplot(peso_no_fumador, line ='s', ax = axs[0])  \n",
        "# Por que el _? porque la funcion sm.qqplot por defecto plotea el grafico\n",
        "# y como queremos plotearlos juntos no nos importa el output.\n",
        "axs[1].set_title('Fumador')\n",
        "axs[0].set_title('No fumador')\n",
        "plt.show()"
      ],
      "execution_count": null,
      "outputs": []
    },
    {
      "cell_type": "markdown",
      "metadata": {
        "id": "FektPMgY9h0D"
      },
      "source": [
        "Si bien los datos lucen normalmente distribuidos, podemos corroborar esto realizando un test de normalidad. Para eso usaremos el test de normalidad [Shapiro-Wilk](https://machinelearningmastery.com/a-gentle-introduction-to-normality-tests-in-python/)"
      ]
    },
    {
      "cell_type": "code",
      "metadata": {
        "id": "tugYyUOdDqnX",
        "jupyter": {
          "outputs_hidden": true
        }
      },
      "source": [
        "s, p = stat.shapiro(peso_fumador)\n",
        "print('Fumadores', f'Shapiro Wilk = {s:.2f}',f'p-value = {p:.2f}', sep='\\n')"
      ],
      "execution_count": null,
      "outputs": []
    },
    {
      "cell_type": "code",
      "metadata": {
        "id": "7UUFH0JfF9k8",
        "jupyter": {
          "outputs_hidden": true
        }
      },
      "source": [
        "s, p = stat.shapiro(peso_no_fumador)\n",
        "print('No fumadores', f'Shapiro Wilk = {s:.2f}',f'p-value = {p:.2f}', sep='\\n')"
      ],
      "execution_count": null,
      "outputs": []
    },
    {
      "cell_type": "markdown",
      "metadata": {
        "id": "PF5Cf6bW-2dP"
      },
      "source": [
        "Testeemos la homoceasticidad (o igualdad de varianzas) de las variables solo para estar seguros. Para eso usaremos el test de homoceasticidad de [Bartlett](https://docs.scipy.org/doc/scipy/reference/generated/scipy.stats.bartlett.html?highlight=bartlett#scipy.stats.bartlett)"
      ]
    },
    {
      "cell_type": "code",
      "metadata": {
        "id": "hXWy97df-mu_",
        "jupyter": {
          "outputs_hidden": true
        }
      },
      "source": [
        "s, p = stat.bartlett(peso_fumador,peso_no_fumador)\n",
        "print('Homoceasticidad de varianza',\n",
        "      f'Bartlet (T) = {s:.2f}',\n",
        "      f'p-value = {p:.2f}', sep = '\\n')"
      ],
      "execution_count": null,
      "outputs": []
    },
    {
      "cell_type": "markdown",
      "metadata": {
        "id": "A4BwcURc_d7H"
      },
      "source": [
        "### Test de Student \n",
        "Realizamos un test de student para observar si hay o no diferencias entre las medias de la población de nuestras variables"
      ]
    },
    {
      "cell_type": "code",
      "metadata": {
        "id": "IKE0Ed_jG3bP",
        "jupyter": {
          "outputs_hidden": true
        }
      },
      "source": [
        "t,p,dg = sm.stats.ttest_ind(peso_fumador,peso_no_fumador)\n",
        "\n",
        "# Esto se llama unpacking. Dado que la funcion devuelve tres valores yo puedo elegir guardarlo como una lista\n",
        "# o puedo asignarlo a tres variables diferentes."
      ],
      "execution_count": null,
      "outputs": []
    },
    {
      "cell_type": "code",
      "metadata": {
        "id": "sVwYSJLJOjie",
        "jupyter": {
          "outputs_hidden": true
        }
      },
      "source": [
        "print(f'Se rechaza la hipotesis nula (H0) de que las dos distribuciones son iguales.',\n",
        "      f'Hay una diferencia estadísticamente significativa entre las medias (T={t:.2f} , p={p:.3f})',\n",
        "      'Se puede afirmar que los niños recien nacidos de madres fumadores, pesan menos al nacer que los niños' \\\n",
        "      'de madres que no fumaron durante el embarazo',\n",
        "      sep = '\\n')"
      ],
      "execution_count": null,
      "outputs": []
    },
    {
      "cell_type": "markdown",
      "metadata": {
        "id": "SWVhviQoz4lI"
      },
      "source": [
        "**Importante** A pesar de que podemos afirmar una diferencia entre las medias de estas poblaciónes no podemos afirmar causalidad debido a que este es un análisis retrospectivo. "
      ]
    },
    {
      "cell_type": "markdown",
      "metadata": {
        "id": "VXxeOrK1NN3D"
      },
      "source": [
        "### Aproximación al modelado estadístico usando Python "
      ]
    },
    {
      "cell_type": "markdown",
      "metadata": {
        "id": "uNWyZXj8z4lJ"
      },
      "source": [
        "Si bien, el modelado estadístico en Python per se amerita un curso por si mismo, no quería terminar sin mostrar una breve aproximación. \n",
        "Si bien R es por defecto la primera opción cuando hablamos de modelados estadístico cláasico, librerías como Statsmodels nos ofrece los principales test estadísticos de una manera amigable. \n",
        "Para esta breve demostración queria utilizar nuesto ya conocido dataset y emplear una [Regresion líneal](https://www.statsmodels.org/stable/regression.html).<br> Para una buena introducción consultar [aquí](http://www2.uca.edu.sv/matematica/upload_w/file/REGRESION%20SIMPLE%20Y%20MULTIPLE.pdf)\n",
        "\n",
        "Ahora bien, si realizamos una regresión lineal usando `smoker` como factor, no va a ser diferente (o no deberia al menos!) del T-Test que realizamos anteriormente. \n",
        "Para recapitular, esta es la formula empleada en la regresión líneal:\n",
        "\n",
        "$$ y = β_0 + Xβ_1 + \\epsilon , \\text{ donde}\\, \\epsilon ∼ N$$\n",
        "\n",
        "a veces figura así:\n",
        "\n",
        "$$ y = Xβ + \\epsilon $$\n",
        "\n",
        "En nuestro caso intentaremos predecir **y** (`Birthweight`), usando como covariables unicamente una sola variable: `smoker`. Por ende mas que una matriz, usaremos un vector."
      ]
    },
    {
      "cell_type": "code",
      "metadata": {
        "id": "--TIPft0z4lJ"
      },
      "source": [
        "df = df.sample(frac=1).reset_index(drop=True)"
      ],
      "execution_count": null,
      "outputs": []
    },
    {
      "cell_type": "code",
      "metadata": {
        "id": "pN1WFDOqW8r9",
        "jupyter": {
          "outputs_hidden": true
        }
      },
      "source": [
        "import statsmodels.api as sm # Importamos la libreria \n",
        "X = sm.add_constant(df[['smoker']]) \n",
        "# Definimos nuestra matriz de covariables X y le agregamos nuestro vector de coeficientes 𝛽 \n",
        "# utilizando la función add_constant\n",
        "y = df.Birthweight \n",
        "model = sm.OLS(y,X)\n",
        "result = model.fit()"
      ],
      "execution_count": null,
      "outputs": []
    },
    {
      "cell_type": "code",
      "metadata": {
        "jupyter": {
          "outputs_hidden": true
        },
        "id": "MmDTE7nMz4lJ"
      },
      "source": [
        "#Si quieres ver como se ve esta matriz descomenta la línea de abajo\n",
        "# \"const\" es B_0 o la ordenada al origen y \"smoker\" son los valores de nuestro vector\n",
        "#X  "
      ],
      "execution_count": null,
      "outputs": []
    },
    {
      "cell_type": "code",
      "metadata": {
        "jupyter": {
          "outputs_hidden": true
        },
        "id": "W9z_J2gKz4lJ"
      },
      "source": [
        "print(result.summary())  # Printeamos nuestros resultado."
      ],
      "execution_count": null,
      "outputs": []
    },
    {
      "cell_type": "markdown",
      "metadata": {
        "id": "Z4xhf0fPz4lJ"
      },
      "source": [
        "Nuevamente vemos que nuestro valor $T = -2.054$ y $p=0.047$. Esto nos permite nuevamente rechazar la $H_O$ de que los dos grupos tienen iguales medias.  \n",
        "\n",
        "Y si estas acostumbrado a R y te gusta escribir las formulas puede sencillamente usar el modulo `formula`. <br>\n",
        "Tambien es más cómodo para escribir interacciones entre variables. Para indagar mas acerca de esto consultar el siguiente [link](https://www.statsmodels.org/devel/example_formulas.html)<br>\n",
        "Veamos un ejemplo"
      ]
    },
    {
      "cell_type": "code",
      "metadata": {
        "jupyter": {
          "outputs_hidden": true
        },
        "id": "9d7Cse2Cz4lK"
      },
      "source": [
        "from statsmodels.formula.api import ols  # Importo el modelo `ols` de otro modulo, en este caso el modulo `formula`\n",
        "\n",
        "model_formula=\"Birthweight ~ smoker\"   # Identica sintaxis que en R\n",
        "r_model = ols(formula=model_formula, data = df).fit()\n",
        "print(r_model.summary())"
      ],
      "execution_count": null,
      "outputs": []
    },
    {
      "cell_type": "markdown",
      "metadata": {
        "id": "ZSzXK5qZz4lK"
      },
      "source": [
        "**Ambos resultados coinciden!!**\n",
        "\n",
        "Veamos un poco mas de cerca que predijo nuestro modelo, para eso usaremos nuestras habilidades con matplotlib!\n"
      ]
    },
    {
      "cell_type": "code",
      "metadata": {
        "jupyter": {
          "outputs_hidden": true
        },
        "id": "e9T-8k0wz4lK"
      },
      "source": [
        "import matplotlib.pyplot as plt\n",
        "import seaborn as sbn\n",
        "\n",
        "plt.figure(figsize=(15,5)) # Establezco un tamaño grande para trabajar mas cómodo\n",
        "\n",
        "plt.plot(result.predict(X)[result.predict(X) > 7], marker = 'd',\n",
        "         markersize = 5, linewidth = 0, color = 'lightgreen') \n",
        "# El modelo solo predice dos valores, es decir, un valor para fumadores y otro para no fumadores\n",
        "\n",
        "plt.plot(result.predict(X)[result.predict(X) < 7], marker = 'd',\n",
        "         markersize = 5, linewidth = 0, color = 'tomato') \n",
        "# Puedes observar los diferentes valores printeando `result.predict(X)`\n",
        "\n",
        "plt.ylim(df.Birthweight.min(),df.Birthweight.max()) # Seteo límites para que coincida con nuestro próximo gráfico\n",
        "plt.show()"
      ],
      "execution_count": null,
      "outputs": []
    },
    {
      "cell_type": "code",
      "metadata": {
        "jupyter": {
          "outputs_hidden": true
        },
        "id": "-sVv8-Abz4lK"
      },
      "source": [
        "plt.figure(figsize=(15,5))\n",
        "\n",
        "plt.plot(result.predict(X)[result.predict(X) > 7], marker = 'd', markersize = 5, linewidth = 0, color = 'lightgreen')\n",
        "plt.plot(result.predict(X)[result.predict(X) < 7], marker = 'd', markersize = 5, linewidth = 0, color = 'tomato') \n",
        "\n",
        "plt.plot(df[df.smoker == 1].Birthweight,  marker = '.', linewidth = 0,\n",
        "         markersize = 10, color = 'red', label = 'Fumador') \n",
        "# Agreguemos nuestros valores ya conocidos para ver que tal le fue a nuestro modelo!\n",
        "plt.plot(df[df.smoker == 0].Birthweight,  marker = '.', linewidth = 0,\n",
        "         markersize = 10, color = 'green', label = 'No fumador')\n",
        "\n",
        "plt.ylabel('Peso al nacer (en libras)')\n",
        "plt.xlabel('N de observación')\n",
        "plt.legend()\n",
        "plt.show()"
      ],
      "execution_count": null,
      "outputs": []
    },
    {
      "cell_type": "markdown",
      "metadata": {
        "id": "agnjXO0cz4lK"
      },
      "source": [
        "A simple vista no es muy sorprendente, pero recordemos que estamos usando una regresión para emular una simple comparacion entre grupos. \n",
        "\n",
        "Intentemos un modelo un poco más complejo que tenga en cuenta variables la altura de la madre, dado que estaa variable puede estar influenciando el peso del recien nacido."
      ]
    },
    {
      "cell_type": "code",
      "metadata": {
        "jupyter": {
          "outputs_hidden": true
        },
        "id": "C8oi_ZHez4lL"
      },
      "source": [
        "model_formula=\"Birthweight ~ smoker + mheight\" \n",
        "model_complex = ols(formula=model_formula, data = df).fit()\n",
        "print(model_complex.summary())"
      ],
      "execution_count": null,
      "outputs": []
    },
    {
      "cell_type": "code",
      "metadata": {
        "jupyter": {
          "outputs_hidden": true
        },
        "id": "2uJEziaTz4lL"
      },
      "source": [
        "from statsmodels.stats.anova import anova_lm \n",
        "# importamos un test para comparar ambos modelos, el inicial mas simple y nuestro modelo mas complejo\n",
        "anova_lm(result,model_complex)"
      ],
      "execution_count": null,
      "outputs": []
    },
    {
      "cell_type": "markdown",
      "metadata": {
        "id": "qFBRIfvlz4lL"
      },
      "source": [
        "Si el lector lo deseá puede consular el siguiente [post](https://medium.com/@rrfd/f-tests-and-anovas-examples-with-the-iris-dataset-fe7caa3e21d0) explicando mas acerca de este F-Test.\n",
        "En resumen, nuestro modelo más complejo es mejor para explicar la variabilidad de nuestra variable de interes.\n",
        "\n",
        "**Veamos que predijo**"
      ]
    },
    {
      "cell_type": "code",
      "metadata": {
        "jupyter": {
          "outputs_hidden": true
        },
        "id": "J6BKINw3z4lL"
      },
      "source": [
        "plt.figure(figsize=(15,5))\n",
        "\n",
        "plt.plot(model_complex.predict(df[['smoker','mheight']]), marker = 'd', markersize = 5, linewidth = 0, color = 'gray')\n",
        "\n",
        "plt.plot(df[df.smoker == 1].Birthweight,  marker = '.', linewidth = 0, markersize = 10,\n",
        "         color = 'red', label = 'Fumador')\n",
        "\n",
        "plt.plot(df[df.smoker == 0].Birthweight,  marker = '.', linewidth = 0, markersize = 10,\n",
        "         color = 'green', label = 'No fumador')\n",
        "\n",
        "plt.ylabel('Peso al nacer (en libras)')\n",
        "plt.xlabel('N de observación')\n",
        "plt.legend()\n",
        "plt.show()"
      ],
      "execution_count": null,
      "outputs": []
    },
    {
      "cell_type": "markdown",
      "metadata": {
        "collapsed": true,
        "jupyter": {
          "outputs_hidden": true
        },
        "id": "BuI9NGpXz4lL"
      },
      "source": [
        "# Residuos"
      ]
    },
    {
      "cell_type": "code",
      "metadata": {
        "id": "yht_iL93z4lM"
      },
      "source": [
        "sns.scatterplot(x = range(0,len(df.Birthweight)),\n",
        "                y = df.Birthweight - r_model.predict(df['smoker']),\n",
        "                color = 'blue'\n",
        "               )\n"
      ],
      "execution_count": null,
      "outputs": []
    },
    {
      "cell_type": "code",
      "metadata": {
        "id": "w5C2AfO6z4lM"
      },
      "source": [
        "sns.scatterplot(x = range(0,len(df.Birthweight)),\n",
        "                y = df.Birthweight - r_model.predict(df['smoker']),\n",
        "                color = 'blue',\n",
        "                label='simple'\n",
        "               )\n",
        "\n",
        "sns.scatterplot(x = range(0,len(df.Birthweight)),\n",
        "                y = df.Birthweight - model_complex.predict(df[['smoker','mheight']]),\n",
        "                color = 'cyan',\n",
        "                label='complex'\n",
        "               )\n",
        "\n",
        "plt.hlines(0,0,42, color = 'black')\n",
        "plt.title('Residuos')\n",
        "plt.show()"
      ],
      "execution_count": null,
      "outputs": []
    },
    {
      "cell_type": "markdown",
      "metadata": {
        "id": "p1x0j2igz4lM"
      },
      "source": [
        "A primera vista esto no nos es muy informativo. El modelo complejo parece estar más cerca de la linea horizontal.\n",
        "Cuantifiquemoslo."
      ]
    },
    {
      "cell_type": "code",
      "metadata": {
        "id": "5RA-9uRaz4lM"
      },
      "source": [
        "res_simple = np.abs(df.Birthweight - r_model.predict(df['smoker'])).mean()\n",
        "\n",
        "res_complex = np.abs(df.Birthweight - model_complex.predict(df[['smoker','mheight']])).mean()"
      ],
      "execution_count": null,
      "outputs": []
    },
    {
      "cell_type": "code",
      "metadata": {
        "id": "8exXXtrJz4lM"
      },
      "source": [
        "print(f'Mean Error for simple model: {res_simple:.3f}')\n",
        "print(f'Mean Error for complex model: {res_complex:.3f}')"
      ],
      "execution_count": null,
      "outputs": []
    }
  ]
}