{
 "cells": [
  {
   "cell_type": "markdown",
   "metadata": {
    "colab_type": "text",
    "id": "view-in-github"
   },
   "source": [
    "<a href=\"https://colab.research.google.com/github/joaquinmenendez/curso_phyton/blob/master/Propuesta_curso.ipynb\" target=\"_parent\"><img src=\"https://colab.research.google.com/assets/colab-badge.svg\" alt=\"Open In Colab\"/></a>"
   ]
  },
  {
   "cell_type": "markdown",
   "metadata": {
    "colab_type": "text",
    "id": "OY4hYTN96B0t",
    "toc-hr-collapsed": true,
    "toc-nb-collapsed": true
   },
   "source": [
    "#  Exploración y visualización de datos en Python\n",
    "Docentes a cargo: [Joaquín Menéndez](https://www.linkedin.com/in/joaquin-menendez/) y Fernando Binder\n",
    "\n",
    "Tanto este curso como el curso `Introducción a Python para ciencia de datos e IA` pueden accederse en el siguiente repositorio [JIS-2020](https://github.com/joaquinmenendez/JIS-2020)\n",
    "\n",
    "## Temas\n",
    "\n",
    "1. Introducción a Numpy y Pandas\n",
    "    - `array`, matrices, `Series` y `DataFrames`\n",
    "    - Leer archivos  \n",
    "    - Interactuar con nuestro dataset (indexing, filtering, merge)\n",
    "2. Análisis Exploratorio de Datos (PADCHEST)\n",
    "    - Análisis descriptivo (none values, media, percentiles, outliers) \n",
    "    - Plotear los graficos mas comunes (barras, boxplot, lineplot, matrix de correlaciones) \n",
    "3. Ejemplo extra de EDA\n",
    "4. Introducción a la Estadística inferencial\n",
    "    - Evaluar normalidad de nuestros datos\n",
    "    - Comparar Hipotesis\n",
    "    - Regresion Lineal usando `statsmodels`\n",
    "\n"
   ]
  },
  {
   "cell_type": "markdown",
   "metadata": {
    "colab_type": "text",
    "id": "IyLi10hw4Me1"
   },
   "source": [
    "## Links útiles\n",
    "- [Anaconda](https://www.anaconda.com/products/individual)\n",
    "- [Google Colab](https://colab.research.google.com/)\n",
    "- [2 meses grátis de Datacamp](https://docs.microsoft.com/en-us/visualstudio/subscriptions/vs-datacamp)\n",
    "- [StackOverflow](https://stackoverflow.com/)\n",
    "- [Python (documentación)](https://python-reference.readthedocs.io/en/latest/index.html#)\n",
    "- [Slicing](https://python-reference.readthedocs.io/en/latest/docs/brackets/slicing.html)\n",
    "\n"
   ]
  },
  {
   "cell_type": "code",
   "execution_count": 2,
   "metadata": {},
   "outputs": [],
   "source": [
    "import os\n",
    "import shutil\n",
    "import numpy as np\n",
    "import pandas as pd"
   ]
  },
  {
   "cell_type": "code",
   "execution_count": 6,
   "metadata": {},
   "outputs": [],
   "source": [
    "PATH='../data/PADCHEST/' # Directorio en el cual se encuentran nuestras imagenes"
   ]
  },
  {
   "cell_type": "markdown",
   "metadata": {
    "colab_type": "text",
    "id": "z8a8A0uTVCI2"
   },
   "source": [
    "# ¿Qué es el Análisis Exploratorio de Datos?"
   ]
  },
  {
   "cell_type": "markdown",
   "metadata": {},
   "source": [
    "Hemos visto en el primer curso algo de Pandas y sus diferentes funciones. En este módulo, indagaremos más acerca de cómo usarlo para realizar un 'Analisis Exploratorio de los Datos' o `EDA` (en ingles, 'Exploratory Data Analysis'). El EDA es un paso previo e imprescindible a la hora de comprender los datos con los que se va a trabajar y altamente recomendable para una correcta metodología de investigación.\n",
    "\n",
    "El objetivo de este análisis es explorar, describir, resumir y visualizar la naturaleza de los datos recogidos en las variables del proyecto o investigación de interés, mediante la aplicación de técnicas simples de resumen de datos y métodos gráficos sin asumir asunciones para su interpretación. Luego de la `Adquisicion` de los datos, el `EDA` es el segundo paso en todo proyecto de Analisis de Datos. <br>\n",
    "\n",
    "![Ciclo de vida de los datos](https://www.eduliticas.com/wp-content/uploads/2017/05/pasos-clave-ciclo-analitico.png)"
   ]
  },
  {
   "cell_type": "markdown",
   "metadata": {
    "colab_type": "text",
    "id": "Unk_XuEYaAi4"
   },
   "source": [
    "## 1. Introducción a Numpy y Pandas\n"
   ]
  },
  {
   "cell_type": "markdown",
   "metadata": {},
   "source": [
    "### Numpy\n",
    "**Arrays y Matrices**"
   ]
  },
  {
   "cell_type": "markdown",
   "metadata": {
    "colab_type": "text",
    "id": "-qzvN_uOQ8EI"
   },
   "source": [
    "La programación gráfica se fundamenta sobre la idea de manipular información almacenada en unas estructuras conocidas como vectores y matrices. En Python (nativo) la única forma de simular estas estructuras es usando listas y lo malo es que son muy limitadas respecto a las funciones matemáticas que permiten. Numpy viene a solucionar esa carencia ofreciéndonos un nuevo tipo de dato llamado array.\n",
    "\n",
    "Un array es parecido a una lista en Python y de hecho se pueden crear a partir de ellas:"
   ]
  },
  {
   "cell_type": "code",
   "execution_count": 73,
   "metadata": {
    "colab": {},
    "colab_type": "code",
    "id": "-NBlZrPiTJxT"
   },
   "outputs": [],
   "source": [
    "import numpy as np \n",
    "# Vamos a importa la libreria Numpy y vamos a abreviarla para no escribir tanto en el futuro"
   ]
  },
  {
   "cell_type": "code",
   "execution_count": 80,
   "metadata": {
    "colab": {
     "base_uri": "https://localhost:8080/",
     "height": 34
    },
    "colab_type": "code",
    "id": "G8xDrqPaTLJC",
    "outputId": "9e368ecb-03ac-4e06-8d3e-5d4d746bd28b"
   },
   "outputs": [
    {
     "data": {
      "text/plain": [
       "array([1, 2, 3, 4, 5])"
      ]
     },
     "execution_count": 80,
     "metadata": {},
     "output_type": "execute_result"
    }
   ],
   "source": [
    "array = np.array([1,2,3,4,5])\n",
    "array"
   ]
  },
  {
   "cell_type": "code",
   "execution_count": 92,
   "metadata": {},
   "outputs": [
    {
     "name": "stdout",
     "output_type": "stream",
     "text": [
      "Dimensiones: (5,)\n",
      "Tipo de datos: int32\n"
     ]
    }
   ],
   "source": [
    "# Propiedades importantes de los arrays\n",
    "print( 'Dimensiones:', array.shape)\n",
    "print( 'Tipo de datos:', array.dtype)"
   ]
  },
  {
   "cell_type": "code",
   "execution_count": 81,
   "metadata": {},
   "outputs": [
    {
     "name": "stdout",
     "output_type": "stream",
     "text": [
      "Valor Mínimo 1\n",
      "Valor Máximo 5\n",
      "Media 3.0\n",
      "Desvío Standard 1.4142135623730951\n",
      "Indice que contiene el valor máximo 4\n"
     ]
    }
   ],
   "source": [
    "# Funciones que operan sobre los arrays\n",
    "print( 'Valor Mínimo', array.min())\n",
    "print( 'Valor Máximo', array.max())\n",
    "print( 'Media', array.mean())\n",
    "print( 'Desvío Standard', array.std())\n",
    "print( 'Indice que contiene el valor máximo', array.argmax())\n"
   ]
  },
  {
   "cell_type": "code",
   "execution_count": 93,
   "metadata": {
    "colab": {
     "base_uri": "https://localhost:8080/",
     "height": 34
    },
    "colab_type": "code",
    "id": "BUBfA6ybTPl9",
    "outputId": "10541473-b22f-41aa-b676-d9b0dc8be05f"
   },
   "outputs": [
    {
     "data": {
      "text/plain": [
       "dtype('<U11')"
      ]
     },
     "execution_count": 93,
     "metadata": {},
     "output_type": "execute_result"
    }
   ],
   "source": [
    "array2 = np.array([1,2,3, \"cuatro\"])\n",
    "array2.dtype"
   ]
  },
  {
   "cell_type": "code",
   "execution_count": 83,
   "metadata": {
    "colab": {
     "base_uri": "https://localhost:8080/",
     "height": 282
    },
    "colab_type": "code",
    "id": "9nfDS9z8TTfS",
    "outputId": "dcd41b85-782f-4658-de77-0c9722829324"
   },
   "outputs": [
    {
     "ename": "TypeError",
     "evalue": "cannot perform reduce with flexible type",
     "output_type": "error",
     "traceback": [
      "\u001b[1;31m---------------------------------------------------------------------------\u001b[0m",
      "\u001b[1;31mTypeError\u001b[0m                                 Traceback (most recent call last)",
      "\u001b[1;32m<ipython-input-83-807214d4b55e>\u001b[0m in \u001b[0;36m<module>\u001b[1;34m\u001b[0m\n\u001b[1;32m----> 1\u001b[1;33m \u001b[0marray2\u001b[0m\u001b[1;33m.\u001b[0m\u001b[0mmean\u001b[0m\u001b[1;33m(\u001b[0m\u001b[1;33m)\u001b[0m\u001b[1;33m\u001b[0m\u001b[1;33m\u001b[0m\u001b[0m\n\u001b[0m",
      "\u001b[1;32m~\\Anaconda3\\lib\\site-packages\\numpy\\core\\_methods.py\u001b[0m in \u001b[0;36m_mean\u001b[1;34m(a, axis, dtype, out, keepdims)\u001b[0m\n\u001b[0;32m     73\u001b[0m             \u001b[0mis_float16_result\u001b[0m \u001b[1;33m=\u001b[0m \u001b[1;32mTrue\u001b[0m\u001b[1;33m\u001b[0m\u001b[1;33m\u001b[0m\u001b[0m\n\u001b[0;32m     74\u001b[0m \u001b[1;33m\u001b[0m\u001b[0m\n\u001b[1;32m---> 75\u001b[1;33m     \u001b[0mret\u001b[0m \u001b[1;33m=\u001b[0m \u001b[0mumr_sum\u001b[0m\u001b[1;33m(\u001b[0m\u001b[0marr\u001b[0m\u001b[1;33m,\u001b[0m \u001b[0maxis\u001b[0m\u001b[1;33m,\u001b[0m \u001b[0mdtype\u001b[0m\u001b[1;33m,\u001b[0m \u001b[0mout\u001b[0m\u001b[1;33m,\u001b[0m \u001b[0mkeepdims\u001b[0m\u001b[1;33m)\u001b[0m\u001b[1;33m\u001b[0m\u001b[1;33m\u001b[0m\u001b[0m\n\u001b[0m\u001b[0;32m     76\u001b[0m     \u001b[1;32mif\u001b[0m \u001b[0misinstance\u001b[0m\u001b[1;33m(\u001b[0m\u001b[0mret\u001b[0m\u001b[1;33m,\u001b[0m \u001b[0mmu\u001b[0m\u001b[1;33m.\u001b[0m\u001b[0mndarray\u001b[0m\u001b[1;33m)\u001b[0m\u001b[1;33m:\u001b[0m\u001b[1;33m\u001b[0m\u001b[1;33m\u001b[0m\u001b[0m\n\u001b[0;32m     77\u001b[0m         ret = um.true_divide(\n",
      "\u001b[1;31mTypeError\u001b[0m: cannot perform reduce with flexible type"
     ]
    }
   ],
   "source": [
    "array2.mean()"
   ]
  },
  {
   "cell_type": "markdown",
   "metadata": {
    "colab_type": "text",
    "id": "Dvq6KEBOTklN"
   },
   "source": [
    "Si bien es posible incluir mas de un tipo de data en un Array, esto nos va a impedir realizar ciertas operaciones. Esto es importante para cuando trabajemos con columnas.\n"
   ]
  },
  {
   "cell_type": "markdown",
   "metadata": {
    "colab_type": "text",
    "id": "cX93jJGUUWJr"
   },
   "source": [
    "**Indexing**\n",
    "\n",
    "Al igual que en las listas, vamos a poder indexar o \"llamar\"a un o varios elementos de nuestro array.\n",
    "La siguiente imagen muestra como \"Seleccionabamos\" elementos de una lista.<br>\n",
    "![Slicing](https://raw.githubusercontent.com/cmosquer/jis-2020/master/images/list_slicing.jpg?token=AKLBVDTX22ZTXHTGMTR2ZOC7NI5L2)\n",
    "\n",
    "Ahora bien, en el caso de los arrays veremos que tenemos una pequeña diferencia. Estos pueden tener la forma de una lista, pero pueden tener dos dimensiones (filas y columnas), hasta las N dimensiones que queramos.<br>\n",
    "![Indexing](https://raw.githubusercontent.com/cmosquer/jis-2020/master/images/Numpy_indexing.jpg?token=AKLBVDQHAE6IUWZN6VAJ7OC7NI4EW)"
   ]
  },
  {
   "cell_type": "code",
   "execution_count": 88,
   "metadata": {
    "colab": {
     "base_uri": "https://localhost:8080/",
     "height": 34
    },
    "colab_type": "code",
    "id": "IZG5g9E6UGlp",
    "outputId": "7a2a48ad-62cd-45c8-bb44-7a01bea19c9c"
   },
   "outputs": [
    {
     "data": {
      "text/plain": [
       "(1, 5)"
      ]
     },
     "execution_count": 88,
     "metadata": {},
     "output_type": "execute_result"
    }
   ],
   "source": [
    "# Ejemplo de como indexar un array de una dimension\n",
    "var = np.array([1,2,3,4,5])\n",
    "var[0], var[-1]"
   ]
  },
  {
   "cell_type": "code",
   "execution_count": 130,
   "metadata": {
    "colab": {
     "base_uri": "https://localhost:8080/",
     "height": 68
    },
    "colab_type": "code",
    "id": "cwG3LuT5UQUm",
    "outputId": "7487b995-2adc-4f9a-b01f-07ab010a9d98"
   },
   "outputs": [
    {
     "name": "stdout",
     "output_type": "stream",
     "text": [
      "Dimensión: (3, 3)\n"
     ]
    },
    {
     "data": {
      "text/plain": [
       "array([[1, 2, 3],\n",
       "       [4, 5, 6],\n",
       "       [7, 8, 9]])"
      ]
     },
     "execution_count": 130,
     "metadata": {},
     "output_type": "execute_result"
    }
   ],
   "source": [
    "#Como mencionamos anteriormente un array puede tener mas de una diemnsión\n",
    "matrix_var = np.array([\n",
    "                       [1,2,3],\n",
    "                       [4,5,6],\n",
    "                       [7,8,9]\n",
    "])\n",
    "print(\"Dimensión:\", matrix_var.shape)\n",
    "matrix_var"
   ]
  },
  {
   "cell_type": "code",
   "execution_count": 97,
   "metadata": {
    "colab": {
     "base_uri": "https://localhost:8080/",
     "height": 34
    },
    "colab_type": "code",
    "id": "SGkb8JCGUf5x",
    "outputId": "cab8a52d-e6b3-466b-8fdb-8b4441644623"
   },
   "outputs": [
    {
     "data": {
      "text/plain": [
       "array([1, 2, 3])"
      ]
     },
     "execution_count": 97,
     "metadata": {},
     "output_type": "execute_result"
    }
   ],
   "source": [
    "matrix_var[0]"
   ]
  },
  {
   "cell_type": "code",
   "execution_count": 98,
   "metadata": {
    "colab": {
     "base_uri": "https://localhost:8080/",
     "height": 34
    },
    "colab_type": "code",
    "id": "TPBG7iBFUhC7",
    "outputId": "cc76294f-2295-46a8-8994-994eb11f39c4"
   },
   "outputs": [
    {
     "data": {
      "text/plain": [
       "6"
      ]
     },
     "execution_count": 98,
     "metadata": {},
     "output_type": "execute_result"
    }
   ],
   "source": [
    "matrix_var[1,-1]  # Primer elementos las filas, segundo elemento las columnas"
   ]
  },
  {
   "cell_type": "code",
   "execution_count": 99,
   "metadata": {
    "colab": {
     "base_uri": "https://localhost:8080/",
     "height": 68
    },
    "colab_type": "code",
    "id": "ZxwOA-UwUubn",
    "outputId": "9e7001a4-b424-4a73-9417-5cf095aea887"
   },
   "outputs": [
    {
     "data": {
      "text/plain": [
       "array([[2, 3],\n",
       "       [5, 6],\n",
       "       [8, 9]])"
      ]
     },
     "execution_count": 99,
     "metadata": {},
     "output_type": "execute_result"
    }
   ],
   "source": [
    "matrix_var[:,1:] # Dame de todas las filas, los valores de la segunda columna hasta la ultima columna"
   ]
  },
  {
   "cell_type": "markdown",
   "metadata": {
    "colab_type": "text",
    "id": "gVQvL2esVgbN"
   },
   "source": [
    "Para mas informacion de como usar los indices para seleccionar datos, consultar la [documentacion](https://numpy.org/doc/stable/reference/arrays.indexing.html) de Numpy."
   ]
  },
  {
   "cell_type": "markdown",
   "metadata": {},
   "source": [
    "**Operaciones** \n",
    "\n",
    "Otra de las ventajas de numpy es que nos permite realizar operaciones entre arrays y escalares y arrays y otros arrays."
   ]
  },
  {
   "cell_type": "code",
   "execution_count": 102,
   "metadata": {
    "colab": {
     "base_uri": "https://localhost:8080/",
     "height": 34
    },
    "colab_type": "code",
    "id": "QakFIOYCTUfv",
    "outputId": "798edd72-ebe2-4fc7-e6f3-06617d54a051"
   },
   "outputs": [
    {
     "data": {
      "text/plain": [
       "array([4, 5, 6])"
      ]
     },
     "execution_count": 102,
     "metadata": {},
     "output_type": "execute_result"
    }
   ],
   "source": [
    "# Sumar un escalar a todos los elementos de un array\n",
    "np.array([1,2,3]) + 3"
   ]
  },
  {
   "cell_type": "code",
   "execution_count": 85,
   "metadata": {
    "colab": {
     "base_uri": "https://localhost:8080/",
     "height": 34
    },
    "colab_type": "code",
    "id": "QakFIOYCTUfv",
    "outputId": "798edd72-ebe2-4fc7-e6f3-06617d54a051"
   },
   "outputs": [
    {
     "data": {
      "text/plain": [
       "array([10, 11, 12, 13, 14])"
      ]
     },
     "execution_count": 85,
     "metadata": {},
     "output_type": "execute_result"
    }
   ],
   "source": [
    "# Sumar un array con otro array\n",
    "np.array([1,2,3,4,5]) + np.array([9,9,9,9,9])"
   ]
  },
  {
   "cell_type": "markdown",
   "metadata": {},
   "source": [
    "Cuando realicemos operaciones entre arrays es importante que ambos tengan las mismas dimensiones, sino Numpy no sabra como operar y tendremos un errror como el siguiente:"
   ]
  },
  {
   "cell_type": "code",
   "execution_count": 105,
   "metadata": {},
   "outputs": [
    {
     "ename": "ValueError",
     "evalue": "operands could not be broadcast together with shapes (5,) (2,) ",
     "output_type": "error",
     "traceback": [
      "\u001b[1;31m---------------------------------------------------------------------------\u001b[0m",
      "\u001b[1;31mValueError\u001b[0m                                Traceback (most recent call last)",
      "\u001b[1;32m<ipython-input-105-af43324585bd>\u001b[0m in \u001b[0;36m<module>\u001b[1;34m\u001b[0m\n\u001b[1;32m----> 1\u001b[1;33m \u001b[0mnp\u001b[0m\u001b[1;33m.\u001b[0m\u001b[0marray\u001b[0m\u001b[1;33m(\u001b[0m\u001b[1;33m[\u001b[0m\u001b[1;36m1\u001b[0m\u001b[1;33m,\u001b[0m\u001b[1;36m2\u001b[0m\u001b[1;33m,\u001b[0m\u001b[1;36m3\u001b[0m\u001b[1;33m,\u001b[0m\u001b[1;36m4\u001b[0m\u001b[1;33m,\u001b[0m\u001b[1;36m5\u001b[0m\u001b[1;33m]\u001b[0m\u001b[1;33m)\u001b[0m \u001b[1;33m+\u001b[0m \u001b[0mnp\u001b[0m\u001b[1;33m.\u001b[0m\u001b[0marray\u001b[0m\u001b[1;33m(\u001b[0m\u001b[1;33m[\u001b[0m\u001b[1;36m9\u001b[0m\u001b[1;33m,\u001b[0m\u001b[1;36m5\u001b[0m\u001b[1;33m]\u001b[0m\u001b[1;33m)\u001b[0m\u001b[1;33m\u001b[0m\u001b[1;33m\u001b[0m\u001b[0m\n\u001b[0m",
      "\u001b[1;31mValueError\u001b[0m: operands could not be broadcast together with shapes (5,) (2,) "
     ]
    }
   ],
   "source": [
    "np.array([1,2,3,4,5]) + np.array([9,5])"
   ]
  },
  {
   "cell_type": "code",
   "execution_count": 84,
   "metadata": {},
   "outputs": [
    {
     "data": {
      "text/plain": [
       "array([-8, -7, -6, -5, -4])"
      ]
     },
     "execution_count": 84,
     "metadata": {},
     "output_type": "execute_result"
    }
   ],
   "source": [
    "# Restas\n",
    "np.array([1,2,3,4,5]) - np.array([9,9,9,9,9])"
   ]
  },
  {
   "cell_type": "code",
   "execution_count": 106,
   "metadata": {
    "colab": {
     "base_uri": "https://localhost:8080/",
     "height": 34
    },
    "colab_type": "code",
    "id": "eHky5cIzUDZO",
    "outputId": "05bf5fc6-52e5-4dcf-ae98-6672f92f14d1"
   },
   "outputs": [
    {
     "data": {
      "text/plain": [
       "array([ 2,  4,  6,  8, 10])"
      ]
     },
     "execution_count": 106,
     "metadata": {},
     "output_type": "execute_result"
    }
   ],
   "source": [
    "# Multiplicar un array o vector por un escalar\n",
    "np.array([1,2,3,4,5]) * 2"
   ]
  },
  {
   "cell_type": "code",
   "execution_count": 107,
   "metadata": {
    "colab": {
     "base_uri": "https://localhost:8080/",
     "height": 68
    },
    "colab_type": "code",
    "id": "5KHtqxIgWdWX",
    "outputId": "18d403f1-30ac-43be-a5de-08e681c68c9b"
   },
   "outputs": [
    {
     "data": {
      "text/plain": [
       "array([[ 2,  4,  6],\n",
       "       [ 8, 10, 12],\n",
       "       [14, 16, 18]])"
      ]
     },
     "execution_count": 107,
     "metadata": {},
     "output_type": "execute_result"
    }
   ],
   "source": [
    "# Las mismas operaciones pueden realizarse con arrays de mas dimensiones, o comunmente denominados matrices\n",
    "matrix_var * 2"
   ]
  },
  {
   "cell_type": "code",
   "execution_count": 108,
   "metadata": {
    "colab": {
     "base_uri": "https://localhost:8080/",
     "height": 68
    },
    "colab_type": "code",
    "id": "VjpAefEGWf8m",
    "outputId": "4fc54c69-e206-40b2-b7b0-08430576979b"
   },
   "outputs": [
    {
     "data": {
      "text/plain": [
       "array([[ 1,  4,  9],\n",
       "       [16, 25, 36],\n",
       "       [49, 64, 81]])"
      ]
     },
     "execution_count": 108,
     "metadata": {},
     "output_type": "execute_result"
    }
   ],
   "source": [
    "matrix_var * matrix_var # Multiplicacion pair-wise"
   ]
  },
  {
   "cell_type": "code",
   "execution_count": 109,
   "metadata": {
    "colab": {
     "base_uri": "https://localhost:8080/",
     "height": 34
    },
    "colab_type": "code",
    "id": "OOGZR2ukWkv6",
    "outputId": "9d00b717-1548-4e7a-8570-ce311cb3593a"
   },
   "outputs": [
    {
     "data": {
      "text/plain": [
       "array([ 6, 15, 24])"
      ]
     },
     "execution_count": 109,
     "metadata": {},
     "output_type": "execute_result"
    }
   ],
   "source": [
    "matrix_var @ np.array([1,1,1]) # Multiplicacion de matrices"
   ]
  },
  {
   "cell_type": "markdown",
   "metadata": {
    "colab_type": "text",
    "id": "Njw1DUjYZ6F3"
   },
   "source": [
    "Para mas informacion acerca de las principales operaciones algebraicas utilizando Numpy consultar este [link](https://cmdlinetips.com/2019/06/9-basic-linear-algebra-operations-with-numpy/)"
   ]
  },
  {
   "cell_type": "markdown",
   "metadata": {
    "colab_type": "text",
    "id": "uDGvFo0uV0B4"
   },
   "source": [
    "### Pandas\n",
    "\n",
    "Pandas es una de las librerías de Python más usadas para análisis de datos. El nombre pandas viene de \"Panel Data Analysis\" y su funcionalidad permite hacer operaciones sobre datos que se encuentran en memoria de manera eficiente.\n",
    "\n",
    "Pandas es útil para trabajar sobre datos tabulares, con dos condiciones importantes:\n",
    "\n",
    "    I. Los datos se encuentran enteramente en la memoria RAM. Con lo cual, el tamaño de los datos que podemos manipular está limitado por el hardware. Como regla de pulgar, es una buena práctica no ocupar más de 1/3 de la memoria RAM de nuestro dispositivo con el dataset.\n",
    "\n",
    "    II. En pandas, las operaciones sobre filas y columnas son, en general, eficientes porque se hacen de forma \"vectorizada\". En realidad esta optimización, se hace desde numpy, una librería para realizar operaciones matemáticas que se utilizó a su vez para escribir pandas."
   ]
  },
  {
   "cell_type": "code",
   "execution_count": 75,
   "metadata": {
    "colab": {},
    "colab_type": "code",
    "id": "owyD0GI9V2oi"
   },
   "outputs": [],
   "source": [
    "import pandas as pd  #Importamos la libreria"
   ]
  },
  {
   "cell_type": "markdown",
   "metadata": {},
   "source": [
    "**Series**"
   ]
  },
  {
   "cell_type": "code",
   "execution_count": 151,
   "metadata": {
    "colab": {},
    "colab_type": "code",
    "id": "Xj7OcxYuV30e"
   },
   "outputs": [],
   "source": [
    "# Series\n",
    "serie = pd.Series(data = [1,2,2,3,4,5,5,5,5])"
   ]
  },
  {
   "cell_type": "code",
   "execution_count": 152,
   "metadata": {},
   "outputs": [
    {
     "name": "stdout",
     "output_type": "stream",
     "text": [
      "Tipo de objetos que tiene  int64\n",
      "Nombre  None\n",
      "Index  RangeIndex(start=0, stop=9, step=1)\n",
      "Valores  [1 2 2 3 4 5 5 5 5]\n"
     ]
    }
   ],
   "source": [
    "# Propiedades importantes de las series\n",
    "print('Tipo de objetos que tiene ', serie.dtype)\n",
    "print('Nombre ', serie.name)\n",
    "print('Index ',serie.index)\n",
    "print('Valores ',serie.values)"
   ]
  },
  {
   "cell_type": "code",
   "execution_count": 153,
   "metadata": {
    "colab": {
     "base_uri": "https://localhost:8080/",
     "height": 34
    },
    "colab_type": "code",
    "id": "Iv7ryEBqV6DQ",
    "outputId": "064b0d71-bae8-4bd9-e291-746a6c5e956a"
   },
   "outputs": [
    {
     "data": {
      "text/plain": [
       "1"
      ]
     },
     "execution_count": 153,
     "metadata": {},
     "output_type": "execute_result"
    }
   ],
   "source": [
    "serie.min()"
   ]
  },
  {
   "cell_type": "code",
   "execution_count": 154,
   "metadata": {
    "colab": {
     "base_uri": "https://localhost:8080/",
     "height": 34
    },
    "colab_type": "code",
    "id": "GaXopaiBWHw6",
    "outputId": "1276dda2-dde7-4a4c-ef95-67e9eb8cf5b6"
   },
   "outputs": [
    {
     "data": {
      "text/plain": [
       "5"
      ]
     },
     "execution_count": 154,
     "metadata": {},
     "output_type": "execute_result"
    }
   ],
   "source": [
    "serie.max()"
   ]
  },
  {
   "cell_type": "code",
   "execution_count": 155,
   "metadata": {
    "colab": {
     "base_uri": "https://localhost:8080/",
     "height": 34
    },
    "colab_type": "code",
    "id": "6738zBwYWI_y",
    "outputId": "9a496690-cf3f-45c1-c115-d191e2193c0b"
   },
   "outputs": [
    {
     "data": {
      "text/plain": [
       "5"
      ]
     },
     "execution_count": 155,
     "metadata": {},
     "output_type": "execute_result"
    }
   ],
   "source": [
    "serie.idxmax()  # Devuelve el indice donde se encuentra el maximo valor de mi serie."
   ]
  },
  {
   "cell_type": "code",
   "execution_count": 156,
   "metadata": {
    "colab": {
     "base_uri": "https://localhost:8080/",
     "height": 34
    },
    "colab_type": "code",
    "id": "lXLEvJC9WKrk",
    "outputId": "bc9af5fc-0d3c-4ca1-bf7e-360e479ff614"
   },
   "outputs": [
    {
     "data": {
      "text/plain": [
       "5"
      ]
     },
     "execution_count": 156,
     "metadata": {},
     "output_type": "execute_result"
    }
   ],
   "source": [
    "serie[serie.idxmax()]"
   ]
  },
  {
   "cell_type": "code",
   "execution_count": 157,
   "metadata": {
    "colab": {
     "base_uri": "https://localhost:8080/",
     "height": 34
    },
    "colab_type": "code",
    "id": "N1rnEJvgWXsh",
    "outputId": "ef30c0eb-e090-43df-bc76-b38d4402221c"
   },
   "outputs": [
    {
     "name": "stdout",
     "output_type": "stream",
     "text": [
      "Media 3.5555555555555554\n",
      "Mediana 4.0\n",
      "Moda [5]\n",
      "Desvio Standard 1.5898986690282428\n"
     ]
    }
   ],
   "source": [
    "## Funciones que operan sobre los arrays\n",
    "# Similares a las que usamos anteriomente con nuestros arrays. Esto no es una sorpresa dado que Pandas esta montado sobre Numpy\n",
    "print('Media',serie.mean())\n",
    "print('Mediana',serie.median())\n",
    "print('Moda', serie.mode().values)\n",
    "print('Desvio Standard',serie.std())"
   ]
  },
  {
   "cell_type": "markdown",
   "metadata": {},
   "source": [
    "Al mismo tiempo podemos aplicar metodos propios de las Series"
   ]
  },
  {
   "cell_type": "code",
   "execution_count": 158,
   "metadata": {
    "colab": {
     "base_uri": "https://localhost:8080/",
     "height": 34
    },
    "colab_type": "code",
    "id": "00N3gId4X0iS",
    "outputId": "b92e9b77-3538-4aec-a437-1fd149bf120a"
   },
   "outputs": [
    {
     "data": {
      "text/plain": [
       "13593950.555555556"
      ]
     },
     "execution_count": 158,
     "metadata": {},
     "output_type": "execute_result"
    }
   ],
   "source": [
    "serie.astype(str).mean()  #Podemos pedir el valor promedio pero no va a tener ningun sentido para nosotros"
   ]
  },
  {
   "cell_type": "code",
   "execution_count": 159,
   "metadata": {},
   "outputs": [
    {
     "data": {
      "text/plain": [
       "9"
      ]
     },
     "execution_count": 159,
     "metadata": {},
     "output_type": "execute_result"
    }
   ],
   "source": [
    "serie.count()"
   ]
  },
  {
   "cell_type": "code",
   "execution_count": 160,
   "metadata": {},
   "outputs": [
    {
     "data": {
      "text/plain": [
       "array([1, 2, 3, 4, 5], dtype=int64)"
      ]
     },
     "execution_count": 160,
     "metadata": {},
     "output_type": "execute_result"
    }
   ],
   "source": [
    "serie.unique()"
   ]
  },
  {
   "cell_type": "code",
   "execution_count": 161,
   "metadata": {},
   "outputs": [
    {
     "data": {
      "text/plain": [
       "5"
      ]
     },
     "execution_count": 161,
     "metadata": {},
     "output_type": "execute_result"
    }
   ],
   "source": [
    "serie.nunique()"
   ]
  },
  {
   "cell_type": "markdown",
   "metadata": {},
   "source": [
    "**Masking**\n",
    "\n",
    "Llamamos `masking`cuando sometemos a un `array` o una `Series` a una evaluación lógica, para filtrar los datos que coincidan con dicha evaluación. Una mascara es un array de booleanos, con  True en los valores que cumplen la condición y False donde no. Una vez que creamos la máscara, podemos usarla para seleccionar de nuestro arreglo aquellos elementos que queremos filtrar.\n",
    "\n",
    "\n"
   ]
  },
  {
   "cell_type": "code",
   "execution_count": 163,
   "metadata": {},
   "outputs": [
    {
     "data": {
      "text/plain": [
       "0    False\n",
       "1    False\n",
       "2    False\n",
       "3    False\n",
       "4    False\n",
       "5     True\n",
       "6     True\n",
       "7     True\n",
       "8     True\n",
       "dtype: bool"
      ]
     },
     "execution_count": 163,
     "metadata": {},
     "output_type": "execute_result"
    }
   ],
   "source": [
    "mask = serie > 4\n",
    "mask"
   ]
  },
  {
   "cell_type": "code",
   "execution_count": 166,
   "metadata": {},
   "outputs": [
    {
     "data": {
      "text/plain": [
       "5    5\n",
       "6    5\n",
       "7    5\n",
       "8    5\n",
       "dtype: int64"
      ]
     },
     "execution_count": 166,
     "metadata": {},
     "output_type": "execute_result"
    }
   ],
   "source": [
    "serie[mask] # Solo debería seleccionar los valores mayores a 4"
   ]
  },
  {
   "cell_type": "markdown",
   "metadata": {},
   "source": [
    "**Dataframes**"
   ]
  },
  {
   "cell_type": "code",
   "execution_count": null,
   "metadata": {
    "colab": {
     "base_uri": "https://localhost:8080/",
     "height": 142
    },
    "colab_type": "code",
    "id": "t30gkfRhX3jn",
    "outputId": "e9562732-1648-4f49-8d8a-63a2cb6d4eae"
   },
   "outputs": [],
   "source": [
    "## DataFrame\n",
    "df = pd.DataFrame(data = {'columna1' : [1,2,3],\n",
    "                     'columna2' : [\"uno\", \"dos\", \"tres\"]\n",
    "                     })\n",
    "df"
   ]
  },
  {
   "cell_type": "code",
   "execution_count": null,
   "metadata": {},
   "outputs": [],
   "source": [
    "# Propiedades importantes de los dataframes\n",
    "print('Columnas ', df.columns)\n",
    "print('Index ', df.index)\n",
    "print('Dimensiones ',df.shape)"
   ]
  },
  {
   "cell_type": "code",
   "execution_count": null,
   "metadata": {
    "colab": {
     "base_uri": "https://localhost:8080/",
     "height": 297
    },
    "colab_type": "code",
    "id": "O7A5kXREYA6R",
    "outputId": "52a3dbfa-59c7-4c1d-8bb0-f8eed1c0f93b"
   },
   "outputs": [],
   "source": [
    "df.describe() #Nuevamente vemos que el typo de data nos va a permitir ciertas operaciones"
   ]
  },
  {
   "cell_type": "code",
   "execution_count": null,
   "metadata": {
    "colab": {
     "base_uri": "https://localhost:8080/",
     "height": 68
    },
    "colab_type": "code",
    "id": "TfbFhZGFZETe",
    "outputId": "5736ec62-ca6b-4427-d1ce-c61d76188aec"
   },
   "outputs": [],
   "source": [
    "df.dtypes"
   ]
  },
  {
   "cell_type": "code",
   "execution_count": 61,
   "metadata": {
    "collapsed": true,
    "jupyter": {
     "outputs_hidden": true
    }
   },
   "outputs": [
    {
     "name": "stdout",
     "output_type": "stream",
     "text": [
      "<class 'pandas.core.frame.DataFrame'>\n",
      "RangeIndex: 160861 entries, 0 to 160860\n",
      "Data columns (total 36 columns):\n",
      "Unnamed: 0                         160861 non-null int64\n",
      "ImageID                            160861 non-null object\n",
      "ImageDir                           160861 non-null int64\n",
      "StudyDate_DICOM                    160861 non-null int64\n",
      "StudyID                            160861 non-null object\n",
      "PatientID                          160861 non-null object\n",
      "PatientBirth                       160855 non-null float64\n",
      "PatientSex_DICOM                   160857 non-null object\n",
      "ViewPosition_DICOM                 91776 non-null object\n",
      "Projection                         160861 non-null object\n",
      "MethodProjection                   160861 non-null object\n",
      "Pediatric                          160861 non-null object\n",
      "Modality_DICOM                     160861 non-null object\n",
      "Manufacturer_DICOM                 160861 non-null object\n",
      "PhotometricInterpretation_DICOM    160861 non-null object\n",
      "PixelRepresentation_DICOM          160861 non-null int64\n",
      "PixelAspectRatio_DICOM             160861 non-null object\n",
      "SpatialResolution_DICOM            160861 non-null object\n",
      "BitsStored_DICOM                   160861 non-null int64\n",
      "WindowCenter_DICOM                 160861 non-null object\n",
      "WindowWidth_DICOM                  160861 non-null object\n",
      "Rows_DICOM                         160861 non-null int64\n",
      "Columns_DICOM                      160861 non-null int64\n",
      "XRayTubeCurrent_DICOM              160861 non-null object\n",
      "Exposure_DICOM                     160861 non-null object\n",
      "ExposureInuAs_DICOM                160861 non-null object\n",
      "ExposureTime                       160861 non-null object\n",
      "RelativeXRayExposure_DICOM         160861 non-null object\n",
      "ReportID                           160861 non-null int64\n",
      "Report                             160745 non-null object\n",
      "MethodLabel                        160861 non-null object\n",
      "Labels                             160758 non-null object\n",
      "Localizations                      160758 non-null object\n",
      "LabelsLocalizationsBySentence      160758 non-null object\n",
      "labelCUIS                          160758 non-null object\n",
      "LocalizationsCUIS                  160758 non-null object\n",
      "dtypes: float64(1), int64(8), object(27)\n",
      "memory usage: 44.2+ MB\n"
     ]
    }
   ],
   "source": [
    "df.info() # si queremos tener un pantallazo mas completo"
   ]
  },
  {
   "cell_type": "markdown",
   "metadata": {},
   "source": [
    "### Pandas"
   ]
  },
  {
   "cell_type": "markdown",
   "metadata": {},
   "source": [
    "**Filtrar**"
   ]
  },
  {
   "cell_type": "code",
   "execution_count": 7,
   "metadata": {
    "collapsed": true,
    "jupyter": {
     "outputs_hidden": true
    }
   },
   "outputs": [
    {
     "data": {
      "text/plain": [
       "['102501981809863670848243397069797691084_vua19a.png',\n",
       " '119803217934005337367220474695291255823_zfbkfw.png',\n",
       " '134330017965255885660258946227300250317_kbip0f.png',\n",
       " '145483210568265728795771946007887225362_k4kae7.png',\n",
       " '145483210568265728795771946007887225362_xrp1nc.png',\n",
       " '149830813048350480354221971443260747823_61t3s6.png',\n",
       " '155634289149161267049279102303067537749_b9pm3n.png',\n",
       " '156970068968028231680552796656925444046_qmzlxl.png',\n",
       " '161281969237719183650115490720878008639_dj2uof.png',\n",
       " '196935045399448157650769128047242911893_ndc975.png',\n",
       " '215579042859293213570373687147855195746_t4bpth.png',\n",
       " '232638205360855735415312148753986688646_c1l8y5.png',\n",
       " '244209127007031451606720446586654405170_9hgd2o.png',\n",
       " '245824147156674743632122915619344667379_njs7fu.png',\n",
       " '258652905655450299836101043485742993836_sro711.png',\n",
       " '276390569174698343730614145857628165480_bg431n.png',\n",
       " '278385175825714913194166518671660593518_uz32t0.png',\n",
       " '282698110323443490488511501124893580330_pnhsx2.png',\n",
       " '288723758149599915636637253388488548632_cwv1ht.png',\n",
       " '291730893253762457536837178964238864211_vfrhs1.png',\n",
       " '301300836333851042458410899356696462420_4sh0gv.png',\n",
       " '311480822391073525044015832605252159955_ouorsn.png',\n",
       " '45959954023667193404473973429816906352_gjtig1.png',\n",
       " '46171603607264500080906955789493079609_oh9y9u.png',\n",
       " '77558643540027755376427544826780815111_x3abdi.png',\n",
       " '83326575460945465788152078065631090767_k5bk4e.png',\n",
       " '89780457850619946817470355165479372286_nqmsa1.png',\n",
       " '95087961293204286481517688843795588393_scpsd9.png',\n",
       " '100820987788579834325287319514456560665_y47y2z.png',\n",
       " '102546495463882918344282366283084399647_ivtmxs.png',\n",
       " '110852635720648409041317413922300260840_uma6p1.png',\n",
       " '116370741584789332749301211117591106182-2_595ec8.png',\n",
       " '116370741584789332749301211117591106182_qjp9k7.png',\n",
       " '128948734814420832264828091373970106690_2_pk0nfh.png',\n",
       " '139289798343428937569209805877972236997_icmop6.png',\n",
       " '140045729812587449301683911831598948642_avlw9t.png',\n",
       " '149448599615132658944902642295667120353_2_u8vdnm.png',\n",
       " '159399858001620055472099230771256290287_g0tij0.png',\n",
       " '164369056010031689033317958473733216718_2_pdqhtd.png',\n",
       " '164369056010031689033317958473733216718_6yl8sr.png',\n",
       " '168028977101036148400802300459043614236_i53yoi.png',\n",
       " '171312273436620455460037533537982067760_g8kd51.png',\n",
       " '174641853471623458084818715054591202305_6ylzba.png',\n",
       " '185768679072471038983086969991570012079_9f7hm7.png',\n",
       " '18715084724660971063850960288694680264_k2zmc9.png',\n",
       " '190205723621542880891633025054164843909_tovdt6.png',\n",
       " '191284945634079579145262268714701138680_0o69u7.png',\n",
       " '193348684578877943192272321714937075639_0gixw1.png',\n",
       " '194311245085893559671651431924816592844-3_i1u5um.png',\n",
       " '194311245085893559671651431924816592844-4_oumzsr.png',\n",
       " '194311245085893559671651431924816592844_hhbezx.png',\n",
       " '200131624382655694896939764068032265358_xx4qkt.png',\n",
       " '205740752695117357816975677655481092164_3voa9x.png',\n",
       " '205751304066241882895075851282558661538_1hm08w.png',\n",
       " '207355245823192737633378603636509981942_lqa2w4.png',\n",
       " '222526572122215990219992479418524833035_tk5ilz.png',\n",
       " '224469107218493784842446797289790118555_2_oi3m10.png',\n",
       " '224469107218493784842446797289790118555_dn4xf8.png',\n",
       " '232219386170179488161332338682917473487_4nv0dp.png',\n",
       " '236840515132414412721526171751878876769_4ues88.png',\n",
       " '25480650762357201445120157087712167091_9mtu3a.png',\n",
       " '255894261915070194481656862333821032928_8zlb1z.png',\n",
       " '256780209115185641858812963842944179412_-e1hkb.png',\n",
       " '258652905655450299836101043485742993836_spwst1.png',\n",
       " '269663918048682552513969408640626190399_av9csj.png',\n",
       " '269724403507009982774857023106246741261_8sut6w.png',\n",
       " '270331773435885657010286453890181976704_2_r99rdq.png',\n",
       " '270331773435885657010286453890181976704_3_dpffte.png',\n",
       " '270331773435885657010286453890181976704_3_ors3a5.png',\n",
       " '270331773435885657010286453890181976704_a1edu1.png',\n",
       " '278302960217001564594538685460346980870_2_76uhp0.png',\n",
       " '278302960217001564594538685460346980870_3_ucuxvy.png',\n",
       " '278302960217001564594538685460346980870_4_0azz4b.png',\n",
       " '278302960217001564594538685460346980870_5_5hats2.png',\n",
       " '278302960217001564594538685460346980870_6_oj1psi.png',\n",
       " '278302960217001564594538685460346980870_cr7igz.png',\n",
       " '283259706623662939553700512914435735471_7e025q.png',\n",
       " '297934909193060706635082974544124181712_5tvti9.png',\n",
       " '299610742772616631132892733226022959690_wge72c.png',\n",
       " '310064994991374542959745892192205860709_1xbe22.png',\n",
       " '314065290293900563026485404243379917007_gd85n7.png',\n",
       " '322464264958251815080267306691051011848_2_wlw7wq.png',\n",
       " '322464264958251815080267306691051011848_5nbi5s.png',\n",
       " '325919277647123813043078431926606478704_pa89si.png',\n",
       " '336419883096248034802979950547690801989_2_jrin7t.png',\n",
       " '336419883096248034802979950547690801989_mnfmjh.png',\n",
       " '33719044399008761044531514783379630145-2_csom8f.png',\n",
       " '33719044399008761044531514783379630145_3_7et6fs.png',\n",
       " '33719044399008761044531514783379630145_50uclf.png',\n",
       " '337657203618570448505094560718869038779_n46qmd.png',\n",
       " '34004477662247712609619162290380952411_2_mu4aro.png',\n",
       " '34004477662247712609619162290380952411_m63rwa.png',\n",
       " '39023849661668092589608066372594164172_mqtqza.png',\n",
       " '42533015828091156877768263234121912754_u580rx.png',\n",
       " '47512903834035492386004558989932949952_2u79st.png',\n",
       " '54267352507743015563469397381334768789_x3tr5i.png',\n",
       " '64737524355581195696753596776292069632_45v1pd.png',\n",
       " '74828723741870398843917658071395275263_j799tp.png',\n",
       " '79166130922577892303232032220680570690_wqdxw9.png',\n",
       " '83501573345055016969591374214483924042_2_moapdt.png',\n",
       " '83501573345055016969591374214483924042_3_otdlkh.png',\n",
       " '91776054272485018745166126210042187042_4rrg51.png',\n",
       " '93295792430761009481038710895377305337_bpjg8k.png',\n",
       " '100617721005493358788622515939965631279_gyx91j.png',\n",
       " '100673172564211066342970576987130587566_upv55t.png',\n",
       " '101008373280748865929359571723464863651_lxydve.png',\n",
       " '101224034336322271915340201354620942611_fv4acs.png',\n",
       " '101354916913099012081924155376991837012_81x644.png',\n",
       " '101363485315189308407725528030953168168_2_c0sc64.png',\n",
       " '102281670604861074368758408125646385996_2wjjd9.png',\n",
       " '102546495463882918344282366283084399647_2_kfe0iz.png',\n",
       " '103017286987565854902694851827724037178_f9x4nc.png',\n",
       " '104776588380844132729498423098294675708_lz6sop.png',\n",
       " '105116105668033030925340039899904380495_2otz1b.png',\n",
       " '105726078816021431432447163135119439157_rg94nu.png',\n",
       " '106517311601416387046892391955760230481_2_pgqe4m.png',\n",
       " '106517311601416387046892391955760230481_v8euwr.png',\n",
       " '106551674468088490071324858040197724556_wnmswq.png',\n",
       " '107260864418456491993252031494948619670_a4gy20.png',\n",
       " '107758963399672237598933176368579850397_lfx9q9.png',\n",
       " '109266829892704905709045339867081054347_tf0r1t.png',\n",
       " '109629994783055558159663901799709452741_lp06ij.png',\n",
       " '109917220836728308200961018232957639963_2_e20qjz.png',\n",
       " '109917220836728308200961018232957639963_k15dke.png',\n",
       " '110809182356623659054669004274740721381_s7k0w5.png',\n",
       " '110857683249600145282369461783183514657_blvj9f.png',\n",
       " '111663441597920323363243636931721135658_jq7gxu.png',\n",
       " '112069513825680474004312935207774925849_oxpe9c.png',\n",
       " '113035647731915480685427546020637813778_gzpuex.png',\n",
       " '114371067533091815324272026707879792674_3yy2pf.png',\n",
       " '114617749302631455981494357132754134306_hzicq8.png',\n",
       " '11500653377023723012477382937918116342_62n6d9.png',\n",
       " '115876098628013285399785627779158923133_jqv1ne.png',\n",
       " '116054290686336184472231299587464428986_pzh74o.png',\n",
       " '116271306156879014267910225816549658924_e6lz1b.png',\n",
       " '116467812238395590115929323298655305339_flfgfv.png',\n",
       " '116762244364314061221662513748571640840_2kvv25.png',\n",
       " '11745786346994798351822198141137994455_1luqe7.png',\n",
       " '118175550292484034772129227558493044247_4ew9bw.png',\n",
       " '118893441991128810572382088582122474548_s8wk92.png',\n",
       " '121142442953500022160045698911404387552_3bytb4.png',\n",
       " '121857688398504337633816522898286493892_fic5mq.png',\n",
       " '122042873071563795492117557854835710768_v58xj5.png',\n",
       " '122860097015900610123324338555430035502_zv411n.png',\n",
       " '123967729058086726399334009127308106753_4i7ohf.png',\n",
       " '124175363122841314291511823817158710768_alb2e0.png',\n",
       " '125500395025603057280151985778726344290_1x27qm.png',\n",
       " '125821047921601330074282708340855243236_4j7uyh.png',\n",
       " '125860234102306230601057011807129958107_5guwmt.png',\n",
       " '127590800140286919456619999294761280777_-3x9ty.png',\n",
       " '12844567366295409963086659274827625103_uc83da.png',\n",
       " '12869010732374997991163413674151722116_my0u9b.png',\n",
       " '128878196674043522041046646308262815590_m6z2gb.png',\n",
       " '129549413947807754484088236615456520107_o3uant.png',\n",
       " '129665784590515780451847370161631027377_xgm3cl.png',\n",
       " '130944308340733287300506609380035704899_wqjia4.png',\n",
       " '131396082598507810928206894724931329679_v7pwxh.png',\n",
       " '131786153884685889694035680476319705854_2_l6ifmp.png',\n",
       " '131896855530039807278510010070479756878_3sqrxx.png',\n",
       " '132777914085211784121316906298561203050_qr7pxu.png',\n",
       " '13402404435460334445430156170945589744_o0gru7.png',\n",
       " '135367894531856731035513178415475087341_ok3f5j.png',\n",
       " '135367894531856731035513178415475087341_okrnwv.png',\n",
       " '136411037588224600528880754375048677433_vto506.png',\n",
       " '137633416505900798198514307787657256191_hci0qp.png',\n",
       " '141402011520687463482513570627721493262_0n1yht.png',\n",
       " '142059136459863289544924430936485153120_4nag1g.png',\n",
       " '142167033403605080060293629724776821276_wd0mub.png',\n",
       " '142328268390312691858172969298134235779_x3urn3.png',\n",
       " '14250462920458936389572015055078587179_0tt62p.png',\n",
       " '14250462920458936389572015055078587179_2_li904n.png',\n",
       " '14264805038067328997328742299221090246_sxllc3.png',\n",
       " '143724836608464555496740206053468976992_4l2mei.png',\n",
       " '144336641153378223203581404479844728889_6y6bpd.png',\n",
       " '145060421051822175913013833523395874507_v3y6bj.png',\n",
       " '145639913184458966308972563366021361019_kz20gf.png',\n",
       " '145803076166556143455674390852167078892_e3ahgy.png',\n",
       " '146361615096961050913003303613873658732_2_d9i524.png',\n",
       " '146447650887571084791975060631371241862_7p7x3h.png',\n",
       " '146698450950138073536948532051211540160_mjo0c2.png',\n",
       " '147323170617334985798923950658603159159_2_o6aei5.png',\n",
       " '147323170617334985798923950658603159159_pte1v7.png',\n",
       " '148501297639523818647147339146704136657_78xxbf.png',\n",
       " '149448599615132658944902642295667120353_3_xqv6gx.png',\n",
       " '149448599615132658944902642295667120353_adof2p.png',\n",
       " '150000764479050238134717413331810145259_ik8r48.png',\n",
       " '150069867538971373926263898543130864830_hb1a4a.png',\n",
       " '150961803385310530431081571134436289984_b5fxd3.png',\n",
       " '151194287937434208689769823475159382004_528je4.png',\n",
       " '151999039342627183388599810512734528535_gganyy.png',\n",
       " '152710045570889708915387887424559082336_ycpuwd.png',\n",
       " '153268598450125380093555300063129188461_leyv0y.png',\n",
       " '153616921918785242265361738646119837534_5291w4.png',\n",
       " '153671102089208115524986496672662999554_2_2fue3x.png',\n",
       " '153991089273682316515448328455753029029_3pi7f2.png',\n",
       " '154291836460564684942554501615216653280_qql6pm.png',\n",
       " '155634289149161267049279102303067537749_ba86y1.png',\n",
       " '156257638853054253675759591949498914086_reyodm.png',\n",
       " '156970068968028231680552796656925444046_maxyac.png',\n",
       " '157220226943108537050341296079208124494_3_t4bowh.png',\n",
       " '158845347718822678656210379855080178045_d57iih.png',\n",
       " '159855037151159453353900330408053350367_qwt22d.png',\n",
       " '159867556010876731529243208489551856038_2u6o02.png',\n",
       " '160200614896801759799704778385034472953_ghrwxf.png',\n",
       " '16044966095064404514877539733879308281_5oec79.png',\n",
       " '160677411289229532773966403734816729974_l7h7ly.png',\n",
       " '161107415574788313925596149400916321370_2qkulb.png',\n",
       " '161738217033307445657398200173955894629_vp2vsg.png',\n",
       " '162273872491991847293200628251865229908_4hhlsq.png',\n",
       " '162749886072584881095235950087864311476_cacj7y.png',\n",
       " '163005499345371331623164134227421019030_jlgg0z.png',\n",
       " '164004626978701465382112796615747971337_1q6tby.png',\n",
       " '164195253642726675245621745629199833315_f6ozj0.png',\n",
       " '164474029329364497854971584799753375413_oi7p5a.png',\n",
       " '164737420943655989866006215212374905490_99rctw.png',\n",
       " '16492087618979413961972088019775420322_3bsut7.png',\n",
       " '165047465432667442827240605166431348638_v89j2t.png',\n",
       " '165188606562504477357468471951333062204_l66706.png',\n",
       " '166918300510976893163043327042324656449_hi6mwe.png',\n",
       " '167060418043740287671121824757325237509_ej0pyt.png',\n",
       " '167075692437766270434952531667699750160_k3r3yp.png',\n",
       " '167891152309007801413146488810821721572_zjetfk.png',\n",
       " '167980044868207026505830867206473263708_u2184w.png',\n",
       " '169030726415631321276050854932424959939_dhlewp.png',\n",
       " '169416993682535419091517628840351086184_2_oe09n6.png',\n",
       " '169416993682535419091517628840351086184_w4ey7z.png',\n",
       " '169968055764978756690290303427749490054_ej64pm.png',\n",
       " '170335062854953939217668687922423490550_743erh.png',\n",
       " '170775301419466819485421712714386599452_qft92d.png',\n",
       " '171162805445261892551624592685357179000_tb3vu3.png',\n",
       " '173269723225816565100896160536534922584_m7n0hp.png',\n",
       " '173668666606866607385480059736226048555_346qs9.png',\n",
       " '173691101890632373372800397932041517919_867ffb.png',\n",
       " '17379387720744836821192399239421710795-2_dgv0a6.png',\n",
       " '174277369018563854441101189202590340031_pek1f7.png',\n",
       " '174651428937236161430337803431644912286_xrr4bj.png',\n",
       " '175073427976951721013078331129065908480_m5hzjc.png',\n",
       " '175382078524128179404059243558607675350_k121bf.png',\n",
       " '175823961834532601997673960685897324437_taqq21.png',\n",
       " '176653790228119163486861298523037335242_2_j9501j.png',\n",
       " '176653790228119163486861298523037335242_onls7o.png',\n",
       " '17666362473201571821821907638225633305_6yk8lm.png',\n",
       " '17739421906889915212209124864443820316_209y2q.png',\n",
       " '179225649151624866770655979615092351330_xc9eky.png',\n",
       " '1800719804166270189511533197998289596_f45cau.png',\n",
       " '18026555325291869871419389702689431852_ljxhdl.png',\n",
       " '181252088071315446454062425336011509368_buge3b.png',\n",
       " '181655817791424968782777169700715522782_78scuz.png',\n",
       " '182103491289378555625150811194357629869_6idqay.png',\n",
       " '183163588711433399627220824974788801240_ndez0i.png',\n",
       " '183283963655583009034810522671641673037_ufkk1q.png',\n",
       " '185952744481364151657739053703067370354_br4sig.png',\n",
       " '186495131662628060686438531994712008380_t9021l.png',\n",
       " '187331115982652906017738034125614555977_afvfyu.png',\n",
       " '187335631598362314495868527722246133711_1tj0bj.png',\n",
       " '188003356157085884759533582544841436125_2d7bjy.png',\n",
       " '188664857930773688866420936471447423982_pu1y9g.png',\n",
       " '188804789946502738006454525280407472572_9thbpe.png',\n",
       " '189385479051725013942731578091412445483_fooamy.png',\n",
       " '190855070451137634492927411095340388975_va1qwp.png',\n",
       " '191222174356208710507781769434517553239_magzlo.png',\n",
       " '191694642718003731505984371937616082315_5g133r.png',\n",
       " '192821379227609119430392340299557234231_6e25cb.png',\n",
       " '193253234665981385445590425192090314279_xpq134.png',\n",
       " '195354311969143648827592349767241311964_u32ijt.png',\n",
       " '195544724167001140725600434789934847404_oup8k3.png',\n",
       " '196265233586865068172240104311048474458_kluqdw.png',\n",
       " '197942585502056363818681672666693793064_lo53l2.png',\n",
       " '198257044874932911922232648591678906791_vu35qe.png',\n",
       " '198260425459486107269837770963173687269_5elj5y.png',\n",
       " '198672376870663728981301045746054885881_j6fklp.png',\n",
       " '198769537032882038181562058894523119291_1xhjh9.png',\n",
       " '200549556328461646460804408220721585213_brqw2d.png',\n",
       " '200578805235445163759646993571103416517_pn52xq.png',\n",
       " '201585114453870562879181442181519920648_emxpwv.png',\n",
       " '202726999241166171114951737167040928015_mxi8cz.png',\n",
       " '202997911079227351579772906867719061124_2_k1rf3g.png',\n",
       " '202997911079227351579772906867719061124_bpc5th.png',\n",
       " '204056653173810363254173423075842085706_pv5ba6.png',\n",
       " '204891865128855499565582058969350811580_b66o1f.png',\n",
       " '205054349764659042015498404164193415748_2857tr.png',\n",
       " '205238468663090252805310384564049950965_3axe5d.png',\n",
       " '205615365726469157980349604710836737639_l82xm2.png',\n",
       " '206081213818237148934460967791621468981_ttxv94.png',\n",
       " '206159399517832262224124919545691153433_l42chy.png',\n",
       " '207349227929434524423526869269766207965_fhd5ch.png',\n",
       " '207725178665117654282068107059815247910_p01mfc.png',\n",
       " '207766945287870846113538557649412487857-3_kw4oww.png',\n",
       " '207848817683321671211546429872059662498_quxmhj.png',\n",
       " '208509119253955068872818529967840392138_kicjp5.png',\n",
       " '20897331049006407832772669456940539551_lmqm7b.png',\n",
       " '209294905225729277869332218892601573294_a0kcxk.png',\n",
       " '210788407095678554974505624852808002189_dwdlwr.png',\n",
       " '211696097613958551392501901429236771671_jzd6mu.png',\n",
       " '21184915304190022820494442720844985173_2_fde0oc.png',\n",
       " '212215557104903144199162985922562187521_5b4m51.png',\n",
       " '212355538944180732125403064502745422459_9jmsct.png',\n",
       " '212650311749146174100895290289989194532_jpzhl2.png',\n",
       " '212762037071904875244619481976137296690_j3snxp.png',\n",
       " '213581714097776925655602101658440960311_dycoe6.png',\n",
       " '213797027820780844940252512220056595662_n7trpm.png',\n",
       " '215504690168350884201593814873442890040_6ghuvd.png',\n",
       " '215989076593291051041584390491066742068_yicabs.png',\n",
       " '216824581524129777612945946938166724700_qsdjom.png',\n",
       " '217555653115916309702845203694585915119_ych51q.png',\n",
       " '2176762749469902057953666754092842867_udavl4.png',\n",
       " '217714338905935654035093650933394545499_7wyfxb.png',\n",
       " '217813831443608669719648062417988015158_kzorhg.png',\n",
       " '218174630129286713159142163804951895416_5j0st5.png',\n",
       " '219061970305249413512709284930683363600_e5xvc2.png',\n",
       " '219458854695803693352348264036926012771_86zz7w.png',\n",
       " '219592297875693255483929623035202333804_b6g27b.png',\n",
       " '220449698523430636411688402979453051475_rwx4vm.png',\n",
       " '221512882693513851024511554341887086812_yxljtn.png',\n",
       " '22175945832106942594553298343616380419_yhl6wj.png',\n",
       " '22200802401411802715378451722331531389_qfjcnd.png',\n",
       " '223462636067564998195090680105038449187_3s9y90.png',\n",
       " '223532675372625928937780697281369538081_5g5cd2.png',\n",
       " '223839055932090132377058673524716135341_zkhqqx.png',\n",
       " '224160533867601082735027831394565007652_wajlae.png',\n",
       " '22481945861423812691023263352864750960_2_rmg5pw.png',\n",
       " '22481945861423812691023263352864750960_lp4ott.png',\n",
       " '225407608644225662217577518205999644838_64spbg.png',\n",
       " '226341787054078527077495785962007581876_10qq9s.png',\n",
       " '226913943562566338820451267127353518546_6henn7.png',\n",
       " '228682122461698685910497762384204948801_a1a8te.png',\n",
       " '22870716869582516041053874322301044098_f3ys86.png',\n",
       " '22998374711548992925003414983540979586_h369am.png',\n",
       " '231322610318662770057335612731981174366_62idsh.png',\n",
       " '231688180441560785215026821987445900377_o6rk64.png',\n",
       " '231991145707716097510567832883283055932_wo0kp8.png',\n",
       " '233502702929844058272157623315613230529_72ascb.png',\n",
       " '23369405525895974636200349088637109264_0971s9.png',\n",
       " '234409595004709917018295628483841617591_ky8kd8.png',\n",
       " '234597459653650381851874462813017671408_wjtl9t.png',\n",
       " '236138188143681274539430773023991287949_4hqm29.png',\n",
       " '236989185125795034516082443300375856347_facsq6.png',\n",
       " '23742587293889254920057679621416795115_pejqev.png',\n",
       " '238785383283540936109774949589518013302_w2qa0j.png',\n",
       " '238785383283540936109774949589518013302_w3bgaf.png',\n",
       " '238951588998630274488021447748258968145_0ijdx5.png',\n",
       " '239753426193036580695081197067158951541_po6zcu.png',\n",
       " '240593629844110907464333518823943180632_ajkpcy.png',\n",
       " '241750338064141596413666082063003231159_kh55yi.png',\n",
       " '241915877204445197375571740070843334091_jhe4jg.png',\n",
       " '24346677084132985428014714904013798817_j39mbu.png',\n",
       " '244166872206863056994348455109025762656_s25vng.png',\n",
       " '244623219773104005639523329961565673869_km2xm7.png',\n",
       " '245343955709504032522924739913793642711_5xjezu.png',\n",
       " '245400695104156230684795861881067947314_skyg7l.png',\n",
       " '246042219103991528709996607913910732417_54my14.png',\n",
       " '246337758717911587372129153047145211501_oxnbvh.png',\n",
       " '246416322644386504580889599655760809402_xketh0.png',\n",
       " '246432252880829095303960604489295649180_jg0ct7.png',\n",
       " '246991895828189306852162147635349754876_wqzlip.png',\n",
       " '247464401994823808988028516417090712265_5mhhpx.png',\n",
       " '248953487851609761074095491747093125229_bpsvot.png',\n",
       " '249516099776340106544147930247992122699_2y8pvu.png',\n",
       " '250110466744107405753071549360009675818_epagpa.png',\n",
       " '250542380788423941624088499335321009580_k5i3wf.png',\n",
       " '250618647305259151483177107788824962369_8m1c35.png',\n",
       " '251707489770690524897622609276477199608_s2l1f0.png',\n",
       " '253396902772760952698284583728312212170_w8qg71.png',\n",
       " '25361195549654561923140374713728372165_3vndo3.png',\n",
       " '254364351470370308099918392368228278235_qrdstj.png',\n",
       " '255044710840621868213811204664137941252_1byd34.png',\n",
       " '255752047529479327198845138696941289820_jo3lgo.png',\n",
       " '256108339521634258775439633875066668153_ijmal4.png',\n",
       " '256140464434338658499919806795611113125_riu75v.png',\n",
       " '257126212639214518887861642700072488618_lz5z0j.png',\n",
       " '257554768985862163777896019176148550956_rl6gug.png',\n",
       " '257646539535511062949285970498287234028_2_of7nda.png',\n",
       " '257646539535511062949285970498287234028_m8h829.png',\n",
       " '258424778490117397459511805743149591292_v7r9je.png',\n",
       " '258709176864599488288795922563110407305_tsd8lu.png',\n",
       " '259121840402187149914021628519100533337_qbnmb6.png',\n",
       " '259240890045782516405643225185760912656_4bb52j.png',\n",
       " '259288230532290396803785584225921130511_agmpzx.png',\n",
       " '259357260777807556561621562173811685267_bhbg1z.png',\n",
       " '260665526137925914547045321994279021459_rp9c88.png',\n",
       " '262207094894958365167705715969584182778_nt1s9t.png',\n",
       " '262362808376921680090994211254433731465_ia8kf8.png',\n",
       " '262364475654677260118623853412666814163_6hmsxv.png',\n",
       " '262545326521337640442082917187199260763_q2ocw3.png',\n",
       " '262800872951205422583015883273324097638_dum0hp.png',\n",
       " '262936941463390682494373602997429847254_hdbfya.png',\n",
       " '263157486926529513265209403166871853739_yp8rkk.png',\n",
       " '263829383693026726393245385887287924288_cr4qsd.png',\n",
       " '26474919193080629765134376297838668884_o51i2u.png',\n",
       " '265817215451291145999604186021946561464_86ponp.png',\n",
       " '266330199720787312628632792990816135828_wv2r7i.png',\n",
       " '266622049329012076335835681118773092182_k6z6o3.png',\n",
       " '266697560953470746876274966418794099186_u4nr3b.png',\n",
       " '266822203243827461222853855593104356699_5gg3z4.png',\n",
       " '266951820635184502379772047392182701054_x1burw.png',\n",
       " '267341145382436508548307096487104290394_pktith.png',\n",
       " '267961335519138458330741603577607913477_cg6gzx.png',\n",
       " '268494446098556558404289399804715352275_76xvk4.png',\n",
       " '26868302764637173155363641194330728607_mdpgj4.png',\n",
       " '269810828975397326410884114457790875929_qzimc4.png',\n",
       " '269966303135310379618148316263412635121_n04pgu.png',\n",
       " '270615234819495355122530496241723547556_j8w6da.png',\n",
       " '272084787551069560463221428009096100136_twynhi.png',\n",
       " '274980277739683088311839502185170935112_xqh3zm.png',\n",
       " '276390569174698343730614145857628165480_bg431p.png',\n",
       " '277373516093695560892707081527982770566_tgg41z.png',\n",
       " '27785943719638180898645028081731917693_je0yhz.png',\n",
       " '278005090928579460552216927356897463337_gumkt6.png',\n",
       " '280407476716072128559842366330371477418_j41jzk.png',\n",
       " '281177762509702527237883545315390470794_lxk4oc.png',\n",
       " '282298828127468690311649169119623097446_tmwrvm.png',\n",
       " '282592992027433015667491421558910389203_gnbx2g.png',\n",
       " '284770580305983786565525132108952634122_9q5swl.png',\n",
       " '285781333845629408622452807110952647084_pbp3ew.png',\n",
       " '287729493528792126840769060666495150510_q0hyyj.png',\n",
       " '289103923756175447679190866995134627595_9w7rtc.png',\n",
       " '289533664374954734106653310080094660728_uo7lbq.png',\n",
       " '289623677316046126156545370242811644511_fiwrtl.png',\n",
       " '289688309201943002402626104725852817650_75tcib.png',\n",
       " '289893620608433399317730797481856234341_woq545.png',\n",
       " '290166782029612324069716740803320932911_2vhytw.png',\n",
       " '29089659139291009167211755407376824481_j9j9q8.png',\n",
       " '290948504950359858749844014931482154898_0hyaxh.png',\n",
       " '292226166867160296320862030597260385223_3bzrwo.png',\n",
       " '292817365962291615763046568811863848372_2_lxlrst.png',\n",
       " '292817365962291615763046568811863848372_izts94.png',\n",
       " '293066557361398563787176095659856406990_mqmcdm.png',\n",
       " '293370059695311084813271556652985957130_si4wqe.png',\n",
       " '293803181456858684226332951743162482844_lbkghg.png',\n",
       " '294039730602176360067163367828801292638_atjpn9.png',\n",
       " '2957209019984938137421950356282372878_tzfkh7.png',\n",
       " '296564416660712796137103328905707874126_0mcyt2.png',\n",
       " '296724735954650960953087576982156153170_oneaba.png',\n",
       " '297390938819175068000880249511545413648_05xfh3.png',\n",
       " '297764347455193662099855753039448965757_r55nb1.png',\n",
       " '29799000883473046987413253869305418446_uwmthn.png',\n",
       " '29812831373440486291195338706777388813_tf3qbf.png',\n",
       " '299511821056828391863525936480860763397_cy0fil.png',\n",
       " '300059661210176845417442202157087595628_jcjuhd.png',\n",
       " '300075607258611141141614460212407317008_cnnxfi.png',\n",
       " '300391550112200509533341753020251808507_crxl47.png',\n",
       " '301400472162424626029491835571310377933_f0zp2f.png',\n",
       " '301926172632082162133424156072261962015_5c97g0.png',\n",
       " '302616776580613785579063656273616988407-2_dcrylf.png',\n",
       " '302779471205798914180391044743816505704_a7eibx.png',\n",
       " '302825005081136466903292266185087168723_4bny2v.png',\n",
       " '304157793784417576101946845304812212520_84ltks.png',\n",
       " '304188297016116459278912974209283257710_awsx1y.png',\n",
       " '304215410944417142979922779696269500559_skvw2g.png',\n",
       " '304471899225712439277369034546656037784_2_y55zdv.png',\n",
       " '304471899225712439277369034546656037784_ybme4r.png',\n",
       " '305398892210830173443168538030394988304_lkln85.png',\n",
       " '305719328226867216786110837783019988879_b86f2u.png',\n",
       " '306312582527525564029302484240461220349_mh3r6c.png',\n",
       " '306428109585150066459082597985588657272_s67kk6.png',\n",
       " '306567416829196861446923492013742433228_fa6z18.png',\n",
       " '308554035901203573441767793719455481344_j810jw.png',\n",
       " '309685859718084814716585237075510086800_qxktsr.png',\n",
       " '310617125071585139013080343957416315726_j353eu.png',\n",
       " '310645210989148875600766757330969744371_3jyl60.png',\n",
       " '310779871726577183044892110207370611775_d9qowq.png',\n",
       " '311155806526267660514346954161593979671_d6pfaw.png',\n",
       " '311299177032649881753403914667521535802_os7xh6.png',\n",
       " '313728972103694927578202375646855896392_m7di91.png',\n",
       " '314037132282033574050542481247250636114_adnpbs.png',\n",
       " '314111201988351878076713345457312938594_iciwln.png',\n",
       " '315073463890118670130990645751171961820_t51t1p.png',\n",
       " '316484467892647111419619762037071290718_2zqnnl.png',\n",
       " '316609666896969836380904164409203642215_is8h0x.png',\n",
       " '317110566870673500879613038354646886646_wajjzo.png',\n",
       " '317389459997740815796586808716058640002_v3coba.png',\n",
       " '317692336120213392737455643457554805434_xm0fcx.png',\n",
       " '318462175767949436505978710959718595159_2_ja262t.png',\n",
       " '318462175767949436505978710959718595159_4m7huu.png',\n",
       " '318692275650835638367283524197044166941_z7qb7p.png',\n",
       " '319334101099954575687583053860982793513_2_a0zm1o.png',\n",
       " '319334101099954575687583053860982793513_3_tmcvbb.png',\n",
       " '319334101099954575687583053860982793513_osu35a.png',\n",
       " '319814029408852610301786319893978143214_njkad6.png',\n",
       " '321630793449174515727436422234793794902_lmd7m8.png',\n",
       " '3220468855019450692279280580683589591_hqy80h.png',\n",
       " '322089862751779557513714538273153247678_1ufmw8.png',\n",
       " '322349502418102321592942457086705004255_c2licz.png',\n",
       " '322442846099339742882568477802714024541_xitmag.png',\n",
       " '322551728678049910099471740549435301699_0a3rfg.png',\n",
       " '323190017942475586338835074525037721781_jme147.png',\n",
       " '324936619073929776255305570081750036694_uq16yw.png',\n",
       " '325039976703597150055445659492512413650_8lvgia.png',\n",
       " '325945098565449746371715005766489449299_qeglxo.png',\n",
       " '326071182073947573751989687405904150861-2_bou007.png',\n",
       " '326071182073947573751989687405904150861_nuld1r.png',\n",
       " '326551013601189203612930725604915477666_2_fis57k.png',\n",
       " '326551013601189203612930725604915477666_3_ck8k4k.png',\n",
       " '326575915779005009544758854364736192972_ika7fy.png',\n",
       " '327882368864842858066521700099271393892_nnfqr7.png',\n",
       " '328222161098299006311771543607949351783_xcz3m1.png',\n",
       " '328516157949274010274525046467697245374_pfhgc5.png',\n",
       " '328940706094955150816895398273807948963_v5pdzz.png',\n",
       " '329825774371005926701469698750363272457_h19ixv.png',\n",
       " '329891951147857936214818135133430923240_yzp1kr.png',\n",
       " '331345078362883039053697732542161653170_vvtbse.png',\n",
       " '331488830911611453466014924855134974219_w304i2.png',\n",
       " '332479432154991030218938914096102985792_mkxo2x.png',\n",
       " '332789439943568068605676508597968336021_25da3y.png',\n",
       " '333152886138581563760422416704506691849_b0o8zu.png',\n",
       " '333152886138581563760422416704506691849_wxruw6.png',\n",
       " '334518044752069160919870357043290488212_xfk7z7.png',\n",
       " '33453668472047375012071876539471117082_n9om2y.png',\n",
       " '334675566944116310218444183309580211098_8jnhkc.png',\n",
       " '334802901762934725996586063593875686769_6eg4g4.png',\n",
       " '335245810479313152923861742392659242651_s937gv.png',\n",
       " '335592134453619811431450652584492360162_3m6w79.png',\n",
       " '336715041217990051605140035928905483077_f1ca5r.png',\n",
       " '336949924951975170488060188038359328824_skaoel.png',\n",
       " '337197890839958741401626843855398610108_meqpj1.png',\n",
       " '337426455035655656406615389944693158132_kpw0a6.png',\n",
       " '338631003365990811217088019794487725533_gq7ybw.png',\n",
       " '338724070267434279342835408259690479303_xrmcpg.png',\n",
       " '338802678067999912798654887385367149389_r1yvcy.png',\n",
       " '33928940754505071045109944464376332254_87vrf8.png',\n",
       " '34403530942520595516716915739959708400_n0ed5v.png',\n",
       " '3453122697119551886591261429474354448_7ep5l1.png',\n",
       " '34817812323404574334586229664416082700_y04ov2.png',\n",
       " '34956600569787369391370698237647464413_8k6j2z.png',\n",
       " '37271426047355427681036462357759233067_18il4u.png',\n",
       " '37948298415777482927030632820631752573_o1o529.png',\n",
       " '37957233775074787145548022310495224479_xs6ru1.png',\n",
       " '40325677437536880083912960122894622400_vy1pzy.png',\n",
       " '4098445771845083505032162830534408322_nuq97u.png',\n",
       " '43167795292449625401010114272924037395_yn0iwi.png',\n",
       " '43322602422808014253813563651038466453_b7r7sp.png',\n",
       " '43493294881014402999452267625900931576_32upd7.png',\n",
       " '43752168747114919946495164352935455466_7cy3l6.png',\n",
       " '43888144493306182266454706650777661213_5o6mma.png',\n",
       " '45176935047864591873866374398068899105_w55c28.png',\n",
       " '46437390358334818466688677955342397336_rlwjf8.png',\n",
       " '4692918190408130509978794086895791575_qxp6a6.png',\n",
       " '4713700867952425637890879645523962138_i66umh.png',\n",
       " '47299148673709881904543951312259772147_lc0o6o.png',\n",
       " '47475080566210570417281148271404201005_wz7ui2.png',\n",
       " '48078744553688544780190636396703151068_9pxotj.png',\n",
       " '48356894691149851069708017754880135566_n4l7kb.png',\n",
       " '51535050958693752715889726451486914527_njmzph.png',\n",
       " '51545116223836986737609777232285685318_xqhb2s.png',\n",
       " '52244349209811134613211907049656951193_smut3k.png',\n",
       " '52827475372906629170234474381178639788_lgty5c.png',\n",
       " '53187901492715018605724295181437562774_-luevk.png',\n",
       " '53266543693495744209500591273524511861_0luen9.png',\n",
       " '53367935093428369773086352597074916187_kqsguf.png',\n",
       " '53559142353168584699212790820536067381_rmiqyf.png',\n",
       " '53847830051729467865059308955455051926_5zu5gu.png',\n",
       " '5400405174856461804912568926504943980_7abolc.png',\n",
       " '54749087692378352968574132509546671022_ycdp8f.png',\n",
       " '5490751769992814843680576579517484047_b13msf.png',\n",
       " '55524756498276517060039935537533060683_28wkxh.png',\n",
       " '55616764214189674803513112064560030772_6b05ql.png',\n",
       " '57755418271497228882023377674219097536_2_hesfls.png',\n",
       " '57755418271497228882023377674219097536_350nyr.png',\n",
       " '58490145948378148062049675118777004225_qdp0pf.png',\n",
       " '5894434749055251501431150556722261182_dzm7jy.png',\n",
       " '58993282320856269505750192966631688028_herwhy.png',\n",
       " '59294706285753638292473750077775416759_oefgaa.png',\n",
       " '59463853579857101781537676484591247147_kr4zed.png',\n",
       " '60172641508009273205568905785439472480_bcwn6d.png',\n",
       " '60446577688780136038665812003266384410_p2cxxi.png',\n",
       " '6049808509970517493078101507214338745_5qp4bq.png',\n",
       " '60631527657166964235370352307922403889_mijqks.png',\n",
       " '6176221810143592964218283013810027789_l30uqv.png',\n",
       " '63474127066331949787748353051955317381_tzgxue.png',\n",
       " '64341642697757670491099412915421222196_3hcmoq.png',\n",
       " '65529860288321019909666288763012682567_p0knkv.png',\n",
       " '65635794494799609515982306408766286130_vm3jmm.png',\n",
       " '65641038072678741658715226219002674649_29hvr4.png',\n",
       " '66187097568455843939071920161935216851_wfl9ty.png',\n",
       " '66481043483853421133536318598728703257_ondafl.png',\n",
       " '66551760760126883285596858022383856003_2_bpn4cz.png',\n",
       " '66551760760126883285596858022383856003_35c21i.png',\n",
       " '67441937324485839777794580770593462650_wcjqnj.png',\n",
       " '67626656322098730368163258444132802199_s6dwix.png',\n",
       " '68822172256857676033621728476770997068_na1tat.png',\n",
       " '69562287106355762436831602770068986336_rzemk1.png',\n",
       " '70774301148045406997960814534468716709_lsmqmk.png',\n",
       " '7112315719496931545424537781724419307_5oa19x.png',\n",
       " '71831565249279423919922213543815423437_yyi30l.png',\n",
       " '72186992276136273584606900837130111190_ppsmlh.png',\n",
       " '73495129496516883745319336921720073003_b1fsqw.png',\n",
       " '73679020151001733462099449533529429536_2vui3c.png',\n",
       " '73871856455618477436814527680362770908_1zcyiw.png',\n",
       " '76361298668216951046980971548719680182_j9m6b7.png',\n",
       " '76537332592526804655330173608044497968_irdae2.png',\n",
       " '77583613598134952653706011395153087291_x16zg8.png',\n",
       " '7936806348483414379683130437223072392_qi7bkk.png',\n",
       " '80058958945791374624193981254012860215_eo2wzl.png',\n",
       " '80175713072102371529530255102684670813_l8hgll.png',\n",
       " '80240908426505306124095334238413984996_po33zz.png',\n",
       " '80530034957196443477184621033845730474_v0rksm.png',\n",
       " '80930939702784881226141133265214593639_oej4hv.png',\n",
       " '81599549927202212952402574591102375500_yr57ea.png',\n",
       " '82011434729119821101516706562588723763_m51pjv.png',\n",
       " '82936783794722374281367980403959803871_zsyq5w.png',\n",
       " '8323925340910474480370106160167148505_tdzbin.png',\n",
       " '83359733169688982476297681034940274914_i4cmch.png',\n",
       " '83501573345055016969591374214483924042_8s304f.png',\n",
       " '83618478448235271647793042996221960925_wq6bob.png',\n",
       " '8367254380803766273044071769718119329_8v1bvd.png',\n",
       " '83736820902702585466043289435864988684_milqhu.png',\n",
       " '8521385332573000563000661723849223961_8xumh9.png',\n",
       " '86211434777728335391873392788133949654_372xcx.png',\n",
       " '87161699750890410023864529832279060659_uw29qp.png',\n",
       " '87531195682050235399947066505368607829_te5jf4.png',\n",
       " '88749380293594602295457640292083612671_r4gsxt.png',\n",
       " '89201417979832330680519912041281968215_zom73c.png',\n",
       " '90169506935505084512356164567864230938_wvybye.png',\n",
       " '91474892227424017832718783220155008474_umhqae.png',\n",
       " '92187576384859567976539011430534290289_3ok3g5.png',\n",
       " '92437563757745583138652971774315425368_xj0mdo.png',\n",
       " '92632228946007566807259803000203189777_4qu84m.png',\n",
       " '9264204347031478874519307660634700420_sqiwng.png',\n",
       " '96291099269562664920404020536192714764_ukt3yi.png',\n",
       " '96563943746703854599835796855482627008_8kmxw2.png',\n",
       " '9846427211982684029149686407094586897_ppj8nt.png',\n",
       " '99016895285634280226769008407580112419_klk2uq.png',\n",
       " '.ipynb_checkpoints',\n",
       " '100617721005493358788622515939965631279_2_yc8pf2.png',\n",
       " '100617721005493358788622515939965631279_fgkwxw.png',\n",
       " '100673172564211066342970576987130587566_upv55r.png',\n",
       " '101008373280748865929359571723464863651_lj431i.png',\n",
       " '101224034336322271915340201354620942611_eg05v7.png',\n",
       " '101354916913099012081924155376991837012_81ss65.png',\n",
       " '101363485315189308407725528030953168168_2_c0sc62.png',\n",
       " '101363485315189308407725528030953168168_ujpkg8.png',\n",
       " '101546495902650294898934435330365891747_81xbvu.png',\n",
       " '101743109199374045378118121508442580874_2cjss3.png',\n",
       " '102082704896245086061463417027826041447_2_axtk0k.png',\n",
       " '102082704896245086061463417027826041447_dalfp2.png',\n",
       " '102261565871021073177072445185804855430_e4iahn.png',\n",
       " '102281670604861074368758408125646385996_rl2r70.png',\n",
       " '102546495463882918344282366283084399647_2_kfatlc.png',\n",
       " '102621914867417264371096682916910511845_y8zjh8.png',\n",
       " '102641441726208022110674153951544622215_izyiz7.png',\n",
       " '103017286987565854902694851827724037178_f9enif.png',\n",
       " '103568019886067607251992606017136369376_1cr9c1.png',\n",
       " '103952406743288110153968252852348874352_qxxit7.png',\n",
       " '103953050703210888484377088771966492555_pnj9nk.png',\n",
       " '104776588380844132729498423098294675708_lz28t8.png',\n",
       " '104950901535895825626712066919465820302_sxhjw6.png',\n",
       " '105116105668033030925340039899904380495_2ody51.png',\n",
       " '105314331668623063948078368121088219147_-ucim3.png',\n",
       " '105726078816021431432447163135119439157_rfr7jo.png',\n",
       " '106248687308924828842005693557733834052_9vhgyu.png',\n",
       " '106517311601416387046892391955760230481_2_pgm35h.png',\n",
       " '106517311601416387046892391955760230481_v8ayri.png',\n",
       " '106551674468088490071324858040197724556_wnmswo.png',\n",
       " '106884328786369877694903658290662822072_lu5ik3.png',\n",
       " '107059879048894158440659415801201615193_2hhs4t.png',\n",
       " '107260864418456491993252031494948619670_9se1ri.png',\n",
       " '107638732314610085944564154687050837142_w1s777.png',\n",
       " '107758963399672237598933176368579850397_lfgot7.png',\n",
       " '109266829892704905709045339867081054347_tewvn9.png',\n",
       " '109629994783055558159663901799709452741_lp06ih.png',\n",
       " '109917220836728308200961018232957639963_2_e20qjx.png',\n",
       " '109917220836728308200961018232957639963_9nrtfu.png',\n",
       " '110014481432017622508843874009216884283_ukv94o.png',\n",
       " '110287522609416926949126682133671821007_4pyknn.png',\n",
       " '110745866264284540791084333075990261837_m0ba08.png',\n",
       " '110809182356623659054669004274740721381_s73ehq.png',\n",
       " '110857683249600145282369461783183514657_blvj9d.png',\n",
       " '110924912382115442285036816133503840141_vr4854.png',\n",
       " '111663441597920323363243636931721135658_jq7gxs.png',\n",
       " '111709392198352006113325207911517225852_9l15he.png',\n",
       " '112069513825680474004312935207774925849_oxpe9a.png',\n",
       " '112089307780721853324180337549145002599_wrtmi3.png',\n",
       " '112423260278475798822010822764287946666_7u2yxp.png',\n",
       " '11275374701044077036912933256383053242_ct1m5e.png',\n",
       " '113035647731915480685427546020637813778_gz8kaa.png',\n",
       " '113703653723544928779065410437214218151_cf4oay.png',\n",
       " '113731872292095791571954252821898165793_suyihl.png',\n",
       " '114371067533091815324272026707879792674_3yhfkb.png',\n",
       " '114562358044017239905852015492700803045_x9zrq0.png',\n",
       " '114617749302631455981494357132754134306_hzefua.png',\n",
       " '11480047075259987087459532225777221857_eb320s.png',\n",
       " '11500653377023723012477382937918116342_5m4lvf.png',\n",
       " '115230279137713157106484035489653644040_qfi7h0.png',\n",
       " '115263314615937124996392879313495388_od1tee.png',\n",
       " '115876098628013285399785627779158923133_jqv1nc.png',\n",
       " '115880215347715440030802952032871740923_rvynqy.png',\n",
       " '115884730726924704478474434664623714798_snlc4c.png',\n",
       " '116054290686336184472231299587464428986_pzh74m.png',\n",
       " '116271306156879014267910225816549658924_e6lz19.png',\n",
       " '116467812238395590115929323298655305339_fkvhwy.png',\n",
       " '116762244364314061221662513748571640840_28cjs4.png',\n",
       " '11745786346994798351822198141137994455_1luqe5.png',\n",
       " '118175550292484034772129227558493044247_4ew9bu.png',\n",
       " '118395744025856358400705404934819423560_yjkw1e.png',\n",
       " '118893441991128810572382088582122474548_qcq6dr.png',\n",
       " '119393062260269581646016374298781002892-2_vhysy3.png',\n",
       " '119393062260269581646016374298781002892_wwodm4.png',\n",
       " '119420544343703795128638769921842076431_t7glm8.png',\n",
       " '12038406912917946494401840043838585251_q0g7i2.png',\n",
       " '121136029642409128673118465562207072017_-69lrw.png',\n",
       " '121142442953500022160045698911404387552_3usm3p.png',\n",
       " '121328007139407567497008112595829786760_4yyn17.png',\n",
       " '121593607581301084277745592239441245232_ujtjmo.png',\n",
       " '121602272776916586246459736394049786994_glggsy.png',\n",
       " '121651531646186575405653177861351977814_2alr2l.png',\n",
       " '121857688398504337633816522898286493892_emaaun.png',\n",
       " '122042873071563795492117557854835710768_v4rnei.png',\n",
       " '122860097015900610123324338555430035502_0vhpd7.png',\n",
       " '122860097015900610123324338555430035502_zfqgwg.png',\n",
       " '12306713291273038158698237341377534860_0bxev8.png',\n",
       " '123460352822634209840465516587169475554_6wqy57.png',\n",
       " '123967729058086726399334009127308106753_tnb73c.png',\n",
       " '124175363122841314291511823817158710768_aktuhg.png',\n",
       " '12503118262032561742771457931364801576_at46iv.png',\n",
       " '125500395025603057280151985778726344290_1tpfid.png',\n",
       " '125821047921601330074282708340855243236_4j41s0.png',\n",
       " '125860234102306230601057011807129958107_t76w90.png',\n",
       " '127590800140286919456619999294761280777_nre2gz.png',\n",
       " '12844567366295409963086659274827625103_twvans.png',\n",
       " '12869010732374997991163413674151722116_lvla4s.png',\n",
       " '128878196674043522041046646308262815590_m6z2g9.png',\n",
       " '129549413947807754484088236615456520107_n6srky.png',\n",
       " '129665784590515780451847370161631027377_xgiwev.png',\n",
       " '129970273314974386442158463338617398942_5n4y8r.png',\n",
       " '130910685137706867774084598157333484780_5ijgri.png',\n",
       " '130944308340733287300506609380035704899_wb40fn.png',\n",
       " '131365970634568304641118871321195030610_eydfso.png',\n",
       " '131396082598507810928206894724931329679_tc4lml.png',\n",
       " '131786153884685889694035680476319705854_2_kb3go5.png',\n",
       " '131826915610322147231306519290584308912_dzdocy.png',\n",
       " '131896855530039807278510010070479756878_3sn4p1.png',\n",
       " '132504902227584612399862870872434627733_7t4u0d.png',\n",
       " '132506343189182263716366176023773797856_3lqd9a.png',\n",
       " '132777914085211784121316906298561203050_qqojlc.png',\n",
       " '133209808261457024546510375490411896759_6tzhzg.png',\n",
       " '133368121651032079462687421477664595106_6rcus4.png',\n",
       " '13402404435460334445430156170945589744_o0gru3.png',\n",
       " '134109938157953296592069953378627044578_odg2jy.png',\n",
       " '134262609105592483148836201557538937899-2_jxose0.png',\n",
       " '134262609105592483148836201557538937899_ef3aol.png',\n",
       " '134732529493669623677749817808001826553_2ii9rw.png',\n",
       " '134732529493669623677749817808001826553_2_bdjukx.png',\n",
       " '134756616618101248328752178245310002574_3se7ua.png',\n",
       " '135033729368762841174494789458187648160_ocog5k.png',\n",
       " '135367894531856731035513178415475087341_oiz5hw.png',\n",
       " '135367894531856731035513178415475087341_oj30wg.png',\n",
       " '135415053038865988838674869945903449761_8n39zx.png',\n",
       " '136411037588224600528880754375048677433_vt6aus.png',\n",
       " '137633416505900798198514307787657256191_gg2490.png',\n",
       " '137773620871093380009052548226559966594_w8mm04.png',\n",
       " '139332769100619584717582072073665283566_dowwxm.png',\n",
       " '139373399684024433144558432208470147564_tfwghj.png',\n",
       " '140394998007515528602856527062896874954_u8brnf.png',\n",
       " '14132154397685604982851023443664709138_vre44t.png',\n",
       " '141402011520687463482513570627721493262_0mww2z.png',\n",
       " '142059136459863289544924430936485153120_4ndkr1.png',\n",
       " '142167033403605080060293629724776821276_l3z0bx.png',\n",
       " '142328268390312691858172969298134235779_x3p28o.png',\n",
       " '14250462920458936389572015055078587179_0t9io7.png',\n",
       " '14264805038067328997328742299221090246_swhgv9.png',\n",
       " '143724836608464555496740206053468976992_6fkkob.png',\n",
       " '143792665881857891203390136692545786317_2fao0q.png',\n",
       " '144336641153378223203581404479844728889_5gp9yl.png',\n",
       " '144553716595819906572993309683316294184_s94mqu.png',\n",
       " '144559343936216261906553297702444948039_ia8kvs.png',\n",
       " '145060421051822175913013833523395874507_v3gw6w.png',\n",
       " '145542306769027787815966383168166116027_3rbpsg.png',\n",
       " '145639913184458966308972563366021361019_k1zpxv.png',\n",
       " '145803076166556143455674390852167078892_e3ahgw.png',\n",
       " '145829172181535017155615981102308148590_7eju1q.png',\n",
       " '146361615096961050913003303613873658732_vpqyot.png',\n",
       " '146395906397642004653383050480840722316_ydt1za.png',\n",
       " '146447650887571084791975060631371241862_6a0mey.png',\n",
       " '146698450950138073536948532051211540160_mjo0c0.png',\n",
       " '146912672435940719359523770254327896363_24vdru.png',\n",
       " '146912672435940719359523770254327896363_2_th56vo.png',\n",
       " '147323170617334985798923950658603159159_2_o6aei3.png',\n",
       " '147323170617334985798923950658603159159_pscedr.png',\n",
       " '148097660935156424821038490771076780222_svwgnw.png',\n",
       " '148501297639523818647147339146704136657_78xxbd.png',\n",
       " '149448599615132658944902642295667120353_3_xqv6gv.png',\n",
       " '149448599615132658944902642295667120353_yhnikj.png',\n",
       " '149459324864924286866179277462222258803_2gnmjy.png',\n",
       " '149459324864924286866179277462222258803_2_uou4k9.png',\n",
       " '150000764479050238134717413331810145259_6tfpij.png',\n",
       " '150069867538971373926263898543130864830_5wvyh6.png',\n",
       " '150071973054029912712289093754969788036_gncpb0.png',\n",
       " '150618932834193314380057406899628172265_sld5ir.png',\n",
       " '150860842256572553225822092112339446800_u2dhvj.png',\n",
       " '150961803385310530431081571134436289984_b5fxd1.png',\n",
       " '151194287937434208689769823475159382004_528je2.png',\n",
       " '151376580178307695062404809467611290653_uhiwke.png',\n",
       " '151941456715702716813107881154720078935_8kf1kv.png',\n",
       " '151999039342627183388599810512734528535_g4aelc.png',\n",
       " '152190428851831432671020931876987895842_kjd9zn.png',\n",
       " '152190428851831432671020931876987895842_x6ky3y.png',\n",
       " '152218190319509346425217028448137264585_fhmvhy.png',\n",
       " '152710045570889708915387887424559082336_xgt39t.png',\n",
       " '153181226091248726602698481965604971785_5bpd1z.png',\n",
       " '153268598450125380093555300063129188461_leia3x.png',\n",
       " '153616921918785242265361738646119837534_51rvgy.png',\n",
       " '153671102089208115524986496672662999554_2_qnyeb1.png',\n",
       " '153671102089208115524986496672662999554_wqyx63.png',\n",
       " '153991089273682316515448328455753029029_qvz9vs.png',\n",
       " '154291836460564684942554501615216653280_qnoemz.png',\n",
       " '154647524760956705040556570839130918680_26bm7h.png',\n",
       " '154707713453725291864140144189408862010_aekoeh.png',\n",
       " '155595971254982723728648916078720454995_ewslb9.png',\n",
       " '156257638853054253675759591949498914086_rb4sp0.png',\n",
       " '156736544658120459298634312716229838527_2_mw3eb2.png',\n",
       " '156736544658120459298634312716229838527_eiyciq.png',\n",
       " '156970068968028231680552796656925444046_m74u1f.png',\n",
       " '157220226943108537050341296079208124494_2_3th0jp.png',\n",
       " '157220226943108537050341296079208124494_3_t4bowf.png',\n",
       " '157286594658027420440956310976972980849_1t2173.png',\n",
       " '15774566636116109193418245839039769143_y1h2n5.png',\n",
       " '158089175769427140844925251179288654423_bm7h8x.png',\n",
       " '158418209508576754148273221794955345248_hfymlr.png',\n",
       " '158462900867160815912598409899429254171_dcdkd6.png',\n",
       " '158845347718822678656210379855080178045_d544wl.png',\n",
       " '159855037151159453353900330408053350367_qwt22b.png',\n",
       " '159867556010876731529243208489551856038_2ev1k5.png',\n",
       " '160200614896801759799704778385034472953_ghrwxd.png',\n",
       " '1604034379482727145885426333136692253_hj6kt6.png',\n",
       " '160412904397426831396142593573838627807_nnef4z.png',\n",
       " '16044966095064404514877539733879308281_4okfqd.png',\n",
       " '160677411289229532773966403734816729974_jbc3pp.png',\n",
       " '160884759424967693226675900264384986642_en6v6i.png',\n",
       " '160884759424967693226675900264384986642_ena7b0.png',\n",
       " '161107415574788313925596149400916321370_2b985e.png',\n",
       " '161738217033307445657398200173955894629_vp2vsi.png',\n",
       " '16211358636732458871362623680356375952_cmzyob.png',\n",
       " '162124406902638091829096292568691954879_jb96j3.png',\n",
       " '162273872491991847293200628251865229908_316pxh.png',\n",
       " '162650109380059029493260773271634269186_ydosi6.png',\n",
       " '162749886072584881095235950087864311476_bbty07.png',\n",
       " '163005499345371331623164134227421019030_ix8h8t.png',\n",
       " '16307019174180799313481282455536247079_3otm1y.png',\n",
       " '163383549653256816570719894700079552595_1oqclj.png',\n",
       " '163997737253212894681752706341621674231_3z3d0a.png',\n",
       " '164004626978701465382112796615747971337_-so04g.png',\n",
       " '164195253642726675245621745629199833315_f65t6h.png',\n",
       " '164474029329364497854971584799753375413_o2x9pn.png',\n",
       " '164737420943655989866006215212374905490_99rctu.png',\n",
       " '16492087618979413961972088019775420322_3bsut5.png',\n",
       " '165047465432667442827240605166431348638_v8elhn.png',\n",
       " '165188606562504477357468471951333062204_l5pj4e.png',\n",
       " '166166442407357428815872449816987878500_sr05oz.png',\n",
       " '166177791836302549054319412144023640761_lpf9s8.png',\n",
       " '166595862282054364863326114304020358863_5j2b4k.png',\n",
       " '166631430167191056676946374032768636930_2jays2.png',\n",
       " '166918300510976893163043327042324656449_gkn4ha.png',\n",
       " '166928906607606107277867110512983825200_knb86t.png',\n",
       " '166950801296031853976842172407668644325_5dlgxm.png',\n",
       " '167060418043740287671121824757325237509_ejgyfo.png',\n",
       " '167075692437766270434952531667699750160_i7nove.png',\n",
       " '167103892423432067170710085526699525545_vv40dp.png',\n",
       " '167891152309007801413146488810821721572_axc6is.png',\n",
       " '167980044868207026505830867206473263708_u2184u.png',\n",
       " '169030726415631321276050854932424959939_dhlewn.png',\n",
       " '169329771972618375324762792538378979838_cfg2xk.png',\n",
       " '169416993682535419091517628840351086184_2_oe09n4.png',\n",
       " '169416993682535419091517628840351086184_w4bqjl.png',\n",
       " '169986218476995072728986185475756197147_23gehj.png',\n",
       " '170335062854953939217668687922423490550_743erf.png',\n",
       " '170775301419466819485421712714386599452_qbymor.png',\n",
       " '171162805445261892551624592685357179000_supszn.png',\n",
       " '17191339786089428008256939643921303145_ce0x31.png',\n",
       " '172944013788140376805230071852053540874_ghe8la.png',\n",
       " '172944013788140376805230071852053540874_gx7wlj.png',\n",
       " '173154103559496110977798545239832343531_wfm606.png',\n",
       " '173186798716775203986972574035398623428_vy1o4h.png',\n",
       " '173269723225816565100896160536534922584_m75730.png',\n",
       " '173668666606866607385480059736226048555_33op7x.png',\n",
       " '173691101890632373372800397932041517919_85qtrl.png',\n",
       " '17379387720744836821192399239421710795-2_1r4pgq.png',\n",
       " '174277369018563854441101189202590340031_2_kfgkdy.png',\n",
       " '174277369018563854441101189202590340031_pe22tn.png',\n",
       " '174651428937236161430337803431644912286_wqeaz9.png',\n",
       " '175073427976951721013078331129065908480_sc2e5k.png',\n",
       " '175382078524128179404059243558607675350_j2xlir.png',\n",
       " '175483443738019685160868132510284924756_1ef8i8.png',\n",
       " '175823961834532601997673960685897324437_2_26j2pn.png',\n",
       " '175823961834532601997673960685897324437_rrqrfv.png',\n",
       " '176053194818573148107919293254140996569_68ydz4.png',\n",
       " '176653790228119163486861298523037335242_2_j9501h.png',\n",
       " '176653790228119163486861298523037335242_onls7m.png',\n",
       " '17666362473201571821821907638225633305_6z2qh8.png',\n",
       " '17739421906889915212209124864443820316_20sf7n.png',\n",
       " '178110125290256295480180969194661587882_421cdx.png',\n",
       " '178354818408593296100161802076417916171_mrwbzf.png',\n",
       " '179072816661270260183426361122412112821_0egguv.png',\n",
       " '179225649151624866770655979615092351330_xc4c64.png',\n",
       " '179418621742136933748307744122083446892_e7m394.png',\n",
       " '179432117063939553289837279722515015198_hgwc4x.png',\n",
       " '179956242763627107801356590351831491908_vwc3aq.png',\n",
       " '1800719804166270189511533197998289596_f425d7.png',\n",
       " '18026555325291869871419389702689431852_ljxhdh.png',\n",
       " '180402602270950142625310766108662248491_m19xr6.png',\n",
       " '180498520315135321275653518474667504508_2_lzh9p7.png',\n",
       " '180498520315135321275653518474667504508_4a8tbh.png',\n",
       " '181252088071315446454062425336011509368_btzw52.png',\n",
       " '181655817791424968782777169700715522782_78p85e.png',\n",
       " '182103491289378555625150811194357629869_4nqvjv.png',\n",
       " '182858692275174696884637258950058465997_qh0v05.png',\n",
       " '183163588711433399627220824974788801240_ncxo56.png',\n",
       " '183283963655583009034810522671641673037_ufkk1o.png',\n",
       " '1838432589584333758477395646935964735_zmnpbc.png',\n",
       " '183873672074766089683271097063900423199_o1ixin.png',\n",
       " '184169337721884296224233199580242808935_x0tx23.png',\n",
       " '184627539923491023754157629135243712593_5owm6o.png',\n",
       " '185475442819657897885122049826610722344_x5iapy.png',\n",
       " '185952744481364151657739053703067370354_bqjvvl.png',\n",
       " '186495131662628060686438531994712008380_t8wwlc.png',\n",
       " '187331115982652906017738034125614555977_8yjxov.png',\n",
       " '187335631598362314495868527722246133711_1tj0bh.png',\n",
       " '188003356157085884759533582544841436125_1xrtph.png',\n",
       " '188664857930773688866420936471447423982_efu1xj.png',\n",
       " '188665198449023903552379255243007051090_qnbvtx.png',\n",
       " '188804789946502738006454525280407472572_8sj729.png',\n",
       " '189385479051725013942731578091412445483_f9dv7b.png',\n",
       " '189991515894726041198897015796674598389-2_fblsa8.png',\n",
       " '189991515894726041198897015796674598389_6pczci.png',\n",
       " '190411733026370022953130846460719147534_-sx4zo.png',\n",
       " '190855070451137634492927411095340388975_u8lqms.png',\n",
       " '191222174356208710507781769434517553239_xaih97.png',\n",
       " '191431855026409120244590501732099527063_rsorun.png',\n",
       " '19156777596935680431149677516611113477_wegpjc.png',\n",
       " '191681660933009674625487212360272325441_qfommn.png',\n",
       " '191694642718003731505984371937616082315_4gw4lu.png',\n",
       " '192181810372716111834474825410352188365_1hw8um.png',\n",
       " '192228066390360458854082289600593859_ydvw17.png',\n",
       " '192352679025482205886459256946712265270_2gz3pg.png',\n",
       " '192691561091184770724251820487074690152_ja2apf.png',\n",
       " '192821379227609119430392340299557234231_6djo7e.png',\n",
       " '193253234665981385445590425192090314279_xp8sfv.png',\n",
       " '193304993223859383473999634853392469221_8or9vr.png',\n",
       " '193824518434141430099850181588838656156_bwsjb3.png',\n",
       " '194033283850514474933756909438689408165_uebfr7.png',\n",
       " '194735341740769092581645274242459980786_f8qf8o.png',\n",
       " '194988593263178211118746405774909454259_cldkip.png',\n",
       " '195354311969143648827592349767241311964_tz8mv7.png',\n",
       " '195544724167001140725600434789934847404_dexcso.png',\n",
       " '195617940963829895304856385488183832369_3fkcu5.png',\n",
       " '195918937221117455713438832824041105505_bhjwd7.png',\n",
       " '196176249247425891079643374359990381128_v12qae.png',\n",
       " '196265233586865068172240104311048474458_k58h5r.png',\n",
       " '196696329952386852942220474882181848564_ya0zp7.png',\n",
       " '19710881010519013073008027223681866077_rvbrn7.png',\n",
       " '197637048419219062936935530053486931864_ipxhsn.png',\n",
       " '197942585502056363818681672666693793064_kru8ri.png',\n",
       " '198257044874932911922232648591678906791_vtlykj.png',\n",
       " '198260425459486107269837770963173687269_5elj5w.png',\n",
       " '198672376870663728981301045746054885881_j1zcdm.png',\n",
       " '198769537032882038181562058894523119291_10f9pe.png',\n",
       " '199576825934222451730073278264592031974_n7xqla.png',\n",
       " '200549556328461646460804408220721585213_y4nb8n.png',\n",
       " '200578805235445163759646993571103416517_e8zram.png',\n",
       " '200955898977693473368504780768888695909_2ta8en.png',\n",
       " '201262295810643502050034365723820085624_5cqq0e.png',\n",
       " '201585114453870562879181442181519920648_dozjjb.png',\n",
       " '201662521818557381242909304351005211106_5mfjqt.png',\n",
       " '201894420411941407083168011282565091933_pet003.png',\n",
       " '202368454379071226797175984325401576446_adgind.png',\n",
       " '202687367381912962431787645975821687847_a67xhd.png',\n",
       " '202726999241166171114951737167040928015_mx07jc.png',\n",
       " '202997911079227351579772906867719061124_2_k17l0p.png',\n",
       " '202997911079227351579772906867719061124_3_d0uejs.png',\n",
       " '202997911079227351579772906867719061124_b7rauo.png',\n",
       " '203436837792709078333262014375783436978_ktz213.png',\n",
       " '204056653173810363254173423075842085706_oeg5jo.png',\n",
       " '204891865128855499565582058969350811580_b4habz.png',\n",
       " '205054349764659042015498404164193415748_26g0sl.png',\n",
       " '205238468663090252805310384564049950965_2vl1r5.png',\n",
       " '205615365726469157980349604710836737639_l7z7ed.png',\n",
       " '206081213818237148934460967791621468981_thwyvy.png',\n",
       " '206159399517832262224124919545691153433_l3xsmh.png',\n",
       " '206587763036303957648899792707617820112_gkqqfe.png',\n",
       " '206712622957824516207628269925726400602_88e66y.png',\n",
       " '206729312035357690618891820031349617061_2_89h72w.png',\n",
       " '206729312035357690618891820031349617061_hidv8l.png',\n",
       " '207349227929434524423526869269766207965_dxyhah.png',\n",
       " '207449277625559847606393668571242245364_g16eom.png',\n",
       " '207725178665117654282068107059815247910_p01mfa.png',\n",
       " '207766945287870846113538557649412487857-2_n62jv8.png',\n",
       " '207766945287870846113538557649412487857-3_kw4owu.png',\n",
       " '207766945287870846113538557649412487857_qmadl4.png',\n",
       " '207848817683321671211546429872059662498_quf63b.png',\n",
       " '20812675363641614139245855002159357643_mfnmbc.png',\n",
       " '208428934546986315550248223144052367158_igmfkm.png',\n",
       " '208493505266875879111103002965021774304_fz7agn.png',\n",
       " '208509119253955068872818529967840392138_khvy1g.png',\n",
       " '20897331049006407832772669456940539551_l5u27y.png',\n",
       " '209102751804620691603138924859124947067_pvfnbi.png',\n",
       " '209294905225729277869332218892601573294_9l6ssd.png',\n",
       " '20952920552941949948893671185696172546_bkjicr.png',\n",
       " '20990552636792773712352250633400057734_ui546x.png',\n",
       " '210066985900016225373313709349041751430_o9jxoq.png',\n",
       " '210487282753939856274783723374220975141_xo2qi9.png',\n",
       " '210784931988803266103264379133302754820_24ybvv.png',\n",
       " ...]"
      ]
     },
     "execution_count": 7,
     "metadata": {},
     "output_type": "execute_result"
    }
   ],
   "source": [
    "files_png = []\n",
    "for folder in ['AP','AP_horizontal','L','PA']:\n",
    "    for file in os.listdir(PATH + folder):\n",
    "        files_png.append(file)"
   ]
  },
  {
   "cell_type": "code",
   "execution_count": 9,
   "metadata": {},
   "outputs": [
    {
     "data": {
      "text/html": [
       "<div>\n",
       "<style scoped>\n",
       "    .dataframe tbody tr th:only-of-type {\n",
       "        vertical-align: middle;\n",
       "    }\n",
       "\n",
       "    .dataframe tbody tr th {\n",
       "        vertical-align: top;\n",
       "    }\n",
       "\n",
       "    .dataframe thead th {\n",
       "        text-align: right;\n",
       "    }\n",
       "</style>\n",
       "<table border=\"1\" class=\"dataframe\">\n",
       "  <thead>\n",
       "    <tr style=\"text-align: right;\">\n",
       "      <th></th>\n",
       "      <th>Unnamed: 0</th>\n",
       "      <th>ImageID</th>\n",
       "      <th>ImageDir</th>\n",
       "      <th>StudyDate_DICOM</th>\n",
       "      <th>StudyID</th>\n",
       "      <th>PatientID</th>\n",
       "      <th>PatientBirth</th>\n",
       "      <th>PatientSex_DICOM</th>\n",
       "      <th>ViewPosition_DICOM</th>\n",
       "      <th>Projection</th>\n",
       "      <th>...</th>\n",
       "      <th>ExposureTime</th>\n",
       "      <th>RelativeXRayExposure_DICOM</th>\n",
       "      <th>ReportID</th>\n",
       "      <th>Report</th>\n",
       "      <th>MethodLabel</th>\n",
       "      <th>Labels</th>\n",
       "      <th>Localizations</th>\n",
       "      <th>LabelsLocalizationsBySentence</th>\n",
       "      <th>labelCUIS</th>\n",
       "      <th>LocalizationsCUIS</th>\n",
       "    </tr>\n",
       "  </thead>\n",
       "  <tbody>\n",
       "    <tr>\n",
       "      <td>0</td>\n",
       "      <td>0</td>\n",
       "      <td>20536686640136348236148679891455886468_k6ga29.png</td>\n",
       "      <td>0</td>\n",
       "      <td>20140915</td>\n",
       "      <td>20536686640136348236148679891455886468</td>\n",
       "      <td>839860488694292331637988235681460987</td>\n",
       "      <td>1930.0</td>\n",
       "      <td>F</td>\n",
       "      <td>POSTEROANTERIOR</td>\n",
       "      <td>PA</td>\n",
       "      <td>...</td>\n",
       "      <td>10</td>\n",
       "      <td>-1.42</td>\n",
       "      <td>4765777</td>\n",
       "      <td>sin hallazg patolog edad pacient .</td>\n",
       "      <td>Physician</td>\n",
       "      <td>['normal']</td>\n",
       "      <td>[]</td>\n",
       "      <td>[['normal'], ['normal']]</td>\n",
       "      <td>[]</td>\n",
       "      <td>[]</td>\n",
       "    </tr>\n",
       "    <tr>\n",
       "      <td>1</td>\n",
       "      <td>1</td>\n",
       "      <td>135803415504923515076821959678074435083_fzis7d...</td>\n",
       "      <td>0</td>\n",
       "      <td>20150914</td>\n",
       "      <td>135803415504923515076821959678074435083</td>\n",
       "      <td>313572750430997347502932654319389875966</td>\n",
       "      <td>1929.0</td>\n",
       "      <td>M</td>\n",
       "      <td>LATERAL</td>\n",
       "      <td>L</td>\n",
       "      <td>...</td>\n",
       "      <td>25</td>\n",
       "      <td>None</td>\n",
       "      <td>4991845</td>\n",
       "      <td>cambi pulmonar cronic sever . sign fibrosis b...</td>\n",
       "      <td>Physician</td>\n",
       "      <td>['pulmonary fibrosis', 'chronic changes', 'kyp...</td>\n",
       "      <td>['loc basal', 'loc basal bilateral']</td>\n",
       "      <td>[['pulmonary fibrosis', 'loc basal bilateral']...</td>\n",
       "      <td>['C0034069' 'C0742362' 'C2115817' 'C3544344']</td>\n",
       "      <td>['C1282378']</td>\n",
       "    </tr>\n",
       "  </tbody>\n",
       "</table>\n",
       "<p>2 rows × 36 columns</p>\n",
       "</div>"
      ],
      "text/plain": [
       "   Unnamed: 0                                            ImageID  ImageDir  \\\n",
       "0           0  20536686640136348236148679891455886468_k6ga29.png         0   \n",
       "1           1  135803415504923515076821959678074435083_fzis7d...         0   \n",
       "\n",
       "   StudyDate_DICOM                                  StudyID  \\\n",
       "0         20140915   20536686640136348236148679891455886468   \n",
       "1         20150914  135803415504923515076821959678074435083   \n",
       "\n",
       "                                 PatientID  PatientBirth PatientSex_DICOM  \\\n",
       "0     839860488694292331637988235681460987        1930.0                F   \n",
       "1  313572750430997347502932654319389875966        1929.0                M   \n",
       "\n",
       "  ViewPosition_DICOM Projection  ... ExposureTime RelativeXRayExposure_DICOM  \\\n",
       "0    POSTEROANTERIOR         PA  ...           10                      -1.42   \n",
       "1            LATERAL          L  ...           25                       None   \n",
       "\n",
       "  ReportID                                             Report MethodLabel  \\\n",
       "0  4765777                 sin hallazg patolog edad pacient .   Physician   \n",
       "1  4991845   cambi pulmonar cronic sever . sign fibrosis b...   Physician   \n",
       "\n",
       "                                              Labels  \\\n",
       "0                                         ['normal']   \n",
       "1  ['pulmonary fibrosis', 'chronic changes', 'kyp...   \n",
       "\n",
       "                          Localizations  \\\n",
       "0                                    []   \n",
       "1  ['loc basal', 'loc basal bilateral']   \n",
       "\n",
       "                       LabelsLocalizationsBySentence  \\\n",
       "0                           [['normal'], ['normal']]   \n",
       "1  [['pulmonary fibrosis', 'loc basal bilateral']...   \n",
       "\n",
       "                                       labelCUIS LocalizationsCUIS  \n",
       "0                                             []                []  \n",
       "1  ['C0034069' 'C0742362' 'C2115817' 'C3544344']      ['C1282378']  \n",
       "\n",
       "[2 rows x 36 columns]"
      ]
     },
     "execution_count": 9,
     "metadata": {},
     "output_type": "execute_result"
    }
   ],
   "source": [
    "df=pd.read_csv(PATH + 'PADCHEST_chest_x_ray_images_labels_160K_01.02.19.csv') # Lee el csv con la metadata y lo asigna a una variable\n",
    "df.head(2) # Nos va a permitir ver las N primeras filas (5 por defecto) de nuestro dataset"
   ]
  },
  {
   "cell_type": "code",
   "execution_count": 19,
   "metadata": {},
   "outputs": [
    {
     "data": {
      "text/plain": [
       "(1645, 36)"
      ]
     },
     "execution_count": 19,
     "metadata": {},
     "output_type": "execute_result"
    }
   ],
   "source": [
    "df_small = df[df.ImageID.isin(files_png)].copy()\n",
    "df_small.shape # Tenemos entonces, un DataFrame de 1645 filas y 36 columnas"
   ]
  },
  {
   "cell_type": "markdown",
   "metadata": {},
   "source": [
    "Qué hicimos? <br>\n",
    "ImageID es una columna de nuestro dataset (`df`). Pandas crea el atributo 'nombre de columna' (en este caso `ImageID`) para nuestro objeto DataFrame. Podes intentar lo siguiente, escribí:\n",
    "\n",
    "```python\n",
    "df.\n",
    "```\n",
    "y apreta `TAB` luego del punto, podras ver otros métodos y atributos de nuestro objeto.\n",
    "\n",
    "Este atributo tiene  a su vez un metodo llamado `.isin` el cual es propio de cualquier variable de tipo Series mira:"
   ]
  },
  {
   "cell_type": "code",
   "execution_count": 20,
   "metadata": {},
   "outputs": [
    {
     "data": {
      "text/plain": [
       "pandas.core.series.Series"
      ]
     },
     "execution_count": 20,
     "metadata": {},
     "output_type": "execute_result"
    }
   ],
   "source": [
    "type(df.ImageID)"
   ]
  },
  {
   "cell_type": "markdown",
   "metadata": {},
   "source": [
    "A su vez, notaras que usamos un comando llamado `copy`, lo que hace es otorgarnos una copia de los valores, en vez de el mismo objeto. Esto es un tema un poco complejo, pero la explicación breve es que cuando asignamos valores a una variable Python los guarda de manera diferenciada. Por una parte tenemos el nombre de la variable, y por otro el contenido. En vez de duplicar los datos, python asigna `punteros` señalando donde estan los datos. Esto es comodo ya que Python hace todo el trabajo, pero si hacemos modificaciones en nuestros datos, esto repercutira en todas las variables que apuntaban a los mismos. Una discusión acerca de este tema puede encontrarse [aquí](https://es.stackoverflow.com/questions/397/entendiendo-la-ausencia-de-punteros-en-python)"
   ]
  },
  {
   "cell_type": "code",
   "execution_count": 21,
   "metadata": {},
   "outputs": [
    {
     "data": {
      "text/html": [
       "<div>\n",
       "<style scoped>\n",
       "    .dataframe tbody tr th:only-of-type {\n",
       "        vertical-align: middle;\n",
       "    }\n",
       "\n",
       "    .dataframe tbody tr th {\n",
       "        vertical-align: top;\n",
       "    }\n",
       "\n",
       "    .dataframe thead th {\n",
       "        text-align: right;\n",
       "    }\n",
       "</style>\n",
       "<table border=\"1\" class=\"dataframe\">\n",
       "  <thead>\n",
       "    <tr style=\"text-align: right;\">\n",
       "      <th></th>\n",
       "      <th>Unnamed: 0</th>\n",
       "      <th>ImageID</th>\n",
       "      <th>ImageDir</th>\n",
       "      <th>StudyDate_DICOM</th>\n",
       "      <th>StudyID</th>\n",
       "      <th>PatientID</th>\n",
       "      <th>PatientBirth</th>\n",
       "      <th>PatientSex_DICOM</th>\n",
       "      <th>ViewPosition_DICOM</th>\n",
       "      <th>Projection</th>\n",
       "      <th>...</th>\n",
       "      <th>ExposureTime</th>\n",
       "      <th>RelativeXRayExposure_DICOM</th>\n",
       "      <th>ReportID</th>\n",
       "      <th>Report</th>\n",
       "      <th>MethodLabel</th>\n",
       "      <th>Labels</th>\n",
       "      <th>Localizations</th>\n",
       "      <th>LabelsLocalizationsBySentence</th>\n",
       "      <th>labelCUIS</th>\n",
       "      <th>LocalizationsCUIS</th>\n",
       "    </tr>\n",
       "  </thead>\n",
       "  <tbody>\n",
       "    <tr>\n",
       "      <td>17944</td>\n",
       "      <td>17944</td>\n",
       "      <td>295455876708885982676812601284210877326_rarh4r...</td>\n",
       "      <td>6</td>\n",
       "      <td>20170504</td>\n",
       "      <td>295455876708885982676812601284210877326</td>\n",
       "      <td>134763209238182263017987333334800935621</td>\n",
       "      <td>1975.0</td>\n",
       "      <td>M</td>\n",
       "      <td>PA</td>\n",
       "      <td>PA</td>\n",
       "      <td>...</td>\n",
       "      <td>6</td>\n",
       "      <td>355</td>\n",
       "      <td>5379310</td>\n",
       "      <td>hili izquierd prominent orig vascul . curv es...</td>\n",
       "      <td>Physician</td>\n",
       "      <td>['scoliosis', 'vascular hilar enlargement']</td>\n",
       "      <td>['loc hilar', 'loc right', 'loc left']</td>\n",
       "      <td>[['scoliosis', 'loc right'], ['normal'], ['vas...</td>\n",
       "      <td>['C0036439']</td>\n",
       "      <td>['C0205150' 'C0444532' 'C0443246']</td>\n",
       "    </tr>\n",
       "    <tr>\n",
       "      <td>17945</td>\n",
       "      <td>17945</td>\n",
       "      <td>121602272776916586246459736394049786994_glggsy...</td>\n",
       "      <td>6</td>\n",
       "      <td>20170515</td>\n",
       "      <td>121602272776916586246459736394049786994</td>\n",
       "      <td>239479515278170063563703069527716784836</td>\n",
       "      <td>1951.0</td>\n",
       "      <td>F</td>\n",
       "      <td>PA</td>\n",
       "      <td>PA</td>\n",
       "      <td>...</td>\n",
       "      <td>7</td>\n",
       "      <td>367</td>\n",
       "      <td>5385055</td>\n",
       "      <td>sin hallazg radiolog signific .</td>\n",
       "      <td>Physician</td>\n",
       "      <td>['normal']</td>\n",
       "      <td>[]</td>\n",
       "      <td>[['normal']]</td>\n",
       "      <td>[]</td>\n",
       "      <td>[]</td>\n",
       "    </tr>\n",
       "    <tr>\n",
       "      <td>17946</td>\n",
       "      <td>17946</td>\n",
       "      <td>300059661210176845417442202157087595628_jcjuhd...</td>\n",
       "      <td>6</td>\n",
       "      <td>20160711</td>\n",
       "      <td>300059661210176845417442202157087595628</td>\n",
       "      <td>244671065954816877491765160752080866897</td>\n",
       "      <td>1955.0</td>\n",
       "      <td>F</td>\n",
       "      <td>LL</td>\n",
       "      <td>L</td>\n",
       "      <td>...</td>\n",
       "      <td>11</td>\n",
       "      <td>422</td>\n",
       "      <td>5184267</td>\n",
       "      <td>. sin hallazg .</td>\n",
       "      <td>Physician</td>\n",
       "      <td>['normal']</td>\n",
       "      <td>[]</td>\n",
       "      <td>[['normal'], ['normal']]</td>\n",
       "      <td>[]</td>\n",
       "      <td>[]</td>\n",
       "    </tr>\n",
       "    <tr>\n",
       "      <td>17947</td>\n",
       "      <td>17947</td>\n",
       "      <td>327399787388176194027498167524310505584_lnc3kg...</td>\n",
       "      <td>6</td>\n",
       "      <td>20160122</td>\n",
       "      <td>327399787388176194027498167524310505584</td>\n",
       "      <td>297257000030438304772511527294384221204</td>\n",
       "      <td>1941.0</td>\n",
       "      <td>F</td>\n",
       "      <td>PA</td>\n",
       "      <td>PA</td>\n",
       "      <td>...</td>\n",
       "      <td>7</td>\n",
       "      <td>339</td>\n",
       "      <td>5069939</td>\n",
       "      <td>. cambi pulmonar cronic . lobul acig variant ...</td>\n",
       "      <td>Physician</td>\n",
       "      <td>['chronic changes', 'azygos lobe']</td>\n",
       "      <td>['loc lobar']</td>\n",
       "      <td>[['chronic changes'], ['chronic changes'], ['a...</td>\n",
       "      <td>['C0742362' 'C0265794']</td>\n",
       "      <td>['C0225752']</td>\n",
       "    </tr>\n",
       "    <tr>\n",
       "      <td>17948</td>\n",
       "      <td>17948</td>\n",
       "      <td>53266543693495744209500591273524511861_0luen9.png</td>\n",
       "      <td>6</td>\n",
       "      <td>20161218</td>\n",
       "      <td>53266543693495744209500591273524511861</td>\n",
       "      <td>94448092810832410583393961240854580901</td>\n",
       "      <td>1924.0</td>\n",
       "      <td>F</td>\n",
       "      <td>NaN</td>\n",
       "      <td>L</td>\n",
       "      <td>...</td>\n",
       "      <td>0</td>\n",
       "      <td>718</td>\n",
       "      <td>5287664</td>\n",
       "      <td>. . destac cardiomegali elongacion aortic ens...</td>\n",
       "      <td>Physician</td>\n",
       "      <td>['COPD signs', 'vertebral degenerative changes...</td>\n",
       "      <td>['loc bone', 'loc diaphragm', 'loc aortic', 'l...</td>\n",
       "      <td>[['COPD signs', 'bronchovascular markings', 'c...</td>\n",
       "      <td>['C0024117' 'C4290224' 'C0011981' 'C2073518' '...</td>\n",
       "      <td>['C0262950' 'C0011980' 'C0003483' 'C0225752' '...</td>\n",
       "    </tr>\n",
       "  </tbody>\n",
       "</table>\n",
       "<p>5 rows × 36 columns</p>\n",
       "</div>"
      ],
      "text/plain": [
       "       Unnamed: 0                                            ImageID  \\\n",
       "17944       17944  295455876708885982676812601284210877326_rarh4r...   \n",
       "17945       17945  121602272776916586246459736394049786994_glggsy...   \n",
       "17946       17946  300059661210176845417442202157087595628_jcjuhd...   \n",
       "17947       17947  327399787388176194027498167524310505584_lnc3kg...   \n",
       "17948       17948  53266543693495744209500591273524511861_0luen9.png   \n",
       "\n",
       "       ImageDir  StudyDate_DICOM                                  StudyID  \\\n",
       "17944         6         20170504  295455876708885982676812601284210877326   \n",
       "17945         6         20170515  121602272776916586246459736394049786994   \n",
       "17946         6         20160711  300059661210176845417442202157087595628   \n",
       "17947         6         20160122  327399787388176194027498167524310505584   \n",
       "17948         6         20161218   53266543693495744209500591273524511861   \n",
       "\n",
       "                                     PatientID  PatientBirth PatientSex_DICOM  \\\n",
       "17944  134763209238182263017987333334800935621        1975.0                M   \n",
       "17945  239479515278170063563703069527716784836        1951.0                F   \n",
       "17946  244671065954816877491765160752080866897        1955.0                F   \n",
       "17947  297257000030438304772511527294384221204        1941.0                F   \n",
       "17948   94448092810832410583393961240854580901        1924.0                F   \n",
       "\n",
       "      ViewPosition_DICOM Projection  ... ExposureTime  \\\n",
       "17944                 PA         PA  ...            6   \n",
       "17945                 PA         PA  ...            7   \n",
       "17946                 LL          L  ...           11   \n",
       "17947                 PA         PA  ...            7   \n",
       "17948                NaN          L  ...            0   \n",
       "\n",
       "      RelativeXRayExposure_DICOM ReportID  \\\n",
       "17944                        355  5379310   \n",
       "17945                        367  5385055   \n",
       "17946                        422  5184267   \n",
       "17947                        339  5069939   \n",
       "17948                        718  5287664   \n",
       "\n",
       "                                                  Report MethodLabel  \\\n",
       "17944   hili izquierd prominent orig vascul . curv es...   Physician   \n",
       "17945                    sin hallazg radiolog signific .   Physician   \n",
       "17946                                    . sin hallazg .   Physician   \n",
       "17947   . cambi pulmonar cronic . lobul acig variant ...   Physician   \n",
       "17948   . . destac cardiomegali elongacion aortic ens...   Physician   \n",
       "\n",
       "                                                  Labels  \\\n",
       "17944        ['scoliosis', 'vascular hilar enlargement']   \n",
       "17945                                         ['normal']   \n",
       "17946                                         ['normal']   \n",
       "17947                 ['chronic changes', 'azygos lobe']   \n",
       "17948  ['COPD signs', 'vertebral degenerative changes...   \n",
       "\n",
       "                                           Localizations  \\\n",
       "17944             ['loc hilar', 'loc right', 'loc left']   \n",
       "17945                                                 []   \n",
       "17946                                                 []   \n",
       "17947                                      ['loc lobar']   \n",
       "17948  ['loc bone', 'loc diaphragm', 'loc aortic', 'l...   \n",
       "\n",
       "                           LabelsLocalizationsBySentence  \\\n",
       "17944  [['scoliosis', 'loc right'], ['normal'], ['vas...   \n",
       "17945                                       [['normal']]   \n",
       "17946                           [['normal'], ['normal']]   \n",
       "17947  [['chronic changes'], ['chronic changes'], ['a...   \n",
       "17948  [['COPD signs', 'bronchovascular markings', 'c...   \n",
       "\n",
       "                                               labelCUIS  \\\n",
       "17944                                       ['C0036439']   \n",
       "17945                                                 []   \n",
       "17946                                                 []   \n",
       "17947                            ['C0742362' 'C0265794']   \n",
       "17948  ['C0024117' 'C4290224' 'C0011981' 'C2073518' '...   \n",
       "\n",
       "                                       LocalizationsCUIS  \n",
       "17944                 ['C0205150' 'C0444532' 'C0443246']  \n",
       "17945                                                 []  \n",
       "17946                                                 []  \n",
       "17947                                       ['C0225752']  \n",
       "17948  ['C0262950' 'C0011980' 'C0003483' 'C0225752' '...  \n",
       "\n",
       "[5 rows x 36 columns]"
      ]
     },
     "execution_count": 21,
     "metadata": {},
     "output_type": "execute_result"
    }
   ],
   "source": [
    "df_small.head()"
   ]
  },
  {
   "cell_type": "markdown",
   "metadata": {},
   "source": [
    "**Descripcion rápida**"
   ]
  },
  {
   "cell_type": "code",
   "execution_count": 22,
   "metadata": {},
   "outputs": [
    {
     "data": {
      "text/html": [
       "<div>\n",
       "<style scoped>\n",
       "    .dataframe tbody tr th:only-of-type {\n",
       "        vertical-align: middle;\n",
       "    }\n",
       "\n",
       "    .dataframe tbody tr th {\n",
       "        vertical-align: top;\n",
       "    }\n",
       "\n",
       "    .dataframe thead th {\n",
       "        text-align: right;\n",
       "    }\n",
       "</style>\n",
       "<table border=\"1\" class=\"dataframe\">\n",
       "  <thead>\n",
       "    <tr style=\"text-align: right;\">\n",
       "      <th></th>\n",
       "      <th>Unnamed: 0</th>\n",
       "      <th>ImageDir</th>\n",
       "      <th>StudyDate_DICOM</th>\n",
       "      <th>PatientBirth</th>\n",
       "      <th>PixelRepresentation_DICOM</th>\n",
       "      <th>BitsStored_DICOM</th>\n",
       "      <th>Rows_DICOM</th>\n",
       "      <th>Columns_DICOM</th>\n",
       "      <th>ReportID</th>\n",
       "    </tr>\n",
       "  </thead>\n",
       "  <tbody>\n",
       "    <tr>\n",
       "      <td>count</td>\n",
       "      <td>1645.0</td>\n",
       "      <td>1645.0</td>\n",
       "      <td>1645.0</td>\n",
       "      <td>1645.0</td>\n",
       "      <td>1645.0</td>\n",
       "      <td>1645.0</td>\n",
       "      <td>1645.0</td>\n",
       "      <td>1645.0</td>\n",
       "      <td>1645.0</td>\n",
       "    </tr>\n",
       "    <tr>\n",
       "      <td>mean</td>\n",
       "      <td>18766.0</td>\n",
       "      <td>6.0</td>\n",
       "      <td>20154941.0</td>\n",
       "      <td>1956.4</td>\n",
       "      <td>0.0</td>\n",
       "      <td>12.0</td>\n",
       "      <td>2486.4</td>\n",
       "      <td>2510.4</td>\n",
       "      <td>5032258.5</td>\n",
       "    </tr>\n",
       "    <tr>\n",
       "      <td>std</td>\n",
       "      <td>475.0</td>\n",
       "      <td>0.0</td>\n",
       "      <td>10984.5</td>\n",
       "      <td>19.3</td>\n",
       "      <td>0.0</td>\n",
       "      <td>0.2</td>\n",
       "      <td>590.4</td>\n",
       "      <td>582.3</td>\n",
       "      <td>251674.4</td>\n",
       "    </tr>\n",
       "    <tr>\n",
       "      <td>min</td>\n",
       "      <td>17944.0</td>\n",
       "      <td>6.0</td>\n",
       "      <td>20090105.0</td>\n",
       "      <td>1921.0</td>\n",
       "      <td>0.0</td>\n",
       "      <td>10.0</td>\n",
       "      <td>1257.0</td>\n",
       "      <td>1186.0</td>\n",
       "      <td>3539976.0</td>\n",
       "    </tr>\n",
       "    <tr>\n",
       "      <td>25%</td>\n",
       "      <td>18355.0</td>\n",
       "      <td>6.0</td>\n",
       "      <td>20150109.0</td>\n",
       "      <td>1943.0</td>\n",
       "      <td>0.0</td>\n",
       "      <td>12.0</td>\n",
       "      <td>1944.0</td>\n",
       "      <td>2140.0</td>\n",
       "      <td>4830671.0</td>\n",
       "    </tr>\n",
       "    <tr>\n",
       "      <td>50%</td>\n",
       "      <td>18766.0</td>\n",
       "      <td>6.0</td>\n",
       "      <td>20151111.0</td>\n",
       "      <td>1954.0</td>\n",
       "      <td>0.0</td>\n",
       "      <td>12.0</td>\n",
       "      <td>2546.0</td>\n",
       "      <td>2544.0</td>\n",
       "      <td>5024553.0</td>\n",
       "    </tr>\n",
       "    <tr>\n",
       "      <td>75%</td>\n",
       "      <td>19177.0</td>\n",
       "      <td>6.0</td>\n",
       "      <td>20161109.0</td>\n",
       "      <td>1967.0</td>\n",
       "      <td>0.0</td>\n",
       "      <td>12.0</td>\n",
       "      <td>2859.0</td>\n",
       "      <td>2832.0</td>\n",
       "      <td>5260166.0</td>\n",
       "    </tr>\n",
       "    <tr>\n",
       "      <td>max</td>\n",
       "      <td>19588.0</td>\n",
       "      <td>6.0</td>\n",
       "      <td>20171117.0</td>\n",
       "      <td>2016.0</td>\n",
       "      <td>0.0</td>\n",
       "      <td>12.0</td>\n",
       "      <td>4280.0</td>\n",
       "      <td>4280.0</td>\n",
       "      <td>5516656.0</td>\n",
       "    </tr>\n",
       "  </tbody>\n",
       "</table>\n",
       "</div>"
      ],
      "text/plain": [
       "       Unnamed: 0  ImageDir  StudyDate_DICOM  PatientBirth  \\\n",
       "count      1645.0    1645.0           1645.0        1645.0   \n",
       "mean      18766.0       6.0       20154941.0        1956.4   \n",
       "std         475.0       0.0          10984.5          19.3   \n",
       "min       17944.0       6.0       20090105.0        1921.0   \n",
       "25%       18355.0       6.0       20150109.0        1943.0   \n",
       "50%       18766.0       6.0       20151111.0        1954.0   \n",
       "75%       19177.0       6.0       20161109.0        1967.0   \n",
       "max       19588.0       6.0       20171117.0        2016.0   \n",
       "\n",
       "       PixelRepresentation_DICOM  BitsStored_DICOM  Rows_DICOM  Columns_DICOM  \\\n",
       "count                     1645.0            1645.0      1645.0         1645.0   \n",
       "mean                         0.0              12.0      2486.4         2510.4   \n",
       "std                          0.0               0.2       590.4          582.3   \n",
       "min                          0.0              10.0      1257.0         1186.0   \n",
       "25%                          0.0              12.0      1944.0         2140.0   \n",
       "50%                          0.0              12.0      2546.0         2544.0   \n",
       "75%                          0.0              12.0      2859.0         2832.0   \n",
       "max                          0.0              12.0      4280.0         4280.0   \n",
       "\n",
       "        ReportID  \n",
       "count     1645.0  \n",
       "mean   5032258.5  \n",
       "std     251674.4  \n",
       "min    3539976.0  \n",
       "25%    4830671.0  \n",
       "50%    5024553.0  \n",
       "75%    5260166.0  \n",
       "max    5516656.0  "
      ]
     },
     "execution_count": 22,
     "metadata": {},
     "output_type": "execute_result"
    }
   ],
   "source": [
    "round(df_small.describe(),1)"
   ]
  },
  {
   "cell_type": "markdown",
   "metadata": {},
   "source": [
    "`describe` solo muestra las columnas cuyo tipo es númerico. En este caso, la información que se nos brinda es acotada ya que varias columnas, si bien son númericas, pierden su significado al intentar asignarles métricas (ej. ReportID es una key numerica de cada reporte, no tiene sentido calcular su media).\n",
    "\n",
    "Algunos elementos que si nos resultan interesantes:\n",
    "- El año promedio de nacimiento de los pacientes es 1956.4 (+-19.3 años). Siendo el paciente mas anciando nacido en 1921 y el mas joven en 2016.\n",
    "- Usualmente no se usan imagenes en formato `.png` cuando trabajo con imagenes clínicas, en cambio se utiliza el formato [DICOM](https://es.wikipedia.org/wiki/DICOM). Podemos ver como una imagen promedio tiene una dimensión de 2486x2510. Vemos que en el dataset hay imagenes con **diferentes dimensiones** esto sera un elemento a tener en cuenta luego. "
   ]
  },
  {
   "cell_type": "markdown",
   "metadata": {},
   "source": [
    "**Renombrar columnas**\n",
    "\n",
    "Vemos que la primer columna tiene como nombre `Unnamed: 0` esto se debe a que Pandas asigna nombres automaticamente al leer un archivo, aún si la columna no posee. Vamos a renombrarlo."
   ]
  },
  {
   "cell_type": "code",
   "execution_count": 23,
   "metadata": {},
   "outputs": [
    {
     "data": {
      "text/html": [
       "<div>\n",
       "<style scoped>\n",
       "    .dataframe tbody tr th:only-of-type {\n",
       "        vertical-align: middle;\n",
       "    }\n",
       "\n",
       "    .dataframe tbody tr th {\n",
       "        vertical-align: top;\n",
       "    }\n",
       "\n",
       "    .dataframe thead th {\n",
       "        text-align: right;\n",
       "    }\n",
       "</style>\n",
       "<table border=\"1\" class=\"dataframe\">\n",
       "  <thead>\n",
       "    <tr style=\"text-align: right;\">\n",
       "      <th></th>\n",
       "      <th>ID</th>\n",
       "      <th>ImageID</th>\n",
       "      <th>ImageDir</th>\n",
       "      <th>StudyDate_DICOM</th>\n",
       "      <th>StudyID</th>\n",
       "      <th>PatientID</th>\n",
       "      <th>PatientBirth</th>\n",
       "      <th>PatientSex_DICOM</th>\n",
       "      <th>ViewPosition_DICOM</th>\n",
       "      <th>Projection</th>\n",
       "      <th>...</th>\n",
       "      <th>ExposureTime</th>\n",
       "      <th>RelativeXRayExposure_DICOM</th>\n",
       "      <th>ReportID</th>\n",
       "      <th>Report</th>\n",
       "      <th>MethodLabel</th>\n",
       "      <th>Labels</th>\n",
       "      <th>Localizations</th>\n",
       "      <th>LabelsLocalizationsBySentence</th>\n",
       "      <th>labelCUIS</th>\n",
       "      <th>LocalizationsCUIS</th>\n",
       "    </tr>\n",
       "  </thead>\n",
       "  <tbody>\n",
       "    <tr>\n",
       "      <td>17944</td>\n",
       "      <td>17944</td>\n",
       "      <td>295455876708885982676812601284210877326_rarh4r...</td>\n",
       "      <td>6</td>\n",
       "      <td>20170504</td>\n",
       "      <td>295455876708885982676812601284210877326</td>\n",
       "      <td>134763209238182263017987333334800935621</td>\n",
       "      <td>1975.0</td>\n",
       "      <td>M</td>\n",
       "      <td>PA</td>\n",
       "      <td>PA</td>\n",
       "      <td>...</td>\n",
       "      <td>6</td>\n",
       "      <td>355</td>\n",
       "      <td>5379310</td>\n",
       "      <td>hili izquierd prominent orig vascul . curv es...</td>\n",
       "      <td>Physician</td>\n",
       "      <td>['scoliosis', 'vascular hilar enlargement']</td>\n",
       "      <td>['loc hilar', 'loc right', 'loc left']</td>\n",
       "      <td>[['scoliosis', 'loc right'], ['normal'], ['vas...</td>\n",
       "      <td>['C0036439']</td>\n",
       "      <td>['C0205150' 'C0444532' 'C0443246']</td>\n",
       "    </tr>\n",
       "    <tr>\n",
       "      <td>17945</td>\n",
       "      <td>17945</td>\n",
       "      <td>121602272776916586246459736394049786994_glggsy...</td>\n",
       "      <td>6</td>\n",
       "      <td>20170515</td>\n",
       "      <td>121602272776916586246459736394049786994</td>\n",
       "      <td>239479515278170063563703069527716784836</td>\n",
       "      <td>1951.0</td>\n",
       "      <td>F</td>\n",
       "      <td>PA</td>\n",
       "      <td>PA</td>\n",
       "      <td>...</td>\n",
       "      <td>7</td>\n",
       "      <td>367</td>\n",
       "      <td>5385055</td>\n",
       "      <td>sin hallazg radiolog signific .</td>\n",
       "      <td>Physician</td>\n",
       "      <td>['normal']</td>\n",
       "      <td>[]</td>\n",
       "      <td>[['normal']]</td>\n",
       "      <td>[]</td>\n",
       "      <td>[]</td>\n",
       "    </tr>\n",
       "  </tbody>\n",
       "</table>\n",
       "<p>2 rows × 36 columns</p>\n",
       "</div>"
      ],
      "text/plain": [
       "          ID                                            ImageID  ImageDir  \\\n",
       "17944  17944  295455876708885982676812601284210877326_rarh4r...         6   \n",
       "17945  17945  121602272776916586246459736394049786994_glggsy...         6   \n",
       "\n",
       "       StudyDate_DICOM                                  StudyID  \\\n",
       "17944         20170504  295455876708885982676812601284210877326   \n",
       "17945         20170515  121602272776916586246459736394049786994   \n",
       "\n",
       "                                     PatientID  PatientBirth PatientSex_DICOM  \\\n",
       "17944  134763209238182263017987333334800935621        1975.0                M   \n",
       "17945  239479515278170063563703069527716784836        1951.0                F   \n",
       "\n",
       "      ViewPosition_DICOM Projection  ... ExposureTime  \\\n",
       "17944                 PA         PA  ...            6   \n",
       "17945                 PA         PA  ...            7   \n",
       "\n",
       "      RelativeXRayExposure_DICOM ReportID  \\\n",
       "17944                        355  5379310   \n",
       "17945                        367  5385055   \n",
       "\n",
       "                                                  Report MethodLabel  \\\n",
       "17944   hili izquierd prominent orig vascul . curv es...   Physician   \n",
       "17945                    sin hallazg radiolog signific .   Physician   \n",
       "\n",
       "                                            Labels  \\\n",
       "17944  ['scoliosis', 'vascular hilar enlargement']   \n",
       "17945                                   ['normal']   \n",
       "\n",
       "                                Localizations  \\\n",
       "17944  ['loc hilar', 'loc right', 'loc left']   \n",
       "17945                                      []   \n",
       "\n",
       "                           LabelsLocalizationsBySentence     labelCUIS  \\\n",
       "17944  [['scoliosis', 'loc right'], ['normal'], ['vas...  ['C0036439']   \n",
       "17945                                       [['normal']]            []   \n",
       "\n",
       "                        LocalizationsCUIS  \n",
       "17944  ['C0205150' 'C0444532' 'C0443246']  \n",
       "17945                                  []  \n",
       "\n",
       "[2 rows x 36 columns]"
      ]
     },
     "execution_count": 23,
     "metadata": {},
     "output_type": "execute_result"
    }
   ],
   "source": [
    "df_small.rename(columns={'Unnamed: 0':'ID'}, inplace=True)\n",
    "df_small.head(2)"
   ]
  },
  {
   "cell_type": "markdown",
   "metadata": {},
   "source": [
    "**Calcular nuevos valores**\n",
    "\n",
    "Si vemos la columna `StudyDate_DICOM` podemos observar que parece ser una fecha con el formato año, mes, día todo junto. \n",
    "Usaremos una función de pandas(`to_datetime`) que nos permite transformar una string en un formato nuevo `datetime`."
   ]
  },
  {
   "cell_type": "code",
   "execution_count": 24,
   "metadata": {},
   "outputs": [
    {
     "data": {
      "text/plain": [
       "17944   2017-05-04\n",
       "17945   2017-05-15\n",
       "17946   2016-07-11\n",
       "17947   2016-01-22\n",
       "17948   2016-12-18\n",
       "           ...    \n",
       "19584   2014-07-21\n",
       "19585   2014-07-21\n",
       "19586   2014-05-05\n",
       "19587   2014-05-05\n",
       "19588   2015-02-24\n",
       "Name: StudyDate_DICOM, Length: 1645, dtype: datetime64[ns]"
      ]
     },
     "execution_count": 24,
     "metadata": {},
     "output_type": "execute_result"
    }
   ],
   "source": [
    "pd.to_datetime(df_small.StudyDate_DICOM,format='%Y%m%d')"
   ]
  },
  {
   "cell_type": "markdown",
   "metadata": {},
   "source": [
    "Esta parece ser una forma mas coherente de representar fechas. El formato `datetime` es bastante complejo y no ahondaremos en el. Si el lector está interesado esta es la [documentación](https://docs.python.org/es/3/library/datetime.html)"
   ]
  },
  {
   "cell_type": "code",
   "execution_count": 25,
   "metadata": {},
   "outputs": [],
   "source": [
    "df_small['Fecha'] = pd.to_datetime(df_small.StudyDate_DICOM,format='%Y%m%d').copy()"
   ]
  },
  {
   "cell_type": "markdown",
   "metadata": {},
   "source": [
    "Ahora calculemos la columna `Edad` de nuestros pacientes. Para eso substraeremos el valor en `DateBirth` al año del estudio, ahora codificado en nuestra columna `Fecha`. <br>\n",
    "Para eso queremos usar solamente el año. La ventaja del formato datetime es que nos permite esta (y más) flexibilidad"
   ]
  },
  {
   "cell_type": "code",
   "execution_count": 26,
   "metadata": {},
   "outputs": [
    {
     "data": {
      "text/plain": [
       "17944    2017\n",
       "17945    2017\n",
       "17946    2016\n",
       "17947    2016\n",
       "17948    2016\n",
       "         ... \n",
       "19584    2014\n",
       "19585    2014\n",
       "19586    2014\n",
       "19587    2014\n",
       "19588    2015\n",
       "Name: Fecha, Length: 1645, dtype: int64"
      ]
     },
     "execution_count": 26,
     "metadata": {},
     "output_type": "execute_result"
    }
   ],
   "source": [
    "df_small.Fecha.dt.year"
   ]
  },
  {
   "cell_type": "code",
   "execution_count": 27,
   "metadata": {},
   "outputs": [
    {
     "data": {
      "text/plain": [
       "17944    42.0\n",
       "17945    66.0\n",
       "17946    61.0\n",
       "17947    75.0\n",
       "17948    92.0\n",
       "         ... \n",
       "19584    60.0\n",
       "19585    60.0\n",
       "19586    60.0\n",
       "19587    60.0\n",
       "19588    17.0\n",
       "Name: Edad, Length: 1645, dtype: float64"
      ]
     },
     "execution_count": 27,
     "metadata": {},
     "output_type": "execute_result"
    }
   ],
   "source": [
    "df_small['Edad'] = df_small.Fecha.dt.year - df_small.PatientBirth\n",
    "df_small['Edad']"
   ]
  },
  {
   "cell_type": "markdown",
   "metadata": {},
   "source": [
    "Si observamos la última fila vemos que informa el `dtype` de nuestra Serie. Supongamos que queremos guardar este valor como un `integer`. Pandas nos permite modificar todos los valores de una Serie (en vez de hacer un `for` loop) con un simple comando: `astype`"
   ]
  },
  {
   "cell_type": "code",
   "execution_count": 28,
   "metadata": {},
   "outputs": [
    {
     "data": {
      "text/plain": [
       "17944    42\n",
       "17945    66\n",
       "17946    61\n",
       "17947    75\n",
       "17948    92\n",
       "         ..\n",
       "19584    60\n",
       "19585    60\n",
       "19586    60\n",
       "19587    60\n",
       "19588    17\n",
       "Name: Edad, Length: 1645, dtype: int32"
      ]
     },
     "execution_count": 28,
     "metadata": {},
     "output_type": "execute_result"
    }
   ],
   "source": [
    "df_small['Edad'].astype(int)"
   ]
  },
  {
   "cell_type": "code",
   "execution_count": 29,
   "metadata": {},
   "outputs": [],
   "source": [
    "df_small['Edad'] = df_small['Edad'].astype(int)"
   ]
  },
  {
   "cell_type": "markdown",
   "metadata": {},
   "source": [
    "## 2. Análisis Exploratorio de Datos"
   ]
  },
  {
   "cell_type": "markdown",
   "metadata": {},
   "source": [
    "**Empecemos con nuestros datos de PADCHEST**<br>\n",
    "En este caso, al trabajar principalmente con imagenes no vamos a poder realizar comparaciones usando a la imagen como nuestra variable dependiente a menos que apliquemos métodos mas complejos (que exceden este curso). Lo que si podemos hacer es explorar como se distribuyen nuestras imagenes (que proporción de radiografías corresponden a un tipo específico de proyección), como se distribuye nuestra población (sexo, edad, diagnósticos), y otras operaciones hicimos anteriomentes (seleccionar solo los datos de los cuales tenemos imagenes)."
   ]
  },
  {
   "cell_type": "markdown",
   "metadata": {},
   "source": [
    "**Contar casos**\n",
    "\n",
    "Cuando observamos las columnas que no fueron descriptas usando el metodo `decribe` notamos algunas que pueden sernos de interes a la hora de construir un modelo:\n",
    "\n",
    "- Sexo (`PatienSex_DICOM`)\n",
    "- Cómo se asignó la etiqueta (`MethodLabel`)\n",
    "- Proyección (`Projection`)\n",
    "- Localización (`Localizations`)\n",
    "- Tipo de lesión - Etiqueta (`Label`)"
   ]
  },
  {
   "cell_type": "code",
   "execution_count": 30,
   "metadata": {},
   "outputs": [
    {
     "data": {
      "text/plain": [
       "F    869\n",
       "M    776\n",
       "Name: PatientSex_DICOM, dtype: int64"
      ]
     },
     "execution_count": 30,
     "metadata": {},
     "output_type": "execute_result"
    }
   ],
   "source": [
    "# Distribucion de sexo de pacientes\n",
    "df_small.PatientSex_DICOM.value_counts()"
   ]
  },
  {
   "cell_type": "code",
   "execution_count": 31,
   "metadata": {},
   "outputs": [
    {
     "data": {
      "text/plain": [
       "Physician    1645\n",
       "Name: MethodLabel, dtype: int64"
      ]
     },
     "execution_count": 31,
     "metadata": {},
     "output_type": "execute_result"
    }
   ],
   "source": [
    "# Contar cuantos casos distintos hubo al momento de asigna etiquetas\n",
    "df_small.MethodLabel.value_counts()"
   ]
  },
  {
   "cell_type": "markdown",
   "metadata": {},
   "source": [
    "\n",
    "Nos gustaria saber cuantas imagenes tenemos según el tipo de proyección usada (algo ya vimos más arriba). Para realizar esto queremos \"agrupar\" nuestros datos alrededor una variable. En este caso la variable/columna de interes es `Projection`. Para eso usaremos la funcion `groupby`."
   ]
  },
  {
   "cell_type": "code",
   "execution_count": 32,
   "metadata": {},
   "outputs": [
    {
     "data": {
      "text/plain": [
       "Projection\n",
       "AP                 28\n",
       "AP_horizontal      75\n",
       "L                 519\n",
       "PA               1023\n",
       "Name: ImageID, dtype: int64"
      ]
     },
     "execution_count": 32,
     "metadata": {},
     "output_type": "execute_result"
    }
   ],
   "source": [
    "df_small.groupby('Projection').agg('count')['ImageID']  # Solamente selecciono la columna `ImageID`. Si lo deseas borra esta ultima, y mira el output"
   ]
  },
  {
   "cell_type": "markdown",
   "metadata": {},
   "source": [
    "Cuando observamos la columna que indica la localización vemos que hay casos en la que los sujetos presentan varios valores.\n",
    "Una primera pregunta que nos interesaria es cúantas hay. Pero nos encontramos con el problema que esta lista esta representada de manera literal. Para pode empezar a contar estos valores vamos a tener que cambiar esto"
   ]
  },
  {
   "cell_type": "code",
   "execution_count": 33,
   "metadata": {},
   "outputs": [
    {
     "data": {
      "text/plain": [
       "\"['loc hilar', 'loc right', 'loc left']\""
      ]
     },
     "execution_count": 33,
     "metadata": {},
     "output_type": "execute_result"
    }
   ],
   "source": [
    "df_small.Localizations.iloc[0]"
   ]
  },
  {
   "cell_type": "code",
   "execution_count": 34,
   "metadata": {},
   "outputs": [
    {
     "data": {
      "text/plain": [
       "str"
      ]
     },
     "execution_count": 34,
     "metadata": {},
     "output_type": "execute_result"
    }
   ],
   "source": [
    "type(df_small.Localizations.iloc[0])"
   ]
  },
  {
   "cell_type": "code",
   "execution_count": 35,
   "metadata": {},
   "outputs": [
    {
     "data": {
      "text/plain": [
       "['loc hilar', 'loc right', 'loc left']"
      ]
     },
     "execution_count": 35,
     "metadata": {},
     "output_type": "execute_result"
    }
   ],
   "source": [
    "df_small['Localizations2'] = df_small.Localizations.apply(lambda x: eval(x))  #Aplicamos nuestra función lambda y la guardamos en una nueva columna, solo para poder comparar luego si queremos\n",
    "df_small.Localizations2.iloc[0]"
   ]
  },
  {
   "cell_type": "code",
   "execution_count": 36,
   "metadata": {},
   "outputs": [
    {
     "data": {
      "text/plain": [
       "list"
      ]
     },
     "execution_count": 36,
     "metadata": {},
     "output_type": "execute_result"
    }
   ],
   "source": [
    "type(df_small.Localizations2.iloc[0])"
   ]
  },
  {
   "cell_type": "markdown",
   "metadata": {},
   "source": [
    "Wow, wow, wow, todo muy lindo pero... qué acaba de pasar? \n",
    "\n",
    "`apply` es un comando avanzado, pero una vez que lo domines lo amaras. La funcion `apply` es una función propia de las `Series` y `DataFrames`. `apply` nos permite ejecutar una función a cada fila (o columna si lo deseo) de nuestro dataset. \n",
    "\n",
    "Ahora bien, en este caso nosotros usamos lo que se denomina **funciones lambda**. Esto es una funcionabilidad de Python que nos permite crear funciones 'al boleo', o en otras palabras, nos permite improvisar una función sin la necesidad de tomarnos todo el trabajo de definir la función previamente (como vimos anteriormente usando el comando `def`).\n",
    "\n",
    "Por ultimo `eval` es otra función que viene indorporada en el paquete base de Python. Lo que hace es tomar una string y evaluarla literalmente como si la hubieramos escrito en la consola. En este caso `eval` recibe la string: `\"['loc hilar', 'loc right', 'loc left']\"` que es lo mismos que escribir en la consola: \n",
    "```python\n",
    "['loc hilar', 'loc right', 'loc left']\n",
    "```\n",
    "Por ende, esta función lambda devuelve una `list` y nos hace la vida más sencilla ahora.<br>\n",
    "\n",
    "Ahora bien, nos queda la mitad, ahora queremos contar cuantas de estas etiquetas hay.\n",
    "¿Cuál sería la forma en la que lo resolverías? "
   ]
  },
  {
   "cell_type": "markdown",
   "metadata": {},
   "source": [
    "Nosotros vamos a usar una función que viene incluida en una librería muy popular llamada [Scikit-Learn](https://scikit-learn.org/stable/). Usaras esta libreria en el curso 3 'Machine Learning con Python'. Esta función se llama `MultiLabelBinarizer` y creara una columna para cada tipo de localización. [Documentación](https://scikit-learn.org/stable/modules/generated/sklearn.preprocessing.MultiLabelBinarizer.html). Para una [breve explicación](https://www.kaggle.com/questions-and-answers/66693)"
   ]
  },
  {
   "cell_type": "code",
   "execution_count": 37,
   "metadata": {},
   "outputs": [
    {
     "data": {
      "text/html": [
       "<div>\n",
       "<style scoped>\n",
       "    .dataframe tbody tr th:only-of-type {\n",
       "        vertical-align: middle;\n",
       "    }\n",
       "\n",
       "    .dataframe tbody tr th {\n",
       "        vertical-align: top;\n",
       "    }\n",
       "\n",
       "    .dataframe thead th {\n",
       "        text-align: right;\n",
       "    }\n",
       "</style>\n",
       "<table border=\"1\" class=\"dataframe\">\n",
       "  <thead>\n",
       "    <tr style=\"text-align: right;\">\n",
       "      <th></th>\n",
       "      <th>loc acromioclavicular joint</th>\n",
       "      <th>loc anterior rib</th>\n",
       "      <th>loc aortic</th>\n",
       "      <th>loc aortic button</th>\n",
       "      <th>loc aortopulmonary window</th>\n",
       "      <th>loc apical</th>\n",
       "      <th>loc axilar</th>\n",
       "      <th>loc basal</th>\n",
       "      <th>loc basal bilateral</th>\n",
       "      <th>loc bilateral</th>\n",
       "      <th>...</th>\n",
       "      <th>loc subpleural</th>\n",
       "      <th>loc subsegmental</th>\n",
       "      <th>loc superior cave vein</th>\n",
       "      <th>loc superior mediastinum</th>\n",
       "      <th>loc supra aortic</th>\n",
       "      <th>loc suprahilar</th>\n",
       "      <th>loc supraspisnous</th>\n",
       "      <th>loc tracheal</th>\n",
       "      <th>loc upper lobe</th>\n",
       "      <th>loc upper lung field</th>\n",
       "    </tr>\n",
       "  </thead>\n",
       "  <tbody>\n",
       "    <tr>\n",
       "      <td>17944</td>\n",
       "      <td>0</td>\n",
       "      <td>0</td>\n",
       "      <td>0</td>\n",
       "      <td>0</td>\n",
       "      <td>0</td>\n",
       "      <td>0</td>\n",
       "      <td>0</td>\n",
       "      <td>0</td>\n",
       "      <td>0</td>\n",
       "      <td>0</td>\n",
       "      <td>...</td>\n",
       "      <td>0</td>\n",
       "      <td>0</td>\n",
       "      <td>0</td>\n",
       "      <td>0</td>\n",
       "      <td>0</td>\n",
       "      <td>0</td>\n",
       "      <td>0</td>\n",
       "      <td>0</td>\n",
       "      <td>0</td>\n",
       "      <td>0</td>\n",
       "    </tr>\n",
       "    <tr>\n",
       "      <td>17945</td>\n",
       "      <td>0</td>\n",
       "      <td>0</td>\n",
       "      <td>0</td>\n",
       "      <td>0</td>\n",
       "      <td>0</td>\n",
       "      <td>0</td>\n",
       "      <td>0</td>\n",
       "      <td>0</td>\n",
       "      <td>0</td>\n",
       "      <td>0</td>\n",
       "      <td>...</td>\n",
       "      <td>0</td>\n",
       "      <td>0</td>\n",
       "      <td>0</td>\n",
       "      <td>0</td>\n",
       "      <td>0</td>\n",
       "      <td>0</td>\n",
       "      <td>0</td>\n",
       "      <td>0</td>\n",
       "      <td>0</td>\n",
       "      <td>0</td>\n",
       "    </tr>\n",
       "    <tr>\n",
       "      <td>17946</td>\n",
       "      <td>0</td>\n",
       "      <td>0</td>\n",
       "      <td>0</td>\n",
       "      <td>0</td>\n",
       "      <td>0</td>\n",
       "      <td>0</td>\n",
       "      <td>0</td>\n",
       "      <td>0</td>\n",
       "      <td>0</td>\n",
       "      <td>0</td>\n",
       "      <td>...</td>\n",
       "      <td>0</td>\n",
       "      <td>0</td>\n",
       "      <td>0</td>\n",
       "      <td>0</td>\n",
       "      <td>0</td>\n",
       "      <td>0</td>\n",
       "      <td>0</td>\n",
       "      <td>0</td>\n",
       "      <td>0</td>\n",
       "      <td>0</td>\n",
       "    </tr>\n",
       "    <tr>\n",
       "      <td>17947</td>\n",
       "      <td>0</td>\n",
       "      <td>0</td>\n",
       "      <td>0</td>\n",
       "      <td>0</td>\n",
       "      <td>0</td>\n",
       "      <td>0</td>\n",
       "      <td>0</td>\n",
       "      <td>0</td>\n",
       "      <td>0</td>\n",
       "      <td>0</td>\n",
       "      <td>...</td>\n",
       "      <td>0</td>\n",
       "      <td>0</td>\n",
       "      <td>0</td>\n",
       "      <td>0</td>\n",
       "      <td>0</td>\n",
       "      <td>0</td>\n",
       "      <td>0</td>\n",
       "      <td>0</td>\n",
       "      <td>0</td>\n",
       "      <td>0</td>\n",
       "    </tr>\n",
       "    <tr>\n",
       "      <td>17948</td>\n",
       "      <td>0</td>\n",
       "      <td>0</td>\n",
       "      <td>1</td>\n",
       "      <td>0</td>\n",
       "      <td>0</td>\n",
       "      <td>0</td>\n",
       "      <td>0</td>\n",
       "      <td>0</td>\n",
       "      <td>0</td>\n",
       "      <td>1</td>\n",
       "      <td>...</td>\n",
       "      <td>0</td>\n",
       "      <td>0</td>\n",
       "      <td>0</td>\n",
       "      <td>1</td>\n",
       "      <td>0</td>\n",
       "      <td>0</td>\n",
       "      <td>0</td>\n",
       "      <td>0</td>\n",
       "      <td>0</td>\n",
       "      <td>0</td>\n",
       "    </tr>\n",
       "    <tr>\n",
       "      <td>...</td>\n",
       "      <td>...</td>\n",
       "      <td>...</td>\n",
       "      <td>...</td>\n",
       "      <td>...</td>\n",
       "      <td>...</td>\n",
       "      <td>...</td>\n",
       "      <td>...</td>\n",
       "      <td>...</td>\n",
       "      <td>...</td>\n",
       "      <td>...</td>\n",
       "      <td>...</td>\n",
       "      <td>...</td>\n",
       "      <td>...</td>\n",
       "      <td>...</td>\n",
       "      <td>...</td>\n",
       "      <td>...</td>\n",
       "      <td>...</td>\n",
       "      <td>...</td>\n",
       "      <td>...</td>\n",
       "      <td>...</td>\n",
       "      <td>...</td>\n",
       "    </tr>\n",
       "    <tr>\n",
       "      <td>19584</td>\n",
       "      <td>0</td>\n",
       "      <td>0</td>\n",
       "      <td>0</td>\n",
       "      <td>0</td>\n",
       "      <td>0</td>\n",
       "      <td>0</td>\n",
       "      <td>0</td>\n",
       "      <td>0</td>\n",
       "      <td>0</td>\n",
       "      <td>0</td>\n",
       "      <td>...</td>\n",
       "      <td>0</td>\n",
       "      <td>0</td>\n",
       "      <td>0</td>\n",
       "      <td>0</td>\n",
       "      <td>0</td>\n",
       "      <td>0</td>\n",
       "      <td>0</td>\n",
       "      <td>0</td>\n",
       "      <td>0</td>\n",
       "      <td>0</td>\n",
       "    </tr>\n",
       "    <tr>\n",
       "      <td>19585</td>\n",
       "      <td>0</td>\n",
       "      <td>0</td>\n",
       "      <td>0</td>\n",
       "      <td>0</td>\n",
       "      <td>0</td>\n",
       "      <td>0</td>\n",
       "      <td>0</td>\n",
       "      <td>0</td>\n",
       "      <td>0</td>\n",
       "      <td>0</td>\n",
       "      <td>...</td>\n",
       "      <td>0</td>\n",
       "      <td>0</td>\n",
       "      <td>0</td>\n",
       "      <td>0</td>\n",
       "      <td>0</td>\n",
       "      <td>0</td>\n",
       "      <td>0</td>\n",
       "      <td>0</td>\n",
       "      <td>0</td>\n",
       "      <td>0</td>\n",
       "    </tr>\n",
       "    <tr>\n",
       "      <td>19586</td>\n",
       "      <td>0</td>\n",
       "      <td>0</td>\n",
       "      <td>0</td>\n",
       "      <td>0</td>\n",
       "      <td>0</td>\n",
       "      <td>0</td>\n",
       "      <td>0</td>\n",
       "      <td>0</td>\n",
       "      <td>0</td>\n",
       "      <td>0</td>\n",
       "      <td>...</td>\n",
       "      <td>0</td>\n",
       "      <td>0</td>\n",
       "      <td>0</td>\n",
       "      <td>0</td>\n",
       "      <td>0</td>\n",
       "      <td>0</td>\n",
       "      <td>0</td>\n",
       "      <td>0</td>\n",
       "      <td>0</td>\n",
       "      <td>0</td>\n",
       "    </tr>\n",
       "    <tr>\n",
       "      <td>19587</td>\n",
       "      <td>0</td>\n",
       "      <td>0</td>\n",
       "      <td>0</td>\n",
       "      <td>0</td>\n",
       "      <td>0</td>\n",
       "      <td>0</td>\n",
       "      <td>0</td>\n",
       "      <td>0</td>\n",
       "      <td>0</td>\n",
       "      <td>0</td>\n",
       "      <td>...</td>\n",
       "      <td>0</td>\n",
       "      <td>0</td>\n",
       "      <td>0</td>\n",
       "      <td>0</td>\n",
       "      <td>0</td>\n",
       "      <td>0</td>\n",
       "      <td>0</td>\n",
       "      <td>0</td>\n",
       "      <td>0</td>\n",
       "      <td>0</td>\n",
       "    </tr>\n",
       "    <tr>\n",
       "      <td>19588</td>\n",
       "      <td>0</td>\n",
       "      <td>0</td>\n",
       "      <td>0</td>\n",
       "      <td>0</td>\n",
       "      <td>0</td>\n",
       "      <td>0</td>\n",
       "      <td>0</td>\n",
       "      <td>0</td>\n",
       "      <td>0</td>\n",
       "      <td>0</td>\n",
       "      <td>...</td>\n",
       "      <td>0</td>\n",
       "      <td>0</td>\n",
       "      <td>0</td>\n",
       "      <td>0</td>\n",
       "      <td>0</td>\n",
       "      <td>0</td>\n",
       "      <td>0</td>\n",
       "      <td>0</td>\n",
       "      <td>0</td>\n",
       "      <td>0</td>\n",
       "    </tr>\n",
       "  </tbody>\n",
       "</table>\n",
       "<p>1645 rows × 90 columns</p>\n",
       "</div>"
      ],
      "text/plain": [
       "       loc acromioclavicular joint  loc anterior rib  loc aortic  \\\n",
       "17944                            0                 0           0   \n",
       "17945                            0                 0           0   \n",
       "17946                            0                 0           0   \n",
       "17947                            0                 0           0   \n",
       "17948                            0                 0           1   \n",
       "...                            ...               ...         ...   \n",
       "19584                            0                 0           0   \n",
       "19585                            0                 0           0   \n",
       "19586                            0                 0           0   \n",
       "19587                            0                 0           0   \n",
       "19588                            0                 0           0   \n",
       "\n",
       "       loc aortic button  loc aortopulmonary window  loc apical  loc axilar  \\\n",
       "17944                  0                          0           0           0   \n",
       "17945                  0                          0           0           0   \n",
       "17946                  0                          0           0           0   \n",
       "17947                  0                          0           0           0   \n",
       "17948                  0                          0           0           0   \n",
       "...                  ...                        ...         ...         ...   \n",
       "19584                  0                          0           0           0   \n",
       "19585                  0                          0           0           0   \n",
       "19586                  0                          0           0           0   \n",
       "19587                  0                          0           0           0   \n",
       "19588                  0                          0           0           0   \n",
       "\n",
       "       loc basal  loc basal bilateral  loc bilateral  ...  loc subpleural  \\\n",
       "17944          0                    0              0  ...               0   \n",
       "17945          0                    0              0  ...               0   \n",
       "17946          0                    0              0  ...               0   \n",
       "17947          0                    0              0  ...               0   \n",
       "17948          0                    0              1  ...               0   \n",
       "...          ...                  ...            ...  ...             ...   \n",
       "19584          0                    0              0  ...               0   \n",
       "19585          0                    0              0  ...               0   \n",
       "19586          0                    0              0  ...               0   \n",
       "19587          0                    0              0  ...               0   \n",
       "19588          0                    0              0  ...               0   \n",
       "\n",
       "       loc subsegmental  loc superior cave vein  loc superior mediastinum  \\\n",
       "17944                 0                       0                         0   \n",
       "17945                 0                       0                         0   \n",
       "17946                 0                       0                         0   \n",
       "17947                 0                       0                         0   \n",
       "17948                 0                       0                         1   \n",
       "...                 ...                     ...                       ...   \n",
       "19584                 0                       0                         0   \n",
       "19585                 0                       0                         0   \n",
       "19586                 0                       0                         0   \n",
       "19587                 0                       0                         0   \n",
       "19588                 0                       0                         0   \n",
       "\n",
       "       loc supra aortic  loc suprahilar  loc supraspisnous  loc tracheal  \\\n",
       "17944                 0               0                  0             0   \n",
       "17945                 0               0                  0             0   \n",
       "17946                 0               0                  0             0   \n",
       "17947                 0               0                  0             0   \n",
       "17948                 0               0                  0             0   \n",
       "...                 ...             ...                ...           ...   \n",
       "19584                 0               0                  0             0   \n",
       "19585                 0               0                  0             0   \n",
       "19586                 0               0                  0             0   \n",
       "19587                 0               0                  0             0   \n",
       "19588                 0               0                  0             0   \n",
       "\n",
       "       loc upper lobe  loc upper lung field  \n",
       "17944               0                     0  \n",
       "17945               0                     0  \n",
       "17946               0                     0  \n",
       "17947               0                     0  \n",
       "17948               0                     0  \n",
       "...               ...                   ...  \n",
       "19584               0                     0  \n",
       "19585               0                     0  \n",
       "19586               0                     0  \n",
       "19587               0                     0  \n",
       "19588               0                     0  \n",
       "\n",
       "[1645 rows x 90 columns]"
      ]
     },
     "execution_count": 37,
     "metadata": {},
     "output_type": "execute_result"
    }
   ],
   "source": [
    "from sklearn.preprocessing import MultiLabelBinarizer\n",
    "mlb = MultiLabelBinarizer()\n",
    "pd.DataFrame(mlb.fit_transform(df_small.Localizations2),\n",
    "                          columns=mlb.classes_,\n",
    "                          index=df_small.index)"
   ]
  },
  {
   "cell_type": "code",
   "execution_count": 38,
   "metadata": {},
   "outputs": [
    {
     "data": {
      "text/plain": [
       "Index(['loc acromioclavicular joint', 'loc anterior rib', 'loc aortic',\n",
       "       'loc aortic button', 'loc aortopulmonary window', 'loc apical',\n",
       "       'loc axilar', 'loc basal', 'loc basal bilateral', 'loc bilateral',\n",
       "       'loc bilateral costophrenic angle', 'loc bone', 'loc bronchi',\n",
       "       'loc cardiac', 'loc cardiophrenic angle', 'loc central', 'loc cervical',\n",
       "       'loc clavicle', 'loc column', 'loc costophrenic angle', 'loc diaphragm',\n",
       "       'loc diffuse bilateral', 'loc dorsal vertebrae', 'loc epigastric',\n",
       "       'loc extrapleural', 'loc fissure', 'loc gallbladder',\n",
       "       'loc gastric chamber', 'loc glenohumeral joint', 'loc hemithorax',\n",
       "       'loc hilar', 'loc hilar bilateral', 'loc humeral head',\n",
       "       'loc humeral neck', 'loc humerus', 'loc hypochondrium',\n",
       "       'loc infradiaphragm', 'loc infrahilar', 'loc intersomatic space',\n",
       "       'loc left', 'loc left costophrenic angle', 'loc left lower lobe',\n",
       "       'loc left upper lobe', 'loc lingula', 'loc lobar', 'loc lower lobe',\n",
       "       'loc lower lung field', 'loc lower mediastinum', 'loc lumbar vertebrae',\n",
       "       'loc lung field', 'loc mediastinum', 'loc middle lobe',\n",
       "       'loc middle lung field', 'loc middle mediastinum', 'loc minor fissure',\n",
       "       'loc nipple', 'loc paracardiac', 'loc paramediastinum',\n",
       "       'loc paratracheal', 'loc paravertebral', 'loc pectoral',\n",
       "       'loc peribronchi', 'loc perihilar', 'loc pleural', 'loc posterior rib',\n",
       "       'loc pulmonary artery', 'loc retrocardiac', 'loc rib',\n",
       "       'loc rib cartilage', 'loc right', 'loc right costophrenic angle',\n",
       "       'loc right hypochondrium', 'loc right lower lobe',\n",
       "       'loc right upper lobe', 'loc rotator cuff', 'loc scapula',\n",
       "       'loc shoulder', 'loc soft tissue', 'loc subclavian vein',\n",
       "       'loc subcutaneous', 'loc subpleural', 'loc subsegmental',\n",
       "       'loc superior cave vein', 'loc superior mediastinum',\n",
       "       'loc supra aortic', 'loc suprahilar', 'loc supraspisnous',\n",
       "       'loc tracheal', 'loc upper lobe', 'loc upper lung field'],\n",
       "      dtype='object')"
      ]
     },
     "execution_count": 38,
     "metadata": {},
     "output_type": "execute_result"
    }
   ],
   "source": [
    "localiz = pd.DataFrame(mlb.fit_transform(df_small.Localizations2),\n",
    "                          columns=mlb.classes_,\n",
    "                          index=df_small.index)\n",
    "localiz.columns"
   ]
  },
  {
   "cell_type": "code",
   "execution_count": 39,
   "metadata": {},
   "outputs": [
    {
     "data": {
      "text/html": [
       "<div>\n",
       "<style scoped>\n",
       "    .dataframe tbody tr th:only-of-type {\n",
       "        vertical-align: middle;\n",
       "    }\n",
       "\n",
       "    .dataframe tbody tr th {\n",
       "        vertical-align: top;\n",
       "    }\n",
       "\n",
       "    .dataframe thead th {\n",
       "        text-align: right;\n",
       "    }\n",
       "</style>\n",
       "<table border=\"1\" class=\"dataframe\">\n",
       "  <thead>\n",
       "    <tr style=\"text-align: right;\">\n",
       "      <th></th>\n",
       "      <th>loc acromioclavicular joint</th>\n",
       "      <th>loc anterior rib</th>\n",
       "      <th>loc aortic</th>\n",
       "      <th>loc aortic button</th>\n",
       "      <th>loc aortopulmonary window</th>\n",
       "      <th>loc apical</th>\n",
       "      <th>loc axilar</th>\n",
       "      <th>loc basal</th>\n",
       "      <th>loc basal bilateral</th>\n",
       "      <th>loc bilateral</th>\n",
       "      <th>...</th>\n",
       "      <th>loc subpleural</th>\n",
       "      <th>loc subsegmental</th>\n",
       "      <th>loc superior cave vein</th>\n",
       "      <th>loc superior mediastinum</th>\n",
       "      <th>loc supra aortic</th>\n",
       "      <th>loc suprahilar</th>\n",
       "      <th>loc supraspisnous</th>\n",
       "      <th>loc tracheal</th>\n",
       "      <th>loc upper lobe</th>\n",
       "      <th>loc upper lung field</th>\n",
       "    </tr>\n",
       "  </thead>\n",
       "  <tbody>\n",
       "    <tr>\n",
       "      <td>mean</td>\n",
       "      <td>0.003040</td>\n",
       "      <td>0.002432</td>\n",
       "      <td>0.112462</td>\n",
       "      <td>0.004863</td>\n",
       "      <td>0.001216</td>\n",
       "      <td>0.029787</td>\n",
       "      <td>0.003647</td>\n",
       "      <td>0.093009</td>\n",
       "      <td>0.019453</td>\n",
       "      <td>0.068085</td>\n",
       "      <td>...</td>\n",
       "      <td>0.003040</td>\n",
       "      <td>0.012766</td>\n",
       "      <td>0.006079</td>\n",
       "      <td>0.003040</td>\n",
       "      <td>0.005471</td>\n",
       "      <td>0.004255</td>\n",
       "      <td>0.000608</td>\n",
       "      <td>0.015805</td>\n",
       "      <td>0.008511</td>\n",
       "      <td>0.004863</td>\n",
       "    </tr>\n",
       "    <tr>\n",
       "      <td>std</td>\n",
       "      <td>0.055065</td>\n",
       "      <td>0.049266</td>\n",
       "      <td>0.316030</td>\n",
       "      <td>0.069588</td>\n",
       "      <td>0.034858</td>\n",
       "      <td>0.170052</td>\n",
       "      <td>0.060302</td>\n",
       "      <td>0.290534</td>\n",
       "      <td>0.138152</td>\n",
       "      <td>0.251968</td>\n",
       "      <td>...</td>\n",
       "      <td>0.055065</td>\n",
       "      <td>0.112297</td>\n",
       "      <td>0.077754</td>\n",
       "      <td>0.055065</td>\n",
       "      <td>0.073787</td>\n",
       "      <td>0.065114</td>\n",
       "      <td>0.024656</td>\n",
       "      <td>0.124760</td>\n",
       "      <td>0.091888</td>\n",
       "      <td>0.069588</td>\n",
       "    </tr>\n",
       "  </tbody>\n",
       "</table>\n",
       "<p>2 rows × 90 columns</p>\n",
       "</div>"
      ],
      "text/plain": [
       "      loc acromioclavicular joint  loc anterior rib  loc aortic  \\\n",
       "mean                     0.003040          0.002432    0.112462   \n",
       "std                      0.055065          0.049266    0.316030   \n",
       "\n",
       "      loc aortic button  loc aortopulmonary window  loc apical  loc axilar  \\\n",
       "mean           0.004863                   0.001216    0.029787    0.003647   \n",
       "std            0.069588                   0.034858    0.170052    0.060302   \n",
       "\n",
       "      loc basal  loc basal bilateral  loc bilateral  ...  loc subpleural  \\\n",
       "mean   0.093009             0.019453       0.068085  ...        0.003040   \n",
       "std    0.290534             0.138152       0.251968  ...        0.055065   \n",
       "\n",
       "      loc subsegmental  loc superior cave vein  loc superior mediastinum  \\\n",
       "mean          0.012766                0.006079                  0.003040   \n",
       "std           0.112297                0.077754                  0.055065   \n",
       "\n",
       "      loc supra aortic  loc suprahilar  loc supraspisnous  loc tracheal  \\\n",
       "mean          0.005471        0.004255           0.000608      0.015805   \n",
       "std           0.073787        0.065114           0.024656      0.124760   \n",
       "\n",
       "      loc upper lobe  loc upper lung field  \n",
       "mean        0.008511              0.004863  \n",
       "std         0.091888              0.069588  \n",
       "\n",
       "[2 rows x 90 columns]"
      ]
     },
     "execution_count": 39,
     "metadata": {},
     "output_type": "execute_result"
    }
   ],
   "source": [
    "localiz.describe().loc[['mean','std']]"
   ]
  },
  {
   "cell_type": "code",
   "execution_count": 40,
   "metadata": {},
   "outputs": [
    {
     "data": {
      "text/plain": [
       "loc cardiac               318\n",
       "loc right                 311\n",
       "loc left                  214\n",
       "loc pleural               195\n",
       "loc aortic                185\n",
       "                         ... \n",
       "loc glenohumeral joint      1\n",
       "loc peribronchi             1\n",
       "loc paramediastinum         1\n",
       "loc gallbladder             1\n",
       "loc supraspisnous           1\n",
       "Length: 90, dtype: int64"
      ]
     },
     "execution_count": 40,
     "metadata": {},
     "output_type": "execute_result"
    }
   ],
   "source": [
    "localiz.sum().sort_values(ascending=False)"
   ]
  },
  {
   "cell_type": "code",
   "execution_count": 41,
   "metadata": {},
   "outputs": [
    {
     "data": {
      "text/plain": [
       "loc cardiac               0.193313\n",
       "loc right                 0.189058\n",
       "loc left                  0.130091\n",
       "loc pleural               0.118541\n",
       "loc aortic                0.112462\n",
       "                            ...   \n",
       "loc glenohumeral joint    0.000608\n",
       "loc peribronchi           0.000608\n",
       "loc paramediastinum       0.000608\n",
       "loc gallbladder           0.000608\n",
       "loc supraspisnous         0.000608\n",
       "Length: 90, dtype: float64"
      ]
     },
     "execution_count": 41,
     "metadata": {},
     "output_type": "execute_result"
    }
   ],
   "source": [
    "localiz.mean().sort_values(ascending=False)"
   ]
  },
  {
   "cell_type": "markdown",
   "metadata": {},
   "source": [
    "Obervamos que hay en total 90 diferentes localizaciones y que estas no estan distribuidas uniformemente. Se vuelve muy dificil observar las 90 opciones en una tabla. Volveremos a esto luego cuando aprendamos como graficar usando `matplotlib`.\n",
    "\n",
    "Ahora veamos las diferentes lesiones (`Labels`) en nuestro dataset. Pudimos observar antes que `Labels` tenia una estructura de lista similar a `Localizations`."
   ]
  },
  {
   "cell_type": "code",
   "execution_count": 42,
   "metadata": {},
   "outputs": [
    {
     "data": {
      "text/plain": [
       "\"['scoliosis', 'vascular hilar enlargement']\""
      ]
     },
     "execution_count": 42,
     "metadata": {},
     "output_type": "execute_result"
    }
   ],
   "source": [
    "df_small.Labels.iloc[0]\n",
    "#Asi es, formato de lista"
   ]
  },
  {
   "cell_type": "code",
   "execution_count": 43,
   "metadata": {},
   "outputs": [
    {
     "data": {
      "text/plain": [
       "['scoliosis', 'vascular hilar enlargement']"
      ]
     },
     "execution_count": 43,
     "metadata": {},
     "output_type": "execute_result"
    }
   ],
   "source": [
    "df_small['Labels2'] = df_small.Labels.apply(lambda x: eval(x)) # Hacemos lo mismo que antes\n",
    "df_small.Labels2.iloc[0]"
   ]
  },
  {
   "cell_type": "code",
   "execution_count": 44,
   "metadata": {},
   "outputs": [
    {
     "data": {
      "text/plain": [
       "Index(['COPD signs', 'NSG tube', 'abnormal foreign body', 'adenopathy',\n",
       "       'air bronchogram', 'air trapping', 'alveolar pattern',\n",
       "       'aortic aneurysm', 'aortic atheromatosis', 'aortic button enlargement',\n",
       "       ...\n",
       "       'tracheostomy tube', 'tuberculosis', 'tuberculosis sequelae',\n",
       "       'unchanged', 'vascular hilar enlargement', 'vascular redistribution',\n",
       "       'vertebral anterior compression', 'vertebral compression',\n",
       "       'vertebral degenerative changes', 'volume loss'],\n",
       "      dtype='object', length=146)"
      ]
     },
     "execution_count": 44,
     "metadata": {},
     "output_type": "execute_result"
    }
   ],
   "source": [
    "labels = pd.DataFrame(mlb.fit_transform(df_small.Labels2),\n",
    "                          columns=mlb.classes_,\n",
    "                          index=df_small.index)\n",
    "labels.columns"
   ]
  },
  {
   "cell_type": "code",
   "execution_count": 45,
   "metadata": {},
   "outputs": [
    {
     "data": {
      "text/plain": [
       "normal                                        0.336778\n",
       "COPD signs                                    0.115502\n",
       "unchanged                                     0.113070\n",
       "chronic changes                               0.106383\n",
       "cardiomegaly                                  0.093009\n",
       "                                                ...   \n",
       "pneumoperitoneo                               0.000608\n",
       "nephrostomy tube                              0.000608\n",
       "miliary opacities                             0.000608\n",
       "central venous catheter via umbilical vein    0.000608\n",
       "humeral prosthesis                            0.000608\n",
       "Length: 146, dtype: float64"
      ]
     },
     "execution_count": 45,
     "metadata": {},
     "output_type": "execute_result"
    }
   ],
   "source": [
    "labels.mean().sort_values(ascending=False)"
   ]
  },
  {
   "cell_type": "markdown",
   "metadata": {},
   "source": [
    "Vemos que pasa algo igual que con Localizacion. En este caso hay 146 diferentes tipos de lesiones y estas no se encuentran uniformemente distribuidas.\n",
    "\n",
    "**Pivot Table**\n",
    "\n",
    "Nuestro comando `.mean` nos devuelve una tabla bastante sencilla (pero no por eso menos útil). Pero que pasa si por ejemplo nos interesaria ver una variable en relación a otra? Esto es muy similar a como usamos las tablas Pivot en Excel.\n",
    "La función de DataFrame.pivot_table permite crear una tabla dinámica fácilmente, eligiendo qué columnas se quieren mostrar en:\n",
    "\n",
    "- **índice** (index): lo que se usa para colocar los datos en filas.\n",
    "- **columnas** (columns): lo que se usa para colocar los datos en columnas.\n",
    "- **valores** (values): las variables que se quieren colocar en filas y columnas.\n",
    "\n",
    "Y se puede elegir una o más funciones de agregación para aplicar a los valores cuando son agregados.\n"
   ]
  },
  {
   "cell_type": "code",
   "execution_count": 46,
   "metadata": {},
   "outputs": [
    {
     "data": {
      "text/html": [
       "<div>\n",
       "<style scoped>\n",
       "    .dataframe tbody tr th:only-of-type {\n",
       "        vertical-align: middle;\n",
       "    }\n",
       "\n",
       "    .dataframe tbody tr th {\n",
       "        vertical-align: top;\n",
       "    }\n",
       "\n",
       "    .dataframe thead th {\n",
       "        text-align: right;\n",
       "    }\n",
       "</style>\n",
       "<table border=\"1\" class=\"dataframe\">\n",
       "  <thead>\n",
       "    <tr style=\"text-align: right;\">\n",
       "      <th>PatientSex_DICOM</th>\n",
       "      <th>F</th>\n",
       "      <th>M</th>\n",
       "    </tr>\n",
       "    <tr>\n",
       "      <th>Projection</th>\n",
       "      <th></th>\n",
       "      <th></th>\n",
       "    </tr>\n",
       "  </thead>\n",
       "  <tbody>\n",
       "    <tr>\n",
       "      <td>AP</td>\n",
       "      <td>10</td>\n",
       "      <td>18</td>\n",
       "    </tr>\n",
       "    <tr>\n",
       "      <td>AP_horizontal</td>\n",
       "      <td>36</td>\n",
       "      <td>39</td>\n",
       "    </tr>\n",
       "    <tr>\n",
       "      <td>L</td>\n",
       "      <td>276</td>\n",
       "      <td>243</td>\n",
       "    </tr>\n",
       "    <tr>\n",
       "      <td>PA</td>\n",
       "      <td>547</td>\n",
       "      <td>476</td>\n",
       "    </tr>\n",
       "  </tbody>\n",
       "</table>\n",
       "</div>"
      ],
      "text/plain": [
       "PatientSex_DICOM    F    M\n",
       "Projection                \n",
       "AP                 10   18\n",
       "AP_horizontal      36   39\n",
       "L                 276  243\n",
       "PA                547  476"
      ]
     },
     "execution_count": 46,
     "metadata": {},
     "output_type": "execute_result"
    }
   ],
   "source": [
    "df_small.pivot_table(\n",
    "    columns= 'PatientSex_DICOM',\n",
    "    index='Projection',\n",
    "    values='ID', \n",
    "    aggfunc='count'\n",
    ")"
   ]
  },
  {
   "cell_type": "markdown",
   "metadata": {},
   "source": [
    "Parecería que las proyecciones esta uniformemente distribuidas segun el sexo (un analisis mas fino involucraría realizar una prueba de frecuencias o Chi-square Test). Las tablas pivot se pueden complejizar mucho más si lo deseamos:"
   ]
  },
  {
   "cell_type": "code",
   "execution_count": 47,
   "metadata": {},
   "outputs": [
    {
     "data": {
      "text/html": [
       "<div>\n",
       "<style scoped>\n",
       "    .dataframe tbody tr th:only-of-type {\n",
       "        vertical-align: middle;\n",
       "    }\n",
       "\n",
       "    .dataframe tbody tr th {\n",
       "        vertical-align: top;\n",
       "    }\n",
       "\n",
       "    .dataframe thead tr th {\n",
       "        text-align: left;\n",
       "    }\n",
       "\n",
       "    .dataframe thead tr:last-of-type th {\n",
       "        text-align: right;\n",
       "    }\n",
       "</style>\n",
       "<table border=\"1\" class=\"dataframe\">\n",
       "  <thead>\n",
       "    <tr>\n",
       "      <th></th>\n",
       "      <th colspan=\"3\" halign=\"left\">count</th>\n",
       "      <th colspan=\"3\" halign=\"left\">mean</th>\n",
       "      <th colspan=\"3\" halign=\"left\">std</th>\n",
       "    </tr>\n",
       "    <tr>\n",
       "      <th>PatientSex_DICOM</th>\n",
       "      <th>F</th>\n",
       "      <th>M</th>\n",
       "      <th>Acumulado</th>\n",
       "      <th>F</th>\n",
       "      <th>M</th>\n",
       "      <th>Acumulado</th>\n",
       "      <th>F</th>\n",
       "      <th>M</th>\n",
       "      <th>Acumulado</th>\n",
       "    </tr>\n",
       "    <tr>\n",
       "      <th>Projection</th>\n",
       "      <th></th>\n",
       "      <th></th>\n",
       "      <th></th>\n",
       "      <th></th>\n",
       "      <th></th>\n",
       "      <th></th>\n",
       "      <th></th>\n",
       "      <th></th>\n",
       "      <th></th>\n",
       "    </tr>\n",
       "  </thead>\n",
       "  <tbody>\n",
       "    <tr>\n",
       "      <td>AP</td>\n",
       "      <td>10</td>\n",
       "      <td>18</td>\n",
       "      <td>28</td>\n",
       "      <td>45.70</td>\n",
       "      <td>49.17</td>\n",
       "      <td>47.93</td>\n",
       "      <td>46.25</td>\n",
       "      <td>31.63</td>\n",
       "      <td>36.68</td>\n",
       "    </tr>\n",
       "    <tr>\n",
       "      <td>AP_horizontal</td>\n",
       "      <td>36</td>\n",
       "      <td>39</td>\n",
       "      <td>75</td>\n",
       "      <td>56.39</td>\n",
       "      <td>59.67</td>\n",
       "      <td>58.09</td>\n",
       "      <td>24.53</td>\n",
       "      <td>22.55</td>\n",
       "      <td>23.41</td>\n",
       "    </tr>\n",
       "    <tr>\n",
       "      <td>L</td>\n",
       "      <td>276</td>\n",
       "      <td>243</td>\n",
       "      <td>519</td>\n",
       "      <td>59.54</td>\n",
       "      <td>58.25</td>\n",
       "      <td>58.94</td>\n",
       "      <td>18.53</td>\n",
       "      <td>19.95</td>\n",
       "      <td>19.20</td>\n",
       "    </tr>\n",
       "    <tr>\n",
       "      <td>PA</td>\n",
       "      <td>547</td>\n",
       "      <td>476</td>\n",
       "      <td>1023</td>\n",
       "      <td>59.71</td>\n",
       "      <td>59.04</td>\n",
       "      <td>59.40</td>\n",
       "      <td>17.86</td>\n",
       "      <td>18.58</td>\n",
       "      <td>18.19</td>\n",
       "    </tr>\n",
       "    <tr>\n",
       "      <td>Acumulado</td>\n",
       "      <td>869</td>\n",
       "      <td>776</td>\n",
       "      <td>1645</td>\n",
       "      <td>59.36</td>\n",
       "      <td>58.60</td>\n",
       "      <td>59.00</td>\n",
       "      <td>18.93</td>\n",
       "      <td>19.62</td>\n",
       "      <td>19.26</td>\n",
       "    </tr>\n",
       "  </tbody>\n",
       "</table>\n",
       "</div>"
      ],
      "text/plain": [
       "                 count                  mean                     std         \\\n",
       "PatientSex_DICOM     F    M Acumulado      F      M Acumulado      F      M   \n",
       "Projection                                                                    \n",
       "AP                  10   18        28  45.70  49.17     47.93  46.25  31.63   \n",
       "AP_horizontal       36   39        75  56.39  59.67     58.09  24.53  22.55   \n",
       "L                  276  243       519  59.54  58.25     58.94  18.53  19.95   \n",
       "PA                 547  476      1023  59.71  59.04     59.40  17.86  18.58   \n",
       "Acumulado          869  776      1645  59.36  58.60     59.00  18.93  19.62   \n",
       "\n",
       "                            \n",
       "PatientSex_DICOM Acumulado  \n",
       "Projection                  \n",
       "AP                   36.68  \n",
       "AP_horizontal        23.41  \n",
       "L                    19.20  \n",
       "PA                   18.19  \n",
       "Acumulado            19.26  "
      ]
     },
     "execution_count": 47,
     "metadata": {},
     "output_type": "execute_result"
    }
   ],
   "source": [
    "nuestra_pivot = df_small.pivot_table(\n",
    "    columns= ['PatientSex_DICOM'],\n",
    "    index= ['Projection'],\n",
    "    values='Edad', \n",
    "    aggfunc=['count','mean','std'],\n",
    "    margins=True,\n",
    "    margins_name= \"Acumulado\"\n",
    ").round(2)\n",
    "\n",
    "nuestra_pivot"
   ]
  },
  {
   "cell_type": "code",
   "execution_count": 48,
   "metadata": {},
   "outputs": [
    {
     "data": {
      "text/plain": [
       "MultiIndex([('count',         'F'),\n",
       "            ('count',         'M'),\n",
       "            ('count', 'Acumulado'),\n",
       "            ( 'mean',         'F'),\n",
       "            ( 'mean',         'M'),\n",
       "            ( 'mean', 'Acumulado'),\n",
       "            (  'std',         'F'),\n",
       "            (  'std',         'M'),\n",
       "            (  'std', 'Acumulado')],\n",
       "           names=[None, 'PatientSex_DICOM'])"
      ]
     },
     "execution_count": 48,
     "metadata": {},
     "output_type": "execute_result"
    }
   ],
   "source": [
    "# Este tipo de tablas se denominan multi-index. La forma de seleccionar las diferentes columnas es muy similar a los index normales\n",
    "nuestra_pivot.columns"
   ]
  },
  {
   "cell_type": "code",
   "execution_count": 49,
   "metadata": {},
   "outputs": [
    {
     "data": {
      "text/html": [
       "<div>\n",
       "<style scoped>\n",
       "    .dataframe tbody tr th:only-of-type {\n",
       "        vertical-align: middle;\n",
       "    }\n",
       "\n",
       "    .dataframe tbody tr th {\n",
       "        vertical-align: top;\n",
       "    }\n",
       "\n",
       "    .dataframe thead th {\n",
       "        text-align: right;\n",
       "    }\n",
       "</style>\n",
       "<table border=\"1\" class=\"dataframe\">\n",
       "  <thead>\n",
       "    <tr style=\"text-align: right;\">\n",
       "      <th>PatientSex_DICOM</th>\n",
       "      <th>F</th>\n",
       "      <th>M</th>\n",
       "      <th>Acumulado</th>\n",
       "    </tr>\n",
       "    <tr>\n",
       "      <th>Projection</th>\n",
       "      <th></th>\n",
       "      <th></th>\n",
       "      <th></th>\n",
       "    </tr>\n",
       "  </thead>\n",
       "  <tbody>\n",
       "    <tr>\n",
       "      <td>AP</td>\n",
       "      <td>10</td>\n",
       "      <td>18</td>\n",
       "      <td>28</td>\n",
       "    </tr>\n",
       "    <tr>\n",
       "      <td>AP_horizontal</td>\n",
       "      <td>36</td>\n",
       "      <td>39</td>\n",
       "      <td>75</td>\n",
       "    </tr>\n",
       "    <tr>\n",
       "      <td>L</td>\n",
       "      <td>276</td>\n",
       "      <td>243</td>\n",
       "      <td>519</td>\n",
       "    </tr>\n",
       "    <tr>\n",
       "      <td>PA</td>\n",
       "      <td>547</td>\n",
       "      <td>476</td>\n",
       "      <td>1023</td>\n",
       "    </tr>\n",
       "    <tr>\n",
       "      <td>Acumulado</td>\n",
       "      <td>869</td>\n",
       "      <td>776</td>\n",
       "      <td>1645</td>\n",
       "    </tr>\n",
       "  </tbody>\n",
       "</table>\n",
       "</div>"
      ],
      "text/plain": [
       "PatientSex_DICOM    F    M  Acumulado\n",
       "Projection                           \n",
       "AP                 10   18         28\n",
       "AP_horizontal      36   39         75\n",
       "L                 276  243        519\n",
       "PA                547  476       1023\n",
       "Acumulado         869  776       1645"
      ]
     },
     "execution_count": 49,
     "metadata": {},
     "output_type": "execute_result"
    }
   ],
   "source": [
    "nuestra_pivot.loc[:,'count']"
   ]
  },
  {
   "cell_type": "code",
   "execution_count": 50,
   "metadata": {},
   "outputs": [
    {
     "data": {
      "text/plain": [
       "Projection\n",
       "AP                10\n",
       "AP_horizontal     36\n",
       "L                276\n",
       "PA               547\n",
       "Acumulado        869\n",
       "Name: (count, F), dtype: int64"
      ]
     },
     "execution_count": 50,
     "metadata": {},
     "output_type": "execute_result"
    }
   ],
   "source": [
    "nuestra_pivot.loc[:,('count','F')]"
   ]
  },
  {
   "cell_type": "code",
   "execution_count": 51,
   "metadata": {},
   "outputs": [
    {
     "data": {
      "text/html": [
       "<div>\n",
       "<style scoped>\n",
       "    .dataframe tbody tr th:only-of-type {\n",
       "        vertical-align: middle;\n",
       "    }\n",
       "\n",
       "    .dataframe tbody tr th {\n",
       "        vertical-align: top;\n",
       "    }\n",
       "\n",
       "    .dataframe thead th {\n",
       "        text-align: right;\n",
       "    }\n",
       "</style>\n",
       "<table border=\"1\" class=\"dataframe\">\n",
       "  <thead>\n",
       "    <tr style=\"text-align: right;\">\n",
       "      <th>PatientSex_DICOM</th>\n",
       "      <th>M</th>\n",
       "      <th>Acumulado</th>\n",
       "      <th>F</th>\n",
       "    </tr>\n",
       "    <tr>\n",
       "      <th>Projection</th>\n",
       "      <th></th>\n",
       "      <th></th>\n",
       "      <th></th>\n",
       "    </tr>\n",
       "  </thead>\n",
       "  <tbody>\n",
       "    <tr>\n",
       "      <td>AP</td>\n",
       "      <td>18</td>\n",
       "      <td>28</td>\n",
       "      <td>10</td>\n",
       "    </tr>\n",
       "    <tr>\n",
       "      <td>AP_horizontal</td>\n",
       "      <td>39</td>\n",
       "      <td>75</td>\n",
       "      <td>36</td>\n",
       "    </tr>\n",
       "    <tr>\n",
       "      <td>L</td>\n",
       "      <td>243</td>\n",
       "      <td>519</td>\n",
       "      <td>276</td>\n",
       "    </tr>\n",
       "    <tr>\n",
       "      <td>PA</td>\n",
       "      <td>476</td>\n",
       "      <td>1023</td>\n",
       "      <td>547</td>\n",
       "    </tr>\n",
       "    <tr>\n",
       "      <td>Acumulado</td>\n",
       "      <td>776</td>\n",
       "      <td>1645</td>\n",
       "      <td>869</td>\n",
       "    </tr>\n",
       "  </tbody>\n",
       "</table>\n",
       "</div>"
      ],
      "text/plain": [
       "PatientSex_DICOM    M  Acumulado    F\n",
       "Projection                           \n",
       "AP                 18         28   10\n",
       "AP_horizontal      39         75   36\n",
       "L                 243        519  276\n",
       "PA                476       1023  547\n",
       "Acumulado         776       1645  869"
      ]
     },
     "execution_count": 51,
     "metadata": {},
     "output_type": "execute_result"
    }
   ],
   "source": [
    "nuestra_pivot.loc[:,'count'][['M','Acumulado','F']]"
   ]
  },
  {
   "cell_type": "markdown",
   "metadata": {},
   "source": [
    "Ahora bien, supongamos que quisieramos hacer algo similar con nuestros datos acerca de la localización de nuestra lesión. Si bien contamos con nuestro dataframe `localiz` , tenemos que encontrar la forma de unirlo con nuestros datos de interes, en este caso Sexo y ID del paciente.\n",
    "Para esto utilizaremos la funcion `merge`. Para una explicación mas completa consultar [aquí](https://stackoverflow.com/a/37891437/10307752"
   ]
  },
  {
   "cell_type": "code",
   "execution_count": 52,
   "metadata": {},
   "outputs": [
    {
     "data": {
      "text/html": [
       "<div>\n",
       "<style scoped>\n",
       "    .dataframe tbody tr th:only-of-type {\n",
       "        vertical-align: middle;\n",
       "    }\n",
       "\n",
       "    .dataframe tbody tr th {\n",
       "        vertical-align: top;\n",
       "    }\n",
       "\n",
       "    .dataframe thead th {\n",
       "        text-align: right;\n",
       "    }\n",
       "</style>\n",
       "<table border=\"1\" class=\"dataframe\">\n",
       "  <thead>\n",
       "    <tr style=\"text-align: right;\">\n",
       "      <th></th>\n",
       "      <th>ID</th>\n",
       "      <th>PatientSex_DICOM</th>\n",
       "    </tr>\n",
       "  </thead>\n",
       "  <tbody>\n",
       "    <tr>\n",
       "      <td>17944</td>\n",
       "      <td>17944</td>\n",
       "      <td>M</td>\n",
       "    </tr>\n",
       "    <tr>\n",
       "      <td>17945</td>\n",
       "      <td>17945</td>\n",
       "      <td>F</td>\n",
       "    </tr>\n",
       "    <tr>\n",
       "      <td>17946</td>\n",
       "      <td>17946</td>\n",
       "      <td>F</td>\n",
       "    </tr>\n",
       "    <tr>\n",
       "      <td>17947</td>\n",
       "      <td>17947</td>\n",
       "      <td>F</td>\n",
       "    </tr>\n",
       "    <tr>\n",
       "      <td>17948</td>\n",
       "      <td>17948</td>\n",
       "      <td>F</td>\n",
       "    </tr>\n",
       "  </tbody>\n",
       "</table>\n",
       "</div>"
      ],
      "text/plain": [
       "          ID PatientSex_DICOM\n",
       "17944  17944                M\n",
       "17945  17945                F\n",
       "17946  17946                F\n",
       "17947  17947                F\n",
       "17948  17948                F"
      ]
     },
     "execution_count": 52,
     "metadata": {},
     "output_type": "execute_result"
    }
   ],
   "source": [
    "df_small.loc[:,['ID','PatientSex_DICOM']].head()"
   ]
  },
  {
   "cell_type": "code",
   "execution_count": 53,
   "metadata": {},
   "outputs": [
    {
     "data": {
      "text/html": [
       "<div>\n",
       "<style scoped>\n",
       "    .dataframe tbody tr th:only-of-type {\n",
       "        vertical-align: middle;\n",
       "    }\n",
       "\n",
       "    .dataframe tbody tr th {\n",
       "        vertical-align: top;\n",
       "    }\n",
       "\n",
       "    .dataframe thead th {\n",
       "        text-align: right;\n",
       "    }\n",
       "</style>\n",
       "<table border=\"1\" class=\"dataframe\">\n",
       "  <thead>\n",
       "    <tr style=\"text-align: right;\">\n",
       "      <th></th>\n",
       "      <th>loc acromioclavicular joint</th>\n",
       "      <th>loc anterior rib</th>\n",
       "      <th>loc aortic</th>\n",
       "      <th>loc aortic button</th>\n",
       "      <th>loc aortopulmonary window</th>\n",
       "      <th>loc apical</th>\n",
       "      <th>loc axilar</th>\n",
       "      <th>loc basal</th>\n",
       "      <th>loc basal bilateral</th>\n",
       "      <th>loc bilateral</th>\n",
       "      <th>...</th>\n",
       "      <th>loc subpleural</th>\n",
       "      <th>loc subsegmental</th>\n",
       "      <th>loc superior cave vein</th>\n",
       "      <th>loc superior mediastinum</th>\n",
       "      <th>loc supra aortic</th>\n",
       "      <th>loc suprahilar</th>\n",
       "      <th>loc supraspisnous</th>\n",
       "      <th>loc tracheal</th>\n",
       "      <th>loc upper lobe</th>\n",
       "      <th>loc upper lung field</th>\n",
       "    </tr>\n",
       "  </thead>\n",
       "  <tbody>\n",
       "    <tr>\n",
       "      <td>17944</td>\n",
       "      <td>0</td>\n",
       "      <td>0</td>\n",
       "      <td>0</td>\n",
       "      <td>0</td>\n",
       "      <td>0</td>\n",
       "      <td>0</td>\n",
       "      <td>0</td>\n",
       "      <td>0</td>\n",
       "      <td>0</td>\n",
       "      <td>0</td>\n",
       "      <td>...</td>\n",
       "      <td>0</td>\n",
       "      <td>0</td>\n",
       "      <td>0</td>\n",
       "      <td>0</td>\n",
       "      <td>0</td>\n",
       "      <td>0</td>\n",
       "      <td>0</td>\n",
       "      <td>0</td>\n",
       "      <td>0</td>\n",
       "      <td>0</td>\n",
       "    </tr>\n",
       "    <tr>\n",
       "      <td>17945</td>\n",
       "      <td>0</td>\n",
       "      <td>0</td>\n",
       "      <td>0</td>\n",
       "      <td>0</td>\n",
       "      <td>0</td>\n",
       "      <td>0</td>\n",
       "      <td>0</td>\n",
       "      <td>0</td>\n",
       "      <td>0</td>\n",
       "      <td>0</td>\n",
       "      <td>...</td>\n",
       "      <td>0</td>\n",
       "      <td>0</td>\n",
       "      <td>0</td>\n",
       "      <td>0</td>\n",
       "      <td>0</td>\n",
       "      <td>0</td>\n",
       "      <td>0</td>\n",
       "      <td>0</td>\n",
       "      <td>0</td>\n",
       "      <td>0</td>\n",
       "    </tr>\n",
       "    <tr>\n",
       "      <td>17946</td>\n",
       "      <td>0</td>\n",
       "      <td>0</td>\n",
       "      <td>0</td>\n",
       "      <td>0</td>\n",
       "      <td>0</td>\n",
       "      <td>0</td>\n",
       "      <td>0</td>\n",
       "      <td>0</td>\n",
       "      <td>0</td>\n",
       "      <td>0</td>\n",
       "      <td>...</td>\n",
       "      <td>0</td>\n",
       "      <td>0</td>\n",
       "      <td>0</td>\n",
       "      <td>0</td>\n",
       "      <td>0</td>\n",
       "      <td>0</td>\n",
       "      <td>0</td>\n",
       "      <td>0</td>\n",
       "      <td>0</td>\n",
       "      <td>0</td>\n",
       "    </tr>\n",
       "    <tr>\n",
       "      <td>17947</td>\n",
       "      <td>0</td>\n",
       "      <td>0</td>\n",
       "      <td>0</td>\n",
       "      <td>0</td>\n",
       "      <td>0</td>\n",
       "      <td>0</td>\n",
       "      <td>0</td>\n",
       "      <td>0</td>\n",
       "      <td>0</td>\n",
       "      <td>0</td>\n",
       "      <td>...</td>\n",
       "      <td>0</td>\n",
       "      <td>0</td>\n",
       "      <td>0</td>\n",
       "      <td>0</td>\n",
       "      <td>0</td>\n",
       "      <td>0</td>\n",
       "      <td>0</td>\n",
       "      <td>0</td>\n",
       "      <td>0</td>\n",
       "      <td>0</td>\n",
       "    </tr>\n",
       "    <tr>\n",
       "      <td>17948</td>\n",
       "      <td>0</td>\n",
       "      <td>0</td>\n",
       "      <td>1</td>\n",
       "      <td>0</td>\n",
       "      <td>0</td>\n",
       "      <td>0</td>\n",
       "      <td>0</td>\n",
       "      <td>0</td>\n",
       "      <td>0</td>\n",
       "      <td>1</td>\n",
       "      <td>...</td>\n",
       "      <td>0</td>\n",
       "      <td>0</td>\n",
       "      <td>0</td>\n",
       "      <td>1</td>\n",
       "      <td>0</td>\n",
       "      <td>0</td>\n",
       "      <td>0</td>\n",
       "      <td>0</td>\n",
       "      <td>0</td>\n",
       "      <td>0</td>\n",
       "    </tr>\n",
       "  </tbody>\n",
       "</table>\n",
       "<p>5 rows × 90 columns</p>\n",
       "</div>"
      ],
      "text/plain": [
       "       loc acromioclavicular joint  loc anterior rib  loc aortic  \\\n",
       "17944                            0                 0           0   \n",
       "17945                            0                 0           0   \n",
       "17946                            0                 0           0   \n",
       "17947                            0                 0           0   \n",
       "17948                            0                 0           1   \n",
       "\n",
       "       loc aortic button  loc aortopulmonary window  loc apical  loc axilar  \\\n",
       "17944                  0                          0           0           0   \n",
       "17945                  0                          0           0           0   \n",
       "17946                  0                          0           0           0   \n",
       "17947                  0                          0           0           0   \n",
       "17948                  0                          0           0           0   \n",
       "\n",
       "       loc basal  loc basal bilateral  loc bilateral  ...  loc subpleural  \\\n",
       "17944          0                    0              0  ...               0   \n",
       "17945          0                    0              0  ...               0   \n",
       "17946          0                    0              0  ...               0   \n",
       "17947          0                    0              0  ...               0   \n",
       "17948          0                    0              1  ...               0   \n",
       "\n",
       "       loc subsegmental  loc superior cave vein  loc superior mediastinum  \\\n",
       "17944                 0                       0                         0   \n",
       "17945                 0                       0                         0   \n",
       "17946                 0                       0                         0   \n",
       "17947                 0                       0                         0   \n",
       "17948                 0                       0                         1   \n",
       "\n",
       "       loc supra aortic  loc suprahilar  loc supraspisnous  loc tracheal  \\\n",
       "17944                 0               0                  0             0   \n",
       "17945                 0               0                  0             0   \n",
       "17946                 0               0                  0             0   \n",
       "17947                 0               0                  0             0   \n",
       "17948                 0               0                  0             0   \n",
       "\n",
       "       loc upper lobe  loc upper lung field  \n",
       "17944               0                     0  \n",
       "17945               0                     0  \n",
       "17946               0                     0  \n",
       "17947               0                     0  \n",
       "17948               0                     0  \n",
       "\n",
       "[5 rows x 90 columns]"
      ]
     },
     "execution_count": 53,
     "metadata": {},
     "output_type": "execute_result"
    }
   ],
   "source": [
    "localiz.head()"
   ]
  },
  {
   "cell_type": "code",
   "execution_count": 54,
   "metadata": {},
   "outputs": [
    {
     "data": {
      "text/html": [
       "<div>\n",
       "<style scoped>\n",
       "    .dataframe tbody tr th:only-of-type {\n",
       "        vertical-align: middle;\n",
       "    }\n",
       "\n",
       "    .dataframe tbody tr th {\n",
       "        vertical-align: top;\n",
       "    }\n",
       "\n",
       "    .dataframe thead th {\n",
       "        text-align: right;\n",
       "    }\n",
       "</style>\n",
       "<table border=\"1\" class=\"dataframe\">\n",
       "  <thead>\n",
       "    <tr style=\"text-align: right;\">\n",
       "      <th></th>\n",
       "      <th>ID</th>\n",
       "      <th>PatientSex_DICOM</th>\n",
       "      <th>loc acromioclavicular joint</th>\n",
       "      <th>loc anterior rib</th>\n",
       "      <th>loc aortic</th>\n",
       "      <th>loc aortic button</th>\n",
       "      <th>loc aortopulmonary window</th>\n",
       "      <th>loc apical</th>\n",
       "      <th>loc axilar</th>\n",
       "      <th>loc basal</th>\n",
       "      <th>...</th>\n",
       "      <th>loc subpleural</th>\n",
       "      <th>loc subsegmental</th>\n",
       "      <th>loc superior cave vein</th>\n",
       "      <th>loc superior mediastinum</th>\n",
       "      <th>loc supra aortic</th>\n",
       "      <th>loc suprahilar</th>\n",
       "      <th>loc supraspisnous</th>\n",
       "      <th>loc tracheal</th>\n",
       "      <th>loc upper lobe</th>\n",
       "      <th>loc upper lung field</th>\n",
       "    </tr>\n",
       "  </thead>\n",
       "  <tbody>\n",
       "    <tr>\n",
       "      <td>17944</td>\n",
       "      <td>17944</td>\n",
       "      <td>M</td>\n",
       "      <td>0</td>\n",
       "      <td>0</td>\n",
       "      <td>0</td>\n",
       "      <td>0</td>\n",
       "      <td>0</td>\n",
       "      <td>0</td>\n",
       "      <td>0</td>\n",
       "      <td>0</td>\n",
       "      <td>...</td>\n",
       "      <td>0</td>\n",
       "      <td>0</td>\n",
       "      <td>0</td>\n",
       "      <td>0</td>\n",
       "      <td>0</td>\n",
       "      <td>0</td>\n",
       "      <td>0</td>\n",
       "      <td>0</td>\n",
       "      <td>0</td>\n",
       "      <td>0</td>\n",
       "    </tr>\n",
       "    <tr>\n",
       "      <td>17945</td>\n",
       "      <td>17945</td>\n",
       "      <td>F</td>\n",
       "      <td>0</td>\n",
       "      <td>0</td>\n",
       "      <td>0</td>\n",
       "      <td>0</td>\n",
       "      <td>0</td>\n",
       "      <td>0</td>\n",
       "      <td>0</td>\n",
       "      <td>0</td>\n",
       "      <td>...</td>\n",
       "      <td>0</td>\n",
       "      <td>0</td>\n",
       "      <td>0</td>\n",
       "      <td>0</td>\n",
       "      <td>0</td>\n",
       "      <td>0</td>\n",
       "      <td>0</td>\n",
       "      <td>0</td>\n",
       "      <td>0</td>\n",
       "      <td>0</td>\n",
       "    </tr>\n",
       "    <tr>\n",
       "      <td>17946</td>\n",
       "      <td>17946</td>\n",
       "      <td>F</td>\n",
       "      <td>0</td>\n",
       "      <td>0</td>\n",
       "      <td>0</td>\n",
       "      <td>0</td>\n",
       "      <td>0</td>\n",
       "      <td>0</td>\n",
       "      <td>0</td>\n",
       "      <td>0</td>\n",
       "      <td>...</td>\n",
       "      <td>0</td>\n",
       "      <td>0</td>\n",
       "      <td>0</td>\n",
       "      <td>0</td>\n",
       "      <td>0</td>\n",
       "      <td>0</td>\n",
       "      <td>0</td>\n",
       "      <td>0</td>\n",
       "      <td>0</td>\n",
       "      <td>0</td>\n",
       "    </tr>\n",
       "    <tr>\n",
       "      <td>17947</td>\n",
       "      <td>17947</td>\n",
       "      <td>F</td>\n",
       "      <td>0</td>\n",
       "      <td>0</td>\n",
       "      <td>0</td>\n",
       "      <td>0</td>\n",
       "      <td>0</td>\n",
       "      <td>0</td>\n",
       "      <td>0</td>\n",
       "      <td>0</td>\n",
       "      <td>...</td>\n",
       "      <td>0</td>\n",
       "      <td>0</td>\n",
       "      <td>0</td>\n",
       "      <td>0</td>\n",
       "      <td>0</td>\n",
       "      <td>0</td>\n",
       "      <td>0</td>\n",
       "      <td>0</td>\n",
       "      <td>0</td>\n",
       "      <td>0</td>\n",
       "    </tr>\n",
       "    <tr>\n",
       "      <td>17948</td>\n",
       "      <td>17948</td>\n",
       "      <td>F</td>\n",
       "      <td>0</td>\n",
       "      <td>0</td>\n",
       "      <td>1</td>\n",
       "      <td>0</td>\n",
       "      <td>0</td>\n",
       "      <td>0</td>\n",
       "      <td>0</td>\n",
       "      <td>0</td>\n",
       "      <td>...</td>\n",
       "      <td>0</td>\n",
       "      <td>0</td>\n",
       "      <td>0</td>\n",
       "      <td>1</td>\n",
       "      <td>0</td>\n",
       "      <td>0</td>\n",
       "      <td>0</td>\n",
       "      <td>0</td>\n",
       "      <td>0</td>\n",
       "      <td>0</td>\n",
       "    </tr>\n",
       "    <tr>\n",
       "      <td>...</td>\n",
       "      <td>...</td>\n",
       "      <td>...</td>\n",
       "      <td>...</td>\n",
       "      <td>...</td>\n",
       "      <td>...</td>\n",
       "      <td>...</td>\n",
       "      <td>...</td>\n",
       "      <td>...</td>\n",
       "      <td>...</td>\n",
       "      <td>...</td>\n",
       "      <td>...</td>\n",
       "      <td>...</td>\n",
       "      <td>...</td>\n",
       "      <td>...</td>\n",
       "      <td>...</td>\n",
       "      <td>...</td>\n",
       "      <td>...</td>\n",
       "      <td>...</td>\n",
       "      <td>...</td>\n",
       "      <td>...</td>\n",
       "      <td>...</td>\n",
       "    </tr>\n",
       "    <tr>\n",
       "      <td>19584</td>\n",
       "      <td>19584</td>\n",
       "      <td>F</td>\n",
       "      <td>0</td>\n",
       "      <td>0</td>\n",
       "      <td>0</td>\n",
       "      <td>0</td>\n",
       "      <td>0</td>\n",
       "      <td>0</td>\n",
       "      <td>0</td>\n",
       "      <td>0</td>\n",
       "      <td>...</td>\n",
       "      <td>0</td>\n",
       "      <td>0</td>\n",
       "      <td>0</td>\n",
       "      <td>0</td>\n",
       "      <td>0</td>\n",
       "      <td>0</td>\n",
       "      <td>0</td>\n",
       "      <td>0</td>\n",
       "      <td>0</td>\n",
       "      <td>0</td>\n",
       "    </tr>\n",
       "    <tr>\n",
       "      <td>19585</td>\n",
       "      <td>19585</td>\n",
       "      <td>F</td>\n",
       "      <td>0</td>\n",
       "      <td>0</td>\n",
       "      <td>0</td>\n",
       "      <td>0</td>\n",
       "      <td>0</td>\n",
       "      <td>0</td>\n",
       "      <td>0</td>\n",
       "      <td>0</td>\n",
       "      <td>...</td>\n",
       "      <td>0</td>\n",
       "      <td>0</td>\n",
       "      <td>0</td>\n",
       "      <td>0</td>\n",
       "      <td>0</td>\n",
       "      <td>0</td>\n",
       "      <td>0</td>\n",
       "      <td>0</td>\n",
       "      <td>0</td>\n",
       "      <td>0</td>\n",
       "    </tr>\n",
       "    <tr>\n",
       "      <td>19586</td>\n",
       "      <td>19586</td>\n",
       "      <td>F</td>\n",
       "      <td>0</td>\n",
       "      <td>0</td>\n",
       "      <td>0</td>\n",
       "      <td>0</td>\n",
       "      <td>0</td>\n",
       "      <td>0</td>\n",
       "      <td>0</td>\n",
       "      <td>0</td>\n",
       "      <td>...</td>\n",
       "      <td>0</td>\n",
       "      <td>0</td>\n",
       "      <td>0</td>\n",
       "      <td>0</td>\n",
       "      <td>0</td>\n",
       "      <td>0</td>\n",
       "      <td>0</td>\n",
       "      <td>0</td>\n",
       "      <td>0</td>\n",
       "      <td>0</td>\n",
       "    </tr>\n",
       "    <tr>\n",
       "      <td>19587</td>\n",
       "      <td>19587</td>\n",
       "      <td>F</td>\n",
       "      <td>0</td>\n",
       "      <td>0</td>\n",
       "      <td>0</td>\n",
       "      <td>0</td>\n",
       "      <td>0</td>\n",
       "      <td>0</td>\n",
       "      <td>0</td>\n",
       "      <td>0</td>\n",
       "      <td>...</td>\n",
       "      <td>0</td>\n",
       "      <td>0</td>\n",
       "      <td>0</td>\n",
       "      <td>0</td>\n",
       "      <td>0</td>\n",
       "      <td>0</td>\n",
       "      <td>0</td>\n",
       "      <td>0</td>\n",
       "      <td>0</td>\n",
       "      <td>0</td>\n",
       "    </tr>\n",
       "    <tr>\n",
       "      <td>19588</td>\n",
       "      <td>19588</td>\n",
       "      <td>M</td>\n",
       "      <td>0</td>\n",
       "      <td>0</td>\n",
       "      <td>0</td>\n",
       "      <td>0</td>\n",
       "      <td>0</td>\n",
       "      <td>0</td>\n",
       "      <td>0</td>\n",
       "      <td>0</td>\n",
       "      <td>...</td>\n",
       "      <td>0</td>\n",
       "      <td>0</td>\n",
       "      <td>0</td>\n",
       "      <td>0</td>\n",
       "      <td>0</td>\n",
       "      <td>0</td>\n",
       "      <td>0</td>\n",
       "      <td>0</td>\n",
       "      <td>0</td>\n",
       "      <td>0</td>\n",
       "    </tr>\n",
       "  </tbody>\n",
       "</table>\n",
       "<p>1645 rows × 92 columns</p>\n",
       "</div>"
      ],
      "text/plain": [
       "          ID PatientSex_DICOM  loc acromioclavicular joint  loc anterior rib  \\\n",
       "17944  17944                M                            0                 0   \n",
       "17945  17945                F                            0                 0   \n",
       "17946  17946                F                            0                 0   \n",
       "17947  17947                F                            0                 0   \n",
       "17948  17948                F                            0                 0   \n",
       "...      ...              ...                          ...               ...   \n",
       "19584  19584                F                            0                 0   \n",
       "19585  19585                F                            0                 0   \n",
       "19586  19586                F                            0                 0   \n",
       "19587  19587                F                            0                 0   \n",
       "19588  19588                M                            0                 0   \n",
       "\n",
       "       loc aortic  loc aortic button  loc aortopulmonary window  loc apical  \\\n",
       "17944           0                  0                          0           0   \n",
       "17945           0                  0                          0           0   \n",
       "17946           0                  0                          0           0   \n",
       "17947           0                  0                          0           0   \n",
       "17948           1                  0                          0           0   \n",
       "...           ...                ...                        ...         ...   \n",
       "19584           0                  0                          0           0   \n",
       "19585           0                  0                          0           0   \n",
       "19586           0                  0                          0           0   \n",
       "19587           0                  0                          0           0   \n",
       "19588           0                  0                          0           0   \n",
       "\n",
       "       loc axilar  loc basal  ...  loc subpleural  loc subsegmental  \\\n",
       "17944           0          0  ...               0                 0   \n",
       "17945           0          0  ...               0                 0   \n",
       "17946           0          0  ...               0                 0   \n",
       "17947           0          0  ...               0                 0   \n",
       "17948           0          0  ...               0                 0   \n",
       "...           ...        ...  ...             ...               ...   \n",
       "19584           0          0  ...               0                 0   \n",
       "19585           0          0  ...               0                 0   \n",
       "19586           0          0  ...               0                 0   \n",
       "19587           0          0  ...               0                 0   \n",
       "19588           0          0  ...               0                 0   \n",
       "\n",
       "       loc superior cave vein  loc superior mediastinum  loc supra aortic  \\\n",
       "17944                       0                         0                 0   \n",
       "17945                       0                         0                 0   \n",
       "17946                       0                         0                 0   \n",
       "17947                       0                         0                 0   \n",
       "17948                       0                         1                 0   \n",
       "...                       ...                       ...               ...   \n",
       "19584                       0                         0                 0   \n",
       "19585                       0                         0                 0   \n",
       "19586                       0                         0                 0   \n",
       "19587                       0                         0                 0   \n",
       "19588                       0                         0                 0   \n",
       "\n",
       "       loc suprahilar  loc supraspisnous  loc tracheal  loc upper lobe  \\\n",
       "17944               0                  0             0               0   \n",
       "17945               0                  0             0               0   \n",
       "17946               0                  0             0               0   \n",
       "17947               0                  0             0               0   \n",
       "17948               0                  0             0               0   \n",
       "...               ...                ...           ...             ...   \n",
       "19584               0                  0             0               0   \n",
       "19585               0                  0             0               0   \n",
       "19586               0                  0             0               0   \n",
       "19587               0                  0             0               0   \n",
       "19588               0                  0             0               0   \n",
       "\n",
       "       loc upper lung field  \n",
       "17944                     0  \n",
       "17945                     0  \n",
       "17946                     0  \n",
       "17947                     0  \n",
       "17948                     0  \n",
       "...                     ...  \n",
       "19584                     0  \n",
       "19585                     0  \n",
       "19586                     0  \n",
       "19587                     0  \n",
       "19588                     0  \n",
       "\n",
       "[1645 rows x 92 columns]"
      ]
     },
     "execution_count": 54,
     "metadata": {},
     "output_type": "execute_result"
    }
   ],
   "source": [
    "temp = df_small.loc[:,['ID','PatientSex_DICOM']]  # Creamos un dataframe temporal con solo las columnas que nos interesan\n",
    "temp.merge(localiz, how = 'left', left_index=True, right_index=True) "
   ]
  },
  {
   "cell_type": "markdown",
   "metadata": {},
   "source": [
    "**¿Que pasó aca?**<br>\n",
    "El dataframe `temp` se \"joineo\" con el dataframe `localiz`.\n",
    "Usamos un tipo de join llamado 'left' (o izquierdo), en el cual las filas del dataframe derecho (`localiz`) se \"unen\" a las filas del dataset de la izquierda (en este caso `temp`). Esta unión no es arbitraria, uno decide en base a que criterio o columna se van a unir las filas. En este caso nosotros usamos los index de ambos datasets dado que `localiz` se deprendio de `df_small`.\n",
    "\n",
    "El siguiente gráfico muestra los diferentes tipos de joins:<br>\n",
    "![img](https://raw.githubusercontent.com/joaquinmenendez/curso_phyton/master/images/join-types-merge-names.jpg)\n",
    "\n",
    "Ahora que logramos hacer este join, intentemos crear una nueva tabla pivot!"
   ]
  },
  {
   "cell_type": "code",
   "execution_count": 55,
   "metadata": {},
   "outputs": [
    {
     "data": {
      "text/html": [
       "<div>\n",
       "<style scoped>\n",
       "    .dataframe tbody tr th:only-of-type {\n",
       "        vertical-align: middle;\n",
       "    }\n",
       "\n",
       "    .dataframe tbody tr th {\n",
       "        vertical-align: top;\n",
       "    }\n",
       "\n",
       "    .dataframe thead th {\n",
       "        text-align: right;\n",
       "    }\n",
       "</style>\n",
       "<table border=\"1\" class=\"dataframe\">\n",
       "  <thead>\n",
       "    <tr style=\"text-align: right;\">\n",
       "      <th>PatientSex_DICOM</th>\n",
       "      <th>F</th>\n",
       "      <th>M</th>\n",
       "    </tr>\n",
       "  </thead>\n",
       "  <tbody>\n",
       "    <tr>\n",
       "      <td>ID</td>\n",
       "      <td>16315338</td>\n",
       "      <td>14554732</td>\n",
       "    </tr>\n",
       "    <tr>\n",
       "      <td>loc acromioclavicular joint</td>\n",
       "      <td>4</td>\n",
       "      <td>1</td>\n",
       "    </tr>\n",
       "    <tr>\n",
       "      <td>loc anterior rib</td>\n",
       "      <td>2</td>\n",
       "      <td>2</td>\n",
       "    </tr>\n",
       "    <tr>\n",
       "      <td>loc aortic</td>\n",
       "      <td>90</td>\n",
       "      <td>95</td>\n",
       "    </tr>\n",
       "    <tr>\n",
       "      <td>loc aortic button</td>\n",
       "      <td>1</td>\n",
       "      <td>7</td>\n",
       "    </tr>\n",
       "    <tr>\n",
       "      <td>...</td>\n",
       "      <td>...</td>\n",
       "      <td>...</td>\n",
       "    </tr>\n",
       "    <tr>\n",
       "      <td>loc suprahilar</td>\n",
       "      <td>0</td>\n",
       "      <td>7</td>\n",
       "    </tr>\n",
       "    <tr>\n",
       "      <td>loc supraspisnous</td>\n",
       "      <td>1</td>\n",
       "      <td>0</td>\n",
       "    </tr>\n",
       "    <tr>\n",
       "      <td>loc tracheal</td>\n",
       "      <td>14</td>\n",
       "      <td>12</td>\n",
       "    </tr>\n",
       "    <tr>\n",
       "      <td>loc upper lobe</td>\n",
       "      <td>8</td>\n",
       "      <td>6</td>\n",
       "    </tr>\n",
       "    <tr>\n",
       "      <td>loc upper lung field</td>\n",
       "      <td>0</td>\n",
       "      <td>8</td>\n",
       "    </tr>\n",
       "  </tbody>\n",
       "</table>\n",
       "<p>91 rows × 2 columns</p>\n",
       "</div>"
      ],
      "text/plain": [
       "PatientSex_DICOM                    F         M\n",
       "ID                           16315338  14554732\n",
       "loc acromioclavicular joint         4         1\n",
       "loc anterior rib                    2         2\n",
       "loc aortic                         90        95\n",
       "loc aortic button                   1         7\n",
       "...                               ...       ...\n",
       "loc suprahilar                      0         7\n",
       "loc supraspisnous                   1         0\n",
       "loc tracheal                       14        12\n",
       "loc upper lobe                      8         6\n",
       "loc upper lung field                0         8\n",
       "\n",
       "[91 rows x 2 columns]"
      ]
     },
     "execution_count": 55,
     "metadata": {},
     "output_type": "execute_result"
    }
   ],
   "source": [
    "localizacion_demografico = temp.merge(localiz, how = 'left', left_index=True, right_index=True) \n",
    "local_piv = localizacion_demografico.pivot_table(columns = 'PatientSex_DICOM',\n",
    "                                                 index = None, #usa todas las columnas restantes como indices. Esto no es lo mas habitual pero nos adaptamos al formato del dataframe\n",
    "                                                 aggfunc = 'sum',\n",
    "                                                 )\n",
    "local_piv"
   ]
  },
  {
   "cell_type": "code",
   "execution_count": 56,
   "metadata": {},
   "outputs": [
    {
     "data": {
      "text/html": [
       "<div>\n",
       "<style scoped>\n",
       "    .dataframe tbody tr th:only-of-type {\n",
       "        vertical-align: middle;\n",
       "    }\n",
       "\n",
       "    .dataframe tbody tr th {\n",
       "        vertical-align: top;\n",
       "    }\n",
       "\n",
       "    .dataframe thead th {\n",
       "        text-align: right;\n",
       "    }\n",
       "</style>\n",
       "<table border=\"1\" class=\"dataframe\">\n",
       "  <thead>\n",
       "    <tr style=\"text-align: right;\">\n",
       "      <th>PatientSex_DICOM</th>\n",
       "      <th>F</th>\n",
       "      <th>M</th>\n",
       "      <th>Suma</th>\n",
       "    </tr>\n",
       "  </thead>\n",
       "  <tbody>\n",
       "    <tr>\n",
       "      <td>ID</td>\n",
       "      <td>16315338</td>\n",
       "      <td>14554732</td>\n",
       "      <td>30870070</td>\n",
       "    </tr>\n",
       "    <tr>\n",
       "      <td>loc cardiac</td>\n",
       "      <td>180</td>\n",
       "      <td>138</td>\n",
       "      <td>318</td>\n",
       "    </tr>\n",
       "    <tr>\n",
       "      <td>loc right</td>\n",
       "      <td>131</td>\n",
       "      <td>180</td>\n",
       "      <td>311</td>\n",
       "    </tr>\n",
       "    <tr>\n",
       "      <td>loc aortic</td>\n",
       "      <td>90</td>\n",
       "      <td>95</td>\n",
       "      <td>185</td>\n",
       "    </tr>\n",
       "    <tr>\n",
       "      <td>loc pleural</td>\n",
       "      <td>88</td>\n",
       "      <td>107</td>\n",
       "      <td>195</td>\n",
       "    </tr>\n",
       "    <tr>\n",
       "      <td>...</td>\n",
       "      <td>...</td>\n",
       "      <td>...</td>\n",
       "      <td>...</td>\n",
       "    </tr>\n",
       "    <tr>\n",
       "      <td>loc paramediastinum</td>\n",
       "      <td>0</td>\n",
       "      <td>1</td>\n",
       "      <td>1</td>\n",
       "    </tr>\n",
       "    <tr>\n",
       "      <td>loc extrapleural</td>\n",
       "      <td>0</td>\n",
       "      <td>2</td>\n",
       "      <td>2</td>\n",
       "    </tr>\n",
       "    <tr>\n",
       "      <td>loc lower mediastinum</td>\n",
       "      <td>0</td>\n",
       "      <td>4</td>\n",
       "      <td>4</td>\n",
       "    </tr>\n",
       "    <tr>\n",
       "      <td>loc lower lobe</td>\n",
       "      <td>0</td>\n",
       "      <td>2</td>\n",
       "      <td>2</td>\n",
       "    </tr>\n",
       "    <tr>\n",
       "      <td>loc upper lung field</td>\n",
       "      <td>0</td>\n",
       "      <td>8</td>\n",
       "      <td>8</td>\n",
       "    </tr>\n",
       "  </tbody>\n",
       "</table>\n",
       "<p>91 rows × 3 columns</p>\n",
       "</div>"
      ],
      "text/plain": [
       "PatientSex_DICOM              F         M      Suma\n",
       "ID                     16315338  14554732  30870070\n",
       "loc cardiac                 180       138       318\n",
       "loc right                   131       180       311\n",
       "loc aortic                   90        95       185\n",
       "loc pleural                  88       107       195\n",
       "...                         ...       ...       ...\n",
       "loc paramediastinum           0         1         1\n",
       "loc extrapleural              0         2         2\n",
       "loc lower mediastinum         0         4         4\n",
       "loc lower lobe                0         2         2\n",
       "loc upper lung field          0         8         8\n",
       "\n",
       "[91 rows x 3 columns]"
      ]
     },
     "execution_count": 56,
     "metadata": {},
     "output_type": "execute_result"
    }
   ],
   "source": [
    "local_piv['Suma'] = local_piv.sum(axis=1)\n",
    "local_piv = local_piv.sort_values(by='F', ascending = False)\n",
    "local_piv"
   ]
  },
  {
   "cell_type": "markdown",
   "metadata": {},
   "source": [
    "Lo bueno de crear estas tablas pivot es que luego es muy facil graficarlas. Por ejemplo:<br>\n",
    "Vamos a plotear las primeras diez lesiones mas comúnes, segmentada por sexo."
   ]
  },
  {
   "cell_type": "code",
   "execution_count": 58,
   "metadata": {},
   "outputs": [
    {
     "data": {
      "text/plain": [
       "<AxesSubplot:>"
      ]
     },
     "execution_count": 58,
     "metadata": {},
     "output_type": "execute_result"
    },
    {
     "data": {
      "image/png": "[encoded data removed]",
      "text/plain": [
       "<Figure size 432x288 with 1 Axes>"
      ]
     },
     "metadata": {
      "needs_background": "light"
     },
     "output_type": "display_data"
    }
   ],
   "source": [
    "local_piv.iloc[1:11,:].plot(kind ='bar')"
   ]
  },
  {
   "cell_type": "markdown",
   "metadata": {},
   "source": [
    "### Matplotlib"
   ]
  },
  {
   "cell_type": "markdown",
   "metadata": {},
   "source": [
    "Python ofrece una gran cantidad de librerias externas (es decir que las puede instalar usando `pip install`) para plotear datos. Dentro de las mas destacads se encuentran [Seaborn](https://seaborn.pydata.org/), [Bokeh](https://docs.bokeh.org/en/latest/index.html), [Plotly](https://plotly.com/), entre otras. Sin embargo, Python ofrece una libreria por defecto llamada `matplotlib` que es muy versatil y siempre es una buena primera opción al momento de hacer nuestros primeros ploteos exploratorios.\n",
    "Por ejemplo, el gráfico que acabamos de realizar fue hecho tambien con `matplotlib`, Pandas lo usa por defecto en su función `plot()`.\n",
    "\n",
    "Exploremos un poco esta libreria:"
   ]
  },
  {
   "cell_type": "code",
   "execution_count": 66,
   "metadata": {},
   "outputs": [
    {
     "data": {
      "text/plain": [
       "[<matplotlib.lines.Line2D at 0x2194063a448>]"
      ]
     },
     "execution_count": 66,
     "metadata": {},
     "output_type": "execute_result"
    },
    {
     "data": {
      "image/png": "[encoded data removed]",
      "text/plain": [
       "<Figure size 432x288 with 1 Axes>"
      ]
     },
     "metadata": {
      "needs_background": "light"
     },
     "output_type": "display_data"
    }
   ],
   "source": [
    "import matplotlib.pyplot as plt # importamos la libreria\n",
    "# plot es la funcion mas sencilla de usar, es super general y usualmente no necesitamos definir los ejex x e y, sencillamente los interpreta segun el orden que le asignemo. Por ejemplo:\n",
    "plt.plot(df_small.Edad)"
   ]
  },
  {
   "cell_type": "markdown",
   "metadata": {},
   "source": [
    "Pasan varias cosas aquí. Primero observamos una leyenda que dice `[<matplotlib.lines.Line2D at ...>]`. Por qué sucede esto? Porque por defecto `plot()` produce un objeto gráfico.\n",
    "El usuario una gran capacidad para customizar estos gráficos y agregar detalles. Es aquí donde tanta flexibilidad puede volverse medio incomodo, ya que debemos recordar el nombre de todos los diferentes argumentos que queremos modificar. Una lista de estos puede consultarse [aquí](https://matplotlib.org/api/_as_gen/matplotlib.pyplot.html) y [aquí](https://matplotlib.org/api/_as_gen/matplotlib.pyplot.plot.html?highlight=matplotlib%20pyplot%20plot#matplotlib.pyplot.plot)."
   ]
  },
  {
   "cell_type": "code",
   "execution_count": 71,
   "metadata": {},
   "outputs": [
    {
     "data": {
      "image/png": "[encoded data removed]",
      "text/plain": [
       "<Figure size 432x288 with 1 Axes>"
      ]
     },
     "metadata": {
      "needs_background": "light"
     },
     "output_type": "display_data"
    }
   ],
   "source": [
    "plt.plot(df_small.Edad, color = 'red')\n",
    "plt.xlabel(\"Index\", size = 22) # Cambiemos los labels de los ejes\n",
    "plt.ylabel('Años', font='Times New Roman', style='italic', size=16)\n",
    "plt.title('Edad de los participantes') # agregeumosle un titulo a la figura\n",
    "plt.show() # Evita que se imprima el último comando que se le paso al kernel, y simplemente plotea el objeto"
   ]
  },
  {
   "cell_type": "markdown",
   "metadata": {},
   "source": [
    "Si bien `plot()` nos permitió muy facilmente generar un gráfico, quizas el tipo de grafico generado no es el más indicado. Al no aportarte dos ejes (x,y), la funcion asigna los `index` de nuestra Serie como el eje X y los valores como el eje Y. Ademas, esta variable no sigue una dinámica temporal, sino mas bien de frequencia."
   ]
  },
  {
   "cell_type": "markdown",
   "metadata": {},
   "source": [
    "### Histograma\n",
    "En estadística, un histograma es una representación gráfica de una variable en forma de barras, donde la superficie de cada barra es proporcional a la frecuencia de los valores representados. Link a la [documentación](https://matplotlib.org/3.3.1/api/_as_gen/matplotlib.pyplot.hist.html) de matplotlib"
   ]
  },
  {
   "cell_type": "code",
   "execution_count": 229,
   "metadata": {},
   "outputs": [
    {
     "data": {
      "image/png": "[encoded data removed]",
      "text/plain": [
       "<Figure size 432x288 with 1 Axes>"
      ]
     },
     "metadata": {
      "needs_background": "light"
     },
     "output_type": "display_data"
    }
   ],
   "source": [
    "x = df_small['Edad'].hist()"
   ]
  },
  {
   "cell_type": "markdown",
   "metadata": {},
   "source": [
    "Si bien Pandas nos va a permitir realizar ciertos gráficos sobre nuestras columnas, vamos a ver como podemos hacer todo esto directamente usando `matplotlib`. Esto nos va a permitir mucha flexibilidad. A su vez, no siempre vamos a plotear datos provenientes de un dataframe por lo cual es importante aprender como hacer esto."
   ]
  },
  {
   "cell_type": "code",
   "execution_count": 63,
   "metadata": {},
   "outputs": [
    {
     "data": {
      "image/png": "[encoded data removed]",
      "text/plain": [
       "<Figure size 432x288 with 1 Axes>"
      ]
     },
     "metadata": {
      "needs_background": "light"
     },
     "output_type": "display_data"
    }
   ],
   "source": [
    "plt.hist(df_small.Edad, edgecolor = 'black')\n",
    "plt.xlabel('Edad'), plt.ylabel('Frecuencia')\n",
    "plt.show()"
   ]
  },
  {
   "cell_type": "markdown",
   "metadata": {},
   "source": [
    "`matplotlib` nos va a permitir plotear diferentes datos en un mismo par de ejes x,y. Para esto creamos un par de ejes iniciales, en este caso lo haremos directamente con la función `plot.hist()`. Luego plotearemos un nuevo grafico con nueva información sobre etos mismos ejes.\n",
    "Vamos a hacer dos histogramas, uno con los distribución de edad para Fumadores y otro para no Fumadores."
   ]
  },
  {
   "cell_type": "code",
   "execution_count": 64,
   "metadata": {},
   "outputs": [
    {
     "data": {
      "text/plain": [
       "(array([ 19.,  18.,  27.,  35.,  78., 110., 144., 159., 121.,  65.]),\n",
       " array([ 0. ,  9.2, 18.4, 27.6, 36.8, 46. , 55.2, 64.4, 73.6, 82.8, 92. ]),\n",
       " <BarContainer object of 10 artists>)"
      ]
     },
     "execution_count": 64,
     "metadata": {},
     "output_type": "execute_result"
    },
    {
     "data": {
      "image/png": "[encoded data removed]",
      "text/plain": [
       "<Figure size 432x288 with 1 Axes>"
      ]
     },
     "metadata": {
      "needs_background": "light"
     },
     "output_type": "display_data"
    }
   ],
   "source": [
    "#Mujeres\n",
    "plt.hist(df_small[df_small.PatientSex_DICOM == 'F'].Edad, \n",
    "         color = 'red',\n",
    "         edgecolor = 'k',\n",
    "         #histtype='step',\n",
    "         label= 'Mujeres',\n",
    "         alpha = 0.4\n",
    "        )\n",
    "#Hombres\n",
    "plt.hist(df_small[df_small.PatientSex_DICOM == 'M'].Edad,\n",
    "         color = 'blue',\n",
    "         edgecolor = 'k',\n",
    "         #histtype='step',\n",
    "         label= 'Hombres',\n",
    "         alpha = 0.4,\n",
    "        )"
   ]
  },
  {
   "cell_type": "markdown",
   "metadata": {},
   "source": [
    "Vemos que ambos gráficos comparten los mismos ejes. Sin embargo, vemos que en este caso los 'bins' difieren en su localización lo cual vuelven la comparación un poco más difícil.\n",
    "A su vez vemos que la función `plot.hist()` devielve tres elementos antes de devolver el objeto gráfico. Estos son la frecuencia para cada bin, las coordenadas en el eje X de los bins, y los poligonos o barras."
   ]
  },
  {
   "cell_type": "code",
   "execution_count": 72,
   "metadata": {},
   "outputs": [],
   "source": [
    "#help(plt.hist)"
   ]
  },
  {
   "cell_type": "markdown",
   "metadata": {},
   "source": [
    "Resolvamos estos inconvenientes: "
   ]
  },
  {
   "cell_type": "code",
   "execution_count": 70,
   "metadata": {},
   "outputs": [
    {
     "data": {
      "image/png": "[encoded data removed]",
      "text/plain": [
       "<Figure size 576x360 with 1 Axes>"
      ]
     },
     "metadata": {
      "needs_background": "light"
     },
     "output_type": "display_data"
    }
   ],
   "source": [
    "plt.figure(figsize=(8,5)) # creamos una figura, la vamos a hacer mas grande.\n",
    "valores, ticks , polygon = plt.hist(df_small[df_small.PatientSex_DICOM == 'F'].Edad, \n",
    "                                     range= (0,90), # Seteamos el rango de datos que vamos a mostrar\n",
    "                                     bins = 10,  # Seteamos la cantidad de bins\n",
    "                                     edgecolor = 'red',\n",
    "                                     color = 'red',\n",
    "                                     label= 'Mujeres',\n",
    "                                     alpha = 0.4\n",
    "                                    )\n",
    "plt.hist(df_small[df_small.PatientSex_DICOM == 'M'].Edad,\n",
    "         range= (0,90),\n",
    "         bins = 10,\n",
    "         edgecolor = 'blue',\n",
    "         color = 'blue',\n",
    "         #histtype='step',\n",
    "         label= 'Hombres',\n",
    "         alpha = 0.4,\n",
    "        )\n",
    "\n",
    "plt.xlabel('Edad'), plt.ylabel('Frecuencia') # Nombramos nuestros ejes\n",
    "plt.xticks(ticks=ticks) # seteamos que los ticks sean los del primer grafico\n",
    "plt.legend()\n",
    "plt.show()"
   ]
  },
  {
   "cell_type": "code",
   "execution_count": 547,
   "metadata": {},
   "outputs": [
    {
     "data": {
      "text/plain": [
       "PatientSex_DICOM\n",
       "F    59.355581\n",
       "M    58.596649\n",
       "Name: Edad, dtype: float64"
      ]
     },
     "execution_count": 547,
     "metadata": {},
     "output_type": "execute_result"
    }
   ],
   "source": [
    "df_small.groupby('PatientSex_DICOM').agg('mean')['Edad']"
   ]
  },
  {
   "cell_type": "markdown",
   "metadata": {},
   "source": [
    "### Scatterplot\n",
    "Para comparar multiples distribuciones  puede resultarnos más cómodo utilizar un `scatter plot`.  Un scatter plot o gráfico de dispersión es un tipo de diagrama matemático que utiliza las coordenadas cartesianas para mostrar los valores de dos variables para un conjunto de datos.\n",
    "\n",
    "Observamos anteriormente que la cantidad de proyecciones no se encuentran igualmente distribuidas entre las distintas categorías. Quizas nos importa saber si a pesar de esto la distribución de edad es similar para todas las proyecciones."
   ]
  },
  {
   "cell_type": "code",
   "execution_count": 91,
   "metadata": {},
   "outputs": [
    {
     "data": {
      "text/html": [
       "<div>\n",
       "<style scoped>\n",
       "    .dataframe tbody tr th:only-of-type {\n",
       "        vertical-align: middle;\n",
       "    }\n",
       "\n",
       "    .dataframe tbody tr th {\n",
       "        vertical-align: top;\n",
       "    }\n",
       "\n",
       "    .dataframe thead th {\n",
       "        text-align: right;\n",
       "    }\n",
       "</style>\n",
       "<table border=\"1\" class=\"dataframe\">\n",
       "  <thead>\n",
       "    <tr style=\"text-align: right;\">\n",
       "      <th></th>\n",
       "      <th>mean</th>\n",
       "      <th>std</th>\n",
       "    </tr>\n",
       "    <tr>\n",
       "      <th>Projection</th>\n",
       "      <th></th>\n",
       "      <th></th>\n",
       "    </tr>\n",
       "  </thead>\n",
       "  <tbody>\n",
       "    <tr>\n",
       "      <td>AP</td>\n",
       "      <td>47.928571</td>\n",
       "      <td>36.680733</td>\n",
       "    </tr>\n",
       "    <tr>\n",
       "      <td>AP_horizontal</td>\n",
       "      <td>58.093333</td>\n",
       "      <td>23.414695</td>\n",
       "    </tr>\n",
       "    <tr>\n",
       "      <td>L</td>\n",
       "      <td>58.936416</td>\n",
       "      <td>19.198863</td>\n",
       "    </tr>\n",
       "    <tr>\n",
       "      <td>PA</td>\n",
       "      <td>59.397849</td>\n",
       "      <td>18.192520</td>\n",
       "    </tr>\n",
       "  </tbody>\n",
       "</table>\n",
       "</div>"
      ],
      "text/plain": [
       "                    mean        std\n",
       "Projection                         \n",
       "AP             47.928571  36.680733\n",
       "AP_horizontal  58.093333  23.414695\n",
       "L              58.936416  19.198863\n",
       "PA             59.397849  18.192520"
      ]
     },
     "execution_count": 91,
     "metadata": {},
     "output_type": "execute_result"
    }
   ],
   "source": [
    "# Corramos un grupby rapido para saber la media de edad según la proyección empleada\n",
    "df_small.groupby('Projection')['Edad'].agg(['mean','std'])"
   ]
  },
  {
   "cell_type": "code",
   "execution_count": 540,
   "metadata": {},
   "outputs": [
    {
     "data": {
      "image/png": "[encoded data removed]",
      "text/plain": [
       "<Figure size 720x360 with 1 Axes>"
      ]
     },
     "metadata": {
      "needs_background": "light"
     },
     "output_type": "display_data"
    }
   ],
   "source": [
    "plt.figure(figsize=(10,5))\n",
    "plt.scatter(df_small.Edad,df_small.Projection, alpha = 0.1, s=80)\n",
    "plt.xlabel('Edad'), plt.ylabel('Proyección')\n",
    "plt.show()"
   ]
  },
  {
   "cell_type": "markdown",
   "metadata": {},
   "source": [
    "Podemos observar que las distribuciones no son similares. Los casos se encuentran mucho mas concentrados alrededor de la media de edad para las proyecciones L y PA. Esto podrias ser un elemento a tener en cuenta en el futuro al momento de entrenar un modelo de Machine Learning."
   ]
  },
  {
   "cell_type": "markdown",
   "metadata": {},
   "source": [
    "Otra variable que puede ser de nuestro interes es si la cantidad de lesiones aumenta con la edad. Una opcion podría ser crear grupos por rango de edad y comparar. Pero no nos adelantemos, probemos con el abordaje más sencillo primero"
   ]
  },
  {
   "cell_type": "code",
   "execution_count": 543,
   "metadata": {},
   "outputs": [
    {
     "data": {
      "image/png": "[encoded data removed]",
      "text/plain": [
       "<Figure size 432x288 with 1 Axes>"
      ]
     },
     "metadata": {
      "needs_background": "light"
     },
     "output_type": "display_data"
    }
   ],
   "source": [
    "# Numero de lesiones\n",
    "df_small.Labels2.apply(lambda x: len(x)) # Cuenta la cantidad de elementos en la celda de lesiones (labels2) para cada sujeto.\n",
    "plt.scatter(df_small.Edad, df_small.Labels2.apply(lambda x: len(x)))\n",
    "plt.title('Lesiones ~ Edad')\n",
    "plt.xlabel('Edad'), plt.ylabel('Numero de lesiones')\n",
    "plt.show()"
   ]
  },
  {
   "cell_type": "markdown",
   "metadata": {},
   "source": [
    "### Boxplot"
   ]
  },
  {
   "cell_type": "markdown",
   "metadata": {},
   "source": [
    "Los diagramas de Caja-Bigotes (boxplots o box and whiskers) son una presentación visual que describe varias características importantes, al mismo tiempo, tales como la dispersión y simetría.<br>\n",
    "Para su realización se representan los tres cuartiles y los valores mínimo y máximo de los datos, sobre un rectángulo, alineado horizontal o verticalmente.<br>\n",
    "Link a la [documentación](https://matplotlib.org/3.3.1/api/_as_gen/matplotlib.pyplot.boxplot.html) de matplotlib\n"
   ]
  },
  {
   "cell_type": "code",
   "execution_count": 215,
   "metadata": {},
   "outputs": [
    {
     "data": {
      "text/plain": [
       "{'whiskers': [<matplotlib.lines.Line2D at 0x1cc1b6f8fc8>,\n",
       "  <matplotlib.lines.Line2D at 0x1cc1b2ddf08>],\n",
       " 'caps': [<matplotlib.lines.Line2D at 0x1cc19f77108>,\n",
       "  <matplotlib.lines.Line2D at 0x1cc1b6fbd88>],\n",
       " 'boxes': [<matplotlib.lines.Line2D at 0x1cc1b6f3708>],\n",
       " 'medians': [<matplotlib.lines.Line2D at 0x1cc1b6fef48>],\n",
       " 'fliers': [<matplotlib.lines.Line2D at 0x1cc1b702ec8>],\n",
       " 'means': []}"
      ]
     },
     "execution_count": 215,
     "metadata": {},
     "output_type": "execute_result"
    },
    {
     "data": {
      "image/png": "[encoded data removed]",
      "text/plain": [
       "<Figure size 432x288 with 1 Axes>"
      ]
     },
     "metadata": {
      "needs_background": "light"
     },
     "output_type": "display_data"
    }
   ],
   "source": [
    "plt.boxplot(x = df_small.Labels2.apply(lambda x: len(x)))"
   ]
  },
  {
   "cell_type": "code",
   "execution_count": null,
   "metadata": {},
   "outputs": [],
   "source": [
    "#help(plt.boxplot)"
   ]
  },
  {
   "cell_type": "markdown",
   "metadata": {},
   "source": [
    "Vemos que la funcion `plt.boxplot` arroja como output un diccionario, en donde cada key corresponde a un elemento del gráfico. Vamos a utilizar este diccionario para modificar ciertas propiedades del grafico."
   ]
  },
  {
   "cell_type": "code",
   "execution_count": 2,
   "metadata": {},
   "outputs": [
    {
     "ename": "NameError",
     "evalue": "name 'plt' is not defined",
     "output_type": "error",
     "traceback": [
      "\u001b[1;31m---------------------------------------------------------------------------\u001b[0m",
      "\u001b[1;31mNameError\u001b[0m                                 Traceback (most recent call last)",
      "\u001b[1;32m<ipython-input-2-25e1132df2ba>\u001b[0m in \u001b[0;36m<module>\u001b[1;34m\u001b[0m\n\u001b[0;32m      1\u001b[0m \u001b[1;31m# plt.figure(figsize=(10,5))\u001b[0m\u001b[1;33m\u001b[0m\u001b[1;33m\u001b[0m\u001b[1;33m\u001b[0m\u001b[0m\n\u001b[1;32m----> 2\u001b[1;33m dic = plt.boxplot(x = [\n\u001b[0m\u001b[0;32m      3\u001b[0m                       \u001b[0mdf\u001b[0m\u001b[1;33m[\u001b[0m\u001b[0mdf\u001b[0m\u001b[1;33m.\u001b[0m\u001b[0msmoker\u001b[0m \u001b[1;33m==\u001b[0m \u001b[1;36m1\u001b[0m\u001b[1;33m]\u001b[0m\u001b[1;33m,\u001b[0m\u001b[1;33m\u001b[0m\u001b[1;33m\u001b[0m\u001b[0m\n\u001b[0;32m      4\u001b[0m                       \u001b[0mdf\u001b[0m\u001b[1;33m[\u001b[0m\u001b[0mdf\u001b[0m\u001b[1;33m.\u001b[0m\u001b[0msmoker\u001b[0m \u001b[1;33m==\u001b[0m \u001b[1;36m0\u001b[0m\u001b[1;33m]\u001b[0m\u001b[1;33m\u001b[0m\u001b[1;33m\u001b[0m\u001b[0m\n\u001b[0;32m      5\u001b[0m                       ],\n",
      "\u001b[1;31mNameError\u001b[0m: name 'plt' is not defined"
     ]
    }
   ],
   "source": [
    "# plt.figure(figsize=(10,5))\n",
    "dic = plt.boxplot(x = [\n",
    "                      df[df.smoker == 1],\n",
    "                      df[df.smoker == 0]\n",
    "                      ],\n",
    "                  meanline=True,\n",
    "                  showmeans=True,\n",
    "                  widths=[0.7,0.7],\n",
    "                  labels=['Fumador','No Fumador']\n",
    "                 )\n",
    "[i.set_linewidth(0.3) for i in dic['boxes']] # Esto es una lista por comprension! \n",
    "#Si te cuesta entender que esta haciendo pensalo asi:\n",
    "    # Para cada elemento en dic['boxes'] va a aplicar el metodo .set_linewidth (dado que YA SE que ambos seran objetos con este metodo)\n",
    "dic['medians'][0].set_label('Mediana') # Como ambos objetos tienen media y mediana le colocare nombre a uno solo y luego ploteare la leyenda\n",
    "dic['means'][0].set_label('Media')\n",
    "\n",
    "plt.legend()\n",
    "plt.show()"
   ]
  },
  {
   "cell_type": "markdown",
   "metadata": {},
   "source": [
    "Algunas conclusiones, los hombres parecerían reportar (al menos en nuestro subset) mayor cantidad de lesiones que las mujeres, a pesar de que observamos que la media de edad de las mujeres es ligeramente mayor que los hombres. Si consideramos que la edad es un indicador de mayor probabilidad de observar mas lesiones, estos datos nos permiten empezar a pensar que el sexo de los sujetos puede ser un factor a tener en cuenta."
   ]
  },
  {
   "cell_type": "markdown",
   "metadata": {},
   "source": [
    "### Subplots"
   ]
  },
  {
   "cell_type": "markdown",
   "metadata": {},
   "source": [
    "`matplotlib` nos permite crear plots que contengan plots mas pequeños dentro, o mejor dicho subplots. "
   ]
  },
  {
   "cell_type": "code",
   "execution_count": 553,
   "metadata": {},
   "outputs": [
    {
     "data": {
      "text/plain": [
       "(<Figure size 432x288 with 3 Axes>,\n",
       " array([<AxesSubplot:>, <AxesSubplot:>, <AxesSubplot:>], dtype=object))"
      ]
     },
     "execution_count": 553,
     "metadata": {},
     "output_type": "execute_result"
    },
    {
     "data": {
      "image/png": "[encoded data removed]",
      "text/plain": [
       "<Figure size 432x288 with 3 Axes>"
      ]
     },
     "metadata": {
      "needs_background": "light"
     },
     "output_type": "display_data"
    }
   ],
   "source": [
    "plt.subplots(nrows=1,ncols=3)"
   ]
  },
  {
   "cell_type": "markdown",
   "metadata": {},
   "source": [
    "Vemos que el output de `subplots` es una tupla con dos elementos una Figura y un array con Ejes (Axes). [Documentación](https://matplotlib.org/api/_as_gen/matplotlib.pyplot.subplots.html)<br>\n",
    "A modo breve, podemos decir que la Figura es el \"marco\" y los ejes los \"elementos\" de nuestro cuadro o imagen. \n",
    "Cada elemento tendra sus propios `atributos` y `metodos`. \n",
    "Sobre los ejes plotearemos nuestros gráficos individuales, en cada eje plotearemos un grafico puntual, epero como ya vimos tambien podemos superponer los graficos.<br> Usaremos la Figura solamente para modificar aspectos estéticos de la imagen como tal."
   ]
  },
  {
   "cell_type": "code",
   "execution_count": 572,
   "metadata": {},
   "outputs": [
    {
     "data": {
      "image/png": "[encoded data removed]",
      "text/plain": [
       "<Figure size 720x360 with 3 Axes>"
      ]
     },
     "metadata": {
      "needs_background": "light"
     },
     "output_type": "display_data"
    }
   ],
   "source": [
    "fig, axs = plt.subplots(nrows=1,ncols=3)\n",
    "axs[0].hist(df_small.Edad, edgecolor = 'black') # Ploteo nuestro histograma en el primer eje\n",
    "axs[0].set_title('Histograma') # Tambien puedo setear los mismo elementos que con un solo plot\n",
    "axs[0].set_xlabel('Edad'), axs[0].set_ylabel('Frecuencia')\n",
    "fig.set_size_inches(10,5) # cambio el tamaño de TODA la figura\n",
    "plt.show()"
   ]
  },
  {
   "cell_type": "code",
   "execution_count": 589,
   "metadata": {},
   "outputs": [
    {
     "data": {
      "image/png": "[encoded data removed]",
      "text/plain": [
       "<Figure size 1080x360 with 3 Axes>"
      ]
     },
     "metadata": {
      "needs_background": "light"
     },
     "output_type": "display_data"
    }
   ],
   "source": [
    "fig, axs = plt.subplots(nrows=1,ncols=3)\n",
    "# Eje 1\n",
    "axs[0].hist(df_small.Edad, edgecolor = 'black')\n",
    "axs[0].set_title('Histograma')\n",
    "axs[0].set_xlabel('Edad'), axs[0].set_ylabel('Frecuencia')\n",
    "# Eje 2\n",
    "axs[1].boxplot(x = df_small.Labels2.apply(lambda x: len(x)))\n",
    "axs[1].set_title('Boxplot')\n",
    "axs[1].set_ylabel('Numero Lesiones')\n",
    "# Eje 3\n",
    "axs[2].scatter(df_small.Edad, df_small.Labels2.apply(lambda x: len(x)))\n",
    "axs[2].set_title('Scatterplot')\n",
    "axs[2].set_xlabel('Edad'), axs[2].set_ylabel('Numero de Lesiones')\n",
    "\n",
    "# Opciones de la figura\n",
    "fig.set_size_inches(15,5)\n",
    "fig.suptitle('Titulo general de la figura', font = 'Comic Sans MS', size = 16)\n",
    "plt.show()"
   ]
  },
  {
   "cell_type": "markdown",
   "metadata": {},
   "source": [
    "### Barplot"
   ]
  },
  {
   "cell_type": "markdown",
   "metadata": {},
   "source": [
    "Un diagrama de barras, también conocido como gráfico de barras o gráfico de columnas, es una forma de representar gráficamente un conjunto de datos o valores mediante barras rectangulares de longitud proporcional a los valores representados. Los gráficos de barras pueden ser usados para comparar cantidades de una variable en diferentes momentos o diferentes variables para el mismo momento. Las barras pueden orientarse horizontal y verticalmente.\n",
    "\n",
    "Si bien `matplotlib` ofrece la posibilidad de generar estos gráficos, considero mas recomendable usar `Seaborn`. Esta librería nos ofrece funcionalidades muy buenas para poder hacer plots segmentando nuestras variables principales (x,y) por alguna variable secundaria mediante la opción `hue`.\n",
    "[Seaborn (Documentación)](https://seaborn.pydata.org/)"
   ]
  },
  {
   "cell_type": "code",
   "execution_count": 2,
   "metadata": {},
   "outputs": [
    {
     "ename": "NameError",
     "evalue": "name 'df_small' is not defined",
     "output_type": "error",
     "traceback": [
      "\u001b[1;31m---------------------------------------------------------------------------\u001b[0m",
      "\u001b[1;31mNameError\u001b[0m                                 Traceback (most recent call last)",
      "\u001b[1;32m<ipython-input-2-4f66f4e2e214>\u001b[0m in \u001b[0;36m<module>\u001b[1;34m\u001b[0m\n\u001b[0;32m      1\u001b[0m \u001b[1;32mimport\u001b[0m \u001b[0mseaborn\u001b[0m \u001b[1;32mas\u001b[0m \u001b[0msbn\u001b[0m \u001b[1;31m# Importo la librería\u001b[0m\u001b[1;33m\u001b[0m\u001b[1;33m\u001b[0m\u001b[0m\n\u001b[0;32m      2\u001b[0m \u001b[1;33m\u001b[0m\u001b[0m\n\u001b[1;32m----> 3\u001b[1;33m sbn.barplot(data = df_small,\n\u001b[0m\u001b[0;32m      4\u001b[0m             \u001b[0mx\u001b[0m\u001b[1;33m=\u001b[0m\u001b[1;34m'PatientSex_DICOM'\u001b[0m\u001b[1;33m,\u001b[0m\u001b[1;33m\u001b[0m\u001b[1;33m\u001b[0m\u001b[0m\n\u001b[0;32m      5\u001b[0m             \u001b[0my\u001b[0m\u001b[1;33m=\u001b[0m \u001b[0mdf_small\u001b[0m\u001b[1;33m.\u001b[0m\u001b[0mLabels2\u001b[0m\u001b[1;33m.\u001b[0m\u001b[0mapply\u001b[0m\u001b[1;33m(\u001b[0m\u001b[1;32mlambda\u001b[0m \u001b[0mx\u001b[0m\u001b[1;33m:\u001b[0m \u001b[0mlen\u001b[0m\u001b[1;33m(\u001b[0m\u001b[0mx\u001b[0m\u001b[1;33m)\u001b[0m\u001b[1;33m)\u001b[0m\u001b[1;33m,\u001b[0m\u001b[1;33m\u001b[0m\u001b[1;33m\u001b[0m\u001b[0m\n",
      "\u001b[1;31mNameError\u001b[0m: name 'df_small' is not defined"
     ]
    }
   ],
   "source": [
    "import seaborn as sbn # Importo la librería\n",
    "\n",
    "sbn.barplot(data = df_small,\n",
    "            x='PatientSex_DICOM',\n",
    "            y= df_small.Labels2.apply(lambda x: len(x)),\n",
    "            ci = 95\n",
    "           )"
   ]
  },
  {
   "cell_type": "markdown",
   "metadata": {},
   "source": [
    "Vemos que el output es un Axes. Como vimos anteriormente esto nos permite asignar este Eje a una variable y modificar las propiedades del plot directamente sobre este con los metodos que empiezan con `ax.set_...`"
   ]
  },
  {
   "cell_type": "code",
   "execution_count": 102,
   "metadata": {},
   "outputs": [
    {
     "data": {
      "text/plain": [
       "17944      Adulto\n",
       "17945    Jubilado\n",
       "17946      Adulto\n",
       "17947    Jubilado\n",
       "17948    Jubilado\n",
       "           ...   \n",
       "19584      Adulto\n",
       "19585      Adulto\n",
       "19586      Adulto\n",
       "19587      Adulto\n",
       "19588        Niño\n",
       "Name: Edad, Length: 1645, dtype: object"
      ]
     },
     "execution_count": 102,
     "metadata": {},
     "output_type": "execute_result"
    }
   ],
   "source": [
    "#Calculemos una categoria de edad.\n",
    "#Definamos una función para pasarla a nuestra función `apply`\n",
    "def grupoEtario(valor):\n",
    "    if valor > 65:\n",
    "        return 'Jubilado'\n",
    "    elif valor > 18:\n",
    "        return 'Adulto'\n",
    "    else:\n",
    "        return 'Niño'\n",
    "    \n",
    "df_small.Edad.apply(grupoEtario)"
   ]
  },
  {
   "cell_type": "code",
   "execution_count": 256,
   "metadata": {},
   "outputs": [
    {
     "data": {
      "image/png": "[encoded data removed]",
      "text/plain": [
       "<Figure size 432x288 with 1 Axes>"
      ]
     },
     "metadata": {
      "needs_background": "light"
     },
     "output_type": "display_data"
    }
   ],
   "source": [
    "ax = sbn.barplot(data = df_small,\n",
    "            x='PatientSex_DICOM',\n",
    "            y= df_small.Labels2.apply(lambda x: len(x)),\n",
    "            ci = 95,\n",
    "            hue= df_small.Edad.apply(grupoEtario),\n",
    "            hue_order=['Niño','Adulto','Jubilado']\n",
    "           )\n",
    "ax.set_ylabel('Numero de lesiones')\n",
    "ax.set_xlabel('Sexo')\n",
    "ax.set_title('Numero de lesiones segun Sexo y Edad')\n",
    "plt.show()"
   ]
  },
  {
   "cell_type": "markdown",
   "metadata": {},
   "source": [
    "### Utilizando Seaborn para graficar relaciones condicionales"
   ]
  },
  {
   "cell_type": "code",
   "execution_count": null,
   "metadata": {},
   "outputs": [],
   "source": [
    "# Vamos a guardar nuestras variables transformadas en nuestro dataset para que el codigo sea mas limpio.\n",
    "df_small['Grupo_etario'] = df_small.Edad.apply(grupoEtario)\n",
    "df_small['Numero_lesiones'] = df_small.Labels2.apply(lambda x: len(x))"
   ]
  },
  {
   "cell_type": "code",
   "execution_count": 326,
   "metadata": {},
   "outputs": [
    {
     "data": {
      "image/png": "[encoded data removed]",
      "text/plain": [
       "<Figure size 795.75x360 with 2 Axes>"
      ]
     },
     "metadata": {
      "needs_background": "light"
     },
     "output_type": "display_data"
    }
   ],
   "source": [
    "ax = sbn.catplot(x=\"Projection\",\n",
    "                 hue=\"Grupo_etario\",\n",
    "                 hue_order= ['Niño','Adulto','Jubilado'],\n",
    "                 col=\"PatientSex_DICOM\",\n",
    "                 data=df_small,\n",
    "                 kind=\"count\")"
   ]
  },
  {
   "cell_type": "markdown",
   "metadata": {},
   "source": [
    "`FacetGrid()` es muy similar a utilizar subplots, pero nos permite utilizar una logica similar a la que usamos con el ejemplo anterior"
   ]
  },
  {
   "cell_type": "code",
   "execution_count": 550,
   "metadata": {},
   "outputs": [
    {
     "data": {
      "image/png": "[encoded data removed]",
      "text/plain": [
       "<Figure size 1008x504 with 2 Axes>"
      ]
     },
     "metadata": {
      "needs_background": "light"
     },
     "output_type": "display_data"
    }
   ],
   "source": [
    "bysex = sbn.FacetGrid(df_small, col= \"PatientSex_DICOM\",\n",
    "                      hue = \"Projection\", #segmentar por esta variable,\n",
    "                      size = 7 # Permite seleccionar el size del grafico\n",
    "                     )\n",
    "bysex.map(sbn.scatterplot, 'Edad', 'Numero_lesiones', alpha = 0.6, s=40)\n",
    "plt.legend(bbox_to_anchor = (1.2,1))\n",
    "plt.show()"
   ]
  },
  {
   "cell_type": "markdown",
   "metadata": {},
   "source": [
    "Este plot no nos dice mucho a simple vista. Lo cree principalmente para mostrar como `FacetGrid()` nos da una mano para graficar.\n",
    "Desafortunadamente nuestro dataset no tiene demasiadas variables cuantitativas que podamos explorar para ver relaciones entre variables. Si el lector lo desea puede ver más ejemplos en las siguientes secciones."
   ]
  },
  {
   "cell_type": "markdown",
   "metadata": {
    "colab_type": "text",
    "id": "iMCDzEkbNdnS"
   },
   "source": [
    "## 3. Ejemplo extra de EDA\n",
    "Vamos a descargar un dataset publico de la pagina de `datos.salud` de la Republica Argentina.<br>\n",
    "El dataset es un listado de recetas de medicamentos esenciales por provincia"
   ]
  },
  {
   "cell_type": "code",
   "execution_count": 207,
   "metadata": {
    "colab": {},
    "colab_type": "code",
    "id": "9wi3D_84VGz8"
   },
   "outputs": [],
   "source": [
    "import pandas as pd  # Importamos la libreria\n",
    "pd.set_option('display.float_format', lambda x: '%.2f' % x) \n",
    "# Setea la opcion de cuantos decimales plotear. No es necesario definirlo, solo lo hago por comodidad\n",
    "\n",
    "url_data = \"http://datos.salud.gob.ar/dataset/dff3bf69-3514-42a3-a2aa-041495895ab2/resource/7fe68644-7411-4080-be29-ec5bb94dc635/download/recetas-medicamentos-esenciales.csv\"\n",
    "df = pd.read_csv(url_data) #Pandas automaticamente accede a la url y descarga el dataframe en memoria. Increible!!!"
   ]
  },
  {
   "cell_type": "code",
   "execution_count": 208,
   "metadata": {
    "colab": {
     "base_uri": "https://localhost:8080/",
     "height": 419
    },
    "colab_type": "code",
    "id": "oPrfE3eVXu5B",
    "outputId": "bf0642eb-5b54-4a1b-e29b-010d1b8b919b"
   },
   "outputs": [
    {
     "data": {
      "text/html": [
       "<div>\n",
       "<style scoped>\n",
       "    .dataframe tbody tr th:only-of-type {\n",
       "        vertical-align: middle;\n",
       "    }\n",
       "\n",
       "    .dataframe tbody tr th {\n",
       "        vertical-align: top;\n",
       "    }\n",
       "\n",
       "    .dataframe thead th {\n",
       "        text-align: right;\n",
       "    }\n",
       "</style>\n",
       "<table border=\"1\" class=\"dataframe\">\n",
       "  <thead>\n",
       "    <tr style=\"text-align: right;\">\n",
       "      <th></th>\n",
       "      <th>provincia_id</th>\n",
       "      <th>provincia_desc</th>\n",
       "      <th>año</th>\n",
       "      <th>recetas_confeccionadas_cantidad</th>\n",
       "    </tr>\n",
       "  </thead>\n",
       "  <tbody>\n",
       "    <tr>\n",
       "      <td>0</td>\n",
       "      <td>2</td>\n",
       "      <td>Ciudad Autonoma de Buenos Aires</td>\n",
       "      <td>año_2003</td>\n",
       "      <td>167578</td>\n",
       "    </tr>\n",
       "    <tr>\n",
       "      <td>1</td>\n",
       "      <td>6</td>\n",
       "      <td>Buenos Aires</td>\n",
       "      <td>año_2003</td>\n",
       "      <td>3123038</td>\n",
       "    </tr>\n",
       "    <tr>\n",
       "      <td>2</td>\n",
       "      <td>10</td>\n",
       "      <td>Catamarca</td>\n",
       "      <td>año_2003</td>\n",
       "      <td>149120</td>\n",
       "    </tr>\n",
       "    <tr>\n",
       "      <td>3</td>\n",
       "      <td>14</td>\n",
       "      <td>Cordoba</td>\n",
       "      <td>año_2003</td>\n",
       "      <td>977247</td>\n",
       "    </tr>\n",
       "    <tr>\n",
       "      <td>4</td>\n",
       "      <td>18</td>\n",
       "      <td>Corrientes</td>\n",
       "      <td>año_2003</td>\n",
       "      <td>352165</td>\n",
       "    </tr>\n",
       "    <tr>\n",
       "      <td>...</td>\n",
       "      <td>...</td>\n",
       "      <td>...</td>\n",
       "      <td>...</td>\n",
       "      <td>...</td>\n",
       "    </tr>\n",
       "    <tr>\n",
       "      <td>355</td>\n",
       "      <td>78</td>\n",
       "      <td>Santa Cruz</td>\n",
       "      <td>año_2017</td>\n",
       "      <td>49205</td>\n",
       "    </tr>\n",
       "    <tr>\n",
       "      <td>356</td>\n",
       "      <td>82</td>\n",
       "      <td>Santa Fe</td>\n",
       "      <td>año_2017</td>\n",
       "      <td>1249618</td>\n",
       "    </tr>\n",
       "    <tr>\n",
       "      <td>357</td>\n",
       "      <td>86</td>\n",
       "      <td>Santiago del Estero</td>\n",
       "      <td>año_2017</td>\n",
       "      <td>950687</td>\n",
       "    </tr>\n",
       "    <tr>\n",
       "      <td>358</td>\n",
       "      <td>90</td>\n",
       "      <td>Tucuman</td>\n",
       "      <td>año_2017</td>\n",
       "      <td>1225501</td>\n",
       "    </tr>\n",
       "    <tr>\n",
       "      <td>359</td>\n",
       "      <td>94</td>\n",
       "      <td>Tierra del Fuego, Antártida e Islas del Atlant...</td>\n",
       "      <td>año_2017</td>\n",
       "      <td>41757</td>\n",
       "    </tr>\n",
       "  </tbody>\n",
       "</table>\n",
       "<p>360 rows × 4 columns</p>\n",
       "</div>"
      ],
      "text/plain": [
       "     provincia_id                                     provincia_desc  \\\n",
       "0               2                    Ciudad Autonoma de Buenos Aires   \n",
       "1               6                                       Buenos Aires   \n",
       "2              10                                          Catamarca   \n",
       "3              14                                            Cordoba   \n",
       "4              18                                         Corrientes   \n",
       "..            ...                                                ...   \n",
       "355            78                                         Santa Cruz   \n",
       "356            82                                           Santa Fe   \n",
       "357            86                                Santiago del Estero   \n",
       "358            90                                            Tucuman   \n",
       "359            94  Tierra del Fuego, Antártida e Islas del Atlant...   \n",
       "\n",
       "          año  recetas_confeccionadas_cantidad  \n",
       "0    año_2003                           167578  \n",
       "1    año_2003                          3123038  \n",
       "2    año_2003                           149120  \n",
       "3    año_2003                           977247  \n",
       "4    año_2003                           352165  \n",
       "..        ...                              ...  \n",
       "355  año_2017                            49205  \n",
       "356  año_2017                          1249618  \n",
       "357  año_2017                           950687  \n",
       "358  año_2017                          1225501  \n",
       "359  año_2017                            41757  \n",
       "\n",
       "[360 rows x 4 columns]"
      ]
     },
     "execution_count": 208,
     "metadata": {},
     "output_type": "execute_result"
    }
   ],
   "source": [
    "df"
   ]
  },
  {
   "cell_type": "markdown",
   "metadata": {
    "colab_type": "text",
    "id": "TIU5QOsPkglo"
   },
   "source": [
    "**Bienvenido al 80% del tiempo empleado en cualquier analisis...limpiar datos.**<br>\n",
    "Como veras el campo año es bastante feo, modifiquemoslo.\n",
    "\n",
    "Para eso usaremos la funcion `replace` la cual es una función propia del tipo de dato `Series`. \n",
    "\n",
    "A su vez, deberemos usar expresiones regulares o mas popularmente llamadas regex. Las expresiones regulares son una herramienta muy util para el  procesamiento de texto, pero no vamos a cubrirlas en este curso. Puedes aprender como usarlas y practicar en esta [página](https://regexr.com/)"
   ]
  },
  {
   "cell_type": "code",
   "execution_count": 209,
   "metadata": {
    "colab": {
     "base_uri": "https://localhost:8080/",
     "height": 0
    },
    "colab_type": "code",
    "id": "SbMgOizqimDf",
    "outputId": "f2362626-d042-45a0-cf8f-70aa28b061bb"
   },
   "outputs": [
    {
     "data": {
      "text/plain": [
       "0      2003\n",
       "1      2003\n",
       "2      2003\n",
       "3      2003\n",
       "4      2003\n",
       "       ... \n",
       "355    2017\n",
       "356    2017\n",
       "357    2017\n",
       "358    2017\n",
       "359    2017\n",
       "Name: año, Length: 360, dtype: object"
      ]
     },
     "execution_count": 209,
     "metadata": {},
     "output_type": "execute_result"
    }
   ],
   "source": [
    "df.año.replace('año_*', '', regex = True) "
   ]
  },
  {
   "cell_type": "code",
   "execution_count": 210,
   "metadata": {
    "colab": {},
    "colab_type": "code",
    "id": "2FIzdR35lzkW"
   },
   "outputs": [],
   "source": [
    "df.año.replace('año_*', '', regex = True, inplace= True)  \n",
    "# Vamos a usar la variable `inplace` para modficar la columna en nuestro dataset "
   ]
  },
  {
   "cell_type": "code",
   "execution_count": 211,
   "metadata": {
    "colab": {
     "base_uri": "https://localhost:8080/",
     "height": 0
    },
    "colab_type": "code",
    "id": "tiLlmk_ol-Ds",
    "outputId": "7edc5213-cc71-4339-8eab-e8dc7416c353"
   },
   "outputs": [
    {
     "data": {
      "text/plain": [
       "provincia_id                        int64\n",
       "provincia_desc                     object\n",
       "año                                object\n",
       "recetas_confeccionadas_cantidad     int64\n",
       "dtype: object"
      ]
     },
     "execution_count": 211,
     "metadata": {},
     "output_type": "execute_result"
    }
   ],
   "source": [
    "df.dtypes"
   ]
  },
  {
   "cell_type": "code",
   "execution_count": 212,
   "metadata": {
    "colab": {
     "base_uri": "https://localhost:8080/",
     "height": 0
    },
    "colab_type": "code",
    "id": "AcLhIyVnl-h9",
    "outputId": "bb508778-679b-4cef-cd6e-54fecf9808c6"
   },
   "outputs": [
    {
     "data": {
      "text/plain": [
       "provincia_id                        int64\n",
       "provincia_desc                     object\n",
       "año                                 int32\n",
       "recetas_confeccionadas_cantidad     int64\n",
       "dtype: object"
      ]
     },
     "execution_count": 212,
     "metadata": {},
     "output_type": "execute_result"
    }
   ],
   "source": [
    "# Vemos que año no es un integer sino una string. Podriamos modificar esto con el siguiente comando\n",
    "df.año = df.año.astype(int)\n",
    "df.dtypes"
   ]
  },
  {
   "cell_type": "code",
   "execution_count": 213,
   "metadata": {
    "colab": {
     "base_uri": "https://localhost:8080/",
     "height": 0
    },
    "colab_type": "code",
    "id": "gHIqN4OGtFzw",
    "outputId": "e167c4cc-cbec-41f5-8c12-206b68c7a7bb"
   },
   "outputs": [
    {
     "data": {
      "text/plain": [
       "array([2003, 2004, 2005, 2006, 2007, 2008, 2009, 2010, 2011, 2012, 2013,\n",
       "       2014, 2015, 2016, 2017], dtype=int64)"
      ]
     },
     "execution_count": 213,
     "metadata": {},
     "output_type": "execute_result"
    }
   ],
   "source": [
    "# Vemos que tenemos varios años, estaria bueno saber cuantos años distinto tenemos.\n",
    "df.año.unique()"
   ]
  },
  {
   "cell_type": "code",
   "execution_count": 214,
   "metadata": {
    "colab": {
     "base_uri": "https://localhost:8080/",
     "height": 0
    },
    "colab_type": "code",
    "id": "pI_z0yEitbS9",
    "outputId": "1377dfb7-fadd-49b8-b098-060d7a45bac4"
   },
   "outputs": [
    {
     "data": {
      "text/plain": [
       "24"
      ]
     },
     "execution_count": 214,
     "metadata": {},
     "output_type": "execute_result"
    }
   ],
   "source": [
    "# Deberiamos contar cuantas provincias tenemos, solo para estar seguros que todo esta en orden\n",
    "df.provincia_desc.nunique()  # nunique() me dice el N de unicos casos en mi columna"
   ]
  },
  {
   "cell_type": "markdown",
   "metadata": {
    "colab_type": "text",
    "id": "LjYseQ2zq-Sq"
   },
   "source": [
    "Podemos obtener algunos estadisticos descriptivos rapidos usando la funcion `describe`"
   ]
  },
  {
   "cell_type": "code",
   "execution_count": 215,
   "metadata": {
    "colab": {
     "base_uri": "https://localhost:8080/",
     "height": 0
    },
    "colab_type": "code",
    "id": "NOplzo44l-W7",
    "outputId": "b39f82ac-fafb-425b-bf97-387206b96fb4"
   },
   "outputs": [
    {
     "data": {
      "text/html": [
       "<div>\n",
       "<style scoped>\n",
       "    .dataframe tbody tr th:only-of-type {\n",
       "        vertical-align: middle;\n",
       "    }\n",
       "\n",
       "    .dataframe tbody tr th {\n",
       "        vertical-align: top;\n",
       "    }\n",
       "\n",
       "    .dataframe thead th {\n",
       "        text-align: right;\n",
       "    }\n",
       "</style>\n",
       "<table border=\"1\" class=\"dataframe\">\n",
       "  <thead>\n",
       "    <tr style=\"text-align: right;\">\n",
       "      <th></th>\n",
       "      <th>provincia_id</th>\n",
       "      <th>año</th>\n",
       "      <th>recetas_confeccionadas_cantidad</th>\n",
       "    </tr>\n",
       "  </thead>\n",
       "  <tbody>\n",
       "    <tr>\n",
       "      <td>count</td>\n",
       "      <td>360.00</td>\n",
       "      <td>360.00</td>\n",
       "      <td>360.00</td>\n",
       "    </tr>\n",
       "    <tr>\n",
       "      <td>mean</td>\n",
       "      <td>48.00</td>\n",
       "      <td>2010.00</td>\n",
       "      <td>672977.19</td>\n",
       "    </tr>\n",
       "    <tr>\n",
       "      <td>std</td>\n",
       "      <td>27.73</td>\n",
       "      <td>4.33</td>\n",
       "      <td>767384.93</td>\n",
       "    </tr>\n",
       "    <tr>\n",
       "      <td>min</td>\n",
       "      <td>2.00</td>\n",
       "      <td>2003.00</td>\n",
       "      <td>8099.00</td>\n",
       "    </tr>\n",
       "    <tr>\n",
       "      <td>25%</td>\n",
       "      <td>25.00</td>\n",
       "      <td>2006.00</td>\n",
       "      <td>201983.25</td>\n",
       "    </tr>\n",
       "    <tr>\n",
       "      <td>50%</td>\n",
       "      <td>48.00</td>\n",
       "      <td>2010.00</td>\n",
       "      <td>475719.50</td>\n",
       "    </tr>\n",
       "    <tr>\n",
       "      <td>75%</td>\n",
       "      <td>71.00</td>\n",
       "      <td>2014.00</td>\n",
       "      <td>818982.00</td>\n",
       "    </tr>\n",
       "    <tr>\n",
       "      <td>max</td>\n",
       "      <td>94.00</td>\n",
       "      <td>2017.00</td>\n",
       "      <td>4217160.00</td>\n",
       "    </tr>\n",
       "  </tbody>\n",
       "</table>\n",
       "</div>"
      ],
      "text/plain": [
       "       provincia_id     año  recetas_confeccionadas_cantidad\n",
       "count        360.00  360.00                           360.00\n",
       "mean          48.00 2010.00                        672977.19\n",
       "std           27.73    4.33                        767384.93\n",
       "min            2.00 2003.00                          8099.00\n",
       "25%           25.00 2006.00                        201983.25\n",
       "50%           48.00 2010.00                        475719.50\n",
       "75%           71.00 2014.00                        818982.00\n",
       "max           94.00 2017.00                       4217160.00"
      ]
     },
     "execution_count": 215,
     "metadata": {},
     "output_type": "execute_result"
    }
   ],
   "source": [
    "df.describe()"
   ]
  },
  {
   "cell_type": "markdown",
   "metadata": {
    "colab_type": "text",
    "id": "b1NqYPmIsi4J"
   },
   "source": [
    "Vemos que la opcion `describe()` por defecto no toma variables de tipo `Object` o `string`. \n",
    "\n",
    "Vemos que para la variable `recetas_confeccionadas_cantidad` el desvio standard (`std`) es mayor a la media. Esto nos da la pauta de que la distribucion no es normal.\n",
    "\n",
    "Apliquemos algo de lo que aprendimos acerca de las tablas pivot. Estas a veces pueden ser utiles para `printear` los datos de una manera más intuitiva."
   ]
  },
  {
   "cell_type": "code",
   "execution_count": 231,
   "metadata": {},
   "outputs": [
    {
     "data": {
      "text/html": [
       "<div>\n",
       "<style scoped>\n",
       "    .dataframe tbody tr th:only-of-type {\n",
       "        vertical-align: middle;\n",
       "    }\n",
       "\n",
       "    .dataframe tbody tr th {\n",
       "        vertical-align: top;\n",
       "    }\n",
       "\n",
       "    .dataframe thead th {\n",
       "        text-align: right;\n",
       "    }\n",
       "</style>\n",
       "<table border=\"1\" class=\"dataframe\">\n",
       "  <thead>\n",
       "    <tr style=\"text-align: right;\">\n",
       "      <th>año</th>\n",
       "      <th>2003</th>\n",
       "      <th>2004</th>\n",
       "      <th>2005</th>\n",
       "      <th>2006</th>\n",
       "      <th>2007</th>\n",
       "      <th>2008</th>\n",
       "      <th>2009</th>\n",
       "      <th>2010</th>\n",
       "      <th>2011</th>\n",
       "      <th>2012</th>\n",
       "      <th>2013</th>\n",
       "      <th>2014</th>\n",
       "      <th>2015</th>\n",
       "      <th>2016</th>\n",
       "      <th>2017</th>\n",
       "    </tr>\n",
       "    <tr>\n",
       "      <th>provincia_desc</th>\n",
       "      <th></th>\n",
       "      <th></th>\n",
       "      <th></th>\n",
       "      <th></th>\n",
       "      <th></th>\n",
       "      <th></th>\n",
       "      <th></th>\n",
       "      <th></th>\n",
       "      <th></th>\n",
       "      <th></th>\n",
       "      <th></th>\n",
       "      <th></th>\n",
       "      <th></th>\n",
       "      <th></th>\n",
       "      <th></th>\n",
       "    </tr>\n",
       "  </thead>\n",
       "  <tbody>\n",
       "    <tr>\n",
       "      <td>Buenos Aires</td>\n",
       "      <td>3123038</td>\n",
       "      <td>3916997</td>\n",
       "      <td>3899943</td>\n",
       "      <td>4139859</td>\n",
       "      <td>3779001</td>\n",
       "      <td>2932939</td>\n",
       "      <td>3300817</td>\n",
       "      <td>3717661</td>\n",
       "      <td>3784732</td>\n",
       "      <td>4217160</td>\n",
       "      <td>4061801</td>\n",
       "      <td>4082578</td>\n",
       "      <td>4090324</td>\n",
       "      <td>3761718</td>\n",
       "      <td>3730091</td>\n",
       "    </tr>\n",
       "    <tr>\n",
       "      <td>Catamarca</td>\n",
       "      <td>149120</td>\n",
       "      <td>268093</td>\n",
       "      <td>278804</td>\n",
       "      <td>304047</td>\n",
       "      <td>321621</td>\n",
       "      <td>251638</td>\n",
       "      <td>291937</td>\n",
       "      <td>339405</td>\n",
       "      <td>347491</td>\n",
       "      <td>398695</td>\n",
       "      <td>425996</td>\n",
       "      <td>488126</td>\n",
       "      <td>478093</td>\n",
       "      <td>408245</td>\n",
       "      <td>430448</td>\n",
       "    </tr>\n",
       "    <tr>\n",
       "      <td>Chaco</td>\n",
       "      <td>551906</td>\n",
       "      <td>842489</td>\n",
       "      <td>832674</td>\n",
       "      <td>913629</td>\n",
       "      <td>861813</td>\n",
       "      <td>776369</td>\n",
       "      <td>932141</td>\n",
       "      <td>1075859</td>\n",
       "      <td>1048549</td>\n",
       "      <td>1036246</td>\n",
       "      <td>1041089</td>\n",
       "      <td>1055850</td>\n",
       "      <td>1129330</td>\n",
       "      <td>1046066</td>\n",
       "      <td>1043477</td>\n",
       "    </tr>\n",
       "    <tr>\n",
       "      <td>Chubut</td>\n",
       "      <td>113193</td>\n",
       "      <td>153779</td>\n",
       "      <td>157571</td>\n",
       "      <td>189124</td>\n",
       "      <td>188409</td>\n",
       "      <td>173643</td>\n",
       "      <td>210812</td>\n",
       "      <td>252109</td>\n",
       "      <td>241036</td>\n",
       "      <td>249670</td>\n",
       "      <td>260098</td>\n",
       "      <td>243841</td>\n",
       "      <td>235316</td>\n",
       "      <td>230398</td>\n",
       "      <td>227164</td>\n",
       "    </tr>\n",
       "    <tr>\n",
       "      <td>Ciudad Autonoma de Buenos Aires</td>\n",
       "      <td>167578</td>\n",
       "      <td>214006</td>\n",
       "      <td>218813</td>\n",
       "      <td>226738</td>\n",
       "      <td>210232</td>\n",
       "      <td>206121</td>\n",
       "      <td>196429</td>\n",
       "      <td>198120</td>\n",
       "      <td>193631</td>\n",
       "      <td>205732</td>\n",
       "      <td>192521</td>\n",
       "      <td>180806</td>\n",
       "      <td>168615</td>\n",
       "      <td>164264</td>\n",
       "      <td>172628</td>\n",
       "    </tr>\n",
       "    <tr>\n",
       "      <td>Cordoba</td>\n",
       "      <td>977247</td>\n",
       "      <td>1470119</td>\n",
       "      <td>1441383</td>\n",
       "      <td>1534470</td>\n",
       "      <td>1461669</td>\n",
       "      <td>1197232</td>\n",
       "      <td>1334520</td>\n",
       "      <td>1534511</td>\n",
       "      <td>1537610</td>\n",
       "      <td>1626284</td>\n",
       "      <td>1688409</td>\n",
       "      <td>1713857</td>\n",
       "      <td>1760988</td>\n",
       "      <td>1506135</td>\n",
       "      <td>1576309</td>\n",
       "    </tr>\n",
       "    <tr>\n",
       "      <td>Corrientes</td>\n",
       "      <td>352165</td>\n",
       "      <td>534945</td>\n",
       "      <td>619386</td>\n",
       "      <td>660748</td>\n",
       "      <td>680236</td>\n",
       "      <td>571090</td>\n",
       "      <td>649784</td>\n",
       "      <td>784755</td>\n",
       "      <td>779029</td>\n",
       "      <td>828853</td>\n",
       "      <td>816393</td>\n",
       "      <td>849594</td>\n",
       "      <td>874604</td>\n",
       "      <td>821064</td>\n",
       "      <td>827584</td>\n",
       "    </tr>\n",
       "    <tr>\n",
       "      <td>Entre Rios</td>\n",
       "      <td>477469</td>\n",
       "      <td>735472</td>\n",
       "      <td>682877</td>\n",
       "      <td>743906</td>\n",
       "      <td>699162</td>\n",
       "      <td>571394</td>\n",
       "      <td>630037</td>\n",
       "      <td>775335</td>\n",
       "      <td>795493</td>\n",
       "      <td>814292</td>\n",
       "      <td>829542</td>\n",
       "      <td>818288</td>\n",
       "      <td>838640</td>\n",
       "      <td>755752</td>\n",
       "      <td>775809</td>\n",
       "    </tr>\n",
       "    <tr>\n",
       "      <td>Formosa</td>\n",
       "      <td>244323</td>\n",
       "      <td>350553</td>\n",
       "      <td>431918</td>\n",
       "      <td>487998</td>\n",
       "      <td>473970</td>\n",
       "      <td>383650</td>\n",
       "      <td>444023</td>\n",
       "      <td>520811</td>\n",
       "      <td>503810</td>\n",
       "      <td>536349</td>\n",
       "      <td>514674</td>\n",
       "      <td>565384</td>\n",
       "      <td>550101</td>\n",
       "      <td>473064</td>\n",
       "      <td>491679</td>\n",
       "    </tr>\n",
       "    <tr>\n",
       "      <td>Jujuy</td>\n",
       "      <td>246180</td>\n",
       "      <td>350004</td>\n",
       "      <td>377868</td>\n",
       "      <td>413994</td>\n",
       "      <td>407926</td>\n",
       "      <td>351648</td>\n",
       "      <td>369814</td>\n",
       "      <td>439731</td>\n",
       "      <td>473069</td>\n",
       "      <td>507353</td>\n",
       "      <td>497031</td>\n",
       "      <td>498859</td>\n",
       "      <td>568219</td>\n",
       "      <td>530089</td>\n",
       "      <td>517998</td>\n",
       "    </tr>\n",
       "    <tr>\n",
       "      <td>La Pampa</td>\n",
       "      <td>89580</td>\n",
       "      <td>120775</td>\n",
       "      <td>130313</td>\n",
       "      <td>140026</td>\n",
       "      <td>122983</td>\n",
       "      <td>88443</td>\n",
       "      <td>89395</td>\n",
       "      <td>109770</td>\n",
       "      <td>140656</td>\n",
       "      <td>131178</td>\n",
       "      <td>136041</td>\n",
       "      <td>154861</td>\n",
       "      <td>192051</td>\n",
       "      <td>168741</td>\n",
       "      <td>203271</td>\n",
       "    </tr>\n",
       "    <tr>\n",
       "      <td>La Rioja</td>\n",
       "      <td>179178</td>\n",
       "      <td>275113</td>\n",
       "      <td>274722</td>\n",
       "      <td>276525</td>\n",
       "      <td>250041</td>\n",
       "      <td>197076</td>\n",
       "      <td>212614</td>\n",
       "      <td>248025</td>\n",
       "      <td>221858</td>\n",
       "      <td>282247</td>\n",
       "      <td>285079</td>\n",
       "      <td>314045</td>\n",
       "      <td>300870</td>\n",
       "      <td>270757</td>\n",
       "      <td>274590</td>\n",
       "    </tr>\n",
       "    <tr>\n",
       "      <td>Mendoza</td>\n",
       "      <td>581158</td>\n",
       "      <td>749959</td>\n",
       "      <td>758531</td>\n",
       "      <td>758331</td>\n",
       "      <td>713021</td>\n",
       "      <td>581628</td>\n",
       "      <td>639841</td>\n",
       "      <td>666727</td>\n",
       "      <td>708735</td>\n",
       "      <td>745837</td>\n",
       "      <td>742326</td>\n",
       "      <td>805371</td>\n",
       "      <td>879381</td>\n",
       "      <td>752409</td>\n",
       "      <td>765458</td>\n",
       "    </tr>\n",
       "    <tr>\n",
       "      <td>Misiones</td>\n",
       "      <td>315086</td>\n",
       "      <td>572572</td>\n",
       "      <td>634515</td>\n",
       "      <td>706362</td>\n",
       "      <td>733164</td>\n",
       "      <td>603281</td>\n",
       "      <td>765336</td>\n",
       "      <td>804002</td>\n",
       "      <td>760353</td>\n",
       "      <td>780589</td>\n",
       "      <td>783468</td>\n",
       "      <td>756128</td>\n",
       "      <td>766928</td>\n",
       "      <td>702026</td>\n",
       "      <td>691266</td>\n",
       "    </tr>\n",
       "    <tr>\n",
       "      <td>Neuquen</td>\n",
       "      <td>120168</td>\n",
       "      <td>150704</td>\n",
       "      <td>100612</td>\n",
       "      <td>112807</td>\n",
       "      <td>90463</td>\n",
       "      <td>75027</td>\n",
       "      <td>90663</td>\n",
       "      <td>137824</td>\n",
       "      <td>138340</td>\n",
       "      <td>183981</td>\n",
       "      <td>181165</td>\n",
       "      <td>175936</td>\n",
       "      <td>189762</td>\n",
       "      <td>175493</td>\n",
       "      <td>174227</td>\n",
       "    </tr>\n",
       "    <tr>\n",
       "      <td>Rio Negro</td>\n",
       "      <td>136924</td>\n",
       "      <td>179606</td>\n",
       "      <td>180655</td>\n",
       "      <td>214944</td>\n",
       "      <td>190409</td>\n",
       "      <td>146137</td>\n",
       "      <td>149059</td>\n",
       "      <td>178220</td>\n",
       "      <td>161012</td>\n",
       "      <td>183905</td>\n",
       "      <td>196830</td>\n",
       "      <td>206468</td>\n",
       "      <td>211824</td>\n",
       "      <td>181898</td>\n",
       "      <td>173891</td>\n",
       "    </tr>\n",
       "    <tr>\n",
       "      <td>Salta</td>\n",
       "      <td>339249</td>\n",
       "      <td>604382</td>\n",
       "      <td>644217</td>\n",
       "      <td>710418</td>\n",
       "      <td>760362</td>\n",
       "      <td>627277</td>\n",
       "      <td>680980</td>\n",
       "      <td>763647</td>\n",
       "      <td>714824</td>\n",
       "      <td>786142</td>\n",
       "      <td>792792</td>\n",
       "      <td>813873</td>\n",
       "      <td>856862</td>\n",
       "      <td>787999</td>\n",
       "      <td>763591</td>\n",
       "    </tr>\n",
       "    <tr>\n",
       "      <td>San Juan</td>\n",
       "      <td>222140</td>\n",
       "      <td>320252</td>\n",
       "      <td>340088</td>\n",
       "      <td>387074</td>\n",
       "      <td>388433</td>\n",
       "      <td>325490</td>\n",
       "      <td>408932</td>\n",
       "      <td>387965</td>\n",
       "      <td>377703</td>\n",
       "      <td>434191</td>\n",
       "      <td>432358</td>\n",
       "      <td>443592</td>\n",
       "      <td>480221</td>\n",
       "      <td>554349</td>\n",
       "      <td>583754</td>\n",
       "    </tr>\n",
       "    <tr>\n",
       "      <td>San Luis</td>\n",
       "      <td>179084</td>\n",
       "      <td>242569</td>\n",
       "      <td>231063</td>\n",
       "      <td>258240</td>\n",
       "      <td>270744</td>\n",
       "      <td>233134</td>\n",
       "      <td>267765</td>\n",
       "      <td>236281</td>\n",
       "      <td>225549</td>\n",
       "      <td>249614</td>\n",
       "      <td>275454</td>\n",
       "      <td>306713</td>\n",
       "      <td>326806</td>\n",
       "      <td>285132</td>\n",
       "      <td>307816</td>\n",
       "    </tr>\n",
       "    <tr>\n",
       "      <td>Santa Cruz</td>\n",
       "      <td>8099</td>\n",
       "      <td>36306</td>\n",
       "      <td>35998</td>\n",
       "      <td>39478</td>\n",
       "      <td>34130</td>\n",
       "      <td>34129</td>\n",
       "      <td>37525</td>\n",
       "      <td>47519</td>\n",
       "      <td>56846</td>\n",
       "      <td>60134</td>\n",
       "      <td>59924</td>\n",
       "      <td>65607</td>\n",
       "      <td>64888</td>\n",
       "      <td>43234</td>\n",
       "      <td>49205</td>\n",
       "    </tr>\n",
       "    <tr>\n",
       "      <td>Santa Fe</td>\n",
       "      <td>863259</td>\n",
       "      <td>1103931</td>\n",
       "      <td>1187775</td>\n",
       "      <td>1226772</td>\n",
       "      <td>1093073</td>\n",
       "      <td>874683</td>\n",
       "      <td>985606</td>\n",
       "      <td>1101349</td>\n",
       "      <td>1229739</td>\n",
       "      <td>1237316</td>\n",
       "      <td>1242513</td>\n",
       "      <td>1290821</td>\n",
       "      <td>1379683</td>\n",
       "      <td>1214518</td>\n",
       "      <td>1249618</td>\n",
       "    </tr>\n",
       "    <tr>\n",
       "      <td>Santiago del Estero</td>\n",
       "      <td>361786</td>\n",
       "      <td>613726</td>\n",
       "      <td>641803</td>\n",
       "      <td>739376</td>\n",
       "      <td>788072</td>\n",
       "      <td>629540</td>\n",
       "      <td>828425</td>\n",
       "      <td>1016053</td>\n",
       "      <td>937358</td>\n",
       "      <td>1000002</td>\n",
       "      <td>1040185</td>\n",
       "      <td>1072222</td>\n",
       "      <td>1079910</td>\n",
       "      <td>915134</td>\n",
       "      <td>950687</td>\n",
       "    </tr>\n",
       "    <tr>\n",
       "      <td>Tierra del Fuego, Antártida e Islas del Atlantico Sur</td>\n",
       "      <td>26346</td>\n",
       "      <td>30295</td>\n",
       "      <td>31392</td>\n",
       "      <td>34135</td>\n",
       "      <td>25992</td>\n",
       "      <td>27144</td>\n",
       "      <td>36999</td>\n",
       "      <td>43133</td>\n",
       "      <td>42020</td>\n",
       "      <td>41199</td>\n",
       "      <td>32963</td>\n",
       "      <td>34869</td>\n",
       "      <td>40810</td>\n",
       "      <td>39831</td>\n",
       "      <td>41757</td>\n",
       "    </tr>\n",
       "    <tr>\n",
       "      <td>Tucuman</td>\n",
       "      <td>677249</td>\n",
       "      <td>1073573</td>\n",
       "      <td>1077449</td>\n",
       "      <td>1159370</td>\n",
       "      <td>1253792</td>\n",
       "      <td>1023809</td>\n",
       "      <td>1150297</td>\n",
       "      <td>1430247</td>\n",
       "      <td>1442128</td>\n",
       "      <td>1955475</td>\n",
       "      <td>1626164</td>\n",
       "      <td>1525842</td>\n",
       "      <td>1411688</td>\n",
       "      <td>1192842</td>\n",
       "      <td>1225501</td>\n",
       "    </tr>\n",
       "  </tbody>\n",
       "</table>\n",
       "</div>"
      ],
      "text/plain": [
       "año                                                    2003     2004     2005  \\\n",
       "provincia_desc                                                                  \n",
       "Buenos Aires                                        3123038  3916997  3899943   \n",
       "Catamarca                                            149120   268093   278804   \n",
       "Chaco                                                551906   842489   832674   \n",
       "Chubut                                               113193   153779   157571   \n",
       "Ciudad Autonoma de Buenos Aires                      167578   214006   218813   \n",
       "Cordoba                                              977247  1470119  1441383   \n",
       "Corrientes                                           352165   534945   619386   \n",
       "Entre Rios                                           477469   735472   682877   \n",
       "Formosa                                              244323   350553   431918   \n",
       "Jujuy                                                246180   350004   377868   \n",
       "La Pampa                                              89580   120775   130313   \n",
       "La Rioja                                             179178   275113   274722   \n",
       "Mendoza                                              581158   749959   758531   \n",
       "Misiones                                             315086   572572   634515   \n",
       "Neuquen                                              120168   150704   100612   \n",
       "Rio Negro                                            136924   179606   180655   \n",
       "Salta                                                339249   604382   644217   \n",
       "San Juan                                             222140   320252   340088   \n",
       "San Luis                                             179084   242569   231063   \n",
       "Santa Cruz                                             8099    36306    35998   \n",
       "Santa Fe                                             863259  1103931  1187775   \n",
       "Santiago del Estero                                  361786   613726   641803   \n",
       "Tierra del Fuego, Antártida e Islas del Atlanti...    26346    30295    31392   \n",
       "Tucuman                                              677249  1073573  1077449   \n",
       "\n",
       "año                                                    2006     2007     2008  \\\n",
       "provincia_desc                                                                  \n",
       "Buenos Aires                                        4139859  3779001  2932939   \n",
       "Catamarca                                            304047   321621   251638   \n",
       "Chaco                                                913629   861813   776369   \n",
       "Chubut                                               189124   188409   173643   \n",
       "Ciudad Autonoma de Buenos Aires                      226738   210232   206121   \n",
       "Cordoba                                             1534470  1461669  1197232   \n",
       "Corrientes                                           660748   680236   571090   \n",
       "Entre Rios                                           743906   699162   571394   \n",
       "Formosa                                              487998   473970   383650   \n",
       "Jujuy                                                413994   407926   351648   \n",
       "La Pampa                                             140026   122983    88443   \n",
       "La Rioja                                             276525   250041   197076   \n",
       "Mendoza                                              758331   713021   581628   \n",
       "Misiones                                             706362   733164   603281   \n",
       "Neuquen                                              112807    90463    75027   \n",
       "Rio Negro                                            214944   190409   146137   \n",
       "Salta                                                710418   760362   627277   \n",
       "San Juan                                             387074   388433   325490   \n",
       "San Luis                                             258240   270744   233134   \n",
       "Santa Cruz                                            39478    34130    34129   \n",
       "Santa Fe                                            1226772  1093073   874683   \n",
       "Santiago del Estero                                  739376   788072   629540   \n",
       "Tierra del Fuego, Antártida e Islas del Atlanti...    34135    25992    27144   \n",
       "Tucuman                                             1159370  1253792  1023809   \n",
       "\n",
       "año                                                    2009     2010     2011  \\\n",
       "provincia_desc                                                                  \n",
       "Buenos Aires                                        3300817  3717661  3784732   \n",
       "Catamarca                                            291937   339405   347491   \n",
       "Chaco                                                932141  1075859  1048549   \n",
       "Chubut                                               210812   252109   241036   \n",
       "Ciudad Autonoma de Buenos Aires                      196429   198120   193631   \n",
       "Cordoba                                             1334520  1534511  1537610   \n",
       "Corrientes                                           649784   784755   779029   \n",
       "Entre Rios                                           630037   775335   795493   \n",
       "Formosa                                              444023   520811   503810   \n",
       "Jujuy                                                369814   439731   473069   \n",
       "La Pampa                                              89395   109770   140656   \n",
       "La Rioja                                             212614   248025   221858   \n",
       "Mendoza                                              639841   666727   708735   \n",
       "Misiones                                             765336   804002   760353   \n",
       "Neuquen                                               90663   137824   138340   \n",
       "Rio Negro                                            149059   178220   161012   \n",
       "Salta                                                680980   763647   714824   \n",
       "San Juan                                             408932   387965   377703   \n",
       "San Luis                                             267765   236281   225549   \n",
       "Santa Cruz                                            37525    47519    56846   \n",
       "Santa Fe                                             985606  1101349  1229739   \n",
       "Santiago del Estero                                  828425  1016053   937358   \n",
       "Tierra del Fuego, Antártida e Islas del Atlanti...    36999    43133    42020   \n",
       "Tucuman                                             1150297  1430247  1442128   \n",
       "\n",
       "año                                                    2012     2013     2014  \\\n",
       "provincia_desc                                                                  \n",
       "Buenos Aires                                        4217160  4061801  4082578   \n",
       "Catamarca                                            398695   425996   488126   \n",
       "Chaco                                               1036246  1041089  1055850   \n",
       "Chubut                                               249670   260098   243841   \n",
       "Ciudad Autonoma de Buenos Aires                      205732   192521   180806   \n",
       "Cordoba                                             1626284  1688409  1713857   \n",
       "Corrientes                                           828853   816393   849594   \n",
       "Entre Rios                                           814292   829542   818288   \n",
       "Formosa                                              536349   514674   565384   \n",
       "Jujuy                                                507353   497031   498859   \n",
       "La Pampa                                             131178   136041   154861   \n",
       "La Rioja                                             282247   285079   314045   \n",
       "Mendoza                                              745837   742326   805371   \n",
       "Misiones                                             780589   783468   756128   \n",
       "Neuquen                                              183981   181165   175936   \n",
       "Rio Negro                                            183905   196830   206468   \n",
       "Salta                                                786142   792792   813873   \n",
       "San Juan                                             434191   432358   443592   \n",
       "San Luis                                             249614   275454   306713   \n",
       "Santa Cruz                                            60134    59924    65607   \n",
       "Santa Fe                                            1237316  1242513  1290821   \n",
       "Santiago del Estero                                 1000002  1040185  1072222   \n",
       "Tierra del Fuego, Antártida e Islas del Atlanti...    41199    32963    34869   \n",
       "Tucuman                                             1955475  1626164  1525842   \n",
       "\n",
       "año                                                    2015     2016     2017  \n",
       "provincia_desc                                                                 \n",
       "Buenos Aires                                        4090324  3761718  3730091  \n",
       "Catamarca                                            478093   408245   430448  \n",
       "Chaco                                               1129330  1046066  1043477  \n",
       "Chubut                                               235316   230398   227164  \n",
       "Ciudad Autonoma de Buenos Aires                      168615   164264   172628  \n",
       "Cordoba                                             1760988  1506135  1576309  \n",
       "Corrientes                                           874604   821064   827584  \n",
       "Entre Rios                                           838640   755752   775809  \n",
       "Formosa                                              550101   473064   491679  \n",
       "Jujuy                                                568219   530089   517998  \n",
       "La Pampa                                             192051   168741   203271  \n",
       "La Rioja                                             300870   270757   274590  \n",
       "Mendoza                                              879381   752409   765458  \n",
       "Misiones                                             766928   702026   691266  \n",
       "Neuquen                                              189762   175493   174227  \n",
       "Rio Negro                                            211824   181898   173891  \n",
       "Salta                                                856862   787999   763591  \n",
       "San Juan                                             480221   554349   583754  \n",
       "San Luis                                             326806   285132   307816  \n",
       "Santa Cruz                                            64888    43234    49205  \n",
       "Santa Fe                                            1379683  1214518  1249618  \n",
       "Santiago del Estero                                 1079910   915134   950687  \n",
       "Tierra del Fuego, Antártida e Islas del Atlanti...    40810    39831    41757  \n",
       "Tucuman                                             1411688  1192842  1225501  "
      ]
     },
     "execution_count": 231,
     "metadata": {},
     "output_type": "execute_result"
    }
   ],
   "source": [
    "df.pivot_table(index='provincia_desc',\n",
    "               columns = 'año',\n",
    "               values='recetas_confeccionadas_cantidad'\n",
    "              )"
   ]
  },
  {
   "cell_type": "markdown",
   "metadata": {},
   "source": [
    "Si bien la información esta un poco más ordenada, resulta difícil procesar tanta información. Vamos a graficarla para ver que podemos observar"
   ]
  },
  {
   "cell_type": "code",
   "execution_count": 216,
   "metadata": {
    "colab": {
     "base_uri": "https://localhost:8080/",
     "height": 0
    },
    "colab_type": "code",
    "id": "uiIJD7aOl97b",
    "outputId": "b3ba2a26-a0b4-4b3a-bf5e-8ae9842cb74e"
   },
   "outputs": [
    {
     "data": {
      "text/plain": [
       "[<matplotlib.lines.Line2D at 0x1c616735f48>]"
      ]
     },
     "execution_count": 216,
     "metadata": {},
     "output_type": "execute_result"
    },
    {
     "data": {
      "image/png": "[encoded data removed]",
      "text/plain": [
       "<Figure size 432x288 with 1 Axes>"
      ]
     },
     "metadata": {
      "needs_background": "light"
     },
     "output_type": "display_data"
    }
   ],
   "source": [
    "import matplotlib.pyplot as plt  # Importamos la libreria\n",
    "plt.plot(df.recetas_confeccionadas_cantidad) # Vamos a usar un comando super simple para tener una rapida idea."
   ]
  },
  {
   "cell_type": "markdown",
   "metadata": {
    "colab_type": "text",
    "id": "ejPwQdaPwIXl"
   },
   "source": [
    "Evidentemente tenemos diferencias notables dependiendo de algun factor. Dado que sabemos algo de nuestro dataset podemos pensar que esta diferencia se debe a las provincias, al año o a una interaccion entre ambas.\n",
    "\n",
    "Nos gustaria entonces observar como se comportan nuestros datos \"agrupando\" nuestros datos alrededor una variable. Calculaemos rapidamente algunos estadististicos  descriptivos para cada provincia. Para eso usaremos la funcion `groupby`."
   ]
  },
  {
   "cell_type": "code",
   "execution_count": 232,
   "metadata": {
    "colab": {
     "base_uri": "https://localhost:8080/",
     "height": 0
    },
    "colab_type": "code",
    "id": "3nUh8CCAs4-B",
    "outputId": "46c6485c-7bfb-481b-e633-aaf17d2e7f58"
   },
   "outputs": [
    {
     "data": {
      "text/html": [
       "<div>\n",
       "<style scoped>\n",
       "    .dataframe tbody tr th:only-of-type {\n",
       "        vertical-align: middle;\n",
       "    }\n",
       "\n",
       "    .dataframe tbody tr th {\n",
       "        vertical-align: top;\n",
       "    }\n",
       "\n",
       "    .dataframe thead th {\n",
       "        text-align: right;\n",
       "    }\n",
       "</style>\n",
       "<table border=\"1\" class=\"dataframe\">\n",
       "  <thead>\n",
       "    <tr style=\"text-align: right;\">\n",
       "      <th></th>\n",
       "      <th>count</th>\n",
       "      <th>mean</th>\n",
       "      <th>std</th>\n",
       "      <th>min</th>\n",
       "      <th>25%</th>\n",
       "      <th>50%</th>\n",
       "      <th>75%</th>\n",
       "      <th>max</th>\n",
       "    </tr>\n",
       "    <tr>\n",
       "      <th>provincia_desc</th>\n",
       "      <th></th>\n",
       "      <th></th>\n",
       "      <th></th>\n",
       "      <th></th>\n",
       "      <th></th>\n",
       "      <th></th>\n",
       "      <th></th>\n",
       "      <th></th>\n",
       "    </tr>\n",
       "  </thead>\n",
       "  <tbody>\n",
       "    <tr>\n",
       "      <td>Buenos Aires</td>\n",
       "      <td>15.00</td>\n",
       "      <td>3769243.93</td>\n",
       "      <td>378413.52</td>\n",
       "      <td>2932939.00</td>\n",
       "      <td>3723876.00</td>\n",
       "      <td>3784732.00</td>\n",
       "      <td>4072189.50</td>\n",
       "      <td>4217160.00</td>\n",
       "    </tr>\n",
       "    <tr>\n",
       "      <td>Catamarca</td>\n",
       "      <td>15.00</td>\n",
       "      <td>345450.60</td>\n",
       "      <td>93120.31</td>\n",
       "      <td>149120.00</td>\n",
       "      <td>285370.50</td>\n",
       "      <td>339405.00</td>\n",
       "      <td>417120.50</td>\n",
       "      <td>488126.00</td>\n",
       "    </tr>\n",
       "    <tr>\n",
       "      <td>Chaco</td>\n",
       "      <td>15.00</td>\n",
       "      <td>945832.47</td>\n",
       "      <td>152532.63</td>\n",
       "      <td>551906.00</td>\n",
       "      <td>852151.00</td>\n",
       "      <td>1036246.00</td>\n",
       "      <td>1047307.50</td>\n",
       "      <td>1129330.00</td>\n",
       "    </tr>\n",
       "    <tr>\n",
       "      <td>Chubut</td>\n",
       "      <td>15.00</td>\n",
       "      <td>208410.87</td>\n",
       "      <td>43739.90</td>\n",
       "      <td>113193.00</td>\n",
       "      <td>181026.00</td>\n",
       "      <td>227164.00</td>\n",
       "      <td>242438.50</td>\n",
       "      <td>260098.00</td>\n",
       "    </tr>\n",
       "    <tr>\n",
       "      <td>Ciudad Autonoma de Buenos Aires</td>\n",
       "      <td>15.00</td>\n",
       "      <td>194415.60</td>\n",
       "      <td>19849.32</td>\n",
       "      <td>164264.00</td>\n",
       "      <td>176717.00</td>\n",
       "      <td>196429.00</td>\n",
       "      <td>208176.50</td>\n",
       "      <td>226738.00</td>\n",
       "    </tr>\n",
       "    <tr>\n",
       "      <td>Cordoba</td>\n",
       "      <td>15.00</td>\n",
       "      <td>1490716.20</td>\n",
       "      <td>202092.20</td>\n",
       "      <td>977247.00</td>\n",
       "      <td>1451526.00</td>\n",
       "      <td>1534470.00</td>\n",
       "      <td>1601296.50</td>\n",
       "      <td>1760988.00</td>\n",
       "    </tr>\n",
       "    <tr>\n",
       "      <td>Corrientes</td>\n",
       "      <td>15.00</td>\n",
       "      <td>710015.33</td>\n",
       "      <td>146793.25</td>\n",
       "      <td>352165.00</td>\n",
       "      <td>634585.00</td>\n",
       "      <td>779029.00</td>\n",
       "      <td>824324.00</td>\n",
       "      <td>874604.00</td>\n",
       "    </tr>\n",
       "    <tr>\n",
       "      <td>Entre Rios</td>\n",
       "      <td>15.00</td>\n",
       "      <td>729564.53</td>\n",
       "      <td>102827.80</td>\n",
       "      <td>477469.00</td>\n",
       "      <td>691019.50</td>\n",
       "      <td>755752.00</td>\n",
       "      <td>804892.50</td>\n",
       "      <td>838640.00</td>\n",
       "    </tr>\n",
       "    <tr>\n",
       "      <td>Formosa</td>\n",
       "      <td>15.00</td>\n",
       "      <td>464820.47</td>\n",
       "      <td>84866.62</td>\n",
       "      <td>244323.00</td>\n",
       "      <td>437970.50</td>\n",
       "      <td>487998.00</td>\n",
       "      <td>517742.50</td>\n",
       "      <td>565384.00</td>\n",
       "    </tr>\n",
       "    <tr>\n",
       "      <td>Jujuy</td>\n",
       "      <td>15.00</td>\n",
       "      <td>436652.20</td>\n",
       "      <td>87334.23</td>\n",
       "      <td>246180.00</td>\n",
       "      <td>373841.00</td>\n",
       "      <td>439731.00</td>\n",
       "      <td>503106.00</td>\n",
       "      <td>568219.00</td>\n",
       "    </tr>\n",
       "    <tr>\n",
       "      <td>La Pampa</td>\n",
       "      <td>15.00</td>\n",
       "      <td>134538.93</td>\n",
       "      <td>34676.09</td>\n",
       "      <td>88443.00</td>\n",
       "      <td>115272.50</td>\n",
       "      <td>131178.00</td>\n",
       "      <td>147758.50</td>\n",
       "      <td>203271.00</td>\n",
       "    </tr>\n",
       "    <tr>\n",
       "      <td>La Rioja</td>\n",
       "      <td>15.00</td>\n",
       "      <td>257516.00</td>\n",
       "      <td>38825.43</td>\n",
       "      <td>179178.00</td>\n",
       "      <td>234941.50</td>\n",
       "      <td>274590.00</td>\n",
       "      <td>279386.00</td>\n",
       "      <td>314045.00</td>\n",
       "    </tr>\n",
       "    <tr>\n",
       "      <td>Mendoza</td>\n",
       "      <td>15.00</td>\n",
       "      <td>723247.53</td>\n",
       "      <td>79520.68</td>\n",
       "      <td>581158.00</td>\n",
       "      <td>687731.00</td>\n",
       "      <td>745837.00</td>\n",
       "      <td>758431.00</td>\n",
       "      <td>879381.00</td>\n",
       "    </tr>\n",
       "    <tr>\n",
       "      <td>Misiones</td>\n",
       "      <td>15.00</td>\n",
       "      <td>691671.73</td>\n",
       "      <td>124796.62</td>\n",
       "      <td>315086.00</td>\n",
       "      <td>662890.50</td>\n",
       "      <td>733164.00</td>\n",
       "      <td>766132.00</td>\n",
       "      <td>804002.00</td>\n",
       "    </tr>\n",
       "    <tr>\n",
       "      <td>Neuquen</td>\n",
       "      <td>15.00</td>\n",
       "      <td>139811.47</td>\n",
       "      <td>39409.06</td>\n",
       "      <td>75027.00</td>\n",
       "      <td>106709.50</td>\n",
       "      <td>138340.00</td>\n",
       "      <td>175714.50</td>\n",
       "      <td>189762.00</td>\n",
       "    </tr>\n",
       "    <tr>\n",
       "      <td>Rio Negro</td>\n",
       "      <td>15.00</td>\n",
       "      <td>179452.13</td>\n",
       "      <td>23454.45</td>\n",
       "      <td>136924.00</td>\n",
       "      <td>167451.50</td>\n",
       "      <td>180655.00</td>\n",
       "      <td>193619.50</td>\n",
       "      <td>214944.00</td>\n",
       "    </tr>\n",
       "    <tr>\n",
       "      <td>Salta</td>\n",
       "      <td>15.00</td>\n",
       "      <td>709774.33</td>\n",
       "      <td>125364.37</td>\n",
       "      <td>339249.00</td>\n",
       "      <td>662598.50</td>\n",
       "      <td>760362.00</td>\n",
       "      <td>787070.50</td>\n",
       "      <td>856862.00</td>\n",
       "    </tr>\n",
       "    <tr>\n",
       "      <td>San Juan</td>\n",
       "      <td>15.00</td>\n",
       "      <td>405769.47</td>\n",
       "      <td>90947.14</td>\n",
       "      <td>222140.00</td>\n",
       "      <td>358895.50</td>\n",
       "      <td>388433.00</td>\n",
       "      <td>438891.50</td>\n",
       "      <td>583754.00</td>\n",
       "    </tr>\n",
       "    <tr>\n",
       "      <td>San Luis</td>\n",
       "      <td>15.00</td>\n",
       "      <td>259730.93</td>\n",
       "      <td>38029.50</td>\n",
       "      <td>179084.00</td>\n",
       "      <td>234707.50</td>\n",
       "      <td>258240.00</td>\n",
       "      <td>280293.00</td>\n",
       "      <td>326806.00</td>\n",
       "    </tr>\n",
       "    <tr>\n",
       "      <td>Santa Cruz</td>\n",
       "      <td>15.00</td>\n",
       "      <td>44868.13</td>\n",
       "      <td>15306.78</td>\n",
       "      <td>8099.00</td>\n",
       "      <td>36152.00</td>\n",
       "      <td>43234.00</td>\n",
       "      <td>58385.00</td>\n",
       "      <td>65607.00</td>\n",
       "    </tr>\n",
       "    <tr>\n",
       "      <td>Santa Fe</td>\n",
       "      <td>15.00</td>\n",
       "      <td>1152043.73</td>\n",
       "      <td>148623.60</td>\n",
       "      <td>863259.00</td>\n",
       "      <td>1097211.00</td>\n",
       "      <td>1214518.00</td>\n",
       "      <td>1239914.50</td>\n",
       "      <td>1379683.00</td>\n",
       "    </tr>\n",
       "    <tr>\n",
       "      <td>Santiago del Estero</td>\n",
       "      <td>15.00</td>\n",
       "      <td>840951.93</td>\n",
       "      <td>209068.45</td>\n",
       "      <td>361786.00</td>\n",
       "      <td>690589.50</td>\n",
       "      <td>915134.00</td>\n",
       "      <td>1008027.50</td>\n",
       "      <td>1079910.00</td>\n",
       "    </tr>\n",
       "    <tr>\n",
       "      <td>Tierra del Fuego, Antártida e Islas del Atlantico Sur</td>\n",
       "      <td>15.00</td>\n",
       "      <td>35259.00</td>\n",
       "      <td>6079.34</td>\n",
       "      <td>25992.00</td>\n",
       "      <td>30843.50</td>\n",
       "      <td>34869.00</td>\n",
       "      <td>41004.50</td>\n",
       "      <td>43133.00</td>\n",
       "    </tr>\n",
       "    <tr>\n",
       "      <td>Tucuman</td>\n",
       "      <td>15.00</td>\n",
       "      <td>1281695.07</td>\n",
       "      <td>299750.15</td>\n",
       "      <td>677249.00</td>\n",
       "      <td>1113873.00</td>\n",
       "      <td>1225501.00</td>\n",
       "      <td>1436187.50</td>\n",
       "      <td>1955475.00</td>\n",
       "    </tr>\n",
       "  </tbody>\n",
       "</table>\n",
       "</div>"
      ],
      "text/plain": [
       "                                                    count       mean  \\\n",
       "provincia_desc                                                         \n",
       "Buenos Aires                                        15.00 3769243.93   \n",
       "Catamarca                                           15.00  345450.60   \n",
       "Chaco                                               15.00  945832.47   \n",
       "Chubut                                              15.00  208410.87   \n",
       "Ciudad Autonoma de Buenos Aires                     15.00  194415.60   \n",
       "Cordoba                                             15.00 1490716.20   \n",
       "Corrientes                                          15.00  710015.33   \n",
       "Entre Rios                                          15.00  729564.53   \n",
       "Formosa                                             15.00  464820.47   \n",
       "Jujuy                                               15.00  436652.20   \n",
       "La Pampa                                            15.00  134538.93   \n",
       "La Rioja                                            15.00  257516.00   \n",
       "Mendoza                                             15.00  723247.53   \n",
       "Misiones                                            15.00  691671.73   \n",
       "Neuquen                                             15.00  139811.47   \n",
       "Rio Negro                                           15.00  179452.13   \n",
       "Salta                                               15.00  709774.33   \n",
       "San Juan                                            15.00  405769.47   \n",
       "San Luis                                            15.00  259730.93   \n",
       "Santa Cruz                                          15.00   44868.13   \n",
       "Santa Fe                                            15.00 1152043.73   \n",
       "Santiago del Estero                                 15.00  840951.93   \n",
       "Tierra del Fuego, Antártida e Islas del Atlanti...  15.00   35259.00   \n",
       "Tucuman                                             15.00 1281695.07   \n",
       "\n",
       "                                                         std        min  \\\n",
       "provincia_desc                                                            \n",
       "Buenos Aires                                       378413.52 2932939.00   \n",
       "Catamarca                                           93120.31  149120.00   \n",
       "Chaco                                              152532.63  551906.00   \n",
       "Chubut                                              43739.90  113193.00   \n",
       "Ciudad Autonoma de Buenos Aires                     19849.32  164264.00   \n",
       "Cordoba                                            202092.20  977247.00   \n",
       "Corrientes                                         146793.25  352165.00   \n",
       "Entre Rios                                         102827.80  477469.00   \n",
       "Formosa                                             84866.62  244323.00   \n",
       "Jujuy                                               87334.23  246180.00   \n",
       "La Pampa                                            34676.09   88443.00   \n",
       "La Rioja                                            38825.43  179178.00   \n",
       "Mendoza                                             79520.68  581158.00   \n",
       "Misiones                                           124796.62  315086.00   \n",
       "Neuquen                                             39409.06   75027.00   \n",
       "Rio Negro                                           23454.45  136924.00   \n",
       "Salta                                              125364.37  339249.00   \n",
       "San Juan                                            90947.14  222140.00   \n",
       "San Luis                                            38029.50  179084.00   \n",
       "Santa Cruz                                          15306.78    8099.00   \n",
       "Santa Fe                                           148623.60  863259.00   \n",
       "Santiago del Estero                                209068.45  361786.00   \n",
       "Tierra del Fuego, Antártida e Islas del Atlanti...   6079.34   25992.00   \n",
       "Tucuman                                            299750.15  677249.00   \n",
       "\n",
       "                                                          25%        50%  \\\n",
       "provincia_desc                                                             \n",
       "Buenos Aires                                       3723876.00 3784732.00   \n",
       "Catamarca                                           285370.50  339405.00   \n",
       "Chaco                                               852151.00 1036246.00   \n",
       "Chubut                                              181026.00  227164.00   \n",
       "Ciudad Autonoma de Buenos Aires                     176717.00  196429.00   \n",
       "Cordoba                                            1451526.00 1534470.00   \n",
       "Corrientes                                          634585.00  779029.00   \n",
       "Entre Rios                                          691019.50  755752.00   \n",
       "Formosa                                             437970.50  487998.00   \n",
       "Jujuy                                               373841.00  439731.00   \n",
       "La Pampa                                            115272.50  131178.00   \n",
       "La Rioja                                            234941.50  274590.00   \n",
       "Mendoza                                             687731.00  745837.00   \n",
       "Misiones                                            662890.50  733164.00   \n",
       "Neuquen                                             106709.50  138340.00   \n",
       "Rio Negro                                           167451.50  180655.00   \n",
       "Salta                                               662598.50  760362.00   \n",
       "San Juan                                            358895.50  388433.00   \n",
       "San Luis                                            234707.50  258240.00   \n",
       "Santa Cruz                                           36152.00   43234.00   \n",
       "Santa Fe                                           1097211.00 1214518.00   \n",
       "Santiago del Estero                                 690589.50  915134.00   \n",
       "Tierra del Fuego, Antártida e Islas del Atlanti...   30843.50   34869.00   \n",
       "Tucuman                                            1113873.00 1225501.00   \n",
       "\n",
       "                                                          75%        max  \n",
       "provincia_desc                                                            \n",
       "Buenos Aires                                       4072189.50 4217160.00  \n",
       "Catamarca                                           417120.50  488126.00  \n",
       "Chaco                                              1047307.50 1129330.00  \n",
       "Chubut                                              242438.50  260098.00  \n",
       "Ciudad Autonoma de Buenos Aires                     208176.50  226738.00  \n",
       "Cordoba                                            1601296.50 1760988.00  \n",
       "Corrientes                                          824324.00  874604.00  \n",
       "Entre Rios                                          804892.50  838640.00  \n",
       "Formosa                                             517742.50  565384.00  \n",
       "Jujuy                                               503106.00  568219.00  \n",
       "La Pampa                                            147758.50  203271.00  \n",
       "La Rioja                                            279386.00  314045.00  \n",
       "Mendoza                                             758431.00  879381.00  \n",
       "Misiones                                            766132.00  804002.00  \n",
       "Neuquen                                             175714.50  189762.00  \n",
       "Rio Negro                                           193619.50  214944.00  \n",
       "Salta                                               787070.50  856862.00  \n",
       "San Juan                                            438891.50  583754.00  \n",
       "San Luis                                            280293.00  326806.00  \n",
       "Santa Cruz                                           58385.00   65607.00  \n",
       "Santa Fe                                           1239914.50 1379683.00  \n",
       "Santiago del Estero                                1008027.50 1079910.00  \n",
       "Tierra del Fuego, Antártida e Islas del Atlanti...   41004.50   43133.00  \n",
       "Tucuman                                            1436187.50 1955475.00  "
      ]
     },
     "execution_count": 232,
     "metadata": {},
     "output_type": "execute_result"
    }
   ],
   "source": [
    "df.groupby(by='provincia_desc')['recetas_confeccionadas_cantidad'].aggregate('describe')\n",
    "# Solo me interesan los datos agrupado de las recetas confeccionadas.\n",
    "# Si queres, podes probar que pasar si borras la seleccion (borra: ['recetas_confeccionadas_cantidad'])"
   ]
  },
  {
   "cell_type": "code",
   "execution_count": 233,
   "metadata": {
    "colab": {
     "base_uri": "https://localhost:8080/",
     "height": 824
    },
    "colab_type": "code",
    "id": "SvYQdP5ms40c",
    "outputId": "758b38e8-b5d8-441c-abb5-db18cba4d397"
   },
   "outputs": [
    {
     "data": {
      "text/html": [
       "<div>\n",
       "<style scoped>\n",
       "    .dataframe tbody tr th:only-of-type {\n",
       "        vertical-align: middle;\n",
       "    }\n",
       "\n",
       "    .dataframe tbody tr th {\n",
       "        vertical-align: top;\n",
       "    }\n",
       "\n",
       "    .dataframe thead th {\n",
       "        text-align: right;\n",
       "    }\n",
       "</style>\n",
       "<table border=\"1\" class=\"dataframe\">\n",
       "  <thead>\n",
       "    <tr style=\"text-align: right;\">\n",
       "      <th></th>\n",
       "      <th>count</th>\n",
       "      <th>mean</th>\n",
       "      <th>std</th>\n",
       "      <th>min</th>\n",
       "      <th>25%</th>\n",
       "      <th>50%</th>\n",
       "      <th>75%</th>\n",
       "      <th>max</th>\n",
       "    </tr>\n",
       "    <tr>\n",
       "      <th>provincia_desc</th>\n",
       "      <th></th>\n",
       "      <th></th>\n",
       "      <th></th>\n",
       "      <th></th>\n",
       "      <th></th>\n",
       "      <th></th>\n",
       "      <th></th>\n",
       "      <th></th>\n",
       "    </tr>\n",
       "  </thead>\n",
       "  <tbody>\n",
       "    <tr>\n",
       "      <td>Buenos Aires</td>\n",
       "      <td>15.00</td>\n",
       "      <td>3769243.93</td>\n",
       "      <td>378413.52</td>\n",
       "      <td>2932939.00</td>\n",
       "      <td>3723876.00</td>\n",
       "      <td>3784732.00</td>\n",
       "      <td>4072189.50</td>\n",
       "      <td>4217160.00</td>\n",
       "    </tr>\n",
       "    <tr>\n",
       "      <td>Cordoba</td>\n",
       "      <td>15.00</td>\n",
       "      <td>1490716.20</td>\n",
       "      <td>202092.20</td>\n",
       "      <td>977247.00</td>\n",
       "      <td>1451526.00</td>\n",
       "      <td>1534470.00</td>\n",
       "      <td>1601296.50</td>\n",
       "      <td>1760988.00</td>\n",
       "    </tr>\n",
       "    <tr>\n",
       "      <td>Tucuman</td>\n",
       "      <td>15.00</td>\n",
       "      <td>1281695.07</td>\n",
       "      <td>299750.15</td>\n",
       "      <td>677249.00</td>\n",
       "      <td>1113873.00</td>\n",
       "      <td>1225501.00</td>\n",
       "      <td>1436187.50</td>\n",
       "      <td>1955475.00</td>\n",
       "    </tr>\n",
       "    <tr>\n",
       "      <td>Santa Fe</td>\n",
       "      <td>15.00</td>\n",
       "      <td>1152043.73</td>\n",
       "      <td>148623.60</td>\n",
       "      <td>863259.00</td>\n",
       "      <td>1097211.00</td>\n",
       "      <td>1214518.00</td>\n",
       "      <td>1239914.50</td>\n",
       "      <td>1379683.00</td>\n",
       "    </tr>\n",
       "    <tr>\n",
       "      <td>Chaco</td>\n",
       "      <td>15.00</td>\n",
       "      <td>945832.47</td>\n",
       "      <td>152532.63</td>\n",
       "      <td>551906.00</td>\n",
       "      <td>852151.00</td>\n",
       "      <td>1036246.00</td>\n",
       "      <td>1047307.50</td>\n",
       "      <td>1129330.00</td>\n",
       "    </tr>\n",
       "    <tr>\n",
       "      <td>Santiago del Estero</td>\n",
       "      <td>15.00</td>\n",
       "      <td>840951.93</td>\n",
       "      <td>209068.45</td>\n",
       "      <td>361786.00</td>\n",
       "      <td>690589.50</td>\n",
       "      <td>915134.00</td>\n",
       "      <td>1008027.50</td>\n",
       "      <td>1079910.00</td>\n",
       "    </tr>\n",
       "    <tr>\n",
       "      <td>Entre Rios</td>\n",
       "      <td>15.00</td>\n",
       "      <td>729564.53</td>\n",
       "      <td>102827.80</td>\n",
       "      <td>477469.00</td>\n",
       "      <td>691019.50</td>\n",
       "      <td>755752.00</td>\n",
       "      <td>804892.50</td>\n",
       "      <td>838640.00</td>\n",
       "    </tr>\n",
       "    <tr>\n",
       "      <td>Mendoza</td>\n",
       "      <td>15.00</td>\n",
       "      <td>723247.53</td>\n",
       "      <td>79520.68</td>\n",
       "      <td>581158.00</td>\n",
       "      <td>687731.00</td>\n",
       "      <td>745837.00</td>\n",
       "      <td>758431.00</td>\n",
       "      <td>879381.00</td>\n",
       "    </tr>\n",
       "    <tr>\n",
       "      <td>Corrientes</td>\n",
       "      <td>15.00</td>\n",
       "      <td>710015.33</td>\n",
       "      <td>146793.25</td>\n",
       "      <td>352165.00</td>\n",
       "      <td>634585.00</td>\n",
       "      <td>779029.00</td>\n",
       "      <td>824324.00</td>\n",
       "      <td>874604.00</td>\n",
       "    </tr>\n",
       "    <tr>\n",
       "      <td>Salta</td>\n",
       "      <td>15.00</td>\n",
       "      <td>709774.33</td>\n",
       "      <td>125364.37</td>\n",
       "      <td>339249.00</td>\n",
       "      <td>662598.50</td>\n",
       "      <td>760362.00</td>\n",
       "      <td>787070.50</td>\n",
       "      <td>856862.00</td>\n",
       "    </tr>\n",
       "    <tr>\n",
       "      <td>Misiones</td>\n",
       "      <td>15.00</td>\n",
       "      <td>691671.73</td>\n",
       "      <td>124796.62</td>\n",
       "      <td>315086.00</td>\n",
       "      <td>662890.50</td>\n",
       "      <td>733164.00</td>\n",
       "      <td>766132.00</td>\n",
       "      <td>804002.00</td>\n",
       "    </tr>\n",
       "    <tr>\n",
       "      <td>Formosa</td>\n",
       "      <td>15.00</td>\n",
       "      <td>464820.47</td>\n",
       "      <td>84866.62</td>\n",
       "      <td>244323.00</td>\n",
       "      <td>437970.50</td>\n",
       "      <td>487998.00</td>\n",
       "      <td>517742.50</td>\n",
       "      <td>565384.00</td>\n",
       "    </tr>\n",
       "    <tr>\n",
       "      <td>Jujuy</td>\n",
       "      <td>15.00</td>\n",
       "      <td>436652.20</td>\n",
       "      <td>87334.23</td>\n",
       "      <td>246180.00</td>\n",
       "      <td>373841.00</td>\n",
       "      <td>439731.00</td>\n",
       "      <td>503106.00</td>\n",
       "      <td>568219.00</td>\n",
       "    </tr>\n",
       "    <tr>\n",
       "      <td>San Juan</td>\n",
       "      <td>15.00</td>\n",
       "      <td>405769.47</td>\n",
       "      <td>90947.14</td>\n",
       "      <td>222140.00</td>\n",
       "      <td>358895.50</td>\n",
       "      <td>388433.00</td>\n",
       "      <td>438891.50</td>\n",
       "      <td>583754.00</td>\n",
       "    </tr>\n",
       "    <tr>\n",
       "      <td>Catamarca</td>\n",
       "      <td>15.00</td>\n",
       "      <td>345450.60</td>\n",
       "      <td>93120.31</td>\n",
       "      <td>149120.00</td>\n",
       "      <td>285370.50</td>\n",
       "      <td>339405.00</td>\n",
       "      <td>417120.50</td>\n",
       "      <td>488126.00</td>\n",
       "    </tr>\n",
       "    <tr>\n",
       "      <td>San Luis</td>\n",
       "      <td>15.00</td>\n",
       "      <td>259730.93</td>\n",
       "      <td>38029.50</td>\n",
       "      <td>179084.00</td>\n",
       "      <td>234707.50</td>\n",
       "      <td>258240.00</td>\n",
       "      <td>280293.00</td>\n",
       "      <td>326806.00</td>\n",
       "    </tr>\n",
       "    <tr>\n",
       "      <td>La Rioja</td>\n",
       "      <td>15.00</td>\n",
       "      <td>257516.00</td>\n",
       "      <td>38825.43</td>\n",
       "      <td>179178.00</td>\n",
       "      <td>234941.50</td>\n",
       "      <td>274590.00</td>\n",
       "      <td>279386.00</td>\n",
       "      <td>314045.00</td>\n",
       "    </tr>\n",
       "    <tr>\n",
       "      <td>Chubut</td>\n",
       "      <td>15.00</td>\n",
       "      <td>208410.87</td>\n",
       "      <td>43739.90</td>\n",
       "      <td>113193.00</td>\n",
       "      <td>181026.00</td>\n",
       "      <td>227164.00</td>\n",
       "      <td>242438.50</td>\n",
       "      <td>260098.00</td>\n",
       "    </tr>\n",
       "    <tr>\n",
       "      <td>Ciudad Autonoma de Buenos Aires</td>\n",
       "      <td>15.00</td>\n",
       "      <td>194415.60</td>\n",
       "      <td>19849.32</td>\n",
       "      <td>164264.00</td>\n",
       "      <td>176717.00</td>\n",
       "      <td>196429.00</td>\n",
       "      <td>208176.50</td>\n",
       "      <td>226738.00</td>\n",
       "    </tr>\n",
       "    <tr>\n",
       "      <td>Rio Negro</td>\n",
       "      <td>15.00</td>\n",
       "      <td>179452.13</td>\n",
       "      <td>23454.45</td>\n",
       "      <td>136924.00</td>\n",
       "      <td>167451.50</td>\n",
       "      <td>180655.00</td>\n",
       "      <td>193619.50</td>\n",
       "      <td>214944.00</td>\n",
       "    </tr>\n",
       "    <tr>\n",
       "      <td>Neuquen</td>\n",
       "      <td>15.00</td>\n",
       "      <td>139811.47</td>\n",
       "      <td>39409.06</td>\n",
       "      <td>75027.00</td>\n",
       "      <td>106709.50</td>\n",
       "      <td>138340.00</td>\n",
       "      <td>175714.50</td>\n",
       "      <td>189762.00</td>\n",
       "    </tr>\n",
       "    <tr>\n",
       "      <td>La Pampa</td>\n",
       "      <td>15.00</td>\n",
       "      <td>134538.93</td>\n",
       "      <td>34676.09</td>\n",
       "      <td>88443.00</td>\n",
       "      <td>115272.50</td>\n",
       "      <td>131178.00</td>\n",
       "      <td>147758.50</td>\n",
       "      <td>203271.00</td>\n",
       "    </tr>\n",
       "    <tr>\n",
       "      <td>Santa Cruz</td>\n",
       "      <td>15.00</td>\n",
       "      <td>44868.13</td>\n",
       "      <td>15306.78</td>\n",
       "      <td>8099.00</td>\n",
       "      <td>36152.00</td>\n",
       "      <td>43234.00</td>\n",
       "      <td>58385.00</td>\n",
       "      <td>65607.00</td>\n",
       "    </tr>\n",
       "    <tr>\n",
       "      <td>Tierra del Fuego, Antártida e Islas del Atlantico Sur</td>\n",
       "      <td>15.00</td>\n",
       "      <td>35259.00</td>\n",
       "      <td>6079.34</td>\n",
       "      <td>25992.00</td>\n",
       "      <td>30843.50</td>\n",
       "      <td>34869.00</td>\n",
       "      <td>41004.50</td>\n",
       "      <td>43133.00</td>\n",
       "    </tr>\n",
       "  </tbody>\n",
       "</table>\n",
       "</div>"
      ],
      "text/plain": [
       "                                                    count       mean  \\\n",
       "provincia_desc                                                         \n",
       "Buenos Aires                                        15.00 3769243.93   \n",
       "Cordoba                                             15.00 1490716.20   \n",
       "Tucuman                                             15.00 1281695.07   \n",
       "Santa Fe                                            15.00 1152043.73   \n",
       "Chaco                                               15.00  945832.47   \n",
       "Santiago del Estero                                 15.00  840951.93   \n",
       "Entre Rios                                          15.00  729564.53   \n",
       "Mendoza                                             15.00  723247.53   \n",
       "Corrientes                                          15.00  710015.33   \n",
       "Salta                                               15.00  709774.33   \n",
       "Misiones                                            15.00  691671.73   \n",
       "Formosa                                             15.00  464820.47   \n",
       "Jujuy                                               15.00  436652.20   \n",
       "San Juan                                            15.00  405769.47   \n",
       "Catamarca                                           15.00  345450.60   \n",
       "San Luis                                            15.00  259730.93   \n",
       "La Rioja                                            15.00  257516.00   \n",
       "Chubut                                              15.00  208410.87   \n",
       "Ciudad Autonoma de Buenos Aires                     15.00  194415.60   \n",
       "Rio Negro                                           15.00  179452.13   \n",
       "Neuquen                                             15.00  139811.47   \n",
       "La Pampa                                            15.00  134538.93   \n",
       "Santa Cruz                                          15.00   44868.13   \n",
       "Tierra del Fuego, Antártida e Islas del Atlanti...  15.00   35259.00   \n",
       "\n",
       "                                                         std        min  \\\n",
       "provincia_desc                                                            \n",
       "Buenos Aires                                       378413.52 2932939.00   \n",
       "Cordoba                                            202092.20  977247.00   \n",
       "Tucuman                                            299750.15  677249.00   \n",
       "Santa Fe                                           148623.60  863259.00   \n",
       "Chaco                                              152532.63  551906.00   \n",
       "Santiago del Estero                                209068.45  361786.00   \n",
       "Entre Rios                                         102827.80  477469.00   \n",
       "Mendoza                                             79520.68  581158.00   \n",
       "Corrientes                                         146793.25  352165.00   \n",
       "Salta                                              125364.37  339249.00   \n",
       "Misiones                                           124796.62  315086.00   \n",
       "Formosa                                             84866.62  244323.00   \n",
       "Jujuy                                               87334.23  246180.00   \n",
       "San Juan                                            90947.14  222140.00   \n",
       "Catamarca                                           93120.31  149120.00   \n",
       "San Luis                                            38029.50  179084.00   \n",
       "La Rioja                                            38825.43  179178.00   \n",
       "Chubut                                              43739.90  113193.00   \n",
       "Ciudad Autonoma de Buenos Aires                     19849.32  164264.00   \n",
       "Rio Negro                                           23454.45  136924.00   \n",
       "Neuquen                                             39409.06   75027.00   \n",
       "La Pampa                                            34676.09   88443.00   \n",
       "Santa Cruz                                          15306.78    8099.00   \n",
       "Tierra del Fuego, Antártida e Islas del Atlanti...   6079.34   25992.00   \n",
       "\n",
       "                                                          25%        50%  \\\n",
       "provincia_desc                                                             \n",
       "Buenos Aires                                       3723876.00 3784732.00   \n",
       "Cordoba                                            1451526.00 1534470.00   \n",
       "Tucuman                                            1113873.00 1225501.00   \n",
       "Santa Fe                                           1097211.00 1214518.00   \n",
       "Chaco                                               852151.00 1036246.00   \n",
       "Santiago del Estero                                 690589.50  915134.00   \n",
       "Entre Rios                                          691019.50  755752.00   \n",
       "Mendoza                                             687731.00  745837.00   \n",
       "Corrientes                                          634585.00  779029.00   \n",
       "Salta                                               662598.50  760362.00   \n",
       "Misiones                                            662890.50  733164.00   \n",
       "Formosa                                             437970.50  487998.00   \n",
       "Jujuy                                               373841.00  439731.00   \n",
       "San Juan                                            358895.50  388433.00   \n",
       "Catamarca                                           285370.50  339405.00   \n",
       "San Luis                                            234707.50  258240.00   \n",
       "La Rioja                                            234941.50  274590.00   \n",
       "Chubut                                              181026.00  227164.00   \n",
       "Ciudad Autonoma de Buenos Aires                     176717.00  196429.00   \n",
       "Rio Negro                                           167451.50  180655.00   \n",
       "Neuquen                                             106709.50  138340.00   \n",
       "La Pampa                                            115272.50  131178.00   \n",
       "Santa Cruz                                           36152.00   43234.00   \n",
       "Tierra del Fuego, Antártida e Islas del Atlanti...   30843.50   34869.00   \n",
       "\n",
       "                                                          75%        max  \n",
       "provincia_desc                                                            \n",
       "Buenos Aires                                       4072189.50 4217160.00  \n",
       "Cordoba                                            1601296.50 1760988.00  \n",
       "Tucuman                                            1436187.50 1955475.00  \n",
       "Santa Fe                                           1239914.50 1379683.00  \n",
       "Chaco                                              1047307.50 1129330.00  \n",
       "Santiago del Estero                                1008027.50 1079910.00  \n",
       "Entre Rios                                          804892.50  838640.00  \n",
       "Mendoza                                             758431.00  879381.00  \n",
       "Corrientes                                          824324.00  874604.00  \n",
       "Salta                                               787070.50  856862.00  \n",
       "Misiones                                            766132.00  804002.00  \n",
       "Formosa                                             517742.50  565384.00  \n",
       "Jujuy                                               503106.00  568219.00  \n",
       "San Juan                                            438891.50  583754.00  \n",
       "Catamarca                                           417120.50  488126.00  \n",
       "San Luis                                            280293.00  326806.00  \n",
       "La Rioja                                            279386.00  314045.00  \n",
       "Chubut                                              242438.50  260098.00  \n",
       "Ciudad Autonoma de Buenos Aires                     208176.50  226738.00  \n",
       "Rio Negro                                           193619.50  214944.00  \n",
       "Neuquen                                             175714.50  189762.00  \n",
       "La Pampa                                            147758.50  203271.00  \n",
       "Santa Cruz                                           58385.00   65607.00  \n",
       "Tierra del Fuego, Antártida e Islas del Atlanti...   41004.50   43133.00  "
      ]
     },
     "execution_count": 233,
     "metadata": {},
     "output_type": "execute_result"
    }
   ],
   "source": [
    "# Ordenemos las filas segun el mayor promedio de recetas confeccionadas\n",
    "df.groupby('provincia_desc')['recetas_confeccionadas_cantidad'].aggregate('describe').sort_values(by='mean', ascending = False)"
   ]
  },
  {
   "cell_type": "markdown",
   "metadata": {
    "colab_type": "text",
    "id": "xWbXOxH23ZqI"
   },
   "source": [
    "Como insight rapido, podemos observar que Buenos Aires es la provincia con mayor cantidad de recetas confeccionadas. \n",
    "\n",
    "Si bien sabemos que BS AS es la provincia con mayor poblacion al menos sabemos que nuestros datos son coherentes. Mas sin embargo, observamos que Tucuman aparece inusualmente arriba comparado con su poblacion. Indagaremos acerca de esto mas adelante."
   ]
  },
  {
   "cell_type": "markdown",
   "metadata": {
    "colab_type": "text",
    "id": "VRqCInWL34bW"
   },
   "source": [
    "**Observemos qué pasa en la dimensión temporal**<br>\n",
    "Las recetas confeccionadas aumentaron o disminuyeron a lo largo del tiempo? "
   ]
  },
  {
   "cell_type": "code",
   "execution_count": 287,
   "metadata": {
    "colab": {
     "base_uri": "https://localhost:8080/",
     "height": 284
    },
    "colab_type": "code",
    "id": "3n53toK0s4vt",
    "outputId": "032f10eb-c53a-4c92-9a6e-01565e1a2e24"
   },
   "outputs": [
    {
     "data": {
      "text/plain": [
       "[<matplotlib.lines.Line2D at 0x1c622684988>]"
      ]
     },
     "execution_count": 287,
     "metadata": {},
     "output_type": "execute_result"
    },
    {
     "data": {
      "image/png": "[encoded data removed]",
      "text/plain": [
       "<Figure size 432x288 with 1 Axes>"
      ]
     },
     "metadata": {
      "needs_background": "light"
     },
     "output_type": "display_data"
    }
   ],
   "source": [
    " # Primero empezaremos con el promedio Nacional. Para eso agruparemos nuestros valores por año y observaremos la media\n",
    "plt.plot(df.groupby('año')['recetas_confeccionadas_cantidad'].aggregate('mean'),marker = '*')"
   ]
  },
  {
   "cell_type": "markdown",
   "metadata": {
    "colab_type": "text",
    "id": "uoVTMfeXAXvW"
   },
   "source": [
    "El gráfico nos muestra que la cantidad de recetas confeccionadas aumentaron desde el 2003 al 2017. \n",
    "\n",
    "Se puede observar un aumento sostenido durante el periodo 2003-2015 y una reduccion hacia el periodo 2016-2017. \n",
    "\n",
    "Es interesante el brusco descenso en el año 2008. Sin contexto es dificil explicar este decrecimiento. Podría deberse a la crisis económica del 2008, a la aplicacion de una politica publica, etc. "
   ]
  },
  {
   "cell_type": "code",
   "execution_count": null,
   "metadata": {
    "colab": {
     "base_uri": "https://localhost:8080/",
     "height": 514
    },
    "colab_type": "code",
    "id": "PMA6LX0b4iTi",
    "outputId": "2380d428-66d2-46c5-b021-bc5ef4b4ac3c"
   },
   "outputs": [],
   "source": [
    "# Si quisieramos podriamos observar caso por caso\n",
    "df.loc[df['provincia_desc'] == 'Buenos Aires'] # Pandas nos permite filtrar una provincia especifica "
   ]
  },
  {
   "cell_type": "markdown",
   "metadata": {
    "colab_type": "text",
    "id": "8JhK9XmF85Qs"
   },
   "source": [
    "Ir caso por caso nos llevaria mucho tiempo y es realmente dificil retener toda la información en nuestra mente. \n",
    "\n",
    "Vamos a usar nuestro conocimiento de bucles y vamos a plotear una linea para cada provincia y otra linea mostrando los valores para la media por año. Esto nos dara mayor informacion sobre nuetros datos."
   ]
  },
  {
   "cell_type": "code",
   "execution_count": null,
   "metadata": {
    "colab": {
     "base_uri": "https://localhost:8080/",
     "height": 293
    },
    "colab_type": "code",
    "id": "mSsk2iJe4iHX",
    "outputId": "6775cba4-fa54-490d-8f64-a2742e188438"
   },
   "outputs": [],
   "source": [
    "for provincia in df.provincia_desc.unique():\n",
    "    plt.plot(df.loc[df['provincia_desc'] == provincia]['año'],\n",
    "             df.loc[df['provincia_desc'] == provincia]['recetas_confeccionadas_cantidad'])\n",
    "    \n",
    "plt.plot(df.groupby('año')['recetas_confeccionadas_cantidad'].aggregate('mean'),marker = '*', label = 'Promedio')\n",
    "plt.legend(loc = 'upper right')"
   ]
  },
  {
   "cell_type": "markdown",
   "metadata": {
    "colab_type": "text",
    "id": "gDRe_KsxCXV3"
   },
   "source": [
    "Evidentemente tenemos una gran diferencia producto de la cantidad de poblacion de cada provincia. \n",
    "\n",
    "Si quisieramos evaluar si alguna provincia tiene un mayor o menos consumo que el promedio (y por ende quizas un escenario util para aplicar alguna politica publica) debemos normalizar nuestra variable de intereses en concordancia con la poblacion de cada provincia."
   ]
  },
  {
   "cell_type": "markdown",
   "metadata": {
    "colab_type": "text",
    "id": "gI1ybEEnHE-e"
   },
   "source": [
    "Para hacer eso debemos saber cuanta gente hay en cada provincia. A continuacion veremos: \n",
    "\n",
    "- Como Pandas puede leer archivos de excel\n",
    "- Como indexar las filas y columnas que queremos\n",
    "- Como aplicar funciones a nuestro dataframe\n",
    "- Como realizar un merge/join con dos datasets\n",
    "\n",
    "**Empecemos!**"
   ]
  },
  {
   "cell_type": "code",
   "execution_count": null,
   "metadata": {
    "colab": {},
    "colab_type": "code",
    "id": "-KC-KUQhXx5L"
   },
   "outputs": [],
   "source": [
    "# Vamos a descargar un dataset con informacion de la cantidad de poblacion por provincia\n",
    "url_poblacion = \"https://www.indec.gob.ar/ftp/censos/2010/CuadrosDefinitivos/Total_pais/P1-P_Total_pais.xls\""
   ]
  },
  {
   "cell_type": "code",
   "execution_count": null,
   "metadata": {
    "colab": {},
    "colab_type": "code",
    "id": "atWj1j46fjqA"
   },
   "outputs": [],
   "source": [
    "poblacion = pd.read_excel(url_poblacion) # Pandas puede leer multiples formatos"
   ]
  },
  {
   "cell_type": "code",
   "execution_count": null,
   "metadata": {
    "colab": {
     "base_uri": "https://localhost:8080/",
     "height": 0
    },
    "colab_type": "code",
    "id": "caR3I1WYfpB4",
    "outputId": "16a47b8b-b25d-4bcd-f72a-3ffb40a834af"
   },
   "outputs": [],
   "source": [
    "poblacion.head(10)"
   ]
  },
  {
   "cell_type": "markdown",
   "metadata": {
    "colab_type": "text",
    "id": "w2g-WSE9DV9E"
   },
   "source": [
    "Observamos que el dataset presenta un formato confuso. Vamos a ordenarlo para poder continuar trabajando."
   ]
  },
  {
   "cell_type": "code",
   "execution_count": null,
   "metadata": {
    "colab": {},
    "colab_type": "code",
    "id": "o8zH7OdCf-Jy"
   },
   "outputs": [],
   "source": [
    "pob_clean = poblacion.iloc[5:33,:3].copy() # seleccciono las filas desde la 5 a  la 33 y desde la primer columna hasta la tercera "
   ]
  },
  {
   "cell_type": "code",
   "execution_count": null,
   "metadata": {
    "colab": {},
    "colab_type": "code",
    "id": "A9JLrNRNgNqp"
   },
   "outputs": [],
   "source": [
    "pob_clean.columns = ['Provincia','2001','2010'] # Le asigno nuevos nombres a mis columnas"
   ]
  },
  {
   "cell_type": "code",
   "execution_count": null,
   "metadata": {
    "colab": {},
    "colab_type": "code",
    "id": "UUTmiVB2gz81"
   },
   "outputs": [],
   "source": [
    "pob_clean.dropna(inplace=True) # Elimino las filas con valores nulos ( ej fila 6)"
   ]
  },
  {
   "cell_type": "code",
   "execution_count": null,
   "metadata": {
    "colab": {
     "base_uri": "https://localhost:8080/",
     "height": 299
    },
    "colab_type": "code",
    "id": "w53m_4BAg3Ir",
    "outputId": "a93416cd-d01c-4d19-b4a2-2d4044a0cfa8"
   },
   "outputs": [],
   "source": [
    "import unidecode # vamos a importar una libreria que nos permitira quitar las tildes de nuestra columna 'PROVINCIA'"
   ]
  },
  {
   "cell_type": "markdown",
   "metadata": {
    "colab_type": "text",
    "id": "mxQjqcSjEWSt"
   },
   "source": [
    " CoLab no viene por defecto con esta libreria instalada. Eso no es un problema, lo que demos hacer entonces es intalar una libreria. <br>\n",
    "Para eso usaremos el signo de exclamacion (!). Como ya vimos, este signo permite introducir un comando de bash (shell) para que se descargue e instale esta libreria. "
   ]
  },
  {
   "cell_type": "code",
   "execution_count": null,
   "metadata": {
    "colab": {
     "base_uri": "https://localhost:8080/",
     "height": 0
    },
    "colab_type": "code",
    "id": "LAJVg0f2h-fn",
    "outputId": "e5fc96bf-e903-4fa9-99d9-3accd71e745a"
   },
   "outputs": [],
   "source": [
    "!pip install unidecode"
   ]
  },
  {
   "cell_type": "code",
   "execution_count": null,
   "metadata": {
    "colab": {
     "base_uri": "https://localhost:8080/",
     "height": 0
    },
    "colab_type": "code",
    "id": "d_xVMkegiEaI",
    "outputId": "33bc92e9-bb09-42ac-aaa1-c10945bf1236"
   },
   "outputs": [],
   "source": [
    "import unidecode #Importamos nuestra nueva libreria\n",
    "pob_clean.Provincia.apply(lambda x: unidecode.unidecode(x)) "
   ]
  },
  {
   "cell_type": "markdown",
   "metadata": {
    "colab_type": "text",
    "id": "o9dDwGeyFNG8"
   },
   "source": [
    "Recuerdas las funciones `lambda` que mencionamos antes? Aquí estan devuelta"
   ]
  },
  {
   "cell_type": "code",
   "execution_count": null,
   "metadata": {
    "colab": {
     "base_uri": "https://localhost:8080/",
     "height": 0
    },
    "colab_type": "code",
    "id": "-WRElO3kiI-U",
    "outputId": "8c169eb4-f7d8-4690-96f1-ebce399e7a65"
   },
   "outputs": [],
   "source": [
    "# Ejemplo usando una funcion previemente definida.\n",
    "\n",
    "def quitar_tildes(provincia_con_tilde):\n",
    "    return unidecode.unidecode(provincia_con_tilde)\n",
    "# Usamos nuestra funcion dentro de la funcion apply    \n",
    "pob_clean.Provincia.apply(quitar_tildes) \n"
   ]
  },
  {
   "cell_type": "code",
   "execution_count": null,
   "metadata": {
    "colab": {},
    "colab_type": "code",
    "id": "03ZM2JLUHBzH"
   },
   "outputs": [],
   "source": [
    "pob_clean['Provincia'] = pob_clean.Provincia.apply(quitar_tildes).copy()  # Vamos a pisar nuestros valores viejos, por los valores sin tilde."
   ]
  },
  {
   "cell_type": "code",
   "execution_count": null,
   "metadata": {
    "colab": {
     "base_uri": "https://localhost:8080/",
     "height": 0
    },
    "colab_type": "code",
    "id": "AILEGbbTRrJK",
    "outputId": "85f945a1-b170-4d50-82a7-e69c7433b806"
   },
   "outputs": [],
   "source": [
    "pob_clean.head(5)"
   ]
  },
  {
   "cell_type": "markdown",
   "metadata": {
    "colab_type": "text",
    "id": "17eoQxFsRv4S"
   },
   "source": [
    "**Genial!** ya tenemos nuestra nueva tabla limpia y pandas-friendly. Ahora debemos ver como unir esta información con nuestros datos originales. \n",
    "\n",
    "Usaremos una función por defecto incluida en los DataFrames llamada `merge`.  Si querés más información acerca de las diferentes formas de usar Pandas para unir o \"joinear\" datos podes consultar [aqui](https://www.analyticslane.com/2018/09/10/unir-y-combinar-dataframes-con-pandas-en-python/)"
   ]
  },
  {
   "cell_type": "code",
   "execution_count": null,
   "metadata": {
    "colab": {
     "base_uri": "https://localhost:8080/",
     "height": 0
    },
    "colab_type": "code",
    "id": "qwvziIinIOyr",
    "outputId": "67379a5d-b81c-454b-9e1b-6042b5f51e11"
   },
   "outputs": [],
   "source": [
    "df.merge(pob_clean, how='left', left_on='provincia_desc', right_on='Provincia') # mergearemos usando el nombre de provincia\n",
    "# En proyectos mas grandes, se recomienda no depender de variables dificiles de normalizar como nombres propios,\n",
    "# sino usar una codificación estandarizada."
   ]
  },
  {
   "cell_type": "markdown",
   "metadata": {
    "colab_type": "text",
    "id": "HbstJ92oTBiR"
   },
   "source": [
    "Casi perfecto... Veamos qué paso en esta última fila."
   ]
  },
  {
   "cell_type": "code",
   "execution_count": null,
   "metadata": {
    "colab": {
     "base_uri": "https://localhost:8080/",
     "height": 0
    },
    "colab_type": "code",
    "id": "EdkRI2I9LxYO",
    "outputId": "76217e35-f6c1-416b-ef71-a66e660a522d"
   },
   "outputs": [],
   "source": [
    "df.provincia_desc.iloc[-1] # Vemos que nuestro Dataframe original era inconsistente. \n",
    "# Es decir no tenia tildes para el resto de las provincias pero si para la palabra Antártida. Modifiquemos esto con nuestra función"
   ]
  },
  {
   "cell_type": "code",
   "execution_count": null,
   "metadata": {
    "colab": {
     "base_uri": "https://localhost:8080/",
     "height": 0
    },
    "colab_type": "code",
    "id": "S7SM3M5kMEwm",
    "outputId": "19881e12-1019-4538-b231-55efa1d7d9a3"
   },
   "outputs": [],
   "source": [
    "df.provincia_desc = df.provincia_desc.apply(quitar_tildes)\n",
    "df.merge(pob_clean, how='left', left_on='provincia_desc', right_on='Provincia')"
   ]
  },
  {
   "cell_type": "code",
   "execution_count": null,
   "metadata": {
    "colab": {
     "base_uri": "https://localhost:8080/",
     "height": 0
    },
    "colab_type": "code",
    "id": "4hGknUBiMmhR",
    "outputId": "26623a04-b0c9-4e89-e021-8709c6e162c9"
   },
   "outputs": [],
   "source": [
    "# Parece que todo funcionó. Vamos a asegurarnos\n",
    "df_completo = df.merge(pob_clean, how='left', left_on='provincia_desc', right_on='Provincia')\n",
    "df_completo.isna().sum() # Va a asignar un boolean (True) a cada missing value en una columna,\n",
    "                         # luego suma todos los booleans como si fueran unos (1) en una columnda"
   ]
  },
  {
   "cell_type": "markdown",
   "metadata": {
    "colab_type": "text",
    "id": "wtSFh9fDRZVF"
   },
   "source": [
    "Ahora vamos a generar una nueva columna con la razón de recetas recetadas por poblacion para cada provincina.\n",
    "\n",
    " Para eso aprovecharamos que Pandas nos permite realizar operacion con vectores o arrays en vez de ir valor por valor haciendo la misma operacion.\n",
    "\n",
    "Vamos a obviar por un momento que la cantidad de personas aumentó desde el censo del 2000 al 2010. Dado que nuestros datos van del periodo 2003 al 2017 usaremos solamente el valor de la cantidad de habitantes por provincia del censo del 2010. \n",
    "\n",
    "*Si quisieramos ser mas finos, podriamos crear una función que aggregue un estimativo del incremento de poblacion de un año para el siguiente pero eso escapa un poco el objetivo de este taller.*"
   ]
  },
  {
   "cell_type": "code",
   "execution_count": null,
   "metadata": {
    "colab": {
     "base_uri": "https://localhost:8080/",
     "height": 0
    },
    "colab_type": "code",
    "id": "VKEGa1-cQs9C",
    "outputId": "dd770887-f871-47b9-a3e0-20f0d3354c62"
   },
   "outputs": [],
   "source": [
    "df_completo['razon_recetas_poblacion'] = df_completo['recetas_confeccionadas_cantidad']/ df_completo['2010'] \n",
    "# Pandas me permiter dividir cada valor en una fila de una columna por otro valor en la misma fila de una columna diferente\n",
    "df_completo"
   ]
  },
  {
   "cell_type": "code",
   "execution_count": null,
   "metadata": {
    "colab": {
     "base_uri": "https://localhost:8080/",
     "height": 0
    },
    "colab_type": "code",
    "id": "snpI4inuSjhQ",
    "outputId": "6f18a2ee-f9b9-40be-9169-c18ef4869ab5"
   },
   "outputs": [],
   "source": [
    "#Ploteemos nuevamente estos valores\n",
    "# Usemos nuestro dominió de los loops\n",
    "\n",
    "for provincia in df.provincia_desc.unique():\n",
    "    plt.plot(df_completo.loc[df_completo['provincia_desc'] == provincia]['año'],\n",
    "             df_completo.loc[df_completo['provincia_desc'] == provincia]['razon_recetas_poblacion'])\n",
    "\n",
    "plt.show()"
   ]
  },
  {
   "cell_type": "markdown",
   "metadata": {
    "colab_type": "text",
    "id": "k_srsAUPUc1B"
   },
   "source": [
    "**Espectacular!!** \n",
    "\n",
    "Resolvimos un problema, sin embargo aun hay mucha información en nuestro gráfico. Vamos a enfocarnos unicamente en las provincias en las cuales se recetan mas recetas que el número de habitantes."
   ]
  },
  {
   "cell_type": "code",
   "execution_count": null,
   "metadata": {
    "colab": {
     "base_uri": "https://localhost:8080/",
     "height": 0
    },
    "colab_type": "code",
    "id": "492Ky89nTSIZ",
    "outputId": "62469ac6-6c58-4da3-cfe3-4c7dc3efc7db"
   },
   "outputs": [],
   "source": [
    "df_completo[df_completo['razon_recetas_poblacion'] > 1].sort_values(by='razon_recetas_poblacion', ascending = False)\n",
    "# Si bien esta linea parece compleja podemos dividirla en dos partes, antes del 'sort_values' y posterior.\n",
    "# La primera es muy similar a lo que hicimos cuando filtrabamos por provincia salvo que en este caso filtramos las filas que tengan un \n",
    "# valor mayor a 1 para la columna 'razon_recetas_poblacion'. \n",
    "# La segunda parte es una funcion por defecto de nuestro DataFrame."
   ]
  },
  {
   "cell_type": "markdown",
   "metadata": {
    "colab_type": "text",
    "id": "EOTSooFkVclw"
   },
   "source": [
    "Esto es información más manejable, y quizas más útil para nuestros intereses. \n",
    "Veamos cuales son estas provincias."
   ]
  },
  {
   "cell_type": "code",
   "execution_count": null,
   "metadata": {
    "colab": {
     "base_uri": "https://localhost:8080/",
     "height": 0
    },
    "colab_type": "code",
    "id": "3Vwb2e6NUsfi",
    "outputId": "645cf802-2291-4e42-d411-2a5809aa7d26"
   },
   "outputs": [],
   "source": [
    "provs_alto_valor = df_completo[df_completo['razon_recetas_poblacion'] > 1]\n",
    "provs_alto_valor['provincia_desc'].unique()"
   ]
  },
  {
   "cell_type": "code",
   "execution_count": null,
   "metadata": {
    "colab": {
     "base_uri": "https://localhost:8080/",
     "height": 0
    },
    "colab_type": "code",
    "id": "35rh7VusVniw",
    "outputId": "b66a797b-8b44-4212-b057-5834ab9d06fc"
   },
   "outputs": [],
   "source": [
    "# Ploteemos nuevamente un gráfico con este subset\n",
    "for prov in provs_alto_valor['provincia_desc'].unique():\n",
    "    plt.plot(df_completo.loc[df_completo['provincia_desc'] == prov]['año'],\n",
    "             df_completo.loc[df_completo['provincia_desc'] == prov]['razon_recetas_poblacion'],\n",
    "             label = prov,\n",
    "             marker = 'o',\n",
    "             markersize = 3)\n",
    "\n",
    "# matplotlib me permite configurar todos los elementos por separado si asi lo deseara \n",
    "plt.hlines(1, xmin = 2003, xmax = 2017, linestyle='--') # Vamos a crear una lina horizontal que marque el valor 1\n",
    "plt.legend(bbox_to_anchor=(1.05, 1)) # Elegimos plotear la leyenda fuera del grafico, en este caso el primer valor es en el eje X, el segundo Y)\n",
    "plt.xlabel('Año')\n",
    "plt.ylabel('Razon (numero de recetas/poblacion)')\n",
    "plt.title('Provincias con una razon > 1')\n",
    "plt.show()"
   ]
  },
  {
   "cell_type": "markdown",
   "metadata": {
    "colab_type": "text",
    "id": "N9VSgkVGcLgV"
   },
   "source": [
    "## 4. Introducción a la estadística inferencial"
   ]
  },
  {
   "cell_type": "markdown",
   "metadata": {
    "colab_type": "text",
    "id": "EsyENebyH5_-"
   },
   "source": [
    "A continuacion vamos a elegir un nuevo dataset e indagaremos como podemos usar las técnicas aprendidas para aplicar técnicas estadisticas descriptivas e inferenciales. Esto nos va a permitir realizar EDA mas complejos y obtener mucha mas información para entender el problema que tenemos enfrente. \n",
    "\n",
    "**Que veremos en esta unidad:**\n",
    "\n",
    "- [Contraste de hipotesis][Modeling]\n",
    "- Introduccion a [Statsmodels][Statsmodels]\n",
    "- Test de normalidad de variables [Shapiro-Wilk][Shapiro-Wilk]\n",
    "- [QQplots][QQplots]\n",
    "- Distintos [datasets][Datasets] disponibles\n",
    "\n",
    "[Modeling]:http://conceptosclaros.com/contraste-hipotesis/\n",
    "[Statsmodels]:https://www.statsmodels.org/stable/index.html\n",
    "[Shapiro-Wilk]:https://machinelearningmastery.com/a-gentle-introduction-to-normality-tests-in-python/\n",
    "[QQplots]:https://www.geeksforgeeks.org/qqplot-quantile-quantile-plot-in-python/\n",
    "[Datasets]:https://www.sheffield.ac.uk/mash/statistics/datasets"
   ]
  },
  {
   "cell_type": "code",
   "execution_count": 104,
   "metadata": {
    "colab": {
     "base_uri": "https://localhost:8080/",
     "height": 224
    },
    "colab_type": "code",
    "id": "dTnnnwTvdCmX",
    "outputId": "c7f4bf66-b455-4693-b14d-3c6e1a1991c0"
   },
   "outputs": [
    {
     "data": {
      "text/html": [
       "<div>\n",
       "<style scoped>\n",
       "    .dataframe tbody tr th:only-of-type {\n",
       "        vertical-align: middle;\n",
       "    }\n",
       "\n",
       "    .dataframe tbody tr th {\n",
       "        vertical-align: top;\n",
       "    }\n",
       "\n",
       "    .dataframe thead th {\n",
       "        text-align: right;\n",
       "    }\n",
       "</style>\n",
       "<table border=\"1\" class=\"dataframe\">\n",
       "  <thead>\n",
       "    <tr style=\"text-align: right;\">\n",
       "      <th></th>\n",
       "      <th>id</th>\n",
       "      <th>headcirumference</th>\n",
       "      <th>length</th>\n",
       "      <th>Birthweight</th>\n",
       "      <th>Gestation</th>\n",
       "      <th>smoker</th>\n",
       "      <th>motherage</th>\n",
       "      <th>mnocig</th>\n",
       "      <th>mheight</th>\n",
       "      <th>mppwt</th>\n",
       "      <th>fage</th>\n",
       "      <th>fedyrs</th>\n",
       "      <th>fnocig</th>\n",
       "      <th>fheight</th>\n",
       "      <th>lowbwt</th>\n",
       "      <th>mage35</th>\n",
       "      <th>LowBirthWeight</th>\n",
       "    </tr>\n",
       "  </thead>\n",
       "  <tbody>\n",
       "    <tr>\n",
       "      <td>0</td>\n",
       "      <td>1313</td>\n",
       "      <td>12</td>\n",
       "      <td>17</td>\n",
       "      <td>5.8</td>\n",
       "      <td>33</td>\n",
       "      <td>0</td>\n",
       "      <td>24</td>\n",
       "      <td>0</td>\n",
       "      <td>58</td>\n",
       "      <td>99</td>\n",
       "      <td>26</td>\n",
       "      <td>16</td>\n",
       "      <td>0</td>\n",
       "      <td>66</td>\n",
       "      <td>1</td>\n",
       "      <td>0</td>\n",
       "      <td>Low</td>\n",
       "    </tr>\n",
       "    <tr>\n",
       "      <td>1</td>\n",
       "      <td>431</td>\n",
       "      <td>12</td>\n",
       "      <td>19</td>\n",
       "      <td>4.2</td>\n",
       "      <td>33</td>\n",
       "      <td>1</td>\n",
       "      <td>20</td>\n",
       "      <td>7</td>\n",
       "      <td>63</td>\n",
       "      <td>109</td>\n",
       "      <td>20</td>\n",
       "      <td>10</td>\n",
       "      <td>35</td>\n",
       "      <td>71</td>\n",
       "      <td>1</td>\n",
       "      <td>0</td>\n",
       "      <td>Low</td>\n",
       "    </tr>\n",
       "    <tr>\n",
       "      <td>2</td>\n",
       "      <td>808</td>\n",
       "      <td>13</td>\n",
       "      <td>19</td>\n",
       "      <td>6.4</td>\n",
       "      <td>34</td>\n",
       "      <td>0</td>\n",
       "      <td>26</td>\n",
       "      <td>0</td>\n",
       "      <td>65</td>\n",
       "      <td>140</td>\n",
       "      <td>25</td>\n",
       "      <td>12</td>\n",
       "      <td>25</td>\n",
       "      <td>69</td>\n",
       "      <td>0</td>\n",
       "      <td>0</td>\n",
       "      <td>Normal</td>\n",
       "    </tr>\n",
       "    <tr>\n",
       "      <td>3</td>\n",
       "      <td>300</td>\n",
       "      <td>12</td>\n",
       "      <td>18</td>\n",
       "      <td>4.5</td>\n",
       "      <td>35</td>\n",
       "      <td>1</td>\n",
       "      <td>41</td>\n",
       "      <td>7</td>\n",
       "      <td>65</td>\n",
       "      <td>125</td>\n",
       "      <td>37</td>\n",
       "      <td>14</td>\n",
       "      <td>25</td>\n",
       "      <td>68</td>\n",
       "      <td>1</td>\n",
       "      <td>1</td>\n",
       "      <td>Low</td>\n",
       "    </tr>\n",
       "    <tr>\n",
       "      <td>4</td>\n",
       "      <td>516</td>\n",
       "      <td>13</td>\n",
       "      <td>18</td>\n",
       "      <td>5.8</td>\n",
       "      <td>35</td>\n",
       "      <td>1</td>\n",
       "      <td>20</td>\n",
       "      <td>35</td>\n",
       "      <td>67</td>\n",
       "      <td>125</td>\n",
       "      <td>23</td>\n",
       "      <td>12</td>\n",
       "      <td>50</td>\n",
       "      <td>73</td>\n",
       "      <td>1</td>\n",
       "      <td>0</td>\n",
       "      <td>Low</td>\n",
       "    </tr>\n",
       "  </tbody>\n",
       "</table>\n",
       "</div>"
      ],
      "text/plain": [
       "     id  headcirumference  length  Birthweight  Gestation  smoker  motherage  \\\n",
       "0  1313                12      17          5.8         33       0         24   \n",
       "1   431                12      19          4.2         33       1         20   \n",
       "2   808                13      19          6.4         34       0         26   \n",
       "3   300                12      18          4.5         35       1         41   \n",
       "4   516                13      18          5.8         35       1         20   \n",
       "\n",
       "   mnocig  mheight  mppwt  fage  fedyrs  fnocig  fheight  lowbwt  mage35  \\\n",
       "0       0       58     99    26      16       0       66       1       0   \n",
       "1       7       63    109    20      10      35       71       1       0   \n",
       "2       0       65    140    25      12      25       69       0       0   \n",
       "3       7       65    125    37      14      25       68       1       1   \n",
       "4      35       67    125    23      12      50       73       1       0   \n",
       "\n",
       "  LowBirthWeight  \n",
       "0            Low  \n",
       "1            Low  \n",
       "2         Normal  \n",
       "3            Low  \n",
       "4            Low  "
      ]
     },
     "execution_count": 104,
     "metadata": {},
     "output_type": "execute_result"
    }
   ],
   "source": [
    "# Descargamos el dataset\n",
    "df = pd.read_csv('https://www.sheffield.ac.uk/polopoly_fs/1.886038!/file/Birthweight_reduced_R.csv')\n",
    "# Este dataset tiene informacion acerca de recien nacidos y de sus padres.\n",
    "df.head(5)  # Mostrame las primeras 5 filas"
   ]
  },
  {
   "cell_type": "code",
   "execution_count": 105,
   "metadata": {
    "colab": {
     "base_uri": "https://localhost:8080/",
     "height": 317
    },
    "colab_type": "code",
    "id": "Oh_W7FuZyDeE",
    "outputId": "f6d8d333-47c6-4674-d869-eba60898722a"
   },
   "outputs": [
    {
     "data": {
      "text/html": [
       "<div>\n",
       "<style scoped>\n",
       "    .dataframe tbody tr th:only-of-type {\n",
       "        vertical-align: middle;\n",
       "    }\n",
       "\n",
       "    .dataframe tbody tr th {\n",
       "        vertical-align: top;\n",
       "    }\n",
       "\n",
       "    .dataframe thead th {\n",
       "        text-align: right;\n",
       "    }\n",
       "</style>\n",
       "<table border=\"1\" class=\"dataframe\">\n",
       "  <thead>\n",
       "    <tr style=\"text-align: right;\">\n",
       "      <th></th>\n",
       "      <th>id</th>\n",
       "      <th>headcirumference</th>\n",
       "      <th>length</th>\n",
       "      <th>Birthweight</th>\n",
       "      <th>Gestation</th>\n",
       "      <th>smoker</th>\n",
       "      <th>motherage</th>\n",
       "      <th>mnocig</th>\n",
       "      <th>mheight</th>\n",
       "      <th>mppwt</th>\n",
       "      <th>fage</th>\n",
       "      <th>fedyrs</th>\n",
       "      <th>fnocig</th>\n",
       "      <th>fheight</th>\n",
       "      <th>lowbwt</th>\n",
       "      <th>mage35</th>\n",
       "    </tr>\n",
       "  </thead>\n",
       "  <tbody>\n",
       "    <tr>\n",
       "      <td>count</td>\n",
       "      <td>42.000000</td>\n",
       "      <td>42.000000</td>\n",
       "      <td>42.000000</td>\n",
       "      <td>42.000000</td>\n",
       "      <td>42.000000</td>\n",
       "      <td>42.000000</td>\n",
       "      <td>42.000000</td>\n",
       "      <td>42.000000</td>\n",
       "      <td>42.000000</td>\n",
       "      <td>42.000000</td>\n",
       "      <td>42.000000</td>\n",
       "      <td>42.000000</td>\n",
       "      <td>42.000000</td>\n",
       "      <td>42.000000</td>\n",
       "      <td>42.000000</td>\n",
       "      <td>42.000000</td>\n",
       "    </tr>\n",
       "    <tr>\n",
       "      <td>mean</td>\n",
       "      <td>894.071429</td>\n",
       "      <td>13.261905</td>\n",
       "      <td>19.928571</td>\n",
       "      <td>7.264286</td>\n",
       "      <td>39.190476</td>\n",
       "      <td>0.523810</td>\n",
       "      <td>25.547619</td>\n",
       "      <td>9.428571</td>\n",
       "      <td>64.404762</td>\n",
       "      <td>125.857143</td>\n",
       "      <td>28.904762</td>\n",
       "      <td>13.666667</td>\n",
       "      <td>17.190476</td>\n",
       "      <td>70.761905</td>\n",
       "      <td>0.142857</td>\n",
       "      <td>0.095238</td>\n",
       "    </tr>\n",
       "    <tr>\n",
       "      <td>std</td>\n",
       "      <td>467.616186</td>\n",
       "      <td>0.766987</td>\n",
       "      <td>1.112958</td>\n",
       "      <td>1.329739</td>\n",
       "      <td>2.643336</td>\n",
       "      <td>0.505487</td>\n",
       "      <td>5.666342</td>\n",
       "      <td>12.511737</td>\n",
       "      <td>2.547687</td>\n",
       "      <td>15.879994</td>\n",
       "      <td>6.863866</td>\n",
       "      <td>2.160247</td>\n",
       "      <td>17.308165</td>\n",
       "      <td>2.843988</td>\n",
       "      <td>0.354169</td>\n",
       "      <td>0.297102</td>\n",
       "    </tr>\n",
       "    <tr>\n",
       "      <td>min</td>\n",
       "      <td>27.000000</td>\n",
       "      <td>12.000000</td>\n",
       "      <td>17.000000</td>\n",
       "      <td>4.200000</td>\n",
       "      <td>33.000000</td>\n",
       "      <td>0.000000</td>\n",
       "      <td>18.000000</td>\n",
       "      <td>0.000000</td>\n",
       "      <td>58.000000</td>\n",
       "      <td>99.000000</td>\n",
       "      <td>19.000000</td>\n",
       "      <td>10.000000</td>\n",
       "      <td>0.000000</td>\n",
       "      <td>66.000000</td>\n",
       "      <td>0.000000</td>\n",
       "      <td>0.000000</td>\n",
       "    </tr>\n",
       "    <tr>\n",
       "      <td>25%</td>\n",
       "      <td>537.250000</td>\n",
       "      <td>13.000000</td>\n",
       "      <td>19.000000</td>\n",
       "      <td>6.450000</td>\n",
       "      <td>38.000000</td>\n",
       "      <td>0.000000</td>\n",
       "      <td>20.250000</td>\n",
       "      <td>0.000000</td>\n",
       "      <td>63.000000</td>\n",
       "      <td>115.000000</td>\n",
       "      <td>23.000000</td>\n",
       "      <td>12.000000</td>\n",
       "      <td>0.000000</td>\n",
       "      <td>69.000000</td>\n",
       "      <td>0.000000</td>\n",
       "      <td>0.000000</td>\n",
       "    </tr>\n",
       "    <tr>\n",
       "      <td>50%</td>\n",
       "      <td>821.000000</td>\n",
       "      <td>13.000000</td>\n",
       "      <td>20.000000</td>\n",
       "      <td>7.250000</td>\n",
       "      <td>39.500000</td>\n",
       "      <td>1.000000</td>\n",
       "      <td>24.000000</td>\n",
       "      <td>4.500000</td>\n",
       "      <td>64.000000</td>\n",
       "      <td>125.000000</td>\n",
       "      <td>29.500000</td>\n",
       "      <td>14.000000</td>\n",
       "      <td>18.500000</td>\n",
       "      <td>71.000000</td>\n",
       "      <td>0.000000</td>\n",
       "      <td>0.000000</td>\n",
       "    </tr>\n",
       "    <tr>\n",
       "      <td>75%</td>\n",
       "      <td>1269.500000</td>\n",
       "      <td>14.000000</td>\n",
       "      <td>21.000000</td>\n",
       "      <td>8.000000</td>\n",
       "      <td>41.000000</td>\n",
       "      <td>1.000000</td>\n",
       "      <td>29.000000</td>\n",
       "      <td>15.750000</td>\n",
       "      <td>66.000000</td>\n",
       "      <td>135.000000</td>\n",
       "      <td>32.000000</td>\n",
       "      <td>16.000000</td>\n",
       "      <td>25.000000</td>\n",
       "      <td>72.000000</td>\n",
       "      <td>0.000000</td>\n",
       "      <td>0.000000</td>\n",
       "    </tr>\n",
       "    <tr>\n",
       "      <td>max</td>\n",
       "      <td>1764.000000</td>\n",
       "      <td>15.000000</td>\n",
       "      <td>22.000000</td>\n",
       "      <td>10.000000</td>\n",
       "      <td>45.000000</td>\n",
       "      <td>1.000000</td>\n",
       "      <td>41.000000</td>\n",
       "      <td>50.000000</td>\n",
       "      <td>71.000000</td>\n",
       "      <td>170.000000</td>\n",
       "      <td>46.000000</td>\n",
       "      <td>16.000000</td>\n",
       "      <td>50.000000</td>\n",
       "      <td>78.000000</td>\n",
       "      <td>1.000000</td>\n",
       "      <td>1.000000</td>\n",
       "    </tr>\n",
       "  </tbody>\n",
       "</table>\n",
       "</div>"
      ],
      "text/plain": [
       "                id  headcirumference     length  Birthweight  Gestation  \\\n",
       "count    42.000000         42.000000  42.000000    42.000000  42.000000   \n",
       "mean    894.071429         13.261905  19.928571     7.264286  39.190476   \n",
       "std     467.616186          0.766987   1.112958     1.329739   2.643336   \n",
       "min      27.000000         12.000000  17.000000     4.200000  33.000000   \n",
       "25%     537.250000         13.000000  19.000000     6.450000  38.000000   \n",
       "50%     821.000000         13.000000  20.000000     7.250000  39.500000   \n",
       "75%    1269.500000         14.000000  21.000000     8.000000  41.000000   \n",
       "max    1764.000000         15.000000  22.000000    10.000000  45.000000   \n",
       "\n",
       "          smoker  motherage     mnocig    mheight       mppwt       fage  \\\n",
       "count  42.000000  42.000000  42.000000  42.000000   42.000000  42.000000   \n",
       "mean    0.523810  25.547619   9.428571  64.404762  125.857143  28.904762   \n",
       "std     0.505487   5.666342  12.511737   2.547687   15.879994   6.863866   \n",
       "min     0.000000  18.000000   0.000000  58.000000   99.000000  19.000000   \n",
       "25%     0.000000  20.250000   0.000000  63.000000  115.000000  23.000000   \n",
       "50%     1.000000  24.000000   4.500000  64.000000  125.000000  29.500000   \n",
       "75%     1.000000  29.000000  15.750000  66.000000  135.000000  32.000000   \n",
       "max     1.000000  41.000000  50.000000  71.000000  170.000000  46.000000   \n",
       "\n",
       "          fedyrs     fnocig    fheight     lowbwt     mage35  \n",
       "count  42.000000  42.000000  42.000000  42.000000  42.000000  \n",
       "mean   13.666667  17.190476  70.761905   0.142857   0.095238  \n",
       "std     2.160247  17.308165   2.843988   0.354169   0.297102  \n",
       "min    10.000000   0.000000  66.000000   0.000000   0.000000  \n",
       "25%    12.000000   0.000000  69.000000   0.000000   0.000000  \n",
       "50%    14.000000  18.500000  71.000000   0.000000   0.000000  \n",
       "75%    16.000000  25.000000  72.000000   0.000000   0.000000  \n",
       "max    16.000000  50.000000  78.000000   1.000000   1.000000  "
      ]
     },
     "execution_count": 105,
     "metadata": {},
     "output_type": "execute_result"
    }
   ],
   "source": [
    "#Vamos a realizar una rapida exploración del dataset\n",
    "df.describe()"
   ]
  },
  {
   "cell_type": "code",
   "execution_count": 106,
   "metadata": {
    "colab": {
     "base_uri": "https://localhost:8080/",
     "height": 323
    },
    "colab_type": "code",
    "id": "GzRerUy4yJ_b",
    "outputId": "2132d06c-4073-4fde-adcb-220717651905"
   },
   "outputs": [
    {
     "data": {
      "text/plain": [
       "id                  0\n",
       "headcirumference    0\n",
       "length              0\n",
       "Birthweight         0\n",
       "Gestation           0\n",
       "smoker              0\n",
       "motherage           0\n",
       "mnocig              0\n",
       "mheight             0\n",
       "mppwt               0\n",
       "fage                0\n",
       "fedyrs              0\n",
       "fnocig              0\n",
       "fheight             0\n",
       "lowbwt              0\n",
       "mage35              0\n",
       "LowBirthWeight      0\n",
       "dtype: int64"
      ]
     },
     "execution_count": 106,
     "metadata": {},
     "output_type": "execute_result"
    }
   ],
   "source": [
    "# Parece que todo esta en orden. Por fin un dataset limpio!!\n",
    "df.isna().sum()"
   ]
  },
  {
   "cell_type": "code",
   "execution_count": 107,
   "metadata": {
    "colab": {
     "base_uri": "https://localhost:8080/",
     "height": 323
    },
    "colab_type": "code",
    "id": "yV2mKL5MHI76",
    "outputId": "acc2a486-827f-4843-f446-49de81a38d60"
   },
   "outputs": [
    {
     "data": {
      "text/plain": [
       "id                    int64\n",
       "headcirumference      int64\n",
       "length                int64\n",
       "Birthweight         float64\n",
       "Gestation             int64\n",
       "smoker                int64\n",
       "motherage             int64\n",
       "mnocig                int64\n",
       "mheight               int64\n",
       "mppwt                 int64\n",
       "fage                  int64\n",
       "fedyrs                int64\n",
       "fnocig                int64\n",
       "fheight               int64\n",
       "lowbwt                int64\n",
       "mage35                int64\n",
       "LowBirthWeight       object\n",
       "dtype: object"
      ]
     },
     "execution_count": 107,
     "metadata": {},
     "output_type": "execute_result"
    }
   ],
   "source": [
    "df.dtypes"
   ]
  },
  {
   "cell_type": "markdown",
   "metadata": {
    "colab_type": "text",
    "id": "_Xe9c8HnHMbp"
   },
   "source": [
    "En este dataset contamos con varias columnas. Cuando tenemos demasiada información puede ser confuso entender qué está pasando. En esos casos es bueno representar la información gráficamente. Vamos a crear una [matrix de correlacion](https://es.wikipedia.org/wiki/Matriz_de_correlaci%C3%B3n#:~:text=Estas%20variables%20independientes%20o%20explicativas,la%20relaci%C3%B3n%20entre%20cada%20pareja)"
   ]
  },
  {
   "cell_type": "markdown",
   "metadata": {},
   "source": [
    "### Correlation plot"
   ]
  },
  {
   "cell_type": "code",
   "execution_count": 108,
   "metadata": {
    "colab": {
     "base_uri": "https://localhost:8080/",
     "height": 565
    },
    "colab_type": "code",
    "id": "DQ3VRg9aeQRk",
    "outputId": "9099e82a-110e-4ece-e42f-9ac3320d001e"
   },
   "outputs": [
    {
     "data": {
      "text/html": [
       "<div>\n",
       "<style scoped>\n",
       "    .dataframe tbody tr th:only-of-type {\n",
       "        vertical-align: middle;\n",
       "    }\n",
       "\n",
       "    .dataframe tbody tr th {\n",
       "        vertical-align: top;\n",
       "    }\n",
       "\n",
       "    .dataframe thead th {\n",
       "        text-align: right;\n",
       "    }\n",
       "</style>\n",
       "<table border=\"1\" class=\"dataframe\">\n",
       "  <thead>\n",
       "    <tr style=\"text-align: right;\">\n",
       "      <th></th>\n",
       "      <th>id</th>\n",
       "      <th>headcirumference</th>\n",
       "      <th>length</th>\n",
       "      <th>Birthweight</th>\n",
       "      <th>Gestation</th>\n",
       "      <th>smoker</th>\n",
       "      <th>motherage</th>\n",
       "      <th>mnocig</th>\n",
       "      <th>mheight</th>\n",
       "      <th>mppwt</th>\n",
       "      <th>fage</th>\n",
       "      <th>fedyrs</th>\n",
       "      <th>fnocig</th>\n",
       "      <th>fheight</th>\n",
       "      <th>lowbwt</th>\n",
       "      <th>mage35</th>\n",
       "    </tr>\n",
       "  </thead>\n",
       "  <tbody>\n",
       "    <tr>\n",
       "      <td>id</td>\n",
       "      <td>1.000000</td>\n",
       "      <td>-0.047861</td>\n",
       "      <td>0.248207</td>\n",
       "      <td>0.106798</td>\n",
       "      <td>0.102714</td>\n",
       "      <td>-0.276182</td>\n",
       "      <td>-0.186426</td>\n",
       "      <td>-0.194625</td>\n",
       "      <td>-0.063307</td>\n",
       "      <td>-0.020488</td>\n",
       "      <td>-0.231958</td>\n",
       "      <td>0.119927</td>\n",
       "      <td>-0.112889</td>\n",
       "      <td>0.073043</td>\n",
       "      <td>-0.128483</td>\n",
       "      <td>-0.266021</td>\n",
       "    </tr>\n",
       "    <tr>\n",
       "      <td>headcirumference</td>\n",
       "      <td>-0.047861</td>\n",
       "      <td>1.000000</td>\n",
       "      <td>0.565328</td>\n",
       "      <td>0.736396</td>\n",
       "      <td>0.443975</td>\n",
       "      <td>-0.173751</td>\n",
       "      <td>0.112108</td>\n",
       "      <td>-0.131438</td>\n",
       "      <td>0.381293</td>\n",
       "      <td>0.357594</td>\n",
       "      <td>0.301363</td>\n",
       "      <td>0.083417</td>\n",
       "      <td>-0.027734</td>\n",
       "      <td>0.040466</td>\n",
       "      <td>-0.500247</td>\n",
       "      <td>-0.005097</td>\n",
       "    </tr>\n",
       "    <tr>\n",
       "      <td>length</td>\n",
       "      <td>0.248207</td>\n",
       "      <td>0.565328</td>\n",
       "      <td>1.000000</td>\n",
       "      <td>0.697008</td>\n",
       "      <td>0.651403</td>\n",
       "      <td>-0.235349</td>\n",
       "      <td>-0.020719</td>\n",
       "      <td>-0.157138</td>\n",
       "      <td>0.414731</td>\n",
       "      <td>0.304394</td>\n",
       "      <td>0.078907</td>\n",
       "      <td>-0.050723</td>\n",
       "      <td>0.019716</td>\n",
       "      <td>0.187137</td>\n",
       "      <td>-0.592248</td>\n",
       "      <td>0.021075</td>\n",
       "    </tr>\n",
       "    <tr>\n",
       "      <td>Birthweight</td>\n",
       "      <td>0.106798</td>\n",
       "      <td>0.736396</td>\n",
       "      <td>0.697008</td>\n",
       "      <td>1.000000</td>\n",
       "      <td>0.706292</td>\n",
       "      <td>-0.308950</td>\n",
       "      <td>0.001040</td>\n",
       "      <td>-0.151228</td>\n",
       "      <td>0.367947</td>\n",
       "      <td>0.389581</td>\n",
       "      <td>0.176790</td>\n",
       "      <td>0.073870</td>\n",
       "      <td>-0.088927</td>\n",
       "      <td>0.024784</td>\n",
       "      <td>-0.651804</td>\n",
       "      <td>-0.108480</td>\n",
       "    </tr>\n",
       "    <tr>\n",
       "      <td>Gestation</td>\n",
       "      <td>0.102714</td>\n",
       "      <td>0.443975</td>\n",
       "      <td>0.651403</td>\n",
       "      <td>0.706292</td>\n",
       "      <td>1.000000</td>\n",
       "      <td>-0.094746</td>\n",
       "      <td>0.010778</td>\n",
       "      <td>0.043195</td>\n",
       "      <td>0.230929</td>\n",
       "      <td>0.250516</td>\n",
       "      <td>0.142175</td>\n",
       "      <td>0.130987</td>\n",
       "      <td>-0.113831</td>\n",
       "      <td>0.187867</td>\n",
       "      <td>-0.602935</td>\n",
       "      <td>0.007395</td>\n",
       "    </tr>\n",
       "    <tr>\n",
       "      <td>smoker</td>\n",
       "      <td>-0.276182</td>\n",
       "      <td>-0.173751</td>\n",
       "      <td>-0.235349</td>\n",
       "      <td>-0.308950</td>\n",
       "      <td>-0.094746</td>\n",
       "      <td>1.000000</td>\n",
       "      <td>0.212479</td>\n",
       "      <td>0.727218</td>\n",
       "      <td>0.039682</td>\n",
       "      <td>0.012588</td>\n",
       "      <td>0.197501</td>\n",
       "      <td>-0.014891</td>\n",
       "      <td>0.417633</td>\n",
       "      <td>0.105835</td>\n",
       "      <td>0.253012</td>\n",
       "      <td>0.146938</td>\n",
       "    </tr>\n",
       "    <tr>\n",
       "      <td>motherage</td>\n",
       "      <td>-0.186426</td>\n",
       "      <td>0.112108</td>\n",
       "      <td>-0.020719</td>\n",
       "      <td>0.001040</td>\n",
       "      <td>0.010778</td>\n",
       "      <td>0.212479</td>\n",
       "      <td>1.000000</td>\n",
       "      <td>0.340294</td>\n",
       "      <td>0.046784</td>\n",
       "      <td>0.277641</td>\n",
       "      <td>0.806584</td>\n",
       "      <td>0.441683</td>\n",
       "      <td>0.090927</td>\n",
       "      <td>-0.203603</td>\n",
       "      <td>-0.076394</td>\n",
       "      <td>0.692664</td>\n",
       "    </tr>\n",
       "    <tr>\n",
       "      <td>mnocig</td>\n",
       "      <td>-0.194625</td>\n",
       "      <td>-0.131438</td>\n",
       "      <td>-0.157138</td>\n",
       "      <td>-0.151228</td>\n",
       "      <td>0.043195</td>\n",
       "      <td>0.727218</td>\n",
       "      <td>0.340294</td>\n",
       "      <td>1.000000</td>\n",
       "      <td>0.171942</td>\n",
       "      <td>0.154008</td>\n",
       "      <td>0.248425</td>\n",
       "      <td>0.198526</td>\n",
       "      <td>0.257307</td>\n",
       "      <td>0.008421</td>\n",
       "      <td>0.035384</td>\n",
       "      <td>0.290574</td>\n",
       "    </tr>\n",
       "    <tr>\n",
       "      <td>mheight</td>\n",
       "      <td>-0.063307</td>\n",
       "      <td>0.381293</td>\n",
       "      <td>0.414731</td>\n",
       "      <td>0.367947</td>\n",
       "      <td>0.230929</td>\n",
       "      <td>0.039682</td>\n",
       "      <td>0.046784</td>\n",
       "      <td>0.171942</td>\n",
       "      <td>1.000000</td>\n",
       "      <td>0.671247</td>\n",
       "      <td>-0.071664</td>\n",
       "      <td>0.016249</td>\n",
       "      <td>0.049096</td>\n",
       "      <td>0.272824</td>\n",
       "      <td>-0.200801</td>\n",
       "      <td>0.108944</td>\n",
       "    </tr>\n",
       "    <tr>\n",
       "      <td>mppwt</td>\n",
       "      <td>-0.020488</td>\n",
       "      <td>0.357594</td>\n",
       "      <td>0.304394</td>\n",
       "      <td>0.389581</td>\n",
       "      <td>0.250516</td>\n",
       "      <td>0.012588</td>\n",
       "      <td>0.277641</td>\n",
       "      <td>0.154008</td>\n",
       "      <td>0.671247</td>\n",
       "      <td>1.000000</td>\n",
       "      <td>0.253401</td>\n",
       "      <td>0.187701</td>\n",
       "      <td>0.050771</td>\n",
       "      <td>0.108320</td>\n",
       "      <td>-0.338879</td>\n",
       "      <td>0.147704</td>\n",
       "    </tr>\n",
       "    <tr>\n",
       "      <td>fage</td>\n",
       "      <td>-0.231958</td>\n",
       "      <td>0.301363</td>\n",
       "      <td>0.078907</td>\n",
       "      <td>0.176790</td>\n",
       "      <td>0.142175</td>\n",
       "      <td>0.197501</td>\n",
       "      <td>0.806584</td>\n",
       "      <td>0.248425</td>\n",
       "      <td>-0.071664</td>\n",
       "      <td>0.253401</td>\n",
       "      <td>1.000000</td>\n",
       "      <td>0.300471</td>\n",
       "      <td>0.135862</td>\n",
       "      <td>-0.298559</td>\n",
       "      <td>-0.245095</td>\n",
       "      <td>0.351405</td>\n",
       "    </tr>\n",
       "    <tr>\n",
       "      <td>fedyrs</td>\n",
       "      <td>0.119927</td>\n",
       "      <td>0.083417</td>\n",
       "      <td>-0.050723</td>\n",
       "      <td>0.073870</td>\n",
       "      <td>0.130987</td>\n",
       "      <td>-0.014891</td>\n",
       "      <td>0.441683</td>\n",
       "      <td>0.198526</td>\n",
       "      <td>0.016249</td>\n",
       "      <td>0.187701</td>\n",
       "      <td>0.300471</td>\n",
       "      <td>1.000000</td>\n",
       "      <td>-0.263103</td>\n",
       "      <td>-0.005293</td>\n",
       "      <td>-0.191273</td>\n",
       "      <td>0.278682</td>\n",
       "    </tr>\n",
       "    <tr>\n",
       "      <td>fnocig</td>\n",
       "      <td>-0.112889</td>\n",
       "      <td>-0.027734</td>\n",
       "      <td>0.019716</td>\n",
       "      <td>-0.088927</td>\n",
       "      <td>-0.113831</td>\n",
       "      <td>0.417633</td>\n",
       "      <td>0.090927</td>\n",
       "      <td>0.257307</td>\n",
       "      <td>0.049096</td>\n",
       "      <td>0.050771</td>\n",
       "      <td>0.135862</td>\n",
       "      <td>-0.263103</td>\n",
       "      <td>1.000000</td>\n",
       "      <td>0.325492</td>\n",
       "      <td>0.266013</td>\n",
       "      <td>-0.088989</td>\n",
       "    </tr>\n",
       "    <tr>\n",
       "      <td>fheight</td>\n",
       "      <td>0.073043</td>\n",
       "      <td>0.040466</td>\n",
       "      <td>0.187137</td>\n",
       "      <td>0.024784</td>\n",
       "      <td>0.187867</td>\n",
       "      <td>0.105835</td>\n",
       "      <td>-0.203603</td>\n",
       "      <td>0.008421</td>\n",
       "      <td>0.272824</td>\n",
       "      <td>0.108320</td>\n",
       "      <td>-0.298559</td>\n",
       "      <td>-0.005293</td>\n",
       "      <td>0.325492</td>\n",
       "      <td>1.000000</td>\n",
       "      <td>0.107236</td>\n",
       "      <td>-0.174569</td>\n",
       "    </tr>\n",
       "    <tr>\n",
       "      <td>lowbwt</td>\n",
       "      <td>-0.128483</td>\n",
       "      <td>-0.500247</td>\n",
       "      <td>-0.592248</td>\n",
       "      <td>-0.651804</td>\n",
       "      <td>-0.602935</td>\n",
       "      <td>0.253012</td>\n",
       "      <td>-0.076394</td>\n",
       "      <td>0.035384</td>\n",
       "      <td>-0.200801</td>\n",
       "      <td>-0.338879</td>\n",
       "      <td>-0.245095</td>\n",
       "      <td>-0.191273</td>\n",
       "      <td>0.266013</td>\n",
       "      <td>0.107236</td>\n",
       "      <td>1.000000</td>\n",
       "      <td>0.099340</td>\n",
       "    </tr>\n",
       "    <tr>\n",
       "      <td>mage35</td>\n",
       "      <td>-0.266021</td>\n",
       "      <td>-0.005097</td>\n",
       "      <td>0.021075</td>\n",
       "      <td>-0.108480</td>\n",
       "      <td>0.007395</td>\n",
       "      <td>0.146938</td>\n",
       "      <td>0.692664</td>\n",
       "      <td>0.290574</td>\n",
       "      <td>0.108944</td>\n",
       "      <td>0.147704</td>\n",
       "      <td>0.351405</td>\n",
       "      <td>0.278682</td>\n",
       "      <td>-0.088989</td>\n",
       "      <td>-0.174569</td>\n",
       "      <td>0.099340</td>\n",
       "      <td>1.000000</td>\n",
       "    </tr>\n",
       "  </tbody>\n",
       "</table>\n",
       "</div>"
      ],
      "text/plain": [
       "                        id  headcirumference    length  Birthweight  \\\n",
       "id                1.000000         -0.047861  0.248207     0.106798   \n",
       "headcirumference -0.047861          1.000000  0.565328     0.736396   \n",
       "length            0.248207          0.565328  1.000000     0.697008   \n",
       "Birthweight       0.106798          0.736396  0.697008     1.000000   \n",
       "Gestation         0.102714          0.443975  0.651403     0.706292   \n",
       "smoker           -0.276182         -0.173751 -0.235349    -0.308950   \n",
       "motherage        -0.186426          0.112108 -0.020719     0.001040   \n",
       "mnocig           -0.194625         -0.131438 -0.157138    -0.151228   \n",
       "mheight          -0.063307          0.381293  0.414731     0.367947   \n",
       "mppwt            -0.020488          0.357594  0.304394     0.389581   \n",
       "fage             -0.231958          0.301363  0.078907     0.176790   \n",
       "fedyrs            0.119927          0.083417 -0.050723     0.073870   \n",
       "fnocig           -0.112889         -0.027734  0.019716    -0.088927   \n",
       "fheight           0.073043          0.040466  0.187137     0.024784   \n",
       "lowbwt           -0.128483         -0.500247 -0.592248    -0.651804   \n",
       "mage35           -0.266021         -0.005097  0.021075    -0.108480   \n",
       "\n",
       "                  Gestation    smoker  motherage    mnocig   mheight  \\\n",
       "id                 0.102714 -0.276182  -0.186426 -0.194625 -0.063307   \n",
       "headcirumference   0.443975 -0.173751   0.112108 -0.131438  0.381293   \n",
       "length             0.651403 -0.235349  -0.020719 -0.157138  0.414731   \n",
       "Birthweight        0.706292 -0.308950   0.001040 -0.151228  0.367947   \n",
       "Gestation          1.000000 -0.094746   0.010778  0.043195  0.230929   \n",
       "smoker            -0.094746  1.000000   0.212479  0.727218  0.039682   \n",
       "motherage          0.010778  0.212479   1.000000  0.340294  0.046784   \n",
       "mnocig             0.043195  0.727218   0.340294  1.000000  0.171942   \n",
       "mheight            0.230929  0.039682   0.046784  0.171942  1.000000   \n",
       "mppwt              0.250516  0.012588   0.277641  0.154008  0.671247   \n",
       "fage               0.142175  0.197501   0.806584  0.248425 -0.071664   \n",
       "fedyrs             0.130987 -0.014891   0.441683  0.198526  0.016249   \n",
       "fnocig            -0.113831  0.417633   0.090927  0.257307  0.049096   \n",
       "fheight            0.187867  0.105835  -0.203603  0.008421  0.272824   \n",
       "lowbwt            -0.602935  0.253012  -0.076394  0.035384 -0.200801   \n",
       "mage35             0.007395  0.146938   0.692664  0.290574  0.108944   \n",
       "\n",
       "                     mppwt      fage    fedyrs    fnocig   fheight    lowbwt  \\\n",
       "id               -0.020488 -0.231958  0.119927 -0.112889  0.073043 -0.128483   \n",
       "headcirumference  0.357594  0.301363  0.083417 -0.027734  0.040466 -0.500247   \n",
       "length            0.304394  0.078907 -0.050723  0.019716  0.187137 -0.592248   \n",
       "Birthweight       0.389581  0.176790  0.073870 -0.088927  0.024784 -0.651804   \n",
       "Gestation         0.250516  0.142175  0.130987 -0.113831  0.187867 -0.602935   \n",
       "smoker            0.012588  0.197501 -0.014891  0.417633  0.105835  0.253012   \n",
       "motherage         0.277641  0.806584  0.441683  0.090927 -0.203603 -0.076394   \n",
       "mnocig            0.154008  0.248425  0.198526  0.257307  0.008421  0.035384   \n",
       "mheight           0.671247 -0.071664  0.016249  0.049096  0.272824 -0.200801   \n",
       "mppwt             1.000000  0.253401  0.187701  0.050771  0.108320 -0.338879   \n",
       "fage              0.253401  1.000000  0.300471  0.135862 -0.298559 -0.245095   \n",
       "fedyrs            0.187701  0.300471  1.000000 -0.263103 -0.005293 -0.191273   \n",
       "fnocig            0.050771  0.135862 -0.263103  1.000000  0.325492  0.266013   \n",
       "fheight           0.108320 -0.298559 -0.005293  0.325492  1.000000  0.107236   \n",
       "lowbwt           -0.338879 -0.245095 -0.191273  0.266013  0.107236  1.000000   \n",
       "mage35            0.147704  0.351405  0.278682 -0.088989 -0.174569  0.099340   \n",
       "\n",
       "                    mage35  \n",
       "id               -0.266021  \n",
       "headcirumference -0.005097  \n",
       "length            0.021075  \n",
       "Birthweight      -0.108480  \n",
       "Gestation         0.007395  \n",
       "smoker            0.146938  \n",
       "motherage         0.692664  \n",
       "mnocig            0.290574  \n",
       "mheight           0.108944  \n",
       "mppwt             0.147704  \n",
       "fage              0.351405  \n",
       "fedyrs            0.278682  \n",
       "fnocig           -0.088989  \n",
       "fheight          -0.174569  \n",
       "lowbwt            0.099340  \n",
       "mage35            1.000000  "
      ]
     },
     "execution_count": 108,
     "metadata": {},
     "output_type": "execute_result"
    }
   ],
   "source": [
    "# Correlacion\n",
    "# Pandas viene por defecto con una función que calcula la matriz por nosotros --> corr \n",
    "df.corr()"
   ]
  },
  {
   "cell_type": "code",
   "execution_count": 109,
   "metadata": {
    "colab": {
     "base_uri": "https://localhost:8080/",
     "height": 368
    },
    "colab_type": "code",
    "id": "WXGgZhiaepBp",
    "outputId": "b71944d8-4f90-4d04-9d16-ccdba85c1198"
   },
   "outputs": [
    {
     "data": {
      "text/plain": [
       "<AxesSubplot:>"
      ]
     },
     "execution_count": 109,
     "metadata": {},
     "output_type": "execute_result"
    },
    {
     "data": {
      "image/png": "[encoded data removed]",
      "text/plain": [
       "<Figure size 432x288 with 2 Axes>"
      ]
     },
     "metadata": {
      "needs_background": "light"
     },
     "output_type": "display_data"
    }
   ],
   "source": [
    "# Vamos a usar seabron para plotear esta matriz\n",
    "import seaborn as sbn # Libreria para plotear, mas linda que matplotlib y con graficos útiles\n",
    "sbn.heatmap(df.corr())"
   ]
  },
  {
   "cell_type": "markdown",
   "metadata": {
    "colab_type": "text",
    "id": "c5vJnGHIH3mh"
   },
   "source": [
    " Baia baia, si bien ahora podemos ver toda la información al mismo tiempo, aún no es muy claro.  Vamos a hacer una matriz mas bonita y facil de entender usando numpy y seaborn"
   ]
  },
  {
   "cell_type": "code",
   "execution_count": null,
   "metadata": {
    "colab": {
     "base_uri": "https://localhost:8080/",
     "height": 592
    },
    "colab_type": "code",
    "id": "KYLqD1aojsmj",
    "outputId": "d1ffc20f-2ff9-4b55-ec1c-0afc4a1034a2"
   },
   "outputs": [],
   "source": [
    "mask = np.triu(np.ones_like(df.corr(), dtype=np.bool)) # vamos a quedarnos solo con el triangulo inferior de la matriz\n",
    "# np.triu devuelve una matriz triangular, en este caso populada con booleans (True) para el triangulo inferior.\n",
    "\n",
    "plt.figure(figsize = (10,10)) # creo una figura con un tamañ de 10*10\n",
    "sbn.heatmap(df.corr(),\n",
    "            mask=mask, #seaborn viene con la opcion de alimentar a nuestro plot con una mascara\n",
    "            center=0,  #centramos el valor de correlacion 0 como el punto medio de nuestra barra\n",
    "            cmap = 'RdBu',\n",
    "            # Elegimos un mapa de colores mas intuitivo (https://seaborn.pydata.org/generated/seaborn.color_palette.html#seaborn.color_palette)\n",
    "            square=True, \n",
    "            linewidths=.5,\n",
    "            cbar_kws={\"shrink\": .7})\n",
    "plt.title('Matriz de correlación')\n",
    "plt.show()"
   ]
  },
  {
   "cell_type": "markdown",
   "metadata": {
    "colab_type": "text",
    "id": "JQNV4zxOyVua"
   },
   "source": [
    "**Esto se ve mucho mejor!**\n",
    "Si observamos el grafico automáticamente se observan 3 lineas rojas:\n",
    "\n",
    "`smoker` : Codifica si la madre fumó o no durante el embarazo (nominal)<br>\n",
    "`mnocig` : Numero de cigarrillos fumados por la madre por día<br>\n",
    "`lowbwt` : Bajo peso al nacer (nominal)<br>\n",
    "\n",
    "Para este curso vamos a concentrarnos en una sola variable para hacer nuestros análisis. Utilizaremos una variable similar a `lowbwt ` pero expresada de una manera cuantitativ: `Birthweight`. Esta variable indica el peso del recien nacido en libras.\n",
    "\n",
    "Dada nustra matriz de correlación, podemos suponer que el peso de un recien nacido puede estar influenciado por el consumo de tabaco da la madre durante el embarazo.\n",
    "\n",
    " *Pequeña aclaración, si bien podemos hacer análisis inferencial sobre estos datos, esto no implica que se realizo un diseño experimental para poder corroborar causalidad entre estas variables.*"
   ]
  },
  {
   "cell_type": "code",
   "execution_count": null,
   "metadata": {
    "colab": {},
    "colab_type": "code",
    "id": "I4LSyKxbdG3Q"
   },
   "outputs": [],
   "source": [
    "# Importamos librerias que nos seran útiles \n",
    "import scipy.stats as stat  # Libreria con diversos test estadísticos\n",
    "import seaborn as sbn  # Libreria para plotear, mas linda que matplotlib y con graficos útiles"
   ]
  },
  {
   "cell_type": "markdown",
   "metadata": {},
   "source": [
    "### Histograma"
   ]
  },
  {
   "cell_type": "code",
   "execution_count": null,
   "metadata": {
    "colab": {
     "base_uri": "https://localhost:8080/",
     "height": 279
    },
    "colab_type": "code",
    "id": "0av6lGMEz08a",
    "outputId": "562ee91c-d22d-4c81-dcc9-0e4b17c40f81"
   },
   "outputs": [],
   "source": [
    "# Usamos matplotlib para plotear un histograma de nuestras variables de interes.\n",
    "plt.hist(df.Birthweight, color = 'purple', histtype= 'bar', edgecolor = 'k')\n",
    "plt.xlabel('Peso al nacer (en libras)')\n",
    "plt.ylabel('Frecuencia')\n",
    "plt.show()"
   ]
  },
  {
   "cell_type": "markdown",
   "metadata": {},
   "source": [
    "### Distribution plot"
   ]
  },
  {
   "cell_type": "code",
   "execution_count": null,
   "metadata": {
    "colab": {
     "base_uri": "https://localhost:8080/",
     "height": 279
    },
    "colab_type": "code",
    "id": "VKdYrx5e0bwE",
    "outputId": "540d1dab-7a6d-4cde-949b-1a5b0cd74ea7"
   },
   "outputs": [],
   "source": [
    "# Seaborn nos permite no solo plotear el histograma, sino tambien la distribucion de la variable\n",
    "sbn.distplot(df.Birthweight,\n",
    "             bins = 10,\n",
    "             color = 'purple',\n",
    "             hist_kws={'edgecolor':'k'})\n",
    "plt.show()"
   ]
  },
  {
   "cell_type": "code",
   "execution_count": null,
   "metadata": {
    "colab": {
     "base_uri": "https://localhost:8080/",
     "height": 370
    },
    "colab_type": "code",
    "id": "aJ4sQ0g60kUo",
    "outputId": "b620f91f-0f31-41fe-f68e-53c8bc5a9361"
   },
   "outputs": [],
   "source": [
    "peso_fumador = df[df.smoker == 1].Birthweight # vamos a aislar nuestras variables dependiendo si la madre fumó o no durante el embarazo\n",
    "peso_no_fumador = df[df.smoker == 0].Birthweight"
   ]
  },
  {
   "cell_type": "code",
   "execution_count": null,
   "metadata": {
    "colab": {
     "base_uri": "https://localhost:8080/",
     "height": 370
    },
    "colab_type": "code",
    "id": "aJ4sQ0g60kUo",
    "outputId": "b620f91f-0f31-41fe-f68e-53c8bc5a9361"
   },
   "outputs": [],
   "source": [
    "# Plots\n",
    "fig, axs = plt.subplots(1,2,figsize = (10,5)) # Dado que tengo dos grupos vamos a plotearlos uno al lado del otro\n",
    "# plt.subplots() nos va a devolver en este caso una figura y unos ejes, mas precisamente devolverá 2 ejes.\n",
    "# los dos primeros numeros (1,2) significa 1 fila ,  2 columnas\n",
    "\n",
    "sbn.distplot(peso_no_fumador,\n",
    "             bins = 8,\n",
    "             color = 'green',\n",
    "             hist_kws={'edgecolor':'k'},\n",
    "             label = 'No fumador',\n",
    "             ax=axs[0])\n",
    "axs[0].legend(bbox_to_anchor=(2.7,1)) # Modifico la ubicacion de la leyenda\n",
    "axs[0].set_ylabel('Density') # Le pongo un nombre al eje y\n",
    "\n",
    "sbn.distplot(peso_fumador,\n",
    "             bins = 8,\n",
    "             color = 'red',\n",
    "             hist_kws={'edgecolor':'k'},\n",
    "             label = 'Fumador',\n",
    "             ax=axs[1])\n",
    "axs[1].legend(bbox_to_anchor=(1.45,.9)) # Modifico la ubicacion de la leyenda\n",
    "plt.suptitle('Distribucion de mis dos variables') # Titulo de toda la figura\n",
    "plt.show()"
   ]
  },
  {
   "cell_type": "markdown",
   "metadata": {
    "colab_type": "text",
    "id": "oFBWjM6NSzh6"
   },
   "source": [
    "### Graficos de cajas y bigotes ('Boxplot')"
   ]
  },
  {
   "cell_type": "code",
   "execution_count": null,
   "metadata": {
    "colab": {
     "base_uri": "https://localhost:8080/",
     "height": 0
    },
    "colab_type": "code",
    "id": "NzYq2KzIO533",
    "outputId": "7e8495ab-3856-4593-f4e6-9fa0eea40ca1"
   },
   "outputs": [],
   "source": [
    "fig = plt.boxplot([peso_no_fumador,peso_fumador],\n",
    "            labels=['No fumador', 'Fumador'],\n",
    "            patch_artist=True)\n",
    "\n",
    "fig['boxes'][0].set(facecolor = 'green')\n",
    "fig['boxes'][1].set(facecolor = 'red')\n",
    "plt.ylabel('Peso al nacer (libras)')\n",
    "plt.show()"
   ]
  },
  {
   "cell_type": "code",
   "execution_count": null,
   "metadata": {
    "colab": {
     "base_uri": "https://localhost:8080/",
     "height": 0
    },
    "colab_type": "code",
    "id": "yNBe6pJ7UIyM",
    "outputId": "208e4f24-6874-4630-de25-5675080ebe65"
   },
   "outputs": [],
   "source": [
    "# Podemos usar Seaborn en lugar de lib. Observe las diferencias entre una libreria y otra\n",
    "ax = sbn.boxplot(data = df, y = 'Birthweight', x = 'smoker',  hue='smoker', palette={0:'green', 1:'red'})\n",
    "ax.set_xticklabels(['No fumador','Fumador'])\n",
    "plt.show()"
   ]
  },
  {
   "cell_type": "code",
   "execution_count": null,
   "metadata": {
    "colab": {
     "base_uri": "https://localhost:8080/",
     "height": 0
    },
    "colab_type": "code",
    "id": "BgQtz5bK1rRe",
    "outputId": "808b1f7a-54f9-4020-ca0e-8b6ed62dc999"
   },
   "outputs": [],
   "source": [
    "# Usamos matplotlib para plotear un histograma de la distribucion de fumadores / no fumadores\n",
    "plt.hist(df.smoker, color = 'orange', histtype= 'bar', edgecolor = 'k', bins = 3)\n",
    "plt.ylabel('Frecuencia')\n",
    "plt.xticks([0.15,0.85],labels = ['No Fumador','Fumador'])\n",
    "plt.show()"
   ]
  },
  {
   "cell_type": "markdown",
   "metadata": {
    "colab_type": "text",
    "id": "2LhI46mzx26w"
   },
   "source": [
    "A primera vista hay una diferencia en el peso al nacer y el hecho de fumar o no. El primer paso antes de realizar cualquier tipo de test estadístico es corroborar los supuestos de los test que queremos emplear. En este caso, usaremos test paramétricos los cuales tienen diversos supuestos, siendo los principales la normalidad de nuestras variables y la igualdad de varianza\n",
    "\n",
    " Para mas información consultar el siguiente [link](https://www.scientific-european-federation-osteopaths.org/wp-content/uploads/2019/01/Estad%C3%ADstica-param%C3%A9trica.pdf)\n",
    "\n",
    " Vamos a plotear la distribución de nuestra variable `peso al nacer`, para ver si luce normalmente distribuída."
   ]
  },
  {
   "cell_type": "code",
   "execution_count": null,
   "metadata": {
    "colab": {
     "base_uri": "https://localhost:8080/",
     "height": 0
    },
    "colab_type": "code",
    "id": "wrF2OM5E8Ntj",
    "outputId": "59c69871-f51e-43af-dcd1-7dde070f79bd"
   },
   "outputs": [],
   "source": [
    "sbn.distplot(peso_no_fumador,\n",
    "             bins = 8,\n",
    "             color = 'green',\n",
    "             hist_kws={'edgecolor':'k'},\n",
    "             label = 'No fumador',\n",
    "             hist = False) \n",
    "\n",
    "sbn.distplot(peso_fumador,\n",
    "             bins = 8,\n",
    "             color = 'red',\n",
    "             hist_kws={'edgecolor':'k'},\n",
    "             label = 'Fumador',\n",
    "             hist = False)\n",
    "plt.legend()\n",
    "plt.show()"
   ]
  },
  {
   "cell_type": "markdown",
   "metadata": {
    "colab_type": "text",
    "id": "H9TN0egh8vj2"
   },
   "source": [
    "Las distribuciones se ven normales, estando la distribucion para los `No fumadores` corrida a la derecha. Los valores para los `No fumadores` parecerían estar mas concentrado alrededor de la media. Esto nos daria una idea de la varianza de los datos. \n",
    "Para indagar más detalladamente sobre la normalidad de nuestros datos, podemos plotear un [QQ-plot](https://www.geeksforgeeks.org/qqplot-quantile-quantile-plot-in-python/)"
   ]
  },
  {
   "cell_type": "markdown",
   "metadata": {},
   "source": [
    "### QQ plot"
   ]
  },
  {
   "cell_type": "code",
   "execution_count": null,
   "metadata": {
    "colab": {
     "base_uri": "https://localhost:8080/",
     "height": 0
    },
    "colab_type": "code",
    "id": "Z5O5x9hm38tE",
    "outputId": "3bfc545c-2266-42cb-bd4f-74960497ec0a"
   },
   "outputs": [],
   "source": [
    "import statsmodels.api as sm  # Esta libreria cuenta con diferentes pruebas estadisticas.\n",
    "\n",
    "fig, axs = plt.subplots(1,2, figsize = (10,5))\n",
    "_ = sm.qqplot(peso_fumador, line ='s', ax = axs[1], label = 'Fumador')  # Por que el _? porque la funcion sm.qqplot por defecto plotea el grafico\n",
    "_ = sm.qqplot(peso_no_fumador, line ='s', ax = axs[0], label = 'No fumador')  # y como queremos plotearlos juntos no nos importa el output\n",
    "axs[1].set_title('Fumador')\n",
    "axs[0].set_title('No fumador')\n",
    "plt.show()"
   ]
  },
  {
   "cell_type": "markdown",
   "metadata": {
    "colab_type": "text",
    "id": "FektPMgY9h0D"
   },
   "source": [
    "Si bien los datos lucen normalmente distribuidos, podemos corroborar esto realizando un test de normalidad. Para eso usaremos el test de normalidad [Shapiro-Wilk](https://machinelearningmastery.com/a-gentle-introduction-to-normality-tests-in-python/)"
   ]
  },
  {
   "cell_type": "code",
   "execution_count": null,
   "metadata": {
    "colab": {
     "base_uri": "https://localhost:8080/",
     "height": 0
    },
    "colab_type": "code",
    "id": "tugYyUOdDqnX",
    "outputId": "da08cc18-b0b9-4004-92b6-6557356b6aad"
   },
   "outputs": [],
   "source": [
    "s, p = stat.shapiro(peso_fumador)\n",
    "print('Fumadores', f'Shapiro Wilk = {s:.2f}',f'p-value = {p:.2f}', sep='\\n')"
   ]
  },
  {
   "cell_type": "code",
   "execution_count": null,
   "metadata": {
    "colab": {
     "base_uri": "https://localhost:8080/",
     "height": 0
    },
    "colab_type": "code",
    "id": "7UUFH0JfF9k8",
    "outputId": "3ee7057f-e87a-4517-f589-9f22ffb7efe2"
   },
   "outputs": [],
   "source": [
    "s, p = stat.shapiro(peso_no_fumador)\n",
    "print('No fumadores', f'Shapiro Wilk = {s:.2f}',f'p-value = {p:.2f}', sep='\\n')"
   ]
  },
  {
   "cell_type": "markdown",
   "metadata": {
    "colab_type": "text",
    "id": "PF5Cf6bW-2dP"
   },
   "source": [
    "Testeemos la homoceasticidad (o igualdad de varianzas) de las variables solo para estar seguros. Para eso usaremos el test de homoceasticidad de [Bartlett](https://docs.scipy.org/doc/scipy/reference/generated/scipy.stats.bartlett.html?highlight=bartlett#scipy.stats.bartlett)"
   ]
  },
  {
   "cell_type": "code",
   "execution_count": null,
   "metadata": {
    "colab": {
     "base_uri": "https://localhost:8080/",
     "height": 0
    },
    "colab_type": "code",
    "id": "hXWy97df-mu_",
    "outputId": "8805a7d6-3aa8-4cb0-bb06-7abdd6a79fcb"
   },
   "outputs": [],
   "source": [
    "s, p = stat.bartlett(peso_fumador,peso_no_fumador)\n",
    "print('Homoceasticidad de varianza',\n",
    "      f'Bartlet (T) = {s:.2f}',\n",
    "      f'p-value = {p:.2f}', sep = '\\n')"
   ]
  },
  {
   "cell_type": "markdown",
   "metadata": {
    "colab_type": "text",
    "id": "A4BwcURc_d7H"
   },
   "source": [
    "### Test de Student \n",
    "Ralizamos un test de student para observar si hay o no diferencias entre las medias de la población de nuestras variables"
   ]
  },
  {
   "cell_type": "code",
   "execution_count": null,
   "metadata": {
    "colab": {},
    "colab_type": "code",
    "id": "IKE0Ed_jG3bP"
   },
   "outputs": [],
   "source": [
    "t,p,dg = sm.stats.ttest_ind(peso_fumador,peso_no_fumador)\n",
    "# Esto se llama unpacking. Dado que la funcion devuelve tres valores yo puedo elegir guardarlo como una lista\n",
    "# o puedo asignarlo a tres variables diferentes."
   ]
  },
  {
   "cell_type": "code",
   "execution_count": null,
   "metadata": {
    "colab": {
     "base_uri": "https://localhost:8080/",
     "height": 0
    },
    "colab_type": "code",
    "id": "sVwYSJLJOjie",
    "outputId": "6e66a9b6-1119-43c3-fd88-4a5c3399dd3c"
   },
   "outputs": [],
   "source": [
    "print(f'Se rechaza la hipotesis nula (H0) de que las dos distribuciones son iguales.',\n",
    "      f'Hay una diferencia estadísticamente significativa entre las medias (T={t:.2f} , p={p:.3f})',\n",
    "      'Se puede afirmar que los niños recien nacidos de madres fumadores, pesan menos al nacer que los niños' \\\n",
    "      'de madres que no fumaron durante el embarazo',\n",
    "      sep = '\\n')"
   ]
  },
  {
   "cell_type": "markdown",
   "metadata": {},
   "source": [
    "**Importante** A pesar de que podemos afirmar una diferencia entre las medias de estas poblaciónes no podemos afirmar causalidad debido a que este es un análisis retrospectivo. "
   ]
  },
  {
   "cell_type": "markdown",
   "metadata": {
    "colab_type": "text",
    "id": "VXxeOrK1NN3D"
   },
   "source": [
    "### Aproximación al modelado estadístico usando Python "
   ]
  },
  {
   "cell_type": "markdown",
   "metadata": {},
   "source": [
    "Si bien, el modelado estadístico en Python per se amerita un curso por si mismo, no quería terminar sin mostrar una breve aproximación. \n",
    "Si bien R es por defecto la primera opción cuando hablamos de modelados estadístico cláasico, librerías como Statsmodels nos ofrece los principales test estadísticos de una manera amigable. \n",
    "Para esta breve demostración queria utilizar nuesto ya conocido dataset y emplear una [Regresion líneal](https://www.statsmodels.org/stable/regression.html)\n",
    "\n",
    "Ahora bien, si realizamos una regresión lineal usando `smoker` como factor, no va a ser diferente (o no deberia al menos!) del T-Test que realizamos anteriormente. \n",
    "Para recapitular, esta es la formula empleada en la regresión líneal:\n",
    "\n",
    "$$ y = Xβ + μ , \\text{donde}\\, μ ∼ N(0,Σ)$$\n",
    "\n",
    "En nuestro caso intentaremos predecir **y** (`Birthweight`), usando como covariables unicamente una sola variable: `smoker`. Por ende mas que una matriz, usaremos un vector."
   ]
  },
  {
   "cell_type": "code",
   "execution_count": null,
   "metadata": {
    "colab": {},
    "colab_type": "code",
    "id": "pN1WFDOqW8r9"
   },
   "outputs": [],
   "source": [
    "import statsmodels.api as sm # Importamos la libreria \n",
    "X = sm.add_constant(df[['smoker']]) # Definimos nuestra matriz de covariables X y le agregamos nuestro vector de coeficientes 𝛽 utilizando la función add_constant\n",
    "y = df.Birthweight \n",
    "model = sm.OLS(y,X)\n",
    "result = model.fit()"
   ]
  },
  {
   "cell_type": "code",
   "execution_count": null,
   "metadata": {},
   "outputs": [],
   "source": [
    "#Si quieres ver como se ve esta matriz descomenta la línea de abajo\n",
    "#X  "
   ]
  },
  {
   "cell_type": "code",
   "execution_count": null,
   "metadata": {},
   "outputs": [],
   "source": [
    "print(result.summary())  # Printeamos nuestros resultado."
   ]
  },
  {
   "cell_type": "markdown",
   "metadata": {},
   "source": [
    "Nuevamente vemos que nuestro valor $T = -2.054$ y $p=0.047$. Esto nos permite nuevamente rechazar la $H_O$ de que los dos grupos tienen iguales medias.  \n",
    "\n",
    "Y si estas acostumbrado a R y te gusta escribir las formulas puede sencillamente usar el modulo `formula`. <br>\n",
    "Tambien es más cómodo para escribir interacciones entre variables. Para indagar mas acerca de esto consultar el siguiente [link](https://www.statsmodels.org/devel/example_formulas.html)<br>\n",
    "Veamos un ejemplo"
   ]
  },
  {
   "cell_type": "code",
   "execution_count": null,
   "metadata": {},
   "outputs": [],
   "source": [
    "from statsmodels.formula.api import ols  # Importo el modelo `ols` de otro modulo, en este caso el modulo `formula`\n",
    "model_formula=\"Birthweight ~ smoker\"   # Identica sintaxis que en R\n",
    "r_model = ols(formula=model_formula, data = df).fit()\n",
    "print(r_model.summary())"
   ]
  },
  {
   "cell_type": "markdown",
   "metadata": {},
   "source": [
    "**Ambos resultados coinciden!!**\n",
    "\n",
    "Veamos un poco mas de cerca que predijo nuestro modelo, para eso usaremos nuestras habilidades con matplotlib!\n"
   ]
  },
  {
   "cell_type": "code",
   "execution_count": null,
   "metadata": {},
   "outputs": [],
   "source": [
    "import matplotlib.pyplot as plt\n",
    "import seaborn as sbn\n",
    "\n",
    "plt.figure(figsize=(15,5)) # Establezco un tamaño grande para trabajar mas cómodo\n",
    "plt.plot(result.predict(X)[result.predict(X) > 7], marker = 'd',markersize = 5, linewidth = 0, color = 'lightgreen') # El modelo solo predice dos valores, es decir, un valor para fumadores y otro para no fumadores\n",
    "plt.plot(result.predict(X)[result.predict(X) < 7], marker = 'd',markersize = 5, linewidth = 0, color = 'tomato') # Puedes observar los diferentes valores printeando `result.predict(X)`\n",
    "plt.ylim(df.Birthweight.min(),df.Birthweight.max()) # Seteo límites para que coincida con nuestro próximo gráfico\n",
    "plt.show()"
   ]
  },
  {
   "cell_type": "code",
   "execution_count": null,
   "metadata": {},
   "outputs": [],
   "source": [
    "plt.figure(figsize=(15,5))\n",
    "plt.plot(result.predict(X)[result.predict(X) > 7], marker = 'd', markersize = 5, linewidth = 0, color = 'lightgreen')\n",
    "plt.plot(result.predict(X)[result.predict(X) < 7], marker = 'd', markersize = 5, linewidth = 0, color = 'tomato') \n",
    "plt.plot(df[df.smoker == 1].Birthweight,  marker = '.', linewidth = 0, markersize = 10, color = 'red', label = 'Fumador') # Agreguemos nuestros valores ya conocidos para ver que tal le fue a nuestro modelo!\n",
    "plt.plot(df[df.smoker == 0].Birthweight,  marker = '.', linewidth = 0, markersize = 10, color = 'green', label = 'No fumador')\n",
    "\n",
    "plt.ylabel('Peso al nacer (en libras)')\n",
    "plt.xlabel('N de observación')\n",
    "plt.legend()\n",
    "plt.show()"
   ]
  },
  {
   "cell_type": "markdown",
   "metadata": {},
   "source": [
    "A simple vista no es muy sorprendente, pero recordemos que estamos usando una regresión para emular una simple comparacion entre grupos. \n",
    "\n",
    "Intentemos un modelo un poco más complejo que tenga en cuenta variables la altura de la madre, dado que estaa variable puede estar influenciando el peso del recien nacido."
   ]
  },
  {
   "cell_type": "code",
   "execution_count": null,
   "metadata": {},
   "outputs": [],
   "source": [
    "model_formula=\"Birthweight ~ smoker + mheight\" \n",
    "model_complex = ols(formula=model_formula, data = df).fit()\n",
    "print(model_complex.summary())"
   ]
  },
  {
   "cell_type": "code",
   "execution_count": null,
   "metadata": {},
   "outputs": [],
   "source": [
    "from statsmodels.stats.anova import anova_lm # importamos un test para comparar ambos modelos, el inicial mas simple y nuestro modelo mas complejo\n",
    "anova_lm(result,model_complex)"
   ]
  },
  {
   "cell_type": "markdown",
   "metadata": {},
   "source": [
    "Si el lector lo deseá puede consular el siguiente [post](https://medium.com/@rrfd/f-tests-and-anovas-examples-with-the-iris-dataset-fe7caa3e21d0) explicando mas acerca de este F-Test.\n",
    "En resumen, nuestro modelo más complejo es mejor para explicar la variabilidad de nuestra variable de interes.\n",
    "\n",
    "Veamos que predijo"
   ]
  },
  {
   "cell_type": "code",
   "execution_count": null,
   "metadata": {},
   "outputs": [],
   "source": [
    "plt.figure(figsize=(15,5))\n",
    "plt.plot(model_complex.predict(df[['smoker','mheight']]), marker = 'd', markersize = 5, linewidth = 0, color = 'gray')\n",
    "plt.plot(df[df.smoker == 1].Birthweight,  marker = '.', linewidth = 0, markersize = 10, color = 'red', label = 'Fumador')\n",
    "plt.plot(df[df.smoker == 0].Birthweight,  marker = '.', linewidth = 0, markersize = 10, color = 'green', label = 'No fumador')\n",
    "\n",
    "plt.ylabel('Peso al nacer (en libras)')\n",
    "plt.xlabel('N de observación')\n",
    "plt.legend()\n",
    "plt.show()"
   ]
  }
 ],
 "metadata": {
  "colab": {
   "authorship_tag": "ABX9TyN7NHwadcJqQPYXRH/yt9K/",
   "collapsed_sections": [
    "VZjiJwOeK2Ut",
    "bdMMEBheOBBv"
   ],
   "include_colab_link": true,
   "mount_file_id": "1ictXWIHYhvhYn83Rw_4_N_FcLK71Ut2W",
   "name": "Propuesta_curso.ipynb",
   "provenance": [],
   "toc_visible": true
  },
  "kernelspec": {
   "display_name": "Python 3",
   "language": "python",
   "name": "python3"
  },
  "language_info": {
   "codemirror_mode": {
    "name": "ipython",
    "version": 3
   },
   "file_extension": ".py",
   "mimetype": "text/x-python",
   "name": "python",
   "nbconvert_exporter": "python",
   "pygments_lexer": "ipython3",
   "version": "3.7.4"
  },
  "toc-autonumbering": false,
  "toc-showcode": false,
  "toc-showmarkdowntxt": false
 },
 "nbformat": 4,
 "nbformat_minor": 4
}
